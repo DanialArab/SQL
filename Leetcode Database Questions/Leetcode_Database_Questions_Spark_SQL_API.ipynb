{
 "cells": [
  {
   "cell_type": "markdown",
   "id": "a966b64b",
   "metadata": {},
   "source": [
    "**To leverage Spark SQL API to make SQL queries**:\n",
    "\n",
    "I defined two functions: one is spark_df_reader to connect to the MySQL database through jdbc Driver and read the tables as a dictionary called dfs whose keys are the names of the tables and the values are the corresponding dataframes. The second function is temporary_view_registrator to register the Spark dataframes (one per table in the database) as a temporary view to be able to pass in direct SQL queries.\n"
   ]
  },
  {
   "cell_type": "code",
   "execution_count": 7,
   "id": "fe8db85c",
   "metadata": {},
   "outputs": [],
   "source": [
    "import findspark\n",
    "findspark.init('/home/danial/spark-3.4.0-bin-hadoop3')\n",
    "import pyspark \n",
    "import os\n",
    "password = os.environ.get('MYSQL_PASSWORD')"
   ]
  },
  {
   "cell_type": "code",
   "execution_count": 8,
   "id": "f7951f40",
   "metadata": {},
   "outputs": [],
   "source": [
    "from pyspark.sql import SparkSession\n",
    "spark = SparkSession.builder.appName(\"MySQL Session\").getOrCreate()"
   ]
  },
  {
   "cell_type": "code",
   "execution_count": 9,
   "id": "d5c044a2",
   "metadata": {},
   "outputs": [],
   "source": [
    "def spark_df_reader(database_name, table_names ):\n",
    "    \n",
    "    # table_names is a list of table names in the database that I want to connect to \n",
    "    \n",
    "    mysql_url = f\"jdbc:mysql://localhost:3306/{database_name}\"\n",
    "    \n",
    "    mysql_properties = {\n",
    "    \"user\": \"root\",\n",
    "    \"password\": password,\n",
    "    \"driver\": \"com.mysql.jdbc.Driver\"\n",
    "    }\n",
    "    \n",
    "    dfs = {}\n",
    "    for one_table in table_names:\n",
    "        \n",
    "        df = spark.read.jdbc(url=mysql_url, table=one_table, properties=mysql_properties)\n",
    "\n",
    "        dfs[one_table] = df\n",
    "        \n",
    "    return dfs "
   ]
  },
  {
   "cell_type": "code",
   "execution_count": 10,
   "id": "39b4dfae",
   "metadata": {},
   "outputs": [],
   "source": [
    "# I need to register my Spark dataframes (one per table in the database) as a temporary view to be able to pass in direct SQL queries \n",
    "\n",
    "def temporary_view_registrator(dfs):\n",
    "    \n",
    "    # dfs is a dictionary whose keys are the name of tables and values are the corresponding dfs\n",
    "    \n",
    "    tem_views = []\n",
    "    for one_table in list(dfs.keys()):\n",
    "        dfs[one_table].createOrReplaceTempView(f\"{one_table}\")\n",
    "        tem_views.append(f\"{one_table}\")\n",
    "        \n",
    "    return None # this functions returns nothing but creates temporary views with the same name as the tables"
   ]
  },
  {
   "cell_type": "markdown",
   "id": "43dfa80f",
   "metadata": {},
   "source": [
    "### 1757 Recyclable and Low Fat Products"
   ]
  },
  {
   "cell_type": "code",
   "execution_count": 11,
   "id": "8f33d139",
   "metadata": {},
   "outputs": [],
   "source": [
    "dfs = spark_df_reader('Leetcode_Q_1757', ['Products'])"
   ]
  },
  {
   "cell_type": "code",
   "execution_count": 12,
   "id": "ece80872",
   "metadata": {},
   "outputs": [
    {
     "name": "stdout",
     "output_type": "stream",
     "text": [
      "+----------+--------+----------+\n",
      "|product_id|low_fats|recyclable|\n",
      "+----------+--------+----------+\n",
      "|         0|       Y|         N|\n",
      "|         1|       Y|         Y|\n",
      "|         2|       N|         Y|\n",
      "|         3|       Y|         Y|\n",
      "|         4|       N|         N|\n",
      "+----------+--------+----------+\n",
      "\n"
     ]
    }
   ],
   "source": [
    "dfs['Products'].show()"
   ]
  },
  {
   "cell_type": "code",
   "execution_count": 13,
   "id": "6cccc29e",
   "metadata": {},
   "outputs": [],
   "source": [
    "temporary_view_registrator(dfs)"
   ]
  },
  {
   "cell_type": "code",
   "execution_count": 14,
   "id": "7cf15f02",
   "metadata": {},
   "outputs": [
    {
     "name": "stdout",
     "output_type": "stream",
     "text": [
      "+----------+\n",
      "|product_id|\n",
      "+----------+\n",
      "|         1|\n",
      "|         3|\n",
      "+----------+\n",
      "\n"
     ]
    }
   ],
   "source": [
    "spark.sql(\"\"\"\n",
    "SELECT product_id\n",
    "FROM Products\n",
    "WHERE low_fats = 'y' AND recyclable = 'Y'\n",
    "\n",
    "\"\"\").show()"
   ]
  },
  {
   "cell_type": "markdown",
   "id": "8f2d7de9",
   "metadata": {},
   "source": [
    "### 1350 Students With Invalid Departments"
   ]
  },
  {
   "cell_type": "code",
   "execution_count": 16,
   "id": "d5fb03dc",
   "metadata": {},
   "outputs": [],
   "source": [
    "dfs = spark_df_reader('Leetcode_Q_1350', ['Departments', 'Students'])\n",
    "temporary_view_registrator(dfs)"
   ]
  },
  {
   "cell_type": "code",
   "execution_count": 31,
   "id": "33bfae87",
   "metadata": {},
   "outputs": [
    {
     "name": "stdout",
     "output_type": "stream",
     "text": [
      "+---+-------+\n",
      "| id|   name|\n",
      "+---+-------+\n",
      "|  4|Jasmine|\n",
      "|  7| Daiana|\n",
      "|  2|   John|\n",
      "|  3|  Steve|\n",
      "+---+-------+\n",
      "\n"
     ]
    }
   ],
   "source": [
    "spark.sql(\"\"\"\n",
    "SELECT \n",
    "    s.id, s.name\n",
    "FROM Students s \n",
    "LEFT JOIN Departments d\n",
    "    ON d.id = s.department_id\n",
    "WHERE d.id IS NULL\n",
    "\"\"\").show()"
   ]
  },
  {
   "cell_type": "code",
   "execution_count": 30,
   "id": "7ad11584",
   "metadata": {},
   "outputs": [
    {
     "name": "stdout",
     "output_type": "stream",
     "text": [
      "+---+-------+\n",
      "| id|   name|\n",
      "+---+-------+\n",
      "|  2|   John|\n",
      "|  4|Jasmine|\n",
      "|  3|  Steve|\n",
      "|  7| Daiana|\n",
      "+---+-------+\n",
      "\n"
     ]
    }
   ],
   "source": [
    "# better solution\n",
    "\n",
    "spark.sql(\"\"\"\n",
    "SELECT id, name\n",
    "FROM Students\n",
    "WHERE department_id NOT IN (SELECT id FROM Departments)\n",
    "\"\"\").show()"
   ]
  },
  {
   "cell_type": "markdown",
   "id": "260bbf80",
   "metadata": {},
   "source": [
    "### 1303 Find the Team Size"
   ]
  },
  {
   "cell_type": "code",
   "execution_count": 32,
   "id": "15700856",
   "metadata": {},
   "outputs": [],
   "source": [
    "dfs = spark_df_reader('Leetcode_Q_1303', ['Employee'])\n",
    "temporary_view_registrator(dfs)"
   ]
  },
  {
   "cell_type": "code",
   "execution_count": 40,
   "id": "5fe6c0e7",
   "metadata": {},
   "outputs": [
    {
     "name": "stdout",
     "output_type": "stream",
     "text": [
      "+-----------+---------+\n",
      "|employee_id|team_size|\n",
      "+-----------+---------+\n",
      "|          4|        1|\n",
      "|          1|        3|\n",
      "|          2|        3|\n",
      "|          3|        3|\n",
      "|          5|        2|\n",
      "|          6|        2|\n",
      "+-----------+---------+\n",
      "\n"
     ]
    }
   ],
   "source": [
    "spark.sql(\"\"\"\n",
    "SELECT \n",
    "    employee_id,\n",
    "    COUNT(employee_id) OVER(PARTITION BY team_id)AS team_size\n",
    "FROM Employee\n",
    "\"\"\").show()"
   ]
  },
  {
   "cell_type": "markdown",
   "id": "6b21ff6b",
   "metadata": {},
   "source": [
    "### 1741 Find Total Time Spent by Each Employee"
   ]
  },
  {
   "cell_type": "code",
   "execution_count": 41,
   "id": "1f06c110",
   "metadata": {},
   "outputs": [],
   "source": [
    "dfs = spark_df_reader('Leetcode_Q_1741', ['Employees'])\n",
    "temporary_view_registrator(dfs)"
   ]
  },
  {
   "cell_type": "code",
   "execution_count": 48,
   "id": "696c322b",
   "metadata": {},
   "outputs": [
    {
     "name": "stdout",
     "output_type": "stream",
     "text": [
      "+----------+------+----------+\n",
      "|       day|emp_id|total_time|\n",
      "+----------+------+----------+\n",
      "|2020-12-09|     2|        27|\n",
      "|2020-11-28|     1|       173|\n",
      "|2020-11-28|     2|        30|\n",
      "|2020-12-03|     1|        41|\n",
      "+----------+------+----------+\n",
      "\n"
     ]
    }
   ],
   "source": [
    "spark.sql(\"\"\"\n",
    "SELECT \n",
    "    DISTINCT event_day AS day,\n",
    "    emp_id,\n",
    "    SUM(out_time - in_time) OVER(PARTITION BY emp_id, event_day) AS total_time    \n",
    "FROM Employees\n",
    "\n",
    "\"\"\").show()"
   ]
  },
  {
   "cell_type": "code",
   "execution_count": null,
   "id": "3b4d23f5",
   "metadata": {},
   "outputs": [],
   "source": []
  }
 ],
 "metadata": {
  "kernelspec": {
   "display_name": "Python 3 (ipykernel)",
   "language": "python",
   "name": "python3"
  },
  "language_info": {
   "codemirror_mode": {
    "name": "ipython",
    "version": 3
   },
   "file_extension": ".py",
   "mimetype": "text/x-python",
   "name": "python",
   "nbconvert_exporter": "python",
   "pygments_lexer": "ipython3",
   "version": "3.11.3"
  }
 },
 "nbformat": 4,
 "nbformat_minor": 5
}
