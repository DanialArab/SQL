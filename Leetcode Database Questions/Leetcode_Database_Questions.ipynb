{
 "cells": [
  {
   "cell_type": "code",
   "execution_count": 1,
   "id": "ecf5401a",
   "metadata": {},
   "outputs": [],
   "source": [
    "import os\n",
    "import pymysql\n",
    "import pandas as pd\n",
    "password = os.environ.get('MYSQL_PASSWORD')"
   ]
  },
  {
   "cell_type": "code",
   "execution_count": 2,
   "id": "ced1a7a2",
   "metadata": {},
   "outputs": [
    {
     "name": "stdout",
     "output_type": "stream",
     "text": [
      "Connection to the database was successful!\n"
     ]
    }
   ],
   "source": [
    "try:\n",
    "    con = pymysql.connect(\n",
    "                            host='localhost',\n",
    "                            user='root',\n",
    "                            password=password,\n",
    "                            charset='utf8mb4'\n",
    "                            )\n",
    "    print(\"Connection to the database was successful!\")\n",
    "except pymysql.Error as e:\n",
    "    print(f\"An error occurred while connecting to the database: {e}\")\n"
   ]
  },
  {
   "cell_type": "code",
   "execution_count": 3,
   "id": "0f6c06aa",
   "metadata": {},
   "outputs": [],
   "source": [
    "# Some useful functions: \n",
    "\n",
    "\n",
    "# calling this function makes life easy and just need to pass the name of the database I want to make a query on\n",
    "# It serves like USE keyword in SQL\n",
    "\n",
    "def connector (database, password=password, host='localhost', \n",
    "               user='root', charset='utf8mb4',):\n",
    "    \n",
    "    conn = pymysql.connect(\n",
    "                        host=host,\n",
    "                        user=user,\n",
    "                        password=password,\n",
    "                        charset=charset, \n",
    "                        database=database)\n",
    "    \n",
    "    return conn\n",
    "\n",
    "# to get my tables' names in the datanase\n",
    "\n",
    "def table_names (database):\n",
    "    \n",
    "    con = connector(database)\n",
    "    \n",
    "    query = \"SELECT table_name FROM information_schema.tables WHERE table_schema='{}';\".format(database)\n",
    "\n",
    "    # Execute the query and store the results in a Pandas DataFrame\n",
    "    tables = pd.read_sql_query(query, con)\n",
    "\n",
    "    # Print the list of tables\n",
    "    return tables\n",
    "\n",
    "def delete_database(database):\n",
    "    conn = connector(database=None)\n",
    "    cursor = conn.cursor()\n",
    "\n",
    "    # Replace <database_name> with the name of the database you want to delete\n",
    "    database_name = database\n",
    "\n",
    "    # Execute the DROP DATABASE SQL command\n",
    "    cursor.execute(f\"DROP DATABASE {database_name}\")\n",
    "\n",
    "    # Commit the transaction\n",
    "    conn.commit()\n",
    "\n",
    "    # Close the connection\n",
    "    conn.close()\n",
    "\n",
    "def database_creator(database_name):\n",
    "    \n",
    "    conn = connector(database=None)\n",
    "    \n",
    "    # Create a cursor object\n",
    "    cursor = conn.cursor()\n",
    "\n",
    "    cursor.execute(f\"DROP DATABASE IF EXISTS {database_name}\")\n",
    "    \n",
    "    # Execute the CREATE DATABASE SQL command\n",
    "    cursor.execute(f\"CREATE DATABASE {database_name}\")\n",
    "\n",
    "    # Commit the transaction\n",
    "    conn.commit()\n",
    "\n",
    "    # Close the connection\n",
    "    conn.close()\n",
    "\n",
    "def insert_data_to_table(database_name, table_name, schema, data):\n",
    "    # Connect to the database\n",
    "    conn = connector(database_name)\n",
    "\n",
    "    # Create a cursor object\n",
    "    cursor = conn.cursor()\n",
    "\n",
    "    # Create the table with the given schema if it does not exist\n",
    "    cursor.execute(f\"CREATE TABLE IF NOT EXISTS {table_name} ({schema})\")\n",
    "\n",
    "    # Truncate the table to remove any existing data\n",
    "    cursor.execute(f\"TRUNCATE TABLE {table_name}\")\n",
    "\n",
    "    # Insert data into the table\n",
    "    for row in data:\n",
    "        placeholders = \",\".join([\"%s\" for _ in range(len(row))])\n",
    "        query = f\"INSERT INTO {table_name} VALUES ({placeholders})\"\n",
    "        cursor.execute(query, row)\n",
    "\n",
    "    # Commit the transaction to save the changes\n",
    "    conn.commit()\n",
    "\n",
    "    # Close the connection\n",
    "    conn.close()\n",
    "\n",
    "# This is a modified version of the insert_data_to_table to take care of when we have one item in each\n",
    "# tuple like data = [('Math'), ('Physics'), ('Programming')] in Q 1280\n",
    "\n",
    "def insert_data_to_table_modified(database_name, table_name, schema, data):\n",
    "    # Connect to the database\n",
    "    conn = connector(database_name)\n",
    "\n",
    "    # Create a cursor object\n",
    "    cursor = conn.cursor()\n",
    "\n",
    "    # Create the table with the given schema if it does not exist\n",
    "    cursor.execute(f\"CREATE TABLE IF NOT EXISTS {table_name} ({schema})\")\n",
    "\n",
    "    # Truncate the table to remove any existing data\n",
    "    cursor.execute(f\"TRUNCATE TABLE {table_name}\")\n",
    "\n",
    "     # Insert data into the table\n",
    "    for row in data:\n",
    "        if type (row) == tuple:\n",
    "            placeholders = \",\".join([\"%s\" for _ in range(len(row))])\n",
    "            query = f\"INSERT INTO {table_name} VALUES ({placeholders})\"\n",
    "            cursor.execute(query, row)\n",
    "        else:\n",
    "            query = f\"INSERT INTO {table_name} VALUES (%s)\"\n",
    "            cursor.execute(query, row)\n",
    "\n",
    "    # Commit the transaction to save the changes\n",
    "    conn.commit()\n",
    "\n",
    "    # Close the connection\n",
    "    conn.close()\n",
    "\n",
    "# How to get the names of all the databases in my MySQL server \n",
    "\n",
    "def database_names():\n",
    "\n",
    "    # Create a cursor object\n",
    "    cursor = con.cursor()\n",
    "\n",
    "    # Execute the SHOW DATABASES command\n",
    "    cursor.execute('SHOW DATABASES')\n",
    "\n",
    "    # Fetch all the results as a list of tuples\n",
    "    results = cursor.fetchall()\n",
    "\n",
    "    # Print the names of all databases in the MySQL server\n",
    "    for row in results:\n",
    "        print(row[0])\n",
    "\n",
    "    # Close the cursor and connection\n",
    "    cursor.close()\n",
    "    con.close()"
   ]
  },
  {
   "cell_type": "code",
   "execution_count": 4,
   "id": "7c967380",
   "metadata": {},
   "outputs": [],
   "source": [
    "con = connector('sql_invoicing')"
   ]
  },
  {
   "cell_type": "code",
   "execution_count": 4,
   "id": "eb22d6e6",
   "metadata": {},
   "outputs": [
    {
     "name": "stdout",
     "output_type": "stream",
     "text": [
      "Leetcode_Q_1050\n",
      "Leetcode_Q_1068\n",
      "Leetcode_Q_1075\n",
      "Leetcode_Q_1084\n",
      "Leetcode_Q_1141\n",
      "Leetcode_Q_1148\n",
      "Leetcode_Q_1179\n",
      "Leetcode_Q_1211\n",
      "Leetcode_Q_1251\n",
      "Leetcode_Q_1280\n",
      "Leetcode_Q_1327\n",
      "Leetcode_Q_1378\n",
      "Leetcode_Q_1393\n",
      "Leetcode_Q_1407\n",
      "Leetcode_Q_1484\n",
      "Leetcode_Q_1517\n",
      "Leetcode_Q_1527\n",
      "Leetcode_Q_1581\n",
      "Leetcode_Q_1587\n",
      "Leetcode_Q_1633\n",
      "Leetcode_Q_1661\n",
      "Leetcode_Q_1667\n",
      "Leetcode_Q_1683\n",
      "Leetcode_Q_1693\n",
      "Leetcode_Q_1729\n",
      "Leetcode_Q_1731\n",
      "Leetcode_Q_1741\n",
      "Leetcode_Q_1757\n",
      "Leetcode_Q_1789\n",
      "Leetcode_Q_1795\n",
      "Leetcode_Q_181\n",
      "Leetcode_Q_182\n",
      "Leetcode_Q_183\n",
      "Leetcode_Q_1873\n",
      "Leetcode_Q_1890\n",
      "Leetcode_Q_196\n",
      "Leetcode_Q_1965\n",
      "Leetcode_Q_197\n",
      "Leetcode_Q_1978\n",
      "Leetcode_Q_2356\n",
      "Leetcode_Q_511\n",
      "Leetcode_Q_577\n",
      "Leetcode_Q_584\n",
      "Leetcode_Q_586\n",
      "Leetcode_Q_595\n",
      "Leetcode_Q_596\n",
      "Leetcode_Q_607\n",
      "Leetcode_Q_610\n",
      "Leetcode_Q_619\n",
      "Leetcode_Q_620\n",
      "Leetcode_Q_627\n",
      "information_schema\n",
      "mysql\n",
      "performance_schema\n",
      "sql_hr\n",
      "sql_inventory\n",
      "sql_invoicing\n",
      "sql_store\n",
      "sys\n"
     ]
    }
   ],
   "source": [
    "database_names()"
   ]
  },
  {
   "cell_type": "markdown",
   "id": "adb00eb9",
   "metadata": {},
   "source": [
    "# Leetcode Question 1757: Recyclable and Low Fat Products"
   ]
  },
  {
   "cell_type": "code",
   "execution_count": 6,
   "id": "e8565bbe",
   "metadata": {},
   "outputs": [],
   "source": [
    "database_creator ('Leetcode_Q_1757')"
   ]
  },
  {
   "cell_type": "code",
   "execution_count": null,
   "id": "2c76844e",
   "metadata": {},
   "outputs": [],
   "source": [
    "# here is the SQL Schema for the question 1757 on Leetcode - database \n",
    "\n",
    "Create table If Not Exists Products (product_id int, low_fats ENUM('Y', 'N'), recyclable ENUM('Y','N'))\n",
    "Truncate table Products\n",
    "insert into Products (product_id, low_fats, recyclable) values ('0', 'Y', 'N')\n",
    "insert into Products (product_id, low_fats, recyclable) values ('1', 'Y', 'Y')\n",
    "insert into Products (product_id, low_fats, recyclable) values ('2', 'N', 'Y')\n",
    "insert into Products (product_id, low_fats, recyclable) values ('3', 'Y', 'Y')\n",
    "insert into Products (product_id, low_fats, recyclable) values ('4', 'N', 'N')"
   ]
  },
  {
   "cell_type": "code",
   "execution_count": 7,
   "id": "f5dccf4e",
   "metadata": {},
   "outputs": [],
   "source": [
    "schema = \"product_id int, low_fats ENUM('Y', 'N'), recyclable ENUM('Y', 'N')\"\n",
    "data = [(\"0\", \"Y\", \"N\"), (\"1\", \"Y\", \"Y\"), (\"2\", \"N\", \"Y\"), (\"3\", \"Y\", \"Y\"), (\"4\", \"N\", \"N\")]\n",
    "\n",
    "insert_data_to_table(\"Leetcode_Q_1757\", \"Products\", schema, data)\n"
   ]
  },
  {
   "cell_type": "code",
   "execution_count": 8,
   "id": "77a33b3a",
   "metadata": {},
   "outputs": [
    {
     "name": "stdout",
     "output_type": "stream",
     "text": [
      "  TABLE_NAME\n",
      "0   Products\n"
     ]
    },
    {
     "name": "stderr",
     "output_type": "stream",
     "text": [
      "/tmp/ipykernel_4978/1508427792.py:28: UserWarning: pandas only supports SQLAlchemy connectable (engine/connection) or database string URI or sqlite3 DBAPI2 connection. Other DBAPI2 objects are not tested. Please consider using SQLAlchemy.\n",
      "  tables = pd.read_sql_query(query, con)\n"
     ]
    }
   ],
   "source": [
    "print (table_names('Leetcode_Q_1757'))"
   ]
  },
  {
   "cell_type": "code",
   "execution_count": 9,
   "id": "1d818c01",
   "metadata": {},
   "outputs": [],
   "source": [
    "con = connector('Leetcode_Q_1757')"
   ]
  },
  {
   "cell_type": "code",
   "execution_count": 18,
   "id": "486da49c",
   "metadata": {
    "scrolled": false
   },
   "outputs": [
    {
     "name": "stderr",
     "output_type": "stream",
     "text": [
      "/tmp/ipykernel_4978/1206303508.py:1: UserWarning: pandas only supports SQLAlchemy connectable (engine/connection) or database string URI or sqlite3 DBAPI2 connection. Other DBAPI2 objects are not tested. Please consider using SQLAlchemy.\n",
      "  pd.read_sql(\"SELECT *\\\n"
     ]
    },
    {
     "data": {
      "text/html": [
       "<div>\n",
       "<style scoped>\n",
       "    .dataframe tbody tr th:only-of-type {\n",
       "        vertical-align: middle;\n",
       "    }\n",
       "\n",
       "    .dataframe tbody tr th {\n",
       "        vertical-align: top;\n",
       "    }\n",
       "\n",
       "    .dataframe thead th {\n",
       "        text-align: right;\n",
       "    }\n",
       "</style>\n",
       "<table border=\"1\" class=\"dataframe\">\n",
       "  <thead>\n",
       "    <tr style=\"text-align: right;\">\n",
       "      <th></th>\n",
       "      <th>product_id</th>\n",
       "      <th>low_fats</th>\n",
       "      <th>recyclable</th>\n",
       "    </tr>\n",
       "  </thead>\n",
       "  <tbody>\n",
       "    <tr>\n",
       "      <th>0</th>\n",
       "      <td>0</td>\n",
       "      <td>Y</td>\n",
       "      <td>N</td>\n",
       "    </tr>\n",
       "    <tr>\n",
       "      <th>1</th>\n",
       "      <td>1</td>\n",
       "      <td>Y</td>\n",
       "      <td>Y</td>\n",
       "    </tr>\n",
       "    <tr>\n",
       "      <th>2</th>\n",
       "      <td>2</td>\n",
       "      <td>N</td>\n",
       "      <td>Y</td>\n",
       "    </tr>\n",
       "    <tr>\n",
       "      <th>3</th>\n",
       "      <td>3</td>\n",
       "      <td>Y</td>\n",
       "      <td>Y</td>\n",
       "    </tr>\n",
       "    <tr>\n",
       "      <th>4</th>\n",
       "      <td>4</td>\n",
       "      <td>N</td>\n",
       "      <td>N</td>\n",
       "    </tr>\n",
       "  </tbody>\n",
       "</table>\n",
       "</div>"
      ],
      "text/plain": [
       "   product_id low_fats recyclable\n",
       "0           0        Y          N\n",
       "1           1        Y          Y\n",
       "2           2        N          Y\n",
       "3           3        Y          Y\n",
       "4           4        N          N"
      ]
     },
     "execution_count": 18,
     "metadata": {},
     "output_type": "execute_result"
    }
   ],
   "source": [
    "pd.read_sql(\"SELECT *\\\n",
    "            FROM Products p\", con)"
   ]
  },
  {
   "cell_type": "code",
   "execution_count": 6,
   "id": "088b6d8d",
   "metadata": {},
   "outputs": [
    {
     "data": {
      "text/html": [
       "<div>\n",
       "<style scoped>\n",
       "    .dataframe tbody tr th:only-of-type {\n",
       "        vertical-align: middle;\n",
       "    }\n",
       "\n",
       "    .dataframe tbody tr th {\n",
       "        vertical-align: top;\n",
       "    }\n",
       "\n",
       "    .dataframe thead th {\n",
       "        text-align: right;\n",
       "    }\n",
       "</style>\n",
       "<table border=\"1\" class=\"dataframe\">\n",
       "  <thead>\n",
       "    <tr style=\"text-align: right;\">\n",
       "      <th></th>\n",
       "      <th>product_id</th>\n",
       "    </tr>\n",
       "  </thead>\n",
       "  <tbody>\n",
       "    <tr>\n",
       "      <th>0</th>\n",
       "      <td>1</td>\n",
       "    </tr>\n",
       "    <tr>\n",
       "      <th>1</th>\n",
       "      <td>3</td>\n",
       "    </tr>\n",
       "  </tbody>\n",
       "</table>\n",
       "</div>"
      ],
      "text/plain": [
       "   product_id\n",
       "0           1\n",
       "1           3"
      ]
     },
     "execution_count": 6,
     "metadata": {},
     "output_type": "execute_result"
    }
   ],
   "source": [
    "pd.read_sql(\"SELECT p.product_id\\\n",
    "            FROM Products p\\\n",
    "            WHERE low_fats = 'Y' AND recyclable = 'Y'\", con)"
   ]
  },
  {
   "cell_type": "markdown",
   "id": "950fa672",
   "metadata": {},
   "source": [
    "# Leetcode Question 1378: Replace Employee ID With The Unique Identifier "
   ]
  },
  {
   "cell_type": "code",
   "execution_count": null,
   "id": "0ec06c5b",
   "metadata": {},
   "outputs": [],
   "source": [
    "Create table If Not Exists Employees (id int, name varchar(20))\n",
    "Create table If Not Exists EmployeeUNI (id int, unique_id int)\n",
    "Truncate table Employees\n",
    "insert into Employees (id, name) values ('1', 'Alice')\n",
    "insert into Employees (id, name) values ('7', 'Bob')\n",
    "insert into Employees (id, name) values ('11', 'Meir')\n",
    "insert into Employees (id, name) values ('90', 'Winston')\n",
    "insert into Employees (id, name) values ('3', 'Jonathan')\n",
    "Truncate table EmployeeUNI\n",
    "insert into EmployeeUNI (id, unique_id) values ('3', '1')\n",
    "insert into EmployeeUNI (id, unique_id) values ('11', '2')\n",
    "insert into EmployeeUNI (id, unique_id) values ('90', '3')"
   ]
  },
  {
   "cell_type": "code",
   "execution_count": 36,
   "id": "6eb63011",
   "metadata": {},
   "outputs": [],
   "source": [
    "database_creator('Leetcode_Q_1378')"
   ]
  },
  {
   "cell_type": "code",
   "execution_count": 37,
   "id": "1dc846af",
   "metadata": {},
   "outputs": [],
   "source": [
    "schema = \"id int, name varchar(20)\"\n",
    "data = [('1', 'Alice'), ('7', 'Bob'), ('11', 'Meir'), ('90', 'Winston'), ('3', 'Jonathan')]\n",
    "\n",
    "insert_data_to_table(\"Leetcode_Q_1378\", \"Employees\", schema, data)"
   ]
  },
  {
   "cell_type": "code",
   "execution_count": 38,
   "id": "7ed1e28d",
   "metadata": {},
   "outputs": [],
   "source": [
    "schema = \"id int, unique_id int\"\n",
    "data = [('3', '1'), ('11', '2'), ('90', '3')]\n",
    "\n",
    "insert_data_to_table(\"Leetcode_Q_1378\", \"EmployeeUNI\", schema, data)"
   ]
  },
  {
   "cell_type": "code",
   "execution_count": 39,
   "id": "4fca18e3",
   "metadata": {},
   "outputs": [
    {
     "name": "stdout",
     "output_type": "stream",
     "text": [
      "    TABLE_NAME\n",
      "0  EmployeeUNI\n",
      "1    Employees\n"
     ]
    },
    {
     "name": "stderr",
     "output_type": "stream",
     "text": [
      "/tmp/ipykernel_4978/1508427792.py:28: UserWarning: pandas only supports SQLAlchemy connectable (engine/connection) or database string URI or sqlite3 DBAPI2 connection. Other DBAPI2 objects are not tested. Please consider using SQLAlchemy.\n",
      "  tables = pd.read_sql_query(query, con)\n"
     ]
    }
   ],
   "source": [
    "print (table_names('Leetcode_Q_1378'))"
   ]
  },
  {
   "cell_type": "code",
   "execution_count": 27,
   "id": "83da5022",
   "metadata": {},
   "outputs": [
    {
     "name": "stderr",
     "output_type": "stream",
     "text": [
      "/tmp/ipykernel_4978/2410596588.py:2: UserWarning: pandas only supports SQLAlchemy connectable (engine/connection) or database string URI or sqlite3 DBAPI2 connection. Other DBAPI2 objects are not tested. Please consider using SQLAlchemy.\n",
      "  pd.read_sql(\"SELECT *\\\n"
     ]
    },
    {
     "data": {
      "text/html": [
       "<div>\n",
       "<style scoped>\n",
       "    .dataframe tbody tr th:only-of-type {\n",
       "        vertical-align: middle;\n",
       "    }\n",
       "\n",
       "    .dataframe tbody tr th {\n",
       "        vertical-align: top;\n",
       "    }\n",
       "\n",
       "    .dataframe thead th {\n",
       "        text-align: right;\n",
       "    }\n",
       "</style>\n",
       "<table border=\"1\" class=\"dataframe\">\n",
       "  <thead>\n",
       "    <tr style=\"text-align: right;\">\n",
       "      <th></th>\n",
       "      <th>id</th>\n",
       "      <th>name</th>\n",
       "    </tr>\n",
       "  </thead>\n",
       "  <tbody>\n",
       "    <tr>\n",
       "      <th>0</th>\n",
       "      <td>1</td>\n",
       "      <td>Alice</td>\n",
       "    </tr>\n",
       "    <tr>\n",
       "      <th>1</th>\n",
       "      <td>7</td>\n",
       "      <td>Bob</td>\n",
       "    </tr>\n",
       "    <tr>\n",
       "      <th>2</th>\n",
       "      <td>11</td>\n",
       "      <td>Meir</td>\n",
       "    </tr>\n",
       "    <tr>\n",
       "      <th>3</th>\n",
       "      <td>90</td>\n",
       "      <td>Winston</td>\n",
       "    </tr>\n",
       "    <tr>\n",
       "      <th>4</th>\n",
       "      <td>3</td>\n",
       "      <td>Jonathan</td>\n",
       "    </tr>\n",
       "  </tbody>\n",
       "</table>\n",
       "</div>"
      ],
      "text/plain": [
       "   id      name\n",
       "0   1     Alice\n",
       "1   7       Bob\n",
       "2  11      Meir\n",
       "3  90   Winston\n",
       "4   3  Jonathan"
      ]
     },
     "execution_count": 27,
     "metadata": {},
     "output_type": "execute_result"
    }
   ],
   "source": [
    "con = connector('Leetcode_Q_1378')\n",
    "pd.read_sql(\"SELECT *\\\n",
    "            FROM Employees\", con)"
   ]
  },
  {
   "cell_type": "code",
   "execution_count": 28,
   "id": "fc6b3303",
   "metadata": {},
   "outputs": [
    {
     "name": "stderr",
     "output_type": "stream",
     "text": [
      "/tmp/ipykernel_4978/2989114297.py:1: UserWarning: pandas only supports SQLAlchemy connectable (engine/connection) or database string URI or sqlite3 DBAPI2 connection. Other DBAPI2 objects are not tested. Please consider using SQLAlchemy.\n",
      "  pd.read_sql(\"SELECT *\\\n"
     ]
    },
    {
     "data": {
      "text/html": [
       "<div>\n",
       "<style scoped>\n",
       "    .dataframe tbody tr th:only-of-type {\n",
       "        vertical-align: middle;\n",
       "    }\n",
       "\n",
       "    .dataframe tbody tr th {\n",
       "        vertical-align: top;\n",
       "    }\n",
       "\n",
       "    .dataframe thead th {\n",
       "        text-align: right;\n",
       "    }\n",
       "</style>\n",
       "<table border=\"1\" class=\"dataframe\">\n",
       "  <thead>\n",
       "    <tr style=\"text-align: right;\">\n",
       "      <th></th>\n",
       "      <th>id</th>\n",
       "      <th>unique_id</th>\n",
       "    </tr>\n",
       "  </thead>\n",
       "  <tbody>\n",
       "    <tr>\n",
       "      <th>0</th>\n",
       "      <td>3</td>\n",
       "      <td>1</td>\n",
       "    </tr>\n",
       "    <tr>\n",
       "      <th>1</th>\n",
       "      <td>11</td>\n",
       "      <td>2</td>\n",
       "    </tr>\n",
       "    <tr>\n",
       "      <th>2</th>\n",
       "      <td>90</td>\n",
       "      <td>3</td>\n",
       "    </tr>\n",
       "  </tbody>\n",
       "</table>\n",
       "</div>"
      ],
      "text/plain": [
       "   id  unique_id\n",
       "0   3          1\n",
       "1  11          2\n",
       "2  90          3"
      ]
     },
     "execution_count": 28,
     "metadata": {},
     "output_type": "execute_result"
    }
   ],
   "source": [
    "pd.read_sql(\"SELECT *\\\n",
    "            FROM EmployeeUNI\", con)"
   ]
  },
  {
   "cell_type": "code",
   "execution_count": 49,
   "id": "5ca46bf2",
   "metadata": {},
   "outputs": [
    {
     "data": {
      "text/html": [
       "<div>\n",
       "<style scoped>\n",
       "    .dataframe tbody tr th:only-of-type {\n",
       "        vertical-align: middle;\n",
       "    }\n",
       "\n",
       "    .dataframe tbody tr th {\n",
       "        vertical-align: top;\n",
       "    }\n",
       "\n",
       "    .dataframe thead th {\n",
       "        text-align: right;\n",
       "    }\n",
       "</style>\n",
       "<table border=\"1\" class=\"dataframe\">\n",
       "  <thead>\n",
       "    <tr style=\"text-align: right;\">\n",
       "      <th></th>\n",
       "      <th>unique_id</th>\n",
       "      <th>name</th>\n",
       "    </tr>\n",
       "  </thead>\n",
       "  <tbody>\n",
       "    <tr>\n",
       "      <th>0</th>\n",
       "      <td>NaN</td>\n",
       "      <td>Alice</td>\n",
       "    </tr>\n",
       "    <tr>\n",
       "      <th>1</th>\n",
       "      <td>NaN</td>\n",
       "      <td>Bob</td>\n",
       "    </tr>\n",
       "    <tr>\n",
       "      <th>2</th>\n",
       "      <td>2.0</td>\n",
       "      <td>Meir</td>\n",
       "    </tr>\n",
       "    <tr>\n",
       "      <th>3</th>\n",
       "      <td>3.0</td>\n",
       "      <td>Winston</td>\n",
       "    </tr>\n",
       "    <tr>\n",
       "      <th>4</th>\n",
       "      <td>1.0</td>\n",
       "      <td>Jonathan</td>\n",
       "    </tr>\n",
       "  </tbody>\n",
       "</table>\n",
       "</div>"
      ],
      "text/plain": [
       "   unique_id      name\n",
       "0        NaN     Alice\n",
       "1        NaN       Bob\n",
       "2        2.0      Meir\n",
       "3        3.0   Winston\n",
       "4        1.0  Jonathan"
      ]
     },
     "execution_count": 49,
     "metadata": {},
     "output_type": "execute_result"
    }
   ],
   "source": [
    "pd.read_sql(\"\"\"\n",
    "SELECT \n",
    "    euni.unique_id, \n",
    "    e.name\n",
    "FROM Employees e\n",
    "LEFT JOIN EmployeeUNI euni\n",
    "    USING (id)\n",
    "\"\"\", con)"
   ]
  },
  {
   "cell_type": "markdown",
   "id": "66981e35",
   "metadata": {},
   "source": [
    "# Leetcode Question 1683: Invalid Tweets"
   ]
  },
  {
   "cell_type": "code",
   "execution_count": null,
   "id": "805e29e3",
   "metadata": {},
   "outputs": [],
   "source": [
    "Create table If Not Exists Tweets(tweet_id int, content varchar(50))\n",
    "Truncate table Tweets\n",
    "insert into Tweets (tweet_id, content) values ('1', 'Vote for Biden')\n",
    "insert into Tweets (tweet_id, content) values ('2', 'Let us make America great again!')"
   ]
  },
  {
   "cell_type": "code",
   "execution_count": 59,
   "id": "1c84b908",
   "metadata": {},
   "outputs": [],
   "source": [
    "database_creator('Leetcode_Q_1683')"
   ]
  },
  {
   "cell_type": "code",
   "execution_count": 60,
   "id": "8cced810",
   "metadata": {},
   "outputs": [],
   "source": [
    "schema = \"tweet_id int, content varchar(50)\"\n",
    "data = [('1', \"Vote for Biden\"), ('2', \"Let us make America great again!\")]\n",
    "\n",
    "insert_data_to_table(\"Leetcode_Q_1683\", \"Tweets\", schema, data)"
   ]
  },
  {
   "cell_type": "code",
   "execution_count": 61,
   "id": "27487296",
   "metadata": {},
   "outputs": [
    {
     "name": "stdout",
     "output_type": "stream",
     "text": [
      "  TABLE_NAME\n",
      "0     Tweets\n"
     ]
    },
    {
     "name": "stderr",
     "output_type": "stream",
     "text": [
      "/tmp/ipykernel_4978/1508427792.py:28: UserWarning: pandas only supports SQLAlchemy connectable (engine/connection) or database string URI or sqlite3 DBAPI2 connection. Other DBAPI2 objects are not tested. Please consider using SQLAlchemy.\n",
      "  tables = pd.read_sql_query(query, con)\n"
     ]
    }
   ],
   "source": [
    "print(table_names('Leetcode_Q_1683'))"
   ]
  },
  {
   "cell_type": "code",
   "execution_count": 65,
   "id": "73c48985",
   "metadata": {},
   "outputs": [],
   "source": [
    "con = connector('Leetcode_Q_1683')"
   ]
  },
  {
   "cell_type": "code",
   "execution_count": 10,
   "id": "49dcf3c8",
   "metadata": {},
   "outputs": [
    {
     "data": {
      "text/html": [
       "<div>\n",
       "<style scoped>\n",
       "    .dataframe tbody tr th:only-of-type {\n",
       "        vertical-align: middle;\n",
       "    }\n",
       "\n",
       "    .dataframe tbody tr th {\n",
       "        vertical-align: top;\n",
       "    }\n",
       "\n",
       "    .dataframe thead th {\n",
       "        text-align: right;\n",
       "    }\n",
       "</style>\n",
       "<table border=\"1\" class=\"dataframe\">\n",
       "  <thead>\n",
       "    <tr style=\"text-align: right;\">\n",
       "      <th></th>\n",
       "      <th>tweet_id</th>\n",
       "      <th>content</th>\n",
       "    </tr>\n",
       "  </thead>\n",
       "  <tbody>\n",
       "    <tr>\n",
       "      <th>0</th>\n",
       "      <td>1</td>\n",
       "      <td>Vote for Biden</td>\n",
       "    </tr>\n",
       "    <tr>\n",
       "      <th>1</th>\n",
       "      <td>2</td>\n",
       "      <td>Let us make America great again!</td>\n",
       "    </tr>\n",
       "  </tbody>\n",
       "</table>\n",
       "</div>"
      ],
      "text/plain": [
       "   tweet_id                           content\n",
       "0         1                    Vote for Biden\n",
       "1         2  Let us make America great again!"
      ]
     },
     "execution_count": 10,
     "metadata": {},
     "output_type": "execute_result"
    }
   ],
   "source": [
    "pd.read_sql(\"\"\"\n",
    "SELECT *\n",
    "FROM Tweets\n",
    "\"\"\", con)"
   ]
  },
  {
   "cell_type": "code",
   "execution_count": 15,
   "id": "0511dc25",
   "metadata": {},
   "outputs": [
    {
     "data": {
      "text/html": [
       "<div>\n",
       "<style scoped>\n",
       "    .dataframe tbody tr th:only-of-type {\n",
       "        vertical-align: middle;\n",
       "    }\n",
       "\n",
       "    .dataframe tbody tr th {\n",
       "        vertical-align: top;\n",
       "    }\n",
       "\n",
       "    .dataframe thead th {\n",
       "        text-align: right;\n",
       "    }\n",
       "</style>\n",
       "<table border=\"1\" class=\"dataframe\">\n",
       "  <thead>\n",
       "    <tr style=\"text-align: right;\">\n",
       "      <th></th>\n",
       "      <th>tweet_id</th>\n",
       "    </tr>\n",
       "  </thead>\n",
       "  <tbody>\n",
       "    <tr>\n",
       "      <th>0</th>\n",
       "      <td>2</td>\n",
       "    </tr>\n",
       "  </tbody>\n",
       "</table>\n",
       "</div>"
      ],
      "text/plain": [
       "   tweet_id\n",
       "0         2"
      ]
     },
     "execution_count": 15,
     "metadata": {},
     "output_type": "execute_result"
    }
   ],
   "source": [
    "pd.read_sql(\"\"\"\n",
    "SELECT tweet_id\n",
    "FROM Tweets\n",
    "WHERE LENGTH(content) > 15\n",
    "\"\"\", con)"
   ]
  },
  {
   "cell_type": "markdown",
   "id": "aa5e18ba",
   "metadata": {},
   "source": [
    "# Leetcode Question 1741: Find Total Time Spent by Each Employee"
   ]
  },
  {
   "cell_type": "code",
   "execution_count": null,
   "id": "5dc0d40c",
   "metadata": {},
   "outputs": [],
   "source": [
    "Create table If Not Exists Employees(emp_id int, event_day date, in_time int, out_time int)\n",
    "Truncate table Employees\n",
    "insert into Employees (emp_id, event_day, in_time, out_time) values ('1', '2020-11-28', '4', '32')\n",
    "insert into Employees (emp_id, event_day, in_time, out_time) values ('1', '2020-11-28', '55', '200')\n",
    "insert into Employees (emp_id, event_day, in_time, out_time) values ('1', '2020-12-3', '1', '42')\n",
    "insert into Employees (emp_id, event_day, in_time, out_time) values ('2', '2020-11-28', '3', '33')\n",
    "insert into Employees (emp_id, event_day, in_time, out_time) values ('2', '2020-12-9', '47', '74')"
   ]
  },
  {
   "cell_type": "code",
   "execution_count": 69,
   "id": "476df030",
   "metadata": {},
   "outputs": [],
   "source": [
    "database_creator('Leetcode_Q_1741')"
   ]
  },
  {
   "cell_type": "code",
   "execution_count": 70,
   "id": "df9e7a31",
   "metadata": {},
   "outputs": [],
   "source": [
    "schema = \"emp_id int, event_day date, in_time int, out_time int\"\n",
    "data = [('1', '2020-11-28', '4', '32'), ('1', '2020-11-28', '55', '200'), ('1', '2020-12-3', '1', '42'),\n",
    "       ('2', '2020-11-28', '3', '33'), ('2', '2020-12-9', '47', '74')]\n",
    "\n",
    "insert_data_to_table(\"Leetcode_Q_1741\", \"Employees\", schema, data)"
   ]
  },
  {
   "cell_type": "code",
   "execution_count": 71,
   "id": "28f65fd1",
   "metadata": {},
   "outputs": [
    {
     "name": "stdout",
     "output_type": "stream",
     "text": [
      "  TABLE_NAME\n",
      "0  Employees\n"
     ]
    },
    {
     "name": "stderr",
     "output_type": "stream",
     "text": [
      "/tmp/ipykernel_4978/1508427792.py:28: UserWarning: pandas only supports SQLAlchemy connectable (engine/connection) or database string URI or sqlite3 DBAPI2 connection. Other DBAPI2 objects are not tested. Please consider using SQLAlchemy.\n",
      "  tables = pd.read_sql_query(query, con)\n"
     ]
    }
   ],
   "source": [
    "print(table_names('Leetcode_Q_1741'))"
   ]
  },
  {
   "cell_type": "code",
   "execution_count": 79,
   "id": "5b4bbfd9",
   "metadata": {},
   "outputs": [],
   "source": [
    "con = connector('Leetcode_Q_1741')"
   ]
  },
  {
   "cell_type": "code",
   "execution_count": 80,
   "id": "596d7a35",
   "metadata": {},
   "outputs": [
    {
     "name": "stderr",
     "output_type": "stream",
     "text": [
      "/tmp/ipykernel_4978/4071364629.py:2: UserWarning: pandas only supports SQLAlchemy connectable (engine/connection) or database string URI or sqlite3 DBAPI2 connection. Other DBAPI2 objects are not tested. Please consider using SQLAlchemy.\n",
      "  pd.read_sql(\"\"\"\n"
     ]
    },
    {
     "data": {
      "text/html": [
       "<div>\n",
       "<style scoped>\n",
       "    .dataframe tbody tr th:only-of-type {\n",
       "        vertical-align: middle;\n",
       "    }\n",
       "\n",
       "    .dataframe tbody tr th {\n",
       "        vertical-align: top;\n",
       "    }\n",
       "\n",
       "    .dataframe thead th {\n",
       "        text-align: right;\n",
       "    }\n",
       "</style>\n",
       "<table border=\"1\" class=\"dataframe\">\n",
       "  <thead>\n",
       "    <tr style=\"text-align: right;\">\n",
       "      <th></th>\n",
       "      <th>emp_id</th>\n",
       "      <th>event_day</th>\n",
       "      <th>in_time</th>\n",
       "      <th>out_time</th>\n",
       "    </tr>\n",
       "  </thead>\n",
       "  <tbody>\n",
       "    <tr>\n",
       "      <th>0</th>\n",
       "      <td>1</td>\n",
       "      <td>2020-11-28</td>\n",
       "      <td>4</td>\n",
       "      <td>32</td>\n",
       "    </tr>\n",
       "    <tr>\n",
       "      <th>1</th>\n",
       "      <td>1</td>\n",
       "      <td>2020-11-28</td>\n",
       "      <td>55</td>\n",
       "      <td>200</td>\n",
       "    </tr>\n",
       "    <tr>\n",
       "      <th>2</th>\n",
       "      <td>1</td>\n",
       "      <td>2020-12-03</td>\n",
       "      <td>1</td>\n",
       "      <td>42</td>\n",
       "    </tr>\n",
       "    <tr>\n",
       "      <th>3</th>\n",
       "      <td>2</td>\n",
       "      <td>2020-11-28</td>\n",
       "      <td>3</td>\n",
       "      <td>33</td>\n",
       "    </tr>\n",
       "    <tr>\n",
       "      <th>4</th>\n",
       "      <td>2</td>\n",
       "      <td>2020-12-09</td>\n",
       "      <td>47</td>\n",
       "      <td>74</td>\n",
       "    </tr>\n",
       "  </tbody>\n",
       "</table>\n",
       "</div>"
      ],
      "text/plain": [
       "   emp_id   event_day  in_time  out_time\n",
       "0       1  2020-11-28        4        32\n",
       "1       1  2020-11-28       55       200\n",
       "2       1  2020-12-03        1        42\n",
       "3       2  2020-11-28        3        33\n",
       "4       2  2020-12-09       47        74"
      ]
     },
     "execution_count": 80,
     "metadata": {},
     "output_type": "execute_result"
    }
   ],
   "source": [
    "#\n",
    "pd.read_sql(\"\"\"\n",
    "SELECT *\n",
    "FROM Employees\n",
    "\"\"\", con)"
   ]
  },
  {
   "cell_type": "code",
   "execution_count": 21,
   "id": "7cb0e88f",
   "metadata": {},
   "outputs": [
    {
     "data": {
      "text/html": [
       "<div>\n",
       "<style scoped>\n",
       "    .dataframe tbody tr th:only-of-type {\n",
       "        vertical-align: middle;\n",
       "    }\n",
       "\n",
       "    .dataframe tbody tr th {\n",
       "        vertical-align: top;\n",
       "    }\n",
       "\n",
       "    .dataframe thead th {\n",
       "        text-align: right;\n",
       "    }\n",
       "</style>\n",
       "<table border=\"1\" class=\"dataframe\">\n",
       "  <thead>\n",
       "    <tr style=\"text-align: right;\">\n",
       "      <th></th>\n",
       "      <th>emp_id</th>\n",
       "      <th>event_day</th>\n",
       "      <th>in_time</th>\n",
       "      <th>out_time</th>\n",
       "    </tr>\n",
       "  </thead>\n",
       "  <tbody>\n",
       "    <tr>\n",
       "      <th>0</th>\n",
       "      <td>1</td>\n",
       "      <td>2020-11-28</td>\n",
       "      <td>4</td>\n",
       "      <td>32</td>\n",
       "    </tr>\n",
       "    <tr>\n",
       "      <th>1</th>\n",
       "      <td>1</td>\n",
       "      <td>2020-11-28</td>\n",
       "      <td>55</td>\n",
       "      <td>200</td>\n",
       "    </tr>\n",
       "    <tr>\n",
       "      <th>2</th>\n",
       "      <td>1</td>\n",
       "      <td>2020-12-03</td>\n",
       "      <td>1</td>\n",
       "      <td>42</td>\n",
       "    </tr>\n",
       "    <tr>\n",
       "      <th>3</th>\n",
       "      <td>2</td>\n",
       "      <td>2020-11-28</td>\n",
       "      <td>3</td>\n",
       "      <td>33</td>\n",
       "    </tr>\n",
       "    <tr>\n",
       "      <th>4</th>\n",
       "      <td>2</td>\n",
       "      <td>2020-12-09</td>\n",
       "      <td>47</td>\n",
       "      <td>74</td>\n",
       "    </tr>\n",
       "  </tbody>\n",
       "</table>\n",
       "</div>"
      ],
      "text/plain": [
       "   emp_id   event_day  in_time  out_time\n",
       "0       1  2020-11-28        4        32\n",
       "1       1  2020-11-28       55       200\n",
       "2       1  2020-12-03        1        42\n",
       "3       2  2020-11-28        3        33\n",
       "4       2  2020-12-09       47        74"
      ]
     },
     "execution_count": 21,
     "metadata": {},
     "output_type": "execute_result"
    }
   ],
   "source": [
    "pd.read_sql(\"\"\"\n",
    "SELECT *\n",
    "FROM Employees\n",
    "\"\"\", con)"
   ]
  },
  {
   "cell_type": "code",
   "execution_count": 30,
   "id": "441b9096",
   "metadata": {},
   "outputs": [
    {
     "data": {
      "text/html": [
       "<div>\n",
       "<style scoped>\n",
       "    .dataframe tbody tr th:only-of-type {\n",
       "        vertical-align: middle;\n",
       "    }\n",
       "\n",
       "    .dataframe tbody tr th {\n",
       "        vertical-align: top;\n",
       "    }\n",
       "\n",
       "    .dataframe thead th {\n",
       "        text-align: right;\n",
       "    }\n",
       "</style>\n",
       "<table border=\"1\" class=\"dataframe\">\n",
       "  <thead>\n",
       "    <tr style=\"text-align: right;\">\n",
       "      <th></th>\n",
       "      <th>day</th>\n",
       "      <th>emp_id</th>\n",
       "      <th>total_time</th>\n",
       "    </tr>\n",
       "  </thead>\n",
       "  <tbody>\n",
       "    <tr>\n",
       "      <th>0</th>\n",
       "      <td>2020-11-28</td>\n",
       "      <td>1</td>\n",
       "      <td>173.0</td>\n",
       "    </tr>\n",
       "    <tr>\n",
       "      <th>1</th>\n",
       "      <td>2020-11-28</td>\n",
       "      <td>2</td>\n",
       "      <td>30.0</td>\n",
       "    </tr>\n",
       "    <tr>\n",
       "      <th>2</th>\n",
       "      <td>2020-12-03</td>\n",
       "      <td>1</td>\n",
       "      <td>41.0</td>\n",
       "    </tr>\n",
       "    <tr>\n",
       "      <th>3</th>\n",
       "      <td>2020-12-09</td>\n",
       "      <td>2</td>\n",
       "      <td>27.0</td>\n",
       "    </tr>\n",
       "  </tbody>\n",
       "</table>\n",
       "</div>"
      ],
      "text/plain": [
       "          day  emp_id  total_time\n",
       "0  2020-11-28       1       173.0\n",
       "1  2020-11-28       2        30.0\n",
       "2  2020-12-03       1        41.0\n",
       "3  2020-12-09       2        27.0"
      ]
     },
     "execution_count": 30,
     "metadata": {},
     "output_type": "execute_result"
    }
   ],
   "source": [
    "pd.read_sql(\"\"\"\n",
    "SELECT \n",
    "    event_day AS day,\n",
    "    emp_id, \n",
    "    SUM(out_time - in_time) AS total_time\n",
    "FROM Employees\n",
    "GROUP BY event_day, emp_id\n",
    "ORDER BY event_day\n",
    "\"\"\", con)"
   ]
  },
  {
   "cell_type": "markdown",
   "id": "27db63aa",
   "metadata": {},
   "source": [
    "# Leetcode Question 2356: Number of Unique Subjects Taught by Each Teacher"
   ]
  },
  {
   "cell_type": "code",
   "execution_count": null,
   "id": "b6484035",
   "metadata": {},
   "outputs": [],
   "source": [
    "Create table If Not Exists Teacher (teacher_id int, subject_id int, dept_id int)\n",
    "Truncate table Teacher\n",
    "insert into Teacher (teacher_id, subject_id, dept_id) values ('1', '2', '3')\n",
    "insert into Teacher (teacher_id, subject_id, dept_id) values ('1', '2', '4')\n",
    "insert into Teacher (teacher_id, subject_id, dept_id) values ('1', '3', '3')\n",
    "insert into Teacher (teacher_id, subject_id, dept_id) values ('2', '1', '1')\n",
    "insert into Teacher (teacher_id, subject_id, dept_id) values ('2', '2', '1')\n",
    "insert into Teacher (teacher_id, subject_id, dept_id) values ('2', '3', '1')\n",
    "insert into Teacher (teacher_id, subject_id, dept_id) values ('2', '4', '1')"
   ]
  },
  {
   "cell_type": "code",
   "execution_count": 5,
   "id": "604046c3",
   "metadata": {},
   "outputs": [],
   "source": [
    "database_creator('Leetcode_Q_2356')"
   ]
  },
  {
   "cell_type": "code",
   "execution_count": 6,
   "id": "918f5f68",
   "metadata": {},
   "outputs": [],
   "source": [
    "schema = \"teacher_id int, subject_id int, dept_id int\"\n",
    "data = [('1', '2', '3'),\n",
    "       ('1', '2', '4'),\n",
    "       ('1', '3', '3'),\n",
    "       ('2', '1', '1'),\n",
    "       ('2', '2', '1'),\n",
    "       ('2', '3', '1'),\n",
    "       ('2', '4', '1')]\n",
    "\n",
    "insert_data_to_table(\"Leetcode_Q_2356\", \"Teacher\", schema, data)"
   ]
  },
  {
   "cell_type": "code",
   "execution_count": 7,
   "id": "28c0d6dc",
   "metadata": {},
   "outputs": [],
   "source": [
    "con = connector('Leetcode_Q_2356')"
   ]
  },
  {
   "cell_type": "code",
   "execution_count": 34,
   "id": "a8fbd365",
   "metadata": {},
   "outputs": [
    {
     "data": {
      "text/html": [
       "<div>\n",
       "<style scoped>\n",
       "    .dataframe tbody tr th:only-of-type {\n",
       "        vertical-align: middle;\n",
       "    }\n",
       "\n",
       "    .dataframe tbody tr th {\n",
       "        vertical-align: top;\n",
       "    }\n",
       "\n",
       "    .dataframe thead th {\n",
       "        text-align: right;\n",
       "    }\n",
       "</style>\n",
       "<table border=\"1\" class=\"dataframe\">\n",
       "  <thead>\n",
       "    <tr style=\"text-align: right;\">\n",
       "      <th></th>\n",
       "      <th>teacher_id</th>\n",
       "      <th>subject_id</th>\n",
       "      <th>dept_id</th>\n",
       "    </tr>\n",
       "  </thead>\n",
       "  <tbody>\n",
       "    <tr>\n",
       "      <th>0</th>\n",
       "      <td>1</td>\n",
       "      <td>2</td>\n",
       "      <td>3</td>\n",
       "    </tr>\n",
       "    <tr>\n",
       "      <th>1</th>\n",
       "      <td>1</td>\n",
       "      <td>2</td>\n",
       "      <td>4</td>\n",
       "    </tr>\n",
       "    <tr>\n",
       "      <th>2</th>\n",
       "      <td>1</td>\n",
       "      <td>3</td>\n",
       "      <td>3</td>\n",
       "    </tr>\n",
       "    <tr>\n",
       "      <th>3</th>\n",
       "      <td>2</td>\n",
       "      <td>1</td>\n",
       "      <td>1</td>\n",
       "    </tr>\n",
       "    <tr>\n",
       "      <th>4</th>\n",
       "      <td>2</td>\n",
       "      <td>2</td>\n",
       "      <td>1</td>\n",
       "    </tr>\n",
       "    <tr>\n",
       "      <th>5</th>\n",
       "      <td>2</td>\n",
       "      <td>3</td>\n",
       "      <td>1</td>\n",
       "    </tr>\n",
       "    <tr>\n",
       "      <th>6</th>\n",
       "      <td>2</td>\n",
       "      <td>4</td>\n",
       "      <td>1</td>\n",
       "    </tr>\n",
       "  </tbody>\n",
       "</table>\n",
       "</div>"
      ],
      "text/plain": [
       "   teacher_id  subject_id  dept_id\n",
       "0           1           2        3\n",
       "1           1           2        4\n",
       "2           1           3        3\n",
       "3           2           1        1\n",
       "4           2           2        1\n",
       "5           2           3        1\n",
       "6           2           4        1"
      ]
     },
     "execution_count": 34,
     "metadata": {},
     "output_type": "execute_result"
    }
   ],
   "source": [
    "pd.read_sql(\"\"\"\n",
    "SELECT *\n",
    "FROM Teacher\n",
    "\"\"\", con)"
   ]
  },
  {
   "cell_type": "code",
   "execution_count": 57,
   "id": "656184fd",
   "metadata": {},
   "outputs": [
    {
     "data": {
      "text/html": [
       "<div>\n",
       "<style scoped>\n",
       "    .dataframe tbody tr th:only-of-type {\n",
       "        vertical-align: middle;\n",
       "    }\n",
       "\n",
       "    .dataframe tbody tr th {\n",
       "        vertical-align: top;\n",
       "    }\n",
       "\n",
       "    .dataframe thead th {\n",
       "        text-align: right;\n",
       "    }\n",
       "</style>\n",
       "<table border=\"1\" class=\"dataframe\">\n",
       "  <thead>\n",
       "    <tr style=\"text-align: right;\">\n",
       "      <th></th>\n",
       "      <th>teacher_id</th>\n",
       "      <th>cnt</th>\n",
       "    </tr>\n",
       "  </thead>\n",
       "  <tbody>\n",
       "    <tr>\n",
       "      <th>0</th>\n",
       "      <td>1</td>\n",
       "      <td>2</td>\n",
       "    </tr>\n",
       "    <tr>\n",
       "      <th>1</th>\n",
       "      <td>2</td>\n",
       "      <td>4</td>\n",
       "    </tr>\n",
       "  </tbody>\n",
       "</table>\n",
       "</div>"
      ],
      "text/plain": [
       "   teacher_id  cnt\n",
       "0           1    2\n",
       "1           2    4"
      ]
     },
     "execution_count": 57,
     "metadata": {},
     "output_type": "execute_result"
    }
   ],
   "source": [
    "pd.read_sql(\"\"\"\n",
    "SELECT \n",
    "    teacher_id,\n",
    "    COUNT(DISTINCT subject_id) AS cnt\n",
    "FROM Teacher\n",
    "GROUP BY teacher_id\n",
    "\"\"\", con)"
   ]
  },
  {
   "cell_type": "markdown",
   "id": "c7ee4441",
   "metadata": {},
   "source": [
    "# Leetcode Question 1693: Daily Leads and Partners"
   ]
  },
  {
   "cell_type": "code",
   "execution_count": null,
   "id": "a72eacd5",
   "metadata": {},
   "outputs": [],
   "source": [
    "Create table If Not Exists DailySales(date_id date, make_name varchar(20), lead_id int, partner_id int)\n",
    "Truncate table DailySales\n",
    "insert into DailySales (date_id, make_name, lead_id, partner_id) values ('2020-12-8', 'toyota', '0', '1')\n",
    "insert into DailySales (date_id, make_name, lead_id, partner_id) values ('2020-12-8', 'toyota', '1', '0')\n",
    "insert into DailySales (date_id, make_name, lead_id, partner_id) values ('2020-12-8', 'toyota', '1', '2')\n",
    "insert into DailySales (date_id, make_name, lead_id, partner_id) values ('2020-12-7', 'toyota', '0', '2')\n",
    "insert into DailySales (date_id, make_name, lead_id, partner_id) values ('2020-12-7', 'toyota', '0', '1')\n",
    "insert into DailySales (date_id, make_name, lead_id, partner_id) values ('2020-12-8', 'honda', '1', '2')\n",
    "insert into DailySales (date_id, make_name, lead_id, partner_id) values ('2020-12-8', 'honda', '2', '1')\n",
    "insert into DailySales (date_id, make_name, lead_id, partner_id) values ('2020-12-7', 'honda', '0', '1')\n",
    "insert into DailySales (date_id, make_name, lead_id, partner_id) values ('2020-12-7', 'honda', '1', '2')\n",
    "insert into DailySales (date_id, make_name, lead_id, partner_id) values ('2020-12-7', 'honda', '2', '1')"
   ]
  },
  {
   "cell_type": "code",
   "execution_count": 8,
   "id": "134a5eb7",
   "metadata": {},
   "outputs": [],
   "source": [
    "database_creator('Leetcode_Q_1693')"
   ]
  },
  {
   "cell_type": "code",
   "execution_count": 9,
   "id": "aa62faab",
   "metadata": {},
   "outputs": [],
   "source": [
    "schema = \"date_id date, make_name varchar(20), lead_id int, partner_id int\"\n",
    "data = [ ('2020-12-8', 'toyota', '0', '1'),\n",
    "         ('2020-12-8', 'toyota', '1', '0'), \n",
    "         ('2020-12-8', 'toyota', '1', '2'), \n",
    "         ('2020-12-7', 'toyota', '0', '2'),\n",
    "         ('2020-12-7', 'toyota', '0', '1'),\n",
    "         ('2020-12-8', 'honda', '1', '2'),\n",
    "         ('2020-12-8', 'honda', '2', '1'),\n",
    "         ('2020-12-7', 'honda', '0', '1'),\n",
    "         ('2020-12-7', 'honda', '1', '2'),\n",
    "         ('2020-12-7', 'honda', '2', '1')]\n",
    "\n",
    "insert_data_to_table(\"Leetcode_Q_1693\", \"DailySales\", schema, data)"
   ]
  },
  {
   "cell_type": "code",
   "execution_count": 10,
   "id": "29127402",
   "metadata": {},
   "outputs": [],
   "source": [
    "con = connector('Leetcode_Q_1693')"
   ]
  },
  {
   "cell_type": "code",
   "execution_count": 62,
   "id": "b738db5d",
   "metadata": {},
   "outputs": [
    {
     "data": {
      "text/html": [
       "<div>\n",
       "<style scoped>\n",
       "    .dataframe tbody tr th:only-of-type {\n",
       "        vertical-align: middle;\n",
       "    }\n",
       "\n",
       "    .dataframe tbody tr th {\n",
       "        vertical-align: top;\n",
       "    }\n",
       "\n",
       "    .dataframe thead th {\n",
       "        text-align: right;\n",
       "    }\n",
       "</style>\n",
       "<table border=\"1\" class=\"dataframe\">\n",
       "  <thead>\n",
       "    <tr style=\"text-align: right;\">\n",
       "      <th></th>\n",
       "      <th>date_id</th>\n",
       "      <th>make_name</th>\n",
       "      <th>lead_id</th>\n",
       "      <th>partner_id</th>\n",
       "    </tr>\n",
       "  </thead>\n",
       "  <tbody>\n",
       "    <tr>\n",
       "      <th>0</th>\n",
       "      <td>2020-12-08</td>\n",
       "      <td>toyota</td>\n",
       "      <td>0</td>\n",
       "      <td>1</td>\n",
       "    </tr>\n",
       "    <tr>\n",
       "      <th>1</th>\n",
       "      <td>2020-12-08</td>\n",
       "      <td>toyota</td>\n",
       "      <td>1</td>\n",
       "      <td>0</td>\n",
       "    </tr>\n",
       "    <tr>\n",
       "      <th>2</th>\n",
       "      <td>2020-12-08</td>\n",
       "      <td>toyota</td>\n",
       "      <td>1</td>\n",
       "      <td>2</td>\n",
       "    </tr>\n",
       "    <tr>\n",
       "      <th>3</th>\n",
       "      <td>2020-12-07</td>\n",
       "      <td>toyota</td>\n",
       "      <td>0</td>\n",
       "      <td>2</td>\n",
       "    </tr>\n",
       "    <tr>\n",
       "      <th>4</th>\n",
       "      <td>2020-12-07</td>\n",
       "      <td>toyota</td>\n",
       "      <td>0</td>\n",
       "      <td>1</td>\n",
       "    </tr>\n",
       "    <tr>\n",
       "      <th>5</th>\n",
       "      <td>2020-12-08</td>\n",
       "      <td>honda</td>\n",
       "      <td>1</td>\n",
       "      <td>2</td>\n",
       "    </tr>\n",
       "    <tr>\n",
       "      <th>6</th>\n",
       "      <td>2020-12-08</td>\n",
       "      <td>honda</td>\n",
       "      <td>2</td>\n",
       "      <td>1</td>\n",
       "    </tr>\n",
       "    <tr>\n",
       "      <th>7</th>\n",
       "      <td>2020-12-07</td>\n",
       "      <td>honda</td>\n",
       "      <td>0</td>\n",
       "      <td>1</td>\n",
       "    </tr>\n",
       "    <tr>\n",
       "      <th>8</th>\n",
       "      <td>2020-12-07</td>\n",
       "      <td>honda</td>\n",
       "      <td>1</td>\n",
       "      <td>2</td>\n",
       "    </tr>\n",
       "    <tr>\n",
       "      <th>9</th>\n",
       "      <td>2020-12-07</td>\n",
       "      <td>honda</td>\n",
       "      <td>2</td>\n",
       "      <td>1</td>\n",
       "    </tr>\n",
       "  </tbody>\n",
       "</table>\n",
       "</div>"
      ],
      "text/plain": [
       "      date_id make_name  lead_id  partner_id\n",
       "0  2020-12-08    toyota        0           1\n",
       "1  2020-12-08    toyota        1           0\n",
       "2  2020-12-08    toyota        1           2\n",
       "3  2020-12-07    toyota        0           2\n",
       "4  2020-12-07    toyota        0           1\n",
       "5  2020-12-08     honda        1           2\n",
       "6  2020-12-08     honda        2           1\n",
       "7  2020-12-07     honda        0           1\n",
       "8  2020-12-07     honda        1           2\n",
       "9  2020-12-07     honda        2           1"
      ]
     },
     "execution_count": 62,
     "metadata": {},
     "output_type": "execute_result"
    }
   ],
   "source": [
    "pd.read_sql(\"\"\"\n",
    "SELECT *\n",
    "FROM DailySales\n",
    "\"\"\", con)"
   ]
  },
  {
   "cell_type": "code",
   "execution_count": 87,
   "id": "2958e410",
   "metadata": {},
   "outputs": [
    {
     "data": {
      "text/html": [
       "<div>\n",
       "<style scoped>\n",
       "    .dataframe tbody tr th:only-of-type {\n",
       "        vertical-align: middle;\n",
       "    }\n",
       "\n",
       "    .dataframe tbody tr th {\n",
       "        vertical-align: top;\n",
       "    }\n",
       "\n",
       "    .dataframe thead th {\n",
       "        text-align: right;\n",
       "    }\n",
       "</style>\n",
       "<table border=\"1\" class=\"dataframe\">\n",
       "  <thead>\n",
       "    <tr style=\"text-align: right;\">\n",
       "      <th></th>\n",
       "      <th>date_id</th>\n",
       "      <th>make_name</th>\n",
       "      <th>unique_leads</th>\n",
       "      <th>unique_partners</th>\n",
       "    </tr>\n",
       "  </thead>\n",
       "  <tbody>\n",
       "    <tr>\n",
       "      <th>0</th>\n",
       "      <td>2020-12-08</td>\n",
       "      <td>toyota</td>\n",
       "      <td>2</td>\n",
       "      <td>3</td>\n",
       "    </tr>\n",
       "    <tr>\n",
       "      <th>1</th>\n",
       "      <td>2020-12-07</td>\n",
       "      <td>toyota</td>\n",
       "      <td>1</td>\n",
       "      <td>2</td>\n",
       "    </tr>\n",
       "    <tr>\n",
       "      <th>2</th>\n",
       "      <td>2020-12-08</td>\n",
       "      <td>honda</td>\n",
       "      <td>2</td>\n",
       "      <td>2</td>\n",
       "    </tr>\n",
       "    <tr>\n",
       "      <th>3</th>\n",
       "      <td>2020-12-07</td>\n",
       "      <td>honda</td>\n",
       "      <td>3</td>\n",
       "      <td>2</td>\n",
       "    </tr>\n",
       "  </tbody>\n",
       "</table>\n",
       "</div>"
      ],
      "text/plain": [
       "      date_id make_name  unique_leads  unique_partners\n",
       "0  2020-12-08    toyota             2                3\n",
       "1  2020-12-07    toyota             1                2\n",
       "2  2020-12-08     honda             2                2\n",
       "3  2020-12-07     honda             3                2"
      ]
     },
     "execution_count": 87,
     "metadata": {},
     "output_type": "execute_result"
    }
   ],
   "source": [
    "pd.read_sql(\"\"\"\n",
    "SELECT \n",
    "    date_id,\n",
    "    make_name,\n",
    "    COUNT(DISTINCT lead_id) AS unique_leads,\n",
    "    COUNT(DISTINCT partner_id) AS unique_partners\n",
    "FROM DailySales\n",
    "GROUP BY date_id, make_name\n",
    "ORDER BY make_name DESC, date_id DESC\n",
    "\"\"\", con)"
   ]
  },
  {
   "cell_type": "markdown",
   "id": "3ea13aea",
   "metadata": {},
   "source": [
    "# Leetcode Question 1795: Rearrange Products Table"
   ]
  },
  {
   "cell_type": "code",
   "execution_count": null,
   "id": "2eb53f1e",
   "metadata": {},
   "outputs": [],
   "source": [
    "Create table If Not Exists Products (product_id int, store1 int, store2 int, store3 int)\n",
    "Truncate table Products\n",
    "insert into Products (product_id, store1, store2, store3) values ('0', '95', '100', '105')\n",
    "insert into Products (product_id, store1, store2, store3) values ('1', '70', 'None', '80')"
   ]
  },
  {
   "cell_type": "code",
   "execution_count": 12,
   "id": "a3f660df",
   "metadata": {},
   "outputs": [],
   "source": [
    "database_creator('Leetcode_Q_1795')"
   ]
  },
  {
   "cell_type": "code",
   "execution_count": 13,
   "id": "4b910ecd",
   "metadata": {},
   "outputs": [],
   "source": [
    "schema = \"product_id int, store1 int, store2 int, store3 int\"\n",
    "data = [ ('0', '95', '100', '105'),\n",
    "       ('1', '70', None, '80')]\n",
    "\n",
    "insert_data_to_table(\"Leetcode_Q_1795\", \"Products\", schema, data)"
   ]
  },
  {
   "cell_type": "code",
   "execution_count": 14,
   "id": "d0bbdb58",
   "metadata": {},
   "outputs": [],
   "source": [
    "con = connector('Leetcode_Q_1795')"
   ]
  },
  {
   "cell_type": "code",
   "execution_count": 10,
   "id": "cf792388",
   "metadata": {},
   "outputs": [
    {
     "data": {
      "text/html": [
       "<div>\n",
       "<style scoped>\n",
       "    .dataframe tbody tr th:only-of-type {\n",
       "        vertical-align: middle;\n",
       "    }\n",
       "\n",
       "    .dataframe tbody tr th {\n",
       "        vertical-align: top;\n",
       "    }\n",
       "\n",
       "    .dataframe thead th {\n",
       "        text-align: right;\n",
       "    }\n",
       "</style>\n",
       "<table border=\"1\" class=\"dataframe\">\n",
       "  <thead>\n",
       "    <tr style=\"text-align: right;\">\n",
       "      <th></th>\n",
       "      <th>product_id</th>\n",
       "      <th>store1</th>\n",
       "      <th>store2</th>\n",
       "      <th>store3</th>\n",
       "    </tr>\n",
       "  </thead>\n",
       "  <tbody>\n",
       "    <tr>\n",
       "      <th>0</th>\n",
       "      <td>0</td>\n",
       "      <td>95</td>\n",
       "      <td>100.0</td>\n",
       "      <td>105</td>\n",
       "    </tr>\n",
       "    <tr>\n",
       "      <th>1</th>\n",
       "      <td>1</td>\n",
       "      <td>70</td>\n",
       "      <td>NaN</td>\n",
       "      <td>80</td>\n",
       "    </tr>\n",
       "  </tbody>\n",
       "</table>\n",
       "</div>"
      ],
      "text/plain": [
       "   product_id  store1  store2  store3\n",
       "0           0      95   100.0     105\n",
       "1           1      70     NaN      80"
      ]
     },
     "execution_count": 10,
     "metadata": {},
     "output_type": "execute_result"
    }
   ],
   "source": [
    "pd.read_sql(\"\"\"\n",
    "SELECT *\n",
    "FROM Products\n",
    "\"\"\", con)"
   ]
  },
  {
   "cell_type": "markdown",
   "id": "abf6fbf6",
   "metadata": {},
   "source": [
    "\n"
   ]
  },
  {
   "cell_type": "code",
   "execution_count": 15,
   "id": "2b6bb49a",
   "metadata": {},
   "outputs": [
    {
     "name": "stderr",
     "output_type": "stream",
     "text": [
      "/tmp/ipykernel_4765/2681703108.py:1: UserWarning: pandas only supports SQLAlchemy connectable (engine/connection) or database string URI or sqlite3 DBAPI2 connection. Other DBAPI2 objects are not tested. Please consider using SQLAlchemy.\n",
      "  pd.read_sql(\"\"\"\n"
     ]
    },
    {
     "data": {
      "text/html": [
       "<div>\n",
       "<style scoped>\n",
       "    .dataframe tbody tr th:only-of-type {\n",
       "        vertical-align: middle;\n",
       "    }\n",
       "\n",
       "    .dataframe tbody tr th {\n",
       "        vertical-align: top;\n",
       "    }\n",
       "\n",
       "    .dataframe thead th {\n",
       "        text-align: right;\n",
       "    }\n",
       "</style>\n",
       "<table border=\"1\" class=\"dataframe\">\n",
       "  <thead>\n",
       "    <tr style=\"text-align: right;\">\n",
       "      <th></th>\n",
       "      <th>product_id</th>\n",
       "      <th>store</th>\n",
       "      <th>price</th>\n",
       "    </tr>\n",
       "  </thead>\n",
       "  <tbody>\n",
       "    <tr>\n",
       "      <th>0</th>\n",
       "      <td>0</td>\n",
       "      <td>store1</td>\n",
       "      <td>95</td>\n",
       "    </tr>\n",
       "    <tr>\n",
       "      <th>1</th>\n",
       "      <td>0</td>\n",
       "      <td>store2</td>\n",
       "      <td>100</td>\n",
       "    </tr>\n",
       "    <tr>\n",
       "      <th>2</th>\n",
       "      <td>0</td>\n",
       "      <td>store3</td>\n",
       "      <td>105</td>\n",
       "    </tr>\n",
       "    <tr>\n",
       "      <th>3</th>\n",
       "      <td>1</td>\n",
       "      <td>store1</td>\n",
       "      <td>70</td>\n",
       "    </tr>\n",
       "    <tr>\n",
       "      <th>4</th>\n",
       "      <td>1</td>\n",
       "      <td>store3</td>\n",
       "      <td>80</td>\n",
       "    </tr>\n",
       "  </tbody>\n",
       "</table>\n",
       "</div>"
      ],
      "text/plain": [
       "   product_id   store  price\n",
       "0           0  store1     95\n",
       "1           0  store2    100\n",
       "2           0  store3    105\n",
       "3           1  store1     70\n",
       "4           1  store3     80"
      ]
     },
     "execution_count": 15,
     "metadata": {},
     "output_type": "execute_result"
    }
   ],
   "source": [
    "pd.read_sql(\"\"\"\n",
    "SELECT\n",
    "    product_id,\n",
    "    'store1' AS 'store',\n",
    "    store1 AS price\n",
    "FROM Products\n",
    "WHERE store1 is NOT NULL\n",
    "UNION\n",
    "SELECT\n",
    "    product_id,\n",
    "    'store2' AS 'store',\n",
    "    store2 AS price\n",
    "FROM Products\n",
    "WHERE store2 is NOT NULL\n",
    "UNION\n",
    "SELECT\n",
    "    product_id,\n",
    "    'store3' AS 'store',\n",
    "    store3 AS price\n",
    "FROM Products\n",
    "WHERE store3 is NOT NULL\n",
    "ORDER BY product_id\n",
    "\"\"\", con)"
   ]
  },
  {
   "cell_type": "markdown",
   "id": "c88b7bc8",
   "metadata": {},
   "source": [
    "# Leetcode Question 1587: Bank Account Summary II"
   ]
  },
  {
   "cell_type": "code",
   "execution_count": null,
   "id": "c5f46224",
   "metadata": {},
   "outputs": [],
   "source": [
    "Create table If Not Exists Users (account int, name varchar(20))\n",
    "Create table If Not Exists Transactions (trans_id int, account int, amount int, transacted_on date)\n",
    "Truncate table Users\n",
    "insert into Users (account, name) values ('900001', 'Alice')\n",
    "insert into Users (account, name) values ('900002', 'Bob')\n",
    "insert into Users (account, name) values ('900003', 'Charlie')\n",
    "Truncate table Transactions\n",
    "insert into Transactions (trans_id, account, amount, transacted_on) values ('1', '900001', '7000', '2020-08-01')\n",
    "insert into Transactions (trans_id, account, amount, transacted_on) values ('2', '900001', '7000', '2020-09-01')\n",
    "insert into Transactions (trans_id, account, amount, transacted_on) values ('3', '900001', '-3000', '2020-09-02')\n",
    "insert into Transactions (trans_id, account, amount, transacted_on) values ('4', '900002', '1000', '2020-09-12')\n",
    "insert into Transactions (trans_id, account, amount, transacted_on) values ('5', '900003', '6000', '2020-08-07')\n",
    "insert into Transactions (trans_id, account, amount, transacted_on) values ('6', '900003', '6000', '2020-09-07')\n",
    "insert into Transactions (trans_id, account, amount, transacted_on) values ('7', '900003', '-4000', '2020-09-11')"
   ]
  },
  {
   "cell_type": "code",
   "execution_count": 17,
   "id": "fe989467",
   "metadata": {},
   "outputs": [],
   "source": [
    "database_creator('Leetcode_Q_1587')"
   ]
  },
  {
   "cell_type": "code",
   "execution_count": 18,
   "id": "33b94da2",
   "metadata": {},
   "outputs": [],
   "source": [
    "schema = \"account int, name varchar(20)\"\n",
    "data = [ ('900001', 'Alice'),\n",
    "       ('900002', 'Bob'),\n",
    "       ('900003', 'Charlie')]\n",
    "\n",
    "insert_data_to_table(\"Leetcode_Q_1587\", \"Users\", schema, data)"
   ]
  },
  {
   "cell_type": "code",
   "execution_count": 19,
   "id": "5738d3cf",
   "metadata": {},
   "outputs": [],
   "source": [
    "schema = \"trans_id int, account int, amount int, transacted_on date\"\n",
    "data = [ ('1', '900001', '7000', '2020-08-01'),\n",
    "       ('2', '900001', '7000', '2020-09-01'),\n",
    "       ('3', '900001', '-3000', '2020-09-02'),\n",
    "       ('4', '900002', '1000', '2020-09-12'),\n",
    "       ('5', '900003', '6000', '2020-08-07'),\n",
    "       ('6', '900003', '6000', '2020-09-07'),\n",
    "       ('7', '900003', '-4000', '2020-09-11')]\n",
    "\n",
    "insert_data_to_table(\"Leetcode_Q_1587\", \"Transactions\", schema, data)"
   ]
  },
  {
   "cell_type": "code",
   "execution_count": 20,
   "id": "d1a93f5d",
   "metadata": {},
   "outputs": [],
   "source": [
    "con = connector('Leetcode_Q_1587')"
   ]
  },
  {
   "cell_type": "code",
   "execution_count": 9,
   "id": "b30112cc",
   "metadata": {},
   "outputs": [
    {
     "data": {
      "text/html": [
       "<div>\n",
       "<style scoped>\n",
       "    .dataframe tbody tr th:only-of-type {\n",
       "        vertical-align: middle;\n",
       "    }\n",
       "\n",
       "    .dataframe tbody tr th {\n",
       "        vertical-align: top;\n",
       "    }\n",
       "\n",
       "    .dataframe thead th {\n",
       "        text-align: right;\n",
       "    }\n",
       "</style>\n",
       "<table border=\"1\" class=\"dataframe\">\n",
       "  <thead>\n",
       "    <tr style=\"text-align: right;\">\n",
       "      <th></th>\n",
       "      <th>TABLE_NAME</th>\n",
       "    </tr>\n",
       "  </thead>\n",
       "  <tbody>\n",
       "    <tr>\n",
       "      <th>0</th>\n",
       "      <td>Transactions</td>\n",
       "    </tr>\n",
       "    <tr>\n",
       "      <th>1</th>\n",
       "      <td>Users</td>\n",
       "    </tr>\n",
       "  </tbody>\n",
       "</table>\n",
       "</div>"
      ],
      "text/plain": [
       "     TABLE_NAME\n",
       "0  Transactions\n",
       "1         Users"
      ]
     },
     "execution_count": 9,
     "metadata": {},
     "output_type": "execute_result"
    }
   ],
   "source": [
    "table_names('Leetcode_Q_1587')"
   ]
  },
  {
   "cell_type": "code",
   "execution_count": 10,
   "id": "2ff93b40",
   "metadata": {},
   "outputs": [
    {
     "data": {
      "text/html": [
       "<div>\n",
       "<style scoped>\n",
       "    .dataframe tbody tr th:only-of-type {\n",
       "        vertical-align: middle;\n",
       "    }\n",
       "\n",
       "    .dataframe tbody tr th {\n",
       "        vertical-align: top;\n",
       "    }\n",
       "\n",
       "    .dataframe thead th {\n",
       "        text-align: right;\n",
       "    }\n",
       "</style>\n",
       "<table border=\"1\" class=\"dataframe\">\n",
       "  <thead>\n",
       "    <tr style=\"text-align: right;\">\n",
       "      <th></th>\n",
       "      <th>account</th>\n",
       "      <th>name</th>\n",
       "    </tr>\n",
       "  </thead>\n",
       "  <tbody>\n",
       "    <tr>\n",
       "      <th>0</th>\n",
       "      <td>900001</td>\n",
       "      <td>Alice</td>\n",
       "    </tr>\n",
       "    <tr>\n",
       "      <th>1</th>\n",
       "      <td>900002</td>\n",
       "      <td>Bob</td>\n",
       "    </tr>\n",
       "    <tr>\n",
       "      <th>2</th>\n",
       "      <td>900003</td>\n",
       "      <td>Charlie</td>\n",
       "    </tr>\n",
       "  </tbody>\n",
       "</table>\n",
       "</div>"
      ],
      "text/plain": [
       "   account     name\n",
       "0   900001    Alice\n",
       "1   900002      Bob\n",
       "2   900003  Charlie"
      ]
     },
     "execution_count": 10,
     "metadata": {},
     "output_type": "execute_result"
    }
   ],
   "source": [
    "pd.read_sql(\"\"\"\n",
    "SELECT *\n",
    "FROM Users\n",
    "\"\"\", con)"
   ]
  },
  {
   "cell_type": "code",
   "execution_count": 11,
   "id": "d7f2b44f",
   "metadata": {},
   "outputs": [
    {
     "data": {
      "text/html": [
       "<div>\n",
       "<style scoped>\n",
       "    .dataframe tbody tr th:only-of-type {\n",
       "        vertical-align: middle;\n",
       "    }\n",
       "\n",
       "    .dataframe tbody tr th {\n",
       "        vertical-align: top;\n",
       "    }\n",
       "\n",
       "    .dataframe thead th {\n",
       "        text-align: right;\n",
       "    }\n",
       "</style>\n",
       "<table border=\"1\" class=\"dataframe\">\n",
       "  <thead>\n",
       "    <tr style=\"text-align: right;\">\n",
       "      <th></th>\n",
       "      <th>trans_id</th>\n",
       "      <th>account</th>\n",
       "      <th>amount</th>\n",
       "      <th>transacted_on</th>\n",
       "    </tr>\n",
       "  </thead>\n",
       "  <tbody>\n",
       "    <tr>\n",
       "      <th>0</th>\n",
       "      <td>1</td>\n",
       "      <td>900001</td>\n",
       "      <td>7000</td>\n",
       "      <td>2020-08-01</td>\n",
       "    </tr>\n",
       "    <tr>\n",
       "      <th>1</th>\n",
       "      <td>2</td>\n",
       "      <td>900001</td>\n",
       "      <td>7000</td>\n",
       "      <td>2020-09-01</td>\n",
       "    </tr>\n",
       "    <tr>\n",
       "      <th>2</th>\n",
       "      <td>3</td>\n",
       "      <td>900001</td>\n",
       "      <td>-3000</td>\n",
       "      <td>2020-09-02</td>\n",
       "    </tr>\n",
       "    <tr>\n",
       "      <th>3</th>\n",
       "      <td>4</td>\n",
       "      <td>900002</td>\n",
       "      <td>1000</td>\n",
       "      <td>2020-09-12</td>\n",
       "    </tr>\n",
       "    <tr>\n",
       "      <th>4</th>\n",
       "      <td>5</td>\n",
       "      <td>900003</td>\n",
       "      <td>6000</td>\n",
       "      <td>2020-08-07</td>\n",
       "    </tr>\n",
       "    <tr>\n",
       "      <th>5</th>\n",
       "      <td>6</td>\n",
       "      <td>900003</td>\n",
       "      <td>6000</td>\n",
       "      <td>2020-09-07</td>\n",
       "    </tr>\n",
       "    <tr>\n",
       "      <th>6</th>\n",
       "      <td>7</td>\n",
       "      <td>900003</td>\n",
       "      <td>-4000</td>\n",
       "      <td>2020-09-11</td>\n",
       "    </tr>\n",
       "  </tbody>\n",
       "</table>\n",
       "</div>"
      ],
      "text/plain": [
       "   trans_id  account  amount transacted_on\n",
       "0         1   900001    7000    2020-08-01\n",
       "1         2   900001    7000    2020-09-01\n",
       "2         3   900001   -3000    2020-09-02\n",
       "3         4   900002    1000    2020-09-12\n",
       "4         5   900003    6000    2020-08-07\n",
       "5         6   900003    6000    2020-09-07\n",
       "6         7   900003   -4000    2020-09-11"
      ]
     },
     "execution_count": 11,
     "metadata": {},
     "output_type": "execute_result"
    }
   ],
   "source": [
    "pd.read_sql(\"\"\"\n",
    "SELECT *\n",
    "FROM Transactions\n",
    "\"\"\", con)"
   ]
  },
  {
   "cell_type": "code",
   "execution_count": 16,
   "id": "e3a530b9",
   "metadata": {},
   "outputs": [
    {
     "data": {
      "text/html": [
       "<div>\n",
       "<style scoped>\n",
       "    .dataframe tbody tr th:only-of-type {\n",
       "        vertical-align: middle;\n",
       "    }\n",
       "\n",
       "    .dataframe tbody tr th {\n",
       "        vertical-align: top;\n",
       "    }\n",
       "\n",
       "    .dataframe thead th {\n",
       "        text-align: right;\n",
       "    }\n",
       "</style>\n",
       "<table border=\"1\" class=\"dataframe\">\n",
       "  <thead>\n",
       "    <tr style=\"text-align: right;\">\n",
       "      <th></th>\n",
       "      <th>name</th>\n",
       "      <th>balance</th>\n",
       "    </tr>\n",
       "  </thead>\n",
       "  <tbody>\n",
       "    <tr>\n",
       "      <th>0</th>\n",
       "      <td>Alice</td>\n",
       "      <td>11000.0</td>\n",
       "    </tr>\n",
       "  </tbody>\n",
       "</table>\n",
       "</div>"
      ],
      "text/plain": [
       "    name  balance\n",
       "0  Alice  11000.0"
      ]
     },
     "execution_count": 16,
     "metadata": {},
     "output_type": "execute_result"
    }
   ],
   "source": [
    "pd.read_sql(\"\"\"\n",
    "SELECT \n",
    "    name,\n",
    "    SUM(amount) AS balance\n",
    "\n",
    "FROM Users\n",
    "JOIN Transactions USING (account)\n",
    "GROUP BY name\n",
    "HAVING balance > 10000\n",
    "\"\"\", con)"
   ]
  },
  {
   "cell_type": "markdown",
   "id": "890e1a59",
   "metadata": {},
   "source": [
    "# Leetcode Question 1581: Customer Who Visited but Did Not Make Any Transactions"
   ]
  },
  {
   "cell_type": "code",
   "execution_count": null,
   "id": "2bea4076",
   "metadata": {},
   "outputs": [],
   "source": [
    "Create table If Not Exists Visits(visit_id int, customer_id int)\n",
    "Create table If Not Exists Transactions(transaction_id int, visit_id int, amount int)\n",
    "Truncate table Visits\n",
    "insert into Visits (visit_id, customer_id) values ('1', '23')\n",
    "insert into Visits (visit_id, customer_id) values ('2', '9')\n",
    "insert into Visits (visit_id, customer_id) values ('4', '30')\n",
    "insert into Visits (visit_id, customer_id) values ('5', '54')\n",
    "insert into Visits (visit_id, customer_id) values ('6', '96')\n",
    "insert into Visits (visit_id, customer_id) values ('7', '54')\n",
    "insert into Visits (visit_id, customer_id) values ('8', '54')\n",
    "Truncate table Transactions\n",
    "insert into Transactions (transaction_id, visit_id, amount) values ('2', '5', '310')\n",
    "insert into Transactions (transaction_id, visit_id, amount) values ('3', '5', '300')\n",
    "insert into Transactions (transaction_id, visit_id, amount) values ('9', '5', '200')\n",
    "insert into Transactions (transaction_id, visit_id, amount) values ('12', '1', '910')\n",
    "insert into Transactions (transaction_id, visit_id, amount) values ('13', '2', '970')"
   ]
  },
  {
   "cell_type": "code",
   "execution_count": 21,
   "id": "9fc7cc10",
   "metadata": {},
   "outputs": [],
   "source": [
    "database_creator('Leetcode_Q_1581')"
   ]
  },
  {
   "cell_type": "code",
   "execution_count": 22,
   "id": "9f82f97a",
   "metadata": {},
   "outputs": [],
   "source": [
    "schema = \"visit_id int, customer_id int\"\n",
    "data = [ ('1', '23'),\n",
    "       ('2', '9'),\n",
    "       ('4', '30'),\n",
    "       ('5', '54'),\n",
    "       ('6', '96'),\n",
    "       ('7', '54'),\n",
    "       ('8', '54')]\n",
    "\n",
    "insert_data_to_table(\"Leetcode_Q_1581\", \"Visits\", schema, data)"
   ]
  },
  {
   "cell_type": "code",
   "execution_count": 23,
   "id": "fd178989",
   "metadata": {},
   "outputs": [],
   "source": [
    "schema = \"transaction_id int, visit_id int, amount int\"\n",
    "data = [ ('2', '5', '310'),\n",
    "       ('3', '5', '300'),\n",
    "       ('9', '5', '200'),\n",
    "       ('12', '1', '910'),\n",
    "       ('13', '2', '970')]\n",
    "\n",
    "insert_data_to_table(\"Leetcode_Q_1581\", \"Transactions\", schema, data)"
   ]
  },
  {
   "cell_type": "code",
   "execution_count": 24,
   "id": "ae1c4f84",
   "metadata": {},
   "outputs": [
    {
     "name": "stderr",
     "output_type": "stream",
     "text": [
      "/tmp/ipykernel_4765/1508427792.py:28: UserWarning: pandas only supports SQLAlchemy connectable (engine/connection) or database string URI or sqlite3 DBAPI2 connection. Other DBAPI2 objects are not tested. Please consider using SQLAlchemy.\n",
      "  tables = pd.read_sql_query(query, con)\n"
     ]
    },
    {
     "data": {
      "text/html": [
       "<div>\n",
       "<style scoped>\n",
       "    .dataframe tbody tr th:only-of-type {\n",
       "        vertical-align: middle;\n",
       "    }\n",
       "\n",
       "    .dataframe tbody tr th {\n",
       "        vertical-align: top;\n",
       "    }\n",
       "\n",
       "    .dataframe thead th {\n",
       "        text-align: right;\n",
       "    }\n",
       "</style>\n",
       "<table border=\"1\" class=\"dataframe\">\n",
       "  <thead>\n",
       "    <tr style=\"text-align: right;\">\n",
       "      <th></th>\n",
       "      <th>TABLE_NAME</th>\n",
       "    </tr>\n",
       "  </thead>\n",
       "  <tbody>\n",
       "    <tr>\n",
       "      <th>0</th>\n",
       "      <td>Transactions</td>\n",
       "    </tr>\n",
       "    <tr>\n",
       "      <th>1</th>\n",
       "      <td>Visits</td>\n",
       "    </tr>\n",
       "  </tbody>\n",
       "</table>\n",
       "</div>"
      ],
      "text/plain": [
       "     TABLE_NAME\n",
       "0  Transactions\n",
       "1        Visits"
      ]
     },
     "execution_count": 24,
     "metadata": {},
     "output_type": "execute_result"
    }
   ],
   "source": [
    "table_names('Leetcode_Q_1581')"
   ]
  },
  {
   "cell_type": "code",
   "execution_count": 25,
   "id": "68a80af0",
   "metadata": {},
   "outputs": [],
   "source": [
    "con = connector('Leetcode_Q_1581')"
   ]
  },
  {
   "cell_type": "code",
   "execution_count": 33,
   "id": "8b6b412d",
   "metadata": {},
   "outputs": [
    {
     "data": {
      "text/html": [
       "<div>\n",
       "<style scoped>\n",
       "    .dataframe tbody tr th:only-of-type {\n",
       "        vertical-align: middle;\n",
       "    }\n",
       "\n",
       "    .dataframe tbody tr th {\n",
       "        vertical-align: top;\n",
       "    }\n",
       "\n",
       "    .dataframe thead th {\n",
       "        text-align: right;\n",
       "    }\n",
       "</style>\n",
       "<table border=\"1\" class=\"dataframe\">\n",
       "  <thead>\n",
       "    <tr style=\"text-align: right;\">\n",
       "      <th></th>\n",
       "      <th>transaction_id</th>\n",
       "      <th>visit_id</th>\n",
       "      <th>amount</th>\n",
       "    </tr>\n",
       "  </thead>\n",
       "  <tbody>\n",
       "    <tr>\n",
       "      <th>0</th>\n",
       "      <td>2</td>\n",
       "      <td>5</td>\n",
       "      <td>310</td>\n",
       "    </tr>\n",
       "    <tr>\n",
       "      <th>1</th>\n",
       "      <td>3</td>\n",
       "      <td>5</td>\n",
       "      <td>300</td>\n",
       "    </tr>\n",
       "    <tr>\n",
       "      <th>2</th>\n",
       "      <td>9</td>\n",
       "      <td>5</td>\n",
       "      <td>200</td>\n",
       "    </tr>\n",
       "    <tr>\n",
       "      <th>3</th>\n",
       "      <td>12</td>\n",
       "      <td>1</td>\n",
       "      <td>910</td>\n",
       "    </tr>\n",
       "    <tr>\n",
       "      <th>4</th>\n",
       "      <td>13</td>\n",
       "      <td>2</td>\n",
       "      <td>970</td>\n",
       "    </tr>\n",
       "  </tbody>\n",
       "</table>\n",
       "</div>"
      ],
      "text/plain": [
       "   transaction_id  visit_id  amount\n",
       "0               2         5     310\n",
       "1               3         5     300\n",
       "2               9         5     200\n",
       "3              12         1     910\n",
       "4              13         2     970"
      ]
     },
     "execution_count": 33,
     "metadata": {},
     "output_type": "execute_result"
    }
   ],
   "source": [
    "pd.read_sql(\"\"\"\n",
    "SELECT *\n",
    "FROM Transactions\"\"\", con)"
   ]
  },
  {
   "cell_type": "code",
   "execution_count": 34,
   "id": "97c7821a",
   "metadata": {},
   "outputs": [
    {
     "data": {
      "text/html": [
       "<div>\n",
       "<style scoped>\n",
       "    .dataframe tbody tr th:only-of-type {\n",
       "        vertical-align: middle;\n",
       "    }\n",
       "\n",
       "    .dataframe tbody tr th {\n",
       "        vertical-align: top;\n",
       "    }\n",
       "\n",
       "    .dataframe thead th {\n",
       "        text-align: right;\n",
       "    }\n",
       "</style>\n",
       "<table border=\"1\" class=\"dataframe\">\n",
       "  <thead>\n",
       "    <tr style=\"text-align: right;\">\n",
       "      <th></th>\n",
       "      <th>visit_id</th>\n",
       "      <th>customer_id</th>\n",
       "    </tr>\n",
       "  </thead>\n",
       "  <tbody>\n",
       "    <tr>\n",
       "      <th>0</th>\n",
       "      <td>1</td>\n",
       "      <td>23</td>\n",
       "    </tr>\n",
       "    <tr>\n",
       "      <th>1</th>\n",
       "      <td>2</td>\n",
       "      <td>9</td>\n",
       "    </tr>\n",
       "    <tr>\n",
       "      <th>2</th>\n",
       "      <td>4</td>\n",
       "      <td>30</td>\n",
       "    </tr>\n",
       "    <tr>\n",
       "      <th>3</th>\n",
       "      <td>5</td>\n",
       "      <td>54</td>\n",
       "    </tr>\n",
       "    <tr>\n",
       "      <th>4</th>\n",
       "      <td>6</td>\n",
       "      <td>96</td>\n",
       "    </tr>\n",
       "    <tr>\n",
       "      <th>5</th>\n",
       "      <td>7</td>\n",
       "      <td>54</td>\n",
       "    </tr>\n",
       "    <tr>\n",
       "      <th>6</th>\n",
       "      <td>8</td>\n",
       "      <td>54</td>\n",
       "    </tr>\n",
       "  </tbody>\n",
       "</table>\n",
       "</div>"
      ],
      "text/plain": [
       "   visit_id  customer_id\n",
       "0         1           23\n",
       "1         2            9\n",
       "2         4           30\n",
       "3         5           54\n",
       "4         6           96\n",
       "5         7           54\n",
       "6         8           54"
      ]
     },
     "execution_count": 34,
     "metadata": {},
     "output_type": "execute_result"
    }
   ],
   "source": [
    "pd.read_sql(\"\"\"\n",
    "SELECT *\n",
    "FROM Visits\"\"\", con)"
   ]
  },
  {
   "cell_type": "code",
   "execution_count": 70,
   "id": "739c12a2",
   "metadata": {
    "scrolled": true
   },
   "outputs": [
    {
     "data": {
      "text/html": [
       "<div>\n",
       "<style scoped>\n",
       "    .dataframe tbody tr th:only-of-type {\n",
       "        vertical-align: middle;\n",
       "    }\n",
       "\n",
       "    .dataframe tbody tr th {\n",
       "        vertical-align: top;\n",
       "    }\n",
       "\n",
       "    .dataframe thead th {\n",
       "        text-align: right;\n",
       "    }\n",
       "</style>\n",
       "<table border=\"1\" class=\"dataframe\">\n",
       "  <thead>\n",
       "    <tr style=\"text-align: right;\">\n",
       "      <th></th>\n",
       "      <th>customer_id</th>\n",
       "      <th>count_no_trans</th>\n",
       "    </tr>\n",
       "  </thead>\n",
       "  <tbody>\n",
       "    <tr>\n",
       "      <th>0</th>\n",
       "      <td>54</td>\n",
       "      <td>2</td>\n",
       "    </tr>\n",
       "    <tr>\n",
       "      <th>1</th>\n",
       "      <td>30</td>\n",
       "      <td>1</td>\n",
       "    </tr>\n",
       "    <tr>\n",
       "      <th>2</th>\n",
       "      <td>96</td>\n",
       "      <td>1</td>\n",
       "    </tr>\n",
       "  </tbody>\n",
       "</table>\n",
       "</div>"
      ],
      "text/plain": [
       "   customer_id  count_no_trans\n",
       "0           54               2\n",
       "1           30               1\n",
       "2           96               1"
      ]
     },
     "execution_count": 70,
     "metadata": {},
     "output_type": "execute_result"
    }
   ],
   "source": [
    "pd.read_sql(\"\"\"\n",
    "SELECT \n",
    "    customer_id,\n",
    "    COUNT(*) AS count_no_trans\n",
    "FROM Visits \n",
    "LEFT JOIN Transactions USING (visit_id)\n",
    "WHERE transaction_id IS NULL\n",
    "GROUP BY customer_id  \n",
    "ORDER BY COUNT(*) DESC\n",
    "\"\"\", con)"
   ]
  },
  {
   "cell_type": "markdown",
   "id": "6077fbe2",
   "metadata": {},
   "source": [
    "# Leetcode Question 627: Swap Salary"
   ]
  },
  {
   "cell_type": "code",
   "execution_count": null,
   "id": "14bcea73",
   "metadata": {},
   "outputs": [],
   "source": [
    "Create table If Not Exists Salary (id int, name varchar(100), sex char(1), salary int)\n",
    "Truncate table Salary\n",
    "insert into Salary (id, name, sex, salary) values ('1', 'A', 'm', '2500')\n",
    "insert into Salary (id, name, sex, salary) values ('2', 'B', 'f', '1500')\n",
    "insert into Salary (id, name, sex, salary) values ('3', 'C', 'm', '5500')\n",
    "insert into Salary (id, name, sex, salary) values ('4', 'D', 'f', '500')"
   ]
  },
  {
   "cell_type": "code",
   "execution_count": 26,
   "id": "85b2f68a",
   "metadata": {},
   "outputs": [],
   "source": [
    "database_creator('Leetcode_Q_627')"
   ]
  },
  {
   "cell_type": "code",
   "execution_count": 27,
   "id": "33aa0f57",
   "metadata": {},
   "outputs": [],
   "source": [
    "schema = \"id int, name varchar(100), sex char(1), salary int\"\n",
    "data = [('1', 'A', 'm', '2500'),\n",
    "       ('2', 'B', 'f', '1500'),\n",
    "       ('3', 'C', 'm', '5500'),\n",
    "       ('4', 'D', 'f', '500')]\n",
    "\n",
    "insert_data_to_table(\"Leetcode_Q_627\", \"Salary\", schema, data)"
   ]
  },
  {
   "cell_type": "code",
   "execution_count": 28,
   "id": "7bfae82b",
   "metadata": {},
   "outputs": [],
   "source": [
    "con = connector('Leetcode_Q_627')"
   ]
  },
  {
   "cell_type": "code",
   "execution_count": 6,
   "id": "f6eaa570",
   "metadata": {},
   "outputs": [
    {
     "data": {
      "text/html": [
       "<div>\n",
       "<style scoped>\n",
       "    .dataframe tbody tr th:only-of-type {\n",
       "        vertical-align: middle;\n",
       "    }\n",
       "\n",
       "    .dataframe tbody tr th {\n",
       "        vertical-align: top;\n",
       "    }\n",
       "\n",
       "    .dataframe thead th {\n",
       "        text-align: right;\n",
       "    }\n",
       "</style>\n",
       "<table border=\"1\" class=\"dataframe\">\n",
       "  <thead>\n",
       "    <tr style=\"text-align: right;\">\n",
       "      <th></th>\n",
       "      <th>id</th>\n",
       "      <th>name</th>\n",
       "      <th>sex</th>\n",
       "      <th>salary</th>\n",
       "    </tr>\n",
       "  </thead>\n",
       "  <tbody>\n",
       "    <tr>\n",
       "      <th>0</th>\n",
       "      <td>1</td>\n",
       "      <td>A</td>\n",
       "      <td>m</td>\n",
       "      <td>2500</td>\n",
       "    </tr>\n",
       "    <tr>\n",
       "      <th>1</th>\n",
       "      <td>2</td>\n",
       "      <td>B</td>\n",
       "      <td>f</td>\n",
       "      <td>1500</td>\n",
       "    </tr>\n",
       "    <tr>\n",
       "      <th>2</th>\n",
       "      <td>3</td>\n",
       "      <td>C</td>\n",
       "      <td>m</td>\n",
       "      <td>5500</td>\n",
       "    </tr>\n",
       "    <tr>\n",
       "      <th>3</th>\n",
       "      <td>4</td>\n",
       "      <td>D</td>\n",
       "      <td>f</td>\n",
       "      <td>500</td>\n",
       "    </tr>\n",
       "  </tbody>\n",
       "</table>\n",
       "</div>"
      ],
      "text/plain": [
       "   id name sex  salary\n",
       "0   1    A   m    2500\n",
       "1   2    B   f    1500\n",
       "2   3    C   m    5500\n",
       "3   4    D   f     500"
      ]
     },
     "execution_count": 6,
     "metadata": {},
     "output_type": "execute_result"
    }
   ],
   "source": [
    "pd.read_sql(\"\"\"\n",
    "SELECT *\n",
    "FROM Salary\n",
    "\"\"\", con)"
   ]
  },
  {
   "cell_type": "code",
   "execution_count": 7,
   "id": "54d3f76b",
   "metadata": {},
   "outputs": [],
   "source": [
    "cursor = con.cursor()\n",
    "\n",
    "cursor.execute(\"\"\"\n",
    "UPDATE Salary\n",
    "SET sex = CASE\n",
    "            WHEN sex = 'f' THEN 'm'\n",
    "            WHEN sex = 'm' THEN 'f'\n",
    "            END\n",
    "\"\"\")\n",
    "\n",
    "con.commit()"
   ]
  },
  {
   "cell_type": "code",
   "execution_count": 8,
   "id": "3dfa5d38",
   "metadata": {},
   "outputs": [
    {
     "data": {
      "text/html": [
       "<div>\n",
       "<style scoped>\n",
       "    .dataframe tbody tr th:only-of-type {\n",
       "        vertical-align: middle;\n",
       "    }\n",
       "\n",
       "    .dataframe tbody tr th {\n",
       "        vertical-align: top;\n",
       "    }\n",
       "\n",
       "    .dataframe thead th {\n",
       "        text-align: right;\n",
       "    }\n",
       "</style>\n",
       "<table border=\"1\" class=\"dataframe\">\n",
       "  <thead>\n",
       "    <tr style=\"text-align: right;\">\n",
       "      <th></th>\n",
       "      <th>id</th>\n",
       "      <th>name</th>\n",
       "      <th>sex</th>\n",
       "      <th>salary</th>\n",
       "    </tr>\n",
       "  </thead>\n",
       "  <tbody>\n",
       "    <tr>\n",
       "      <th>0</th>\n",
       "      <td>1</td>\n",
       "      <td>A</td>\n",
       "      <td>f</td>\n",
       "      <td>2500</td>\n",
       "    </tr>\n",
       "    <tr>\n",
       "      <th>1</th>\n",
       "      <td>2</td>\n",
       "      <td>B</td>\n",
       "      <td>m</td>\n",
       "      <td>1500</td>\n",
       "    </tr>\n",
       "    <tr>\n",
       "      <th>2</th>\n",
       "      <td>3</td>\n",
       "      <td>C</td>\n",
       "      <td>f</td>\n",
       "      <td>5500</td>\n",
       "    </tr>\n",
       "    <tr>\n",
       "      <th>3</th>\n",
       "      <td>4</td>\n",
       "      <td>D</td>\n",
       "      <td>m</td>\n",
       "      <td>500</td>\n",
       "    </tr>\n",
       "  </tbody>\n",
       "</table>\n",
       "</div>"
      ],
      "text/plain": [
       "   id name sex  salary\n",
       "0   1    A   f    2500\n",
       "1   2    B   m    1500\n",
       "2   3    C   f    5500\n",
       "3   4    D   m     500"
      ]
     },
     "execution_count": 8,
     "metadata": {},
     "output_type": "execute_result"
    }
   ],
   "source": [
    "pd.read_sql(\"\"\"\n",
    "SELECT *\n",
    "FROM Salary\n",
    "\"\"\", con)"
   ]
  },
  {
   "cell_type": "markdown",
   "id": "f2ae18e0",
   "metadata": {},
   "source": [
    "# Leetcode Question 1251. Average Selling Price"
   ]
  },
  {
   "cell_type": "code",
   "execution_count": null,
   "id": "6884f8ee",
   "metadata": {},
   "outputs": [],
   "source": [
    "Create table If Not Exists Prices (product_id int, start_date date, end_date date, price int)\n",
    "Create table If Not Exists UnitsSold (product_id int, purchase_date date, units int)\n",
    "Truncate table Prices\n",
    "insert into Prices (product_id, start_date, end_date, price) values ('1', '2019-02-17', '2019-02-28', '5')\n",
    "insert into Prices (product_id, start_date, end_date, price) values ('1', '2019-03-01', '2019-03-22', '20')\n",
    "insert into Prices (product_id, start_date, end_date, price) values ('2', '2019-02-01', '2019-02-20', '15')\n",
    "insert into Prices (product_id, start_date, end_date, price) values ('2', '2019-02-21', '2019-03-31', '30')\n",
    "Truncate table UnitsSold\n",
    "insert into UnitsSold (product_id, purchase_date, units) values ('1', '2019-02-25', '100')\n",
    "insert into UnitsSold (product_id, purchase_date, units) values ('1', '2019-03-01', '15')\n",
    "insert into UnitsSold (product_id, purchase_date, units) values ('2', '2019-02-10', '200')\n",
    "insert into UnitsSold (product_id, purchase_date, units) values ('2', '2019-03-22', '30')"
   ]
  },
  {
   "cell_type": "code",
   "execution_count": 30,
   "id": "f0e91c47",
   "metadata": {},
   "outputs": [],
   "source": [
    "database_creator('Leetcode_Q_1251')"
   ]
  },
  {
   "cell_type": "code",
   "execution_count": 31,
   "id": "84ad484c",
   "metadata": {},
   "outputs": [],
   "source": [
    "schema = \"product_id int, start_date date, end_date date, price int\"\n",
    "data = [ ('1', '2019-02-17', '2019-02-28', '5'),\n",
    "       ('1', '2019-03-01', '2019-03-22', '20'),\n",
    "       ('2', '2019-02-01', '2019-02-20', '15'),\n",
    "       ('2', '2019-02-21', '2019-03-31', '30')]\n",
    "\n",
    "insert_data_to_table(\"Leetcode_Q_1251\", \"Prices\", schema, data)"
   ]
  },
  {
   "cell_type": "code",
   "execution_count": 32,
   "id": "ef1d4aa7",
   "metadata": {},
   "outputs": [],
   "source": [
    "schema = \"product_id int, purchase_date date, units int\"\n",
    "data = [ ('1', '2019-02-25', '100'),\n",
    "       ('1', '2019-03-01', '15'),\n",
    "       ('2', '2019-02-10', '200'),\n",
    "       ('2', '2019-03-22', '30')]\n",
    "\n",
    "insert_data_to_table(\"Leetcode_Q_1251\", \"UnitsSold\", schema, data)"
   ]
  },
  {
   "cell_type": "code",
   "execution_count": 33,
   "id": "9647cee6",
   "metadata": {},
   "outputs": [],
   "source": [
    "con = connector('Leetcode_Q_1251')"
   ]
  },
  {
   "cell_type": "code",
   "execution_count": 6,
   "id": "49aeaaa9",
   "metadata": {},
   "outputs": [
    {
     "data": {
      "text/html": [
       "<div>\n",
       "<style scoped>\n",
       "    .dataframe tbody tr th:only-of-type {\n",
       "        vertical-align: middle;\n",
       "    }\n",
       "\n",
       "    .dataframe tbody tr th {\n",
       "        vertical-align: top;\n",
       "    }\n",
       "\n",
       "    .dataframe thead th {\n",
       "        text-align: right;\n",
       "    }\n",
       "</style>\n",
       "<table border=\"1\" class=\"dataframe\">\n",
       "  <thead>\n",
       "    <tr style=\"text-align: right;\">\n",
       "      <th></th>\n",
       "      <th>product_id</th>\n",
       "      <th>start_date</th>\n",
       "      <th>end_date</th>\n",
       "      <th>price</th>\n",
       "    </tr>\n",
       "  </thead>\n",
       "  <tbody>\n",
       "    <tr>\n",
       "      <th>0</th>\n",
       "      <td>1</td>\n",
       "      <td>2019-02-17</td>\n",
       "      <td>2019-02-28</td>\n",
       "      <td>5</td>\n",
       "    </tr>\n",
       "    <tr>\n",
       "      <th>1</th>\n",
       "      <td>1</td>\n",
       "      <td>2019-03-01</td>\n",
       "      <td>2019-03-22</td>\n",
       "      <td>20</td>\n",
       "    </tr>\n",
       "    <tr>\n",
       "      <th>2</th>\n",
       "      <td>2</td>\n",
       "      <td>2019-02-01</td>\n",
       "      <td>2019-02-20</td>\n",
       "      <td>15</td>\n",
       "    </tr>\n",
       "    <tr>\n",
       "      <th>3</th>\n",
       "      <td>2</td>\n",
       "      <td>2019-02-21</td>\n",
       "      <td>2019-03-31</td>\n",
       "      <td>30</td>\n",
       "    </tr>\n",
       "  </tbody>\n",
       "</table>\n",
       "</div>"
      ],
      "text/plain": [
       "   product_id  start_date    end_date  price\n",
       "0           1  2019-02-17  2019-02-28      5\n",
       "1           1  2019-03-01  2019-03-22     20\n",
       "2           2  2019-02-01  2019-02-20     15\n",
       "3           2  2019-02-21  2019-03-31     30"
      ]
     },
     "execution_count": 6,
     "metadata": {},
     "output_type": "execute_result"
    }
   ],
   "source": [
    "pd.read_sql(\"\"\"\n",
    "SELECT *\n",
    "FROM Prices\n",
    "\"\"\", con)"
   ]
  },
  {
   "cell_type": "code",
   "execution_count": 7,
   "id": "2ef99cac",
   "metadata": {},
   "outputs": [
    {
     "data": {
      "text/html": [
       "<div>\n",
       "<style scoped>\n",
       "    .dataframe tbody tr th:only-of-type {\n",
       "        vertical-align: middle;\n",
       "    }\n",
       "\n",
       "    .dataframe tbody tr th {\n",
       "        vertical-align: top;\n",
       "    }\n",
       "\n",
       "    .dataframe thead th {\n",
       "        text-align: right;\n",
       "    }\n",
       "</style>\n",
       "<table border=\"1\" class=\"dataframe\">\n",
       "  <thead>\n",
       "    <tr style=\"text-align: right;\">\n",
       "      <th></th>\n",
       "      <th>product_id</th>\n",
       "      <th>purchase_date</th>\n",
       "      <th>units</th>\n",
       "    </tr>\n",
       "  </thead>\n",
       "  <tbody>\n",
       "    <tr>\n",
       "      <th>0</th>\n",
       "      <td>1</td>\n",
       "      <td>2019-02-25</td>\n",
       "      <td>100</td>\n",
       "    </tr>\n",
       "    <tr>\n",
       "      <th>1</th>\n",
       "      <td>1</td>\n",
       "      <td>2019-03-01</td>\n",
       "      <td>15</td>\n",
       "    </tr>\n",
       "    <tr>\n",
       "      <th>2</th>\n",
       "      <td>2</td>\n",
       "      <td>2019-02-10</td>\n",
       "      <td>200</td>\n",
       "    </tr>\n",
       "    <tr>\n",
       "      <th>3</th>\n",
       "      <td>2</td>\n",
       "      <td>2019-03-22</td>\n",
       "      <td>30</td>\n",
       "    </tr>\n",
       "  </tbody>\n",
       "</table>\n",
       "</div>"
      ],
      "text/plain": [
       "   product_id purchase_date  units\n",
       "0           1    2019-02-25    100\n",
       "1           1    2019-03-01     15\n",
       "2           2    2019-02-10    200\n",
       "3           2    2019-03-22     30"
      ]
     },
     "execution_count": 7,
     "metadata": {},
     "output_type": "execute_result"
    }
   ],
   "source": [
    "pd.read_sql(\"\"\"\n",
    "SELECT *\n",
    "FROM UnitsSold\n",
    "\"\"\", con)"
   ]
  },
  {
   "cell_type": "code",
   "execution_count": 13,
   "id": "f8f6dad8",
   "metadata": {},
   "outputs": [
    {
     "data": {
      "text/html": [
       "<div>\n",
       "<style scoped>\n",
       "    .dataframe tbody tr th:only-of-type {\n",
       "        vertical-align: middle;\n",
       "    }\n",
       "\n",
       "    .dataframe tbody tr th {\n",
       "        vertical-align: top;\n",
       "    }\n",
       "\n",
       "    .dataframe thead th {\n",
       "        text-align: right;\n",
       "    }\n",
       "</style>\n",
       "<table border=\"1\" class=\"dataframe\">\n",
       "  <thead>\n",
       "    <tr style=\"text-align: right;\">\n",
       "      <th></th>\n",
       "      <th>product_id</th>\n",
       "      <th>start_date</th>\n",
       "      <th>end_date</th>\n",
       "      <th>price</th>\n",
       "      <th>product_id</th>\n",
       "      <th>purchase_date</th>\n",
       "      <th>units</th>\n",
       "    </tr>\n",
       "  </thead>\n",
       "  <tbody>\n",
       "    <tr>\n",
       "      <th>0</th>\n",
       "      <td>1</td>\n",
       "      <td>2019-02-17</td>\n",
       "      <td>2019-02-28</td>\n",
       "      <td>5</td>\n",
       "      <td>1</td>\n",
       "      <td>2019-02-25</td>\n",
       "      <td>100</td>\n",
       "    </tr>\n",
       "    <tr>\n",
       "      <th>1</th>\n",
       "      <td>1</td>\n",
       "      <td>2019-03-01</td>\n",
       "      <td>2019-03-22</td>\n",
       "      <td>20</td>\n",
       "      <td>1</td>\n",
       "      <td>2019-03-01</td>\n",
       "      <td>15</td>\n",
       "    </tr>\n",
       "    <tr>\n",
       "      <th>2</th>\n",
       "      <td>2</td>\n",
       "      <td>2019-02-01</td>\n",
       "      <td>2019-02-20</td>\n",
       "      <td>15</td>\n",
       "      <td>2</td>\n",
       "      <td>2019-02-10</td>\n",
       "      <td>200</td>\n",
       "    </tr>\n",
       "    <tr>\n",
       "      <th>3</th>\n",
       "      <td>2</td>\n",
       "      <td>2019-02-21</td>\n",
       "      <td>2019-03-31</td>\n",
       "      <td>30</td>\n",
       "      <td>2</td>\n",
       "      <td>2019-03-22</td>\n",
       "      <td>30</td>\n",
       "    </tr>\n",
       "  </tbody>\n",
       "</table>\n",
       "</div>"
      ],
      "text/plain": [
       "   product_id  start_date    end_date  price  product_id purchase_date  units\n",
       "0           1  2019-02-17  2019-02-28      5           1    2019-02-25    100\n",
       "1           1  2019-03-01  2019-03-22     20           1    2019-03-01     15\n",
       "2           2  2019-02-01  2019-02-20     15           2    2019-02-10    200\n",
       "3           2  2019-02-21  2019-03-31     30           2    2019-03-22     30"
      ]
     },
     "execution_count": 13,
     "metadata": {},
     "output_type": "execute_result"
    }
   ],
   "source": [
    "pd.read_sql(\"\"\"\n",
    "SELECT *\n",
    "FROM Prices p \n",
    "JOIN UnitsSold u\n",
    "    ON u.purchase_date BETWEEN p.start_date AND p.end_date AND p.product_id = u.product_id\n",
    "    \n",
    "\"\"\", con)"
   ]
  },
  {
   "cell_type": "code",
   "execution_count": 31,
   "id": "22c91a93",
   "metadata": {},
   "outputs": [
    {
     "data": {
      "text/html": [
       "<div>\n",
       "<style scoped>\n",
       "    .dataframe tbody tr th:only-of-type {\n",
       "        vertical-align: middle;\n",
       "    }\n",
       "\n",
       "    .dataframe tbody tr th {\n",
       "        vertical-align: top;\n",
       "    }\n",
       "\n",
       "    .dataframe thead th {\n",
       "        text-align: right;\n",
       "    }\n",
       "</style>\n",
       "<table border=\"1\" class=\"dataframe\">\n",
       "  <thead>\n",
       "    <tr style=\"text-align: right;\">\n",
       "      <th></th>\n",
       "      <th>product_id</th>\n",
       "      <th>average_price</th>\n",
       "    </tr>\n",
       "  </thead>\n",
       "  <tbody>\n",
       "    <tr>\n",
       "      <th>0</th>\n",
       "      <td>1</td>\n",
       "      <td>6.96</td>\n",
       "    </tr>\n",
       "    <tr>\n",
       "      <th>1</th>\n",
       "      <td>2</td>\n",
       "      <td>16.96</td>\n",
       "    </tr>\n",
       "  </tbody>\n",
       "</table>\n",
       "</div>"
      ],
      "text/plain": [
       "   product_id  average_price\n",
       "0           1           6.96\n",
       "1           2          16.96"
      ]
     },
     "execution_count": 31,
     "metadata": {},
     "output_type": "execute_result"
    }
   ],
   "source": [
    "pd.read_sql(\"\"\"\n",
    "SELECT \n",
    "    p.product_id,\n",
    "    ROUND (SUM(p.price * u.units) / SUM(units), 2) AS average_price\n",
    "FROM Prices p \n",
    "JOIN UnitsSold u\n",
    "    ON u.purchase_date BETWEEN p.start_date AND p.end_date AND p.product_id = u.product_id\n",
    "GROUP BY product_id\n",
    "\"\"\", con)"
   ]
  },
  {
   "cell_type": "markdown",
   "id": "28298cce",
   "metadata": {},
   "source": [
    "# Leetcode Question 1068: Product Sales Analysis I"
   ]
  },
  {
   "cell_type": "code",
   "execution_count": null,
   "id": "f06de450",
   "metadata": {},
   "outputs": [],
   "source": [
    "Create table If Not Exists Sales (sale_id int, product_id int, year int, quantity int, price int)\n",
    "Create table If Not Exists Product (product_id int, product_name varchar(10))\n",
    "Truncate table Sales\n",
    "insert into Sales (sale_id, product_id, year, quantity, price) values ('1', '100', '2008', '10', '5000')\n",
    "insert into Sales (sale_id, product_id, year, quantity, price) values ('2', '100', '2009', '12', '5000')\n",
    "insert into Sales (sale_id, product_id, year, quantity, price) values ('7', '200', '2011', '15', '9000')\n",
    "Truncate table Product\n",
    "insert into Product (product_id, product_name) values ('100', 'Nokia')\n",
    "insert into Product (product_id, product_name) values ('200', 'Apple')\n",
    "insert into Product (product_id, product_name) values ('300', 'Samsung')"
   ]
  },
  {
   "cell_type": "code",
   "execution_count": 34,
   "id": "a0f80a92",
   "metadata": {},
   "outputs": [],
   "source": [
    "database_creator('Leetcode_Q_1068')"
   ]
  },
  {
   "cell_type": "code",
   "execution_count": 35,
   "id": "f5993b4a",
   "metadata": {},
   "outputs": [],
   "source": [
    "schema = \"sale_id int, product_id int, year int, quantity int, price int\"\n",
    "data = [ ('1', '100', '2008', '10', '5000'),\n",
    "       ('2', '100', '2009', '12', '5000'),\n",
    "       ('7', '200', '2011', '15', '9000')]\n",
    "\n",
    "insert_data_to_table(\"Leetcode_Q_1068\", \"Sales\", schema, data)"
   ]
  },
  {
   "cell_type": "code",
   "execution_count": 36,
   "id": "0d6231dc",
   "metadata": {},
   "outputs": [],
   "source": [
    "schema = \"product_id int, product_name varchar(10)\"\n",
    "data = [('100', 'Nokia'),\n",
    "       ('200', 'Apple'),\n",
    "       ('300', 'Samsung')]\n",
    "\n",
    "insert_data_to_table(\"Leetcode_Q_1068\", \"Product\", schema, data)"
   ]
  },
  {
   "cell_type": "code",
   "execution_count": 37,
   "id": "5952a835",
   "metadata": {},
   "outputs": [],
   "source": [
    "con = connector(\"Leetcode_Q_1068\")"
   ]
  },
  {
   "cell_type": "code",
   "execution_count": 34,
   "id": "e8166eab",
   "metadata": {},
   "outputs": [
    {
     "data": {
      "text/html": [
       "<div>\n",
       "<style scoped>\n",
       "    .dataframe tbody tr th:only-of-type {\n",
       "        vertical-align: middle;\n",
       "    }\n",
       "\n",
       "    .dataframe tbody tr th {\n",
       "        vertical-align: top;\n",
       "    }\n",
       "\n",
       "    .dataframe thead th {\n",
       "        text-align: right;\n",
       "    }\n",
       "</style>\n",
       "<table border=\"1\" class=\"dataframe\">\n",
       "  <thead>\n",
       "    <tr style=\"text-align: right;\">\n",
       "      <th></th>\n",
       "      <th>sale_id</th>\n",
       "      <th>product_id</th>\n",
       "      <th>year</th>\n",
       "      <th>quantity</th>\n",
       "      <th>price</th>\n",
       "    </tr>\n",
       "  </thead>\n",
       "  <tbody>\n",
       "    <tr>\n",
       "      <th>0</th>\n",
       "      <td>1</td>\n",
       "      <td>100</td>\n",
       "      <td>2008</td>\n",
       "      <td>10</td>\n",
       "      <td>5000</td>\n",
       "    </tr>\n",
       "    <tr>\n",
       "      <th>1</th>\n",
       "      <td>2</td>\n",
       "      <td>100</td>\n",
       "      <td>2009</td>\n",
       "      <td>12</td>\n",
       "      <td>5000</td>\n",
       "    </tr>\n",
       "    <tr>\n",
       "      <th>2</th>\n",
       "      <td>7</td>\n",
       "      <td>200</td>\n",
       "      <td>2011</td>\n",
       "      <td>15</td>\n",
       "      <td>9000</td>\n",
       "    </tr>\n",
       "  </tbody>\n",
       "</table>\n",
       "</div>"
      ],
      "text/plain": [
       "   sale_id  product_id  year  quantity  price\n",
       "0        1         100  2008        10   5000\n",
       "1        2         100  2009        12   5000\n",
       "2        7         200  2011        15   9000"
      ]
     },
     "execution_count": 34,
     "metadata": {},
     "output_type": "execute_result"
    }
   ],
   "source": [
    "pd.read_sql(\"\"\"\n",
    "SELECT *\n",
    "FROM Sales\n",
    "\"\"\", con)"
   ]
  },
  {
   "cell_type": "code",
   "execution_count": 35,
   "id": "24fbec31",
   "metadata": {},
   "outputs": [
    {
     "data": {
      "text/html": [
       "<div>\n",
       "<style scoped>\n",
       "    .dataframe tbody tr th:only-of-type {\n",
       "        vertical-align: middle;\n",
       "    }\n",
       "\n",
       "    .dataframe tbody tr th {\n",
       "        vertical-align: top;\n",
       "    }\n",
       "\n",
       "    .dataframe thead th {\n",
       "        text-align: right;\n",
       "    }\n",
       "</style>\n",
       "<table border=\"1\" class=\"dataframe\">\n",
       "  <thead>\n",
       "    <tr style=\"text-align: right;\">\n",
       "      <th></th>\n",
       "      <th>product_id</th>\n",
       "      <th>product_name</th>\n",
       "    </tr>\n",
       "  </thead>\n",
       "  <tbody>\n",
       "    <tr>\n",
       "      <th>0</th>\n",
       "      <td>100</td>\n",
       "      <td>Nokia</td>\n",
       "    </tr>\n",
       "    <tr>\n",
       "      <th>1</th>\n",
       "      <td>200</td>\n",
       "      <td>Apple</td>\n",
       "    </tr>\n",
       "    <tr>\n",
       "      <th>2</th>\n",
       "      <td>300</td>\n",
       "      <td>Samsung</td>\n",
       "    </tr>\n",
       "  </tbody>\n",
       "</table>\n",
       "</div>"
      ],
      "text/plain": [
       "   product_id product_name\n",
       "0         100        Nokia\n",
       "1         200        Apple\n",
       "2         300      Samsung"
      ]
     },
     "execution_count": 35,
     "metadata": {},
     "output_type": "execute_result"
    }
   ],
   "source": [
    "pd.read_sql(\"\"\"\n",
    "SELECT *\n",
    "FROM Product\n",
    "\"\"\", con)"
   ]
  },
  {
   "cell_type": "code",
   "execution_count": 39,
   "id": "f45bcd99",
   "metadata": {},
   "outputs": [
    {
     "data": {
      "text/html": [
       "<div>\n",
       "<style scoped>\n",
       "    .dataframe tbody tr th:only-of-type {\n",
       "        vertical-align: middle;\n",
       "    }\n",
       "\n",
       "    .dataframe tbody tr th {\n",
       "        vertical-align: top;\n",
       "    }\n",
       "\n",
       "    .dataframe thead th {\n",
       "        text-align: right;\n",
       "    }\n",
       "</style>\n",
       "<table border=\"1\" class=\"dataframe\">\n",
       "  <thead>\n",
       "    <tr style=\"text-align: right;\">\n",
       "      <th></th>\n",
       "      <th>product_name</th>\n",
       "      <th>year</th>\n",
       "      <th>price</th>\n",
       "    </tr>\n",
       "  </thead>\n",
       "  <tbody>\n",
       "    <tr>\n",
       "      <th>0</th>\n",
       "      <td>Nokia</td>\n",
       "      <td>2008</td>\n",
       "      <td>5000</td>\n",
       "    </tr>\n",
       "    <tr>\n",
       "      <th>1</th>\n",
       "      <td>Nokia</td>\n",
       "      <td>2009</td>\n",
       "      <td>5000</td>\n",
       "    </tr>\n",
       "    <tr>\n",
       "      <th>2</th>\n",
       "      <td>Apple</td>\n",
       "      <td>2011</td>\n",
       "      <td>9000</td>\n",
       "    </tr>\n",
       "  </tbody>\n",
       "</table>\n",
       "</div>"
      ],
      "text/plain": [
       "  product_name  year  price\n",
       "0        Nokia  2008   5000\n",
       "1        Nokia  2009   5000\n",
       "2        Apple  2011   9000"
      ]
     },
     "execution_count": 39,
     "metadata": {},
     "output_type": "execute_result"
    }
   ],
   "source": [
    "pd.read_sql(\"\"\"\n",
    "SELECT \n",
    "    p.product_name,\n",
    "    s.year,\n",
    "    s.price\n",
    "FROM Sales s\n",
    "JOIN Product p\n",
    "    USING (product_id)\n",
    "ORDER BY s.year\n",
    "\"\"\", con)"
   ]
  },
  {
   "cell_type": "markdown",
   "id": "f9308db1",
   "metadata": {},
   "source": [
    "# Leetcode Question 1179: Reformat Department Table"
   ]
  },
  {
   "cell_type": "code",
   "execution_count": null,
   "id": "ab42437c",
   "metadata": {},
   "outputs": [],
   "source": [
    "Create table If Not Exists Department (id int, revenue int, month varchar(5))\n",
    "Truncate table Department\n",
    "insert into Department (id, revenue, month) values ('1', '8000', 'Jan')\n",
    "insert into Department (id, revenue, month) values ('2', '9000', 'Jan')\n",
    "insert into Department (id, revenue, month) values ('3', '10000', 'Feb')\n",
    "insert into Department (id, revenue, month) values ('1', '7000', 'Feb')\n",
    "insert into Department (id, revenue, month) values ('1', '6000', 'Mar')"
   ]
  },
  {
   "cell_type": "code",
   "execution_count": 38,
   "id": "698202cd",
   "metadata": {},
   "outputs": [],
   "source": [
    "database_creator('Leetcode_Q_1179')"
   ]
  },
  {
   "cell_type": "code",
   "execution_count": 39,
   "id": "acc7b2ac",
   "metadata": {},
   "outputs": [],
   "source": [
    "schema = \"id int, revenue int, month varchar(5)\"\n",
    "data = [('1', '8000', 'Jan'),\n",
    "       ('2', '9000', 'Jan'),\n",
    "       ('3', '10000', 'Feb'),\n",
    "       ('1', '7000', 'Feb'),\n",
    "       ('1', '6000', 'Mar')]\n",
    "\n",
    "insert_data_to_table(\"Leetcode_Q_1179\", \"Department\", schema, data)"
   ]
  },
  {
   "cell_type": "code",
   "execution_count": 40,
   "id": "5d5052c4",
   "metadata": {},
   "outputs": [],
   "source": [
    "con = connector('Leetcode_Q_1179')"
   ]
  },
  {
   "cell_type": "code",
   "execution_count": 42,
   "id": "c9afa193",
   "metadata": {},
   "outputs": [
    {
     "name": "stderr",
     "output_type": "stream",
     "text": [
      "/tmp/ipykernel_4765/1508427792.py:28: UserWarning: pandas only supports SQLAlchemy connectable (engine/connection) or database string URI or sqlite3 DBAPI2 connection. Other DBAPI2 objects are not tested. Please consider using SQLAlchemy.\n",
      "  tables = pd.read_sql_query(query, con)\n"
     ]
    },
    {
     "data": {
      "text/html": [
       "<div>\n",
       "<style scoped>\n",
       "    .dataframe tbody tr th:only-of-type {\n",
       "        vertical-align: middle;\n",
       "    }\n",
       "\n",
       "    .dataframe tbody tr th {\n",
       "        vertical-align: top;\n",
       "    }\n",
       "\n",
       "    .dataframe thead th {\n",
       "        text-align: right;\n",
       "    }\n",
       "</style>\n",
       "<table border=\"1\" class=\"dataframe\">\n",
       "  <thead>\n",
       "    <tr style=\"text-align: right;\">\n",
       "      <th></th>\n",
       "      <th>TABLE_NAME</th>\n",
       "    </tr>\n",
       "  </thead>\n",
       "  <tbody>\n",
       "    <tr>\n",
       "      <th>0</th>\n",
       "      <td>Department</td>\n",
       "    </tr>\n",
       "  </tbody>\n",
       "</table>\n",
       "</div>"
      ],
      "text/plain": [
       "   TABLE_NAME\n",
       "0  Department"
      ]
     },
     "execution_count": 42,
     "metadata": {},
     "output_type": "execute_result"
    }
   ],
   "source": [
    "table_names('Leetcode_Q_1179')"
   ]
  },
  {
   "cell_type": "code",
   "execution_count": 41,
   "id": "6c3e2616",
   "metadata": {},
   "outputs": [
    {
     "name": "stderr",
     "output_type": "stream",
     "text": [
      "/tmp/ipykernel_4765/424209266.py:1: UserWarning: pandas only supports SQLAlchemy connectable (engine/connection) or database string URI or sqlite3 DBAPI2 connection. Other DBAPI2 objects are not tested. Please consider using SQLAlchemy.\n",
      "  pd.read_sql(\"\"\"\n"
     ]
    },
    {
     "data": {
      "text/html": [
       "<div>\n",
       "<style scoped>\n",
       "    .dataframe tbody tr th:only-of-type {\n",
       "        vertical-align: middle;\n",
       "    }\n",
       "\n",
       "    .dataframe tbody tr th {\n",
       "        vertical-align: top;\n",
       "    }\n",
       "\n",
       "    .dataframe thead th {\n",
       "        text-align: right;\n",
       "    }\n",
       "</style>\n",
       "<table border=\"1\" class=\"dataframe\">\n",
       "  <thead>\n",
       "    <tr style=\"text-align: right;\">\n",
       "      <th></th>\n",
       "      <th>id</th>\n",
       "      <th>revenue</th>\n",
       "      <th>month</th>\n",
       "    </tr>\n",
       "  </thead>\n",
       "  <tbody>\n",
       "    <tr>\n",
       "      <th>0</th>\n",
       "      <td>1</td>\n",
       "      <td>8000</td>\n",
       "      <td>Jan</td>\n",
       "    </tr>\n",
       "    <tr>\n",
       "      <th>1</th>\n",
       "      <td>2</td>\n",
       "      <td>9000</td>\n",
       "      <td>Jan</td>\n",
       "    </tr>\n",
       "    <tr>\n",
       "      <th>2</th>\n",
       "      <td>3</td>\n",
       "      <td>10000</td>\n",
       "      <td>Feb</td>\n",
       "    </tr>\n",
       "    <tr>\n",
       "      <th>3</th>\n",
       "      <td>1</td>\n",
       "      <td>7000</td>\n",
       "      <td>Feb</td>\n",
       "    </tr>\n",
       "    <tr>\n",
       "      <th>4</th>\n",
       "      <td>1</td>\n",
       "      <td>6000</td>\n",
       "      <td>Mar</td>\n",
       "    </tr>\n",
       "  </tbody>\n",
       "</table>\n",
       "</div>"
      ],
      "text/plain": [
       "   id  revenue month\n",
       "0   1     8000   Jan\n",
       "1   2     9000   Jan\n",
       "2   3    10000   Feb\n",
       "3   1     7000   Feb\n",
       "4   1     6000   Mar"
      ]
     },
     "execution_count": 41,
     "metadata": {},
     "output_type": "execute_result"
    }
   ],
   "source": [
    "pd.read_sql(\"\"\"\n",
    "SELECT *\n",
    "FROM Department\n",
    "\"\"\", con)"
   ]
  },
  {
   "cell_type": "code",
   "execution_count": 59,
   "id": "5ed0c0cd",
   "metadata": {},
   "outputs": [
    {
     "name": "stderr",
     "output_type": "stream",
     "text": [
      "/tmp/ipykernel_4765/1103765812.py:1: UserWarning: pandas only supports SQLAlchemy connectable (engine/connection) or database string URI or sqlite3 DBAPI2 connection. Other DBAPI2 objects are not tested. Please consider using SQLAlchemy.\n",
      "  pd.read_sql(\"\"\"\n"
     ]
    },
    {
     "data": {
      "text/html": [
       "<div>\n",
       "<style scoped>\n",
       "    .dataframe tbody tr th:only-of-type {\n",
       "        vertical-align: middle;\n",
       "    }\n",
       "\n",
       "    .dataframe tbody tr th {\n",
       "        vertical-align: top;\n",
       "    }\n",
       "\n",
       "    .dataframe thead th {\n",
       "        text-align: right;\n",
       "    }\n",
       "</style>\n",
       "<table border=\"1\" class=\"dataframe\">\n",
       "  <thead>\n",
       "    <tr style=\"text-align: right;\">\n",
       "      <th></th>\n",
       "      <th>id</th>\n",
       "      <th>Jan_Revenue</th>\n",
       "      <th>Feb_Revenue</th>\n",
       "      <th>Mar_Revenue</th>\n",
       "      <th>Apr_Revenue</th>\n",
       "      <th>May_Revenue</th>\n",
       "      <th>Jun_Revenue</th>\n",
       "      <th>Jul_Revenue</th>\n",
       "      <th>Aug_Revenue</th>\n",
       "      <th>Sep_Revenue</th>\n",
       "      <th>Oct_Revenue</th>\n",
       "      <th>Nov_Revenue</th>\n",
       "      <th>Dec_Revenue</th>\n",
       "    </tr>\n",
       "  </thead>\n",
       "  <tbody>\n",
       "    <tr>\n",
       "      <th>0</th>\n",
       "      <td>1</td>\n",
       "      <td>8000.0</td>\n",
       "      <td>7000.0</td>\n",
       "      <td>6000.0</td>\n",
       "      <td>None</td>\n",
       "      <td>None</td>\n",
       "      <td>None</td>\n",
       "      <td>None</td>\n",
       "      <td>None</td>\n",
       "      <td>None</td>\n",
       "      <td>None</td>\n",
       "      <td>None</td>\n",
       "      <td>None</td>\n",
       "    </tr>\n",
       "    <tr>\n",
       "      <th>1</th>\n",
       "      <td>2</td>\n",
       "      <td>9000.0</td>\n",
       "      <td>NaN</td>\n",
       "      <td>NaN</td>\n",
       "      <td>None</td>\n",
       "      <td>None</td>\n",
       "      <td>None</td>\n",
       "      <td>None</td>\n",
       "      <td>None</td>\n",
       "      <td>None</td>\n",
       "      <td>None</td>\n",
       "      <td>None</td>\n",
       "      <td>None</td>\n",
       "    </tr>\n",
       "    <tr>\n",
       "      <th>2</th>\n",
       "      <td>3</td>\n",
       "      <td>NaN</td>\n",
       "      <td>10000.0</td>\n",
       "      <td>NaN</td>\n",
       "      <td>None</td>\n",
       "      <td>None</td>\n",
       "      <td>None</td>\n",
       "      <td>None</td>\n",
       "      <td>None</td>\n",
       "      <td>None</td>\n",
       "      <td>None</td>\n",
       "      <td>None</td>\n",
       "      <td>None</td>\n",
       "    </tr>\n",
       "  </tbody>\n",
       "</table>\n",
       "</div>"
      ],
      "text/plain": [
       "   id  Jan_Revenue  Feb_Revenue  Mar_Revenue Apr_Revenue May_Revenue  \\\n",
       "0   1       8000.0       7000.0       6000.0        None        None   \n",
       "1   2       9000.0          NaN          NaN        None        None   \n",
       "2   3          NaN      10000.0          NaN        None        None   \n",
       "\n",
       "  Jun_Revenue Jul_Revenue Aug_Revenue Sep_Revenue Oct_Revenue Nov_Revenue  \\\n",
       "0        None        None        None        None        None        None   \n",
       "1        None        None        None        None        None        None   \n",
       "2        None        None        None        None        None        None   \n",
       "\n",
       "  Dec_Revenue  \n",
       "0        None  \n",
       "1        None  \n",
       "2        None  "
      ]
     },
     "execution_count": 59,
     "metadata": {},
     "output_type": "execute_result"
    }
   ],
   "source": [
    "pd.read_sql(\"\"\"\n",
    "\n",
    "SELECT \n",
    "    id,\n",
    "    SUM(CASE WHEN month = 'Jan' THEN revenue ELSE NULL END) AS Jan_Revenue,\n",
    "    SUM(CASE WHEN month = 'Feb' THEN revenue ELSE NULL END) AS Feb_Revenue,\n",
    "    SUM(CASE WHEN month = 'Mar' THEN revenue ELSE NULL END) AS Mar_Revenue,\n",
    "    SUM(CASE WHEN month = 'Apr' THEN revenue ELSE NULL END) AS Apr_Revenue,\n",
    "    SUM(CASE WHEN month = 'May' THEN revenue ELSE NULL END) AS May_Revenue,\n",
    "    SUM(CASE WHEN month = 'Jun' THEN revenue ELSE NULL END) AS Jun_Revenue,\n",
    "    SUM(CASE WHEN month = 'Jul' THEN revenue ELSE NULL END) AS Jul_Revenue,\n",
    "    SUM(CASE WHEN month = 'Aug' THEN revenue ELSE NULL END) AS Aug_Revenue,\n",
    "    SUM(CASE WHEN month = 'Sep' THEN revenue ELSE NULL END) AS Sep_Revenue,\n",
    "    SUM(CASE WHEN month = 'Oct' THEN revenue ELSE NULL END) AS Oct_Revenue,\n",
    "    SUM(CASE WHEN month = 'Nov' THEN revenue ELSE NULL END) AS Nov_Revenue,\n",
    "    SUM(CASE WHEN month = 'Dec' THEN revenue ELSE NULL END) AS Dec_Revenue\n",
    "FROM Department\n",
    "GROUP BY id\n",
    "\"\"\", con)"
   ]
  },
  {
   "cell_type": "markdown",
   "id": "0decb435",
   "metadata": {},
   "source": [
    "# Leetcode Question 1484: Group Sold Products By The Date"
   ]
  },
  {
   "cell_type": "code",
   "execution_count": null,
   "id": "53de2ab8",
   "metadata": {},
   "outputs": [],
   "source": [
    "Create table If Not Exists Activities (sell_date date, product varchar(20))\n",
    "Truncate table Activities\n",
    "insert into Activities (sell_date, product) values ('2020-05-30', 'Headphone')\n",
    "insert into Activities (sell_date, product) values ('2020-06-01', 'Pencil')\n",
    "insert into Activities (sell_date, product) values ('2020-06-02', 'Mask')\n",
    "insert into Activities (sell_date, product) values ('2020-05-30', 'Basketball')\n",
    "insert into Activities (sell_date, product) values ('2020-06-01', 'Bible')\n",
    "insert into Activities (sell_date, product) values ('2020-06-02', 'Mask')\n",
    "insert into Activities (sell_date, product) values ('2020-05-30', 'T-Shirt')"
   ]
  },
  {
   "cell_type": "code",
   "execution_count": 60,
   "id": "bb8118af",
   "metadata": {},
   "outputs": [],
   "source": [
    "database_creator('Leetcode_Q_1484')"
   ]
  },
  {
   "cell_type": "code",
   "execution_count": 61,
   "id": "884abbe3",
   "metadata": {},
   "outputs": [],
   "source": [
    "schema = \"sell_date date, product varchar(20)\"\n",
    "data = [ ('2020-05-30', 'Headphone'),\n",
    "       ('2020-06-01', 'Pencil'),\n",
    "       ('2020-06-02', 'Mask'),\n",
    "       ('2020-05-30', 'Basketball'),\n",
    "       ('2020-06-01', 'Bible'),\n",
    "       ('2020-06-02', 'Mask'),\n",
    "       ('2020-05-30', 'T-Shirt')]\n",
    "\n",
    "insert_data_to_table(\"Leetcode_Q_1484\", \"Activities\", schema, data)"
   ]
  },
  {
   "cell_type": "code",
   "execution_count": 62,
   "id": "d824a8f5",
   "metadata": {},
   "outputs": [],
   "source": [
    "con = connector('Leetcode_Q_1484')"
   ]
  },
  {
   "cell_type": "code",
   "execution_count": 63,
   "id": "7843c9f0",
   "metadata": {},
   "outputs": [
    {
     "name": "stderr",
     "output_type": "stream",
     "text": [
      "/tmp/ipykernel_4765/4167715436.py:1: UserWarning: pandas only supports SQLAlchemy connectable (engine/connection) or database string URI or sqlite3 DBAPI2 connection. Other DBAPI2 objects are not tested. Please consider using SQLAlchemy.\n",
      "  pd.read_sql(\"\"\"\n"
     ]
    },
    {
     "data": {
      "text/html": [
       "<div>\n",
       "<style scoped>\n",
       "    .dataframe tbody tr th:only-of-type {\n",
       "        vertical-align: middle;\n",
       "    }\n",
       "\n",
       "    .dataframe tbody tr th {\n",
       "        vertical-align: top;\n",
       "    }\n",
       "\n",
       "    .dataframe thead th {\n",
       "        text-align: right;\n",
       "    }\n",
       "</style>\n",
       "<table border=\"1\" class=\"dataframe\">\n",
       "  <thead>\n",
       "    <tr style=\"text-align: right;\">\n",
       "      <th></th>\n",
       "      <th>sell_date</th>\n",
       "      <th>product</th>\n",
       "    </tr>\n",
       "  </thead>\n",
       "  <tbody>\n",
       "    <tr>\n",
       "      <th>0</th>\n",
       "      <td>2020-05-30</td>\n",
       "      <td>Headphone</td>\n",
       "    </tr>\n",
       "    <tr>\n",
       "      <th>1</th>\n",
       "      <td>2020-06-01</td>\n",
       "      <td>Pencil</td>\n",
       "    </tr>\n",
       "    <tr>\n",
       "      <th>2</th>\n",
       "      <td>2020-06-02</td>\n",
       "      <td>Mask</td>\n",
       "    </tr>\n",
       "    <tr>\n",
       "      <th>3</th>\n",
       "      <td>2020-05-30</td>\n",
       "      <td>Basketball</td>\n",
       "    </tr>\n",
       "    <tr>\n",
       "      <th>4</th>\n",
       "      <td>2020-06-01</td>\n",
       "      <td>Bible</td>\n",
       "    </tr>\n",
       "    <tr>\n",
       "      <th>5</th>\n",
       "      <td>2020-06-02</td>\n",
       "      <td>Mask</td>\n",
       "    </tr>\n",
       "    <tr>\n",
       "      <th>6</th>\n",
       "      <td>2020-05-30</td>\n",
       "      <td>T-Shirt</td>\n",
       "    </tr>\n",
       "  </tbody>\n",
       "</table>\n",
       "</div>"
      ],
      "text/plain": [
       "    sell_date     product\n",
       "0  2020-05-30   Headphone\n",
       "1  2020-06-01      Pencil\n",
       "2  2020-06-02        Mask\n",
       "3  2020-05-30  Basketball\n",
       "4  2020-06-01       Bible\n",
       "5  2020-06-02        Mask\n",
       "6  2020-05-30     T-Shirt"
      ]
     },
     "execution_count": 63,
     "metadata": {},
     "output_type": "execute_result"
    }
   ],
   "source": [
    "pd.read_sql(\"\"\"\n",
    "SELECT *\n",
    "FROM Activities\n",
    "\"\"\", con)"
   ]
  },
  {
   "cell_type": "code",
   "execution_count": 76,
   "id": "7e63d782",
   "metadata": {},
   "outputs": [
    {
     "name": "stderr",
     "output_type": "stream",
     "text": [
      "/tmp/ipykernel_4765/1548185594.py:1: UserWarning: pandas only supports SQLAlchemy connectable (engine/connection) or database string URI or sqlite3 DBAPI2 connection. Other DBAPI2 objects are not tested. Please consider using SQLAlchemy.\n",
      "  pd.read_sql(\"\"\"\n"
     ]
    },
    {
     "data": {
      "text/html": [
       "<div>\n",
       "<style scoped>\n",
       "    .dataframe tbody tr th:only-of-type {\n",
       "        vertical-align: middle;\n",
       "    }\n",
       "\n",
       "    .dataframe tbody tr th {\n",
       "        vertical-align: top;\n",
       "    }\n",
       "\n",
       "    .dataframe thead th {\n",
       "        text-align: right;\n",
       "    }\n",
       "</style>\n",
       "<table border=\"1\" class=\"dataframe\">\n",
       "  <thead>\n",
       "    <tr style=\"text-align: right;\">\n",
       "      <th></th>\n",
       "      <th>sell_date</th>\n",
       "      <th>num_sold</th>\n",
       "      <th>products</th>\n",
       "    </tr>\n",
       "  </thead>\n",
       "  <tbody>\n",
       "    <tr>\n",
       "      <th>0</th>\n",
       "      <td>2020-05-30</td>\n",
       "      <td>3</td>\n",
       "      <td>Basketball,Headphone,T-Shirt</td>\n",
       "    </tr>\n",
       "    <tr>\n",
       "      <th>1</th>\n",
       "      <td>2020-06-01</td>\n",
       "      <td>2</td>\n",
       "      <td>Bible,Pencil</td>\n",
       "    </tr>\n",
       "    <tr>\n",
       "      <th>2</th>\n",
       "      <td>2020-06-02</td>\n",
       "      <td>1</td>\n",
       "      <td>Mask</td>\n",
       "    </tr>\n",
       "  </tbody>\n",
       "</table>\n",
       "</div>"
      ],
      "text/plain": [
       "    sell_date  num_sold                      products\n",
       "0  2020-05-30         3  Basketball,Headphone,T-Shirt\n",
       "1  2020-06-01         2                  Bible,Pencil\n",
       "2  2020-06-02         1                          Mask"
      ]
     },
     "execution_count": 76,
     "metadata": {},
     "output_type": "execute_result"
    }
   ],
   "source": [
    "pd.read_sql(\"\"\"\n",
    "SELECT \n",
    "    sell_date,\n",
    "    COUNT(DISTINCT product) AS num_sold,\n",
    "    GROUP_CONCAT(DISTINCT product) AS products\n",
    "FROM Activities\n",
    "GROUP BY sell_date\n",
    "ORDER BY sell_date\n",
    "\"\"\", con)"
   ]
  },
  {
   "cell_type": "markdown",
   "id": "f0f5e768",
   "metadata": {},
   "source": [
    "# Leetcode Question 1890: The Latest Login in 2020"
   ]
  },
  {
   "cell_type": "code",
   "execution_count": null,
   "id": "4ac78817",
   "metadata": {},
   "outputs": [],
   "source": [
    "Create table If Not Exists Logins (user_id int, time_stamp datetime)\n",
    "Truncate table Logins\n",
    "insert into Logins (user_id, time_stamp) values ('6', '2020-06-30 15:06:07')\n",
    "insert into Logins (user_id, time_stamp) values ('6', '2021-04-21 14:06:06')\n",
    "insert into Logins (user_id, time_stamp) values ('6', '2019-03-07 00:18:15')\n",
    "insert into Logins (user_id, time_stamp) values ('8', '2020-02-01 05:10:53')\n",
    "insert into Logins (user_id, time_stamp) values ('8', '2020-12-30 00:46:50')\n",
    "insert into Logins (user_id, time_stamp) values ('2', '2020-01-16 02:49:50')\n",
    "insert into Logins (user_id, time_stamp) values ('2', '2019-08-25 07:59:08')\n",
    "insert into Logins (user_id, time_stamp) values ('14', '2019-07-14 09:00:00')\n",
    "insert into Logins (user_id, time_stamp) values ('14', '2021-01-06 11:59:59')"
   ]
  },
  {
   "cell_type": "code",
   "execution_count": 77,
   "id": "daed1682",
   "metadata": {},
   "outputs": [],
   "source": [
    "database_creator('Leetcode_Q_1890')"
   ]
  },
  {
   "cell_type": "code",
   "execution_count": 78,
   "id": "b8c6c27e",
   "metadata": {},
   "outputs": [],
   "source": [
    "schema = \"user_id int, time_stamp datetime\"\n",
    "data = [ ('6', '2020-06-30 15:06:07'),\n",
    "       ('6', '2021-04-21 14:06:06'),\n",
    "       ('6', '2019-03-07 00:18:15'),\n",
    "       ('8', '2020-02-01 05:10:53'),\n",
    "       ('8', '2020-12-30 00:46:50'),\n",
    "       ('2', '2020-01-16 02:49:50'),\n",
    "       ('2', '2019-08-25 07:59:08'),\n",
    "       ('14', '2019-07-14 09:00:00'),\n",
    "       ('14', '2021-01-06 11:59:59')]\n",
    "\n",
    "insert_data_to_table(\"Leetcode_Q_1890\", \"Logins\", schema, data)"
   ]
  },
  {
   "cell_type": "code",
   "execution_count": 79,
   "id": "2848a2be",
   "metadata": {},
   "outputs": [],
   "source": [
    "con = connector('Leetcode_Q_1890')"
   ]
  },
  {
   "cell_type": "code",
   "execution_count": 55,
   "id": "6d7b3615",
   "metadata": {},
   "outputs": [
    {
     "data": {
      "text/html": [
       "<div>\n",
       "<style scoped>\n",
       "    .dataframe tbody tr th:only-of-type {\n",
       "        vertical-align: middle;\n",
       "    }\n",
       "\n",
       "    .dataframe tbody tr th {\n",
       "        vertical-align: top;\n",
       "    }\n",
       "\n",
       "    .dataframe thead th {\n",
       "        text-align: right;\n",
       "    }\n",
       "</style>\n",
       "<table border=\"1\" class=\"dataframe\">\n",
       "  <thead>\n",
       "    <tr style=\"text-align: right;\">\n",
       "      <th></th>\n",
       "      <th>user_id</th>\n",
       "      <th>time_stamp</th>\n",
       "    </tr>\n",
       "  </thead>\n",
       "  <tbody>\n",
       "    <tr>\n",
       "      <th>0</th>\n",
       "      <td>6</td>\n",
       "      <td>2020-06-30 15:06:07</td>\n",
       "    </tr>\n",
       "    <tr>\n",
       "      <th>1</th>\n",
       "      <td>6</td>\n",
       "      <td>2021-04-21 14:06:06</td>\n",
       "    </tr>\n",
       "    <tr>\n",
       "      <th>2</th>\n",
       "      <td>6</td>\n",
       "      <td>2019-03-07 00:18:15</td>\n",
       "    </tr>\n",
       "    <tr>\n",
       "      <th>3</th>\n",
       "      <td>8</td>\n",
       "      <td>2020-02-01 05:10:53</td>\n",
       "    </tr>\n",
       "    <tr>\n",
       "      <th>4</th>\n",
       "      <td>8</td>\n",
       "      <td>2020-12-30 00:46:50</td>\n",
       "    </tr>\n",
       "    <tr>\n",
       "      <th>5</th>\n",
       "      <td>2</td>\n",
       "      <td>2020-01-16 02:49:50</td>\n",
       "    </tr>\n",
       "    <tr>\n",
       "      <th>6</th>\n",
       "      <td>2</td>\n",
       "      <td>2019-08-25 07:59:08</td>\n",
       "    </tr>\n",
       "    <tr>\n",
       "      <th>7</th>\n",
       "      <td>14</td>\n",
       "      <td>2019-07-14 09:00:00</td>\n",
       "    </tr>\n",
       "    <tr>\n",
       "      <th>8</th>\n",
       "      <td>14</td>\n",
       "      <td>2021-01-06 11:59:59</td>\n",
       "    </tr>\n",
       "  </tbody>\n",
       "</table>\n",
       "</div>"
      ],
      "text/plain": [
       "   user_id          time_stamp\n",
       "0        6 2020-06-30 15:06:07\n",
       "1        6 2021-04-21 14:06:06\n",
       "2        6 2019-03-07 00:18:15\n",
       "3        8 2020-02-01 05:10:53\n",
       "4        8 2020-12-30 00:46:50\n",
       "5        2 2020-01-16 02:49:50\n",
       "6        2 2019-08-25 07:59:08\n",
       "7       14 2019-07-14 09:00:00\n",
       "8       14 2021-01-06 11:59:59"
      ]
     },
     "execution_count": 55,
     "metadata": {},
     "output_type": "execute_result"
    }
   ],
   "source": [
    "pd.read_sql(\"\"\"\n",
    "SELECT *\n",
    "FROM Logins\n",
    "\"\"\", con)"
   ]
  },
  {
   "cell_type": "code",
   "execution_count": 66,
   "id": "3a19b55d",
   "metadata": {},
   "outputs": [
    {
     "data": {
      "text/html": [
       "<div>\n",
       "<style scoped>\n",
       "    .dataframe tbody tr th:only-of-type {\n",
       "        vertical-align: middle;\n",
       "    }\n",
       "\n",
       "    .dataframe tbody tr th {\n",
       "        vertical-align: top;\n",
       "    }\n",
       "\n",
       "    .dataframe thead th {\n",
       "        text-align: right;\n",
       "    }\n",
       "</style>\n",
       "<table border=\"1\" class=\"dataframe\">\n",
       "  <thead>\n",
       "    <tr style=\"text-align: right;\">\n",
       "      <th></th>\n",
       "      <th>user_id</th>\n",
       "      <th>last_stamp</th>\n",
       "    </tr>\n",
       "  </thead>\n",
       "  <tbody>\n",
       "    <tr>\n",
       "      <th>0</th>\n",
       "      <td>6</td>\n",
       "      <td>2020-06-30 15:06:07</td>\n",
       "    </tr>\n",
       "    <tr>\n",
       "      <th>1</th>\n",
       "      <td>8</td>\n",
       "      <td>2020-12-30 00:46:50</td>\n",
       "    </tr>\n",
       "    <tr>\n",
       "      <th>2</th>\n",
       "      <td>2</td>\n",
       "      <td>2020-01-16 02:49:50</td>\n",
       "    </tr>\n",
       "  </tbody>\n",
       "</table>\n",
       "</div>"
      ],
      "text/plain": [
       "   user_id          last_stamp\n",
       "0        6 2020-06-30 15:06:07\n",
       "1        8 2020-12-30 00:46:50\n",
       "2        2 2020-01-16 02:49:50"
      ]
     },
     "execution_count": 66,
     "metadata": {},
     "output_type": "execute_result"
    }
   ],
   "source": [
    "pd.read_sql(\"\"\"\n",
    "SELECT \n",
    "    user_id,\n",
    "    MAX(time_stamp) AS last_stamp\n",
    "FROM Logins\n",
    "WHERE YEAR(time_stamp) = 2020\n",
    "GROUP BY user_id\n",
    "\"\"\", con)"
   ]
  },
  {
   "cell_type": "markdown",
   "id": "9cebb187",
   "metadata": {},
   "source": [
    "# Leetcode Question 1789: Primary Department for Each Employee"
   ]
  },
  {
   "cell_type": "code",
   "execution_count": null,
   "id": "2b3aa197",
   "metadata": {},
   "outputs": [],
   "source": [
    "Create table If Not Exists Employee (employee_id int, department_id int, primary_flag ENUM('Y','N'))\n",
    "Truncate table Employee\n",
    "insert into Employee (employee_id, department_id, primary_flag) values ('1', '1', 'N')\n",
    "insert into Employee (employee_id, department_id, primary_flag) values ('2', '1', 'Y')\n",
    "insert into Employee (employee_id, department_id, primary_flag) values ('2', '2', 'N')\n",
    "insert into Employee (employee_id, department_id, primary_flag) values ('3', '3', 'N')\n",
    "insert into Employee (employee_id, department_id, primary_flag) values ('4', '2', 'N')\n",
    "insert into Employee (employee_id, department_id, primary_flag) values ('4', '3', 'Y')\n",
    "insert into Employee (employee_id, department_id, primary_flag) values ('4', '4', 'N')"
   ]
  },
  {
   "cell_type": "code",
   "execution_count": 80,
   "id": "f47752c6",
   "metadata": {},
   "outputs": [],
   "source": [
    "database_creator('Leetcode_Q_1789')"
   ]
  },
  {
   "cell_type": "code",
   "execution_count": 81,
   "id": "6aefd7b4",
   "metadata": {},
   "outputs": [],
   "source": [
    "schema = \"employee_id int, department_id int, primary_flag ENUM('Y','N')\"\n",
    "data = [ ('1', '1', 'N'),\n",
    "       ('2', '1', 'Y'),\n",
    "       ('2', '2', 'N'),\n",
    "       ('3', '3', 'N'),\n",
    "       ('4', '2', 'N'),\n",
    "       ('4', '3', 'Y'),\n",
    "       ('4', '4', 'N')]\n",
    "\n",
    "insert_data_to_table(\"Leetcode_Q_1789\", \"Employee\", schema, data)"
   ]
  },
  {
   "cell_type": "code",
   "execution_count": 82,
   "id": "1fb3f717",
   "metadata": {},
   "outputs": [],
   "source": [
    "con = connector('Leetcode_Q_1789')"
   ]
  },
  {
   "cell_type": "code",
   "execution_count": 83,
   "id": "7e63abba",
   "metadata": {},
   "outputs": [
    {
     "name": "stderr",
     "output_type": "stream",
     "text": [
      "/tmp/ipykernel_4765/3389445133.py:1: UserWarning: pandas only supports SQLAlchemy connectable (engine/connection) or database string URI or sqlite3 DBAPI2 connection. Other DBAPI2 objects are not tested. Please consider using SQLAlchemy.\n",
      "  pd.read_sql(\"\"\"\n"
     ]
    },
    {
     "data": {
      "text/html": [
       "<div>\n",
       "<style scoped>\n",
       "    .dataframe tbody tr th:only-of-type {\n",
       "        vertical-align: middle;\n",
       "    }\n",
       "\n",
       "    .dataframe tbody tr th {\n",
       "        vertical-align: top;\n",
       "    }\n",
       "\n",
       "    .dataframe thead th {\n",
       "        text-align: right;\n",
       "    }\n",
       "</style>\n",
       "<table border=\"1\" class=\"dataframe\">\n",
       "  <thead>\n",
       "    <tr style=\"text-align: right;\">\n",
       "      <th></th>\n",
       "      <th>employee_id</th>\n",
       "      <th>department_id</th>\n",
       "      <th>primary_flag</th>\n",
       "    </tr>\n",
       "  </thead>\n",
       "  <tbody>\n",
       "    <tr>\n",
       "      <th>0</th>\n",
       "      <td>1</td>\n",
       "      <td>1</td>\n",
       "      <td>N</td>\n",
       "    </tr>\n",
       "    <tr>\n",
       "      <th>1</th>\n",
       "      <td>2</td>\n",
       "      <td>1</td>\n",
       "      <td>Y</td>\n",
       "    </tr>\n",
       "    <tr>\n",
       "      <th>2</th>\n",
       "      <td>2</td>\n",
       "      <td>2</td>\n",
       "      <td>N</td>\n",
       "    </tr>\n",
       "    <tr>\n",
       "      <th>3</th>\n",
       "      <td>3</td>\n",
       "      <td>3</td>\n",
       "      <td>N</td>\n",
       "    </tr>\n",
       "    <tr>\n",
       "      <th>4</th>\n",
       "      <td>4</td>\n",
       "      <td>2</td>\n",
       "      <td>N</td>\n",
       "    </tr>\n",
       "    <tr>\n",
       "      <th>5</th>\n",
       "      <td>4</td>\n",
       "      <td>3</td>\n",
       "      <td>Y</td>\n",
       "    </tr>\n",
       "    <tr>\n",
       "      <th>6</th>\n",
       "      <td>4</td>\n",
       "      <td>4</td>\n",
       "      <td>N</td>\n",
       "    </tr>\n",
       "  </tbody>\n",
       "</table>\n",
       "</div>"
      ],
      "text/plain": [
       "   employee_id  department_id primary_flag\n",
       "0            1              1            N\n",
       "1            2              1            Y\n",
       "2            2              2            N\n",
       "3            3              3            N\n",
       "4            4              2            N\n",
       "5            4              3            Y\n",
       "6            4              4            N"
      ]
     },
     "execution_count": 83,
     "metadata": {},
     "output_type": "execute_result"
    }
   ],
   "source": [
    "pd.read_sql(\"\"\"\n",
    "SELECT *\n",
    "FROM Employee\n",
    "\"\"\", con)"
   ]
  },
  {
   "cell_type": "code",
   "execution_count": 98,
   "id": "77858146",
   "metadata": {},
   "outputs": [
    {
     "name": "stderr",
     "output_type": "stream",
     "text": [
      "/tmp/ipykernel_4765/3899898494.py:1: UserWarning: pandas only supports SQLAlchemy connectable (engine/connection) or database string URI or sqlite3 DBAPI2 connection. Other DBAPI2 objects are not tested. Please consider using SQLAlchemy.\n",
      "  pd.read_sql(\"\"\"\n"
     ]
    },
    {
     "data": {
      "text/html": [
       "<div>\n",
       "<style scoped>\n",
       "    .dataframe tbody tr th:only-of-type {\n",
       "        vertical-align: middle;\n",
       "    }\n",
       "\n",
       "    .dataframe tbody tr th {\n",
       "        vertical-align: top;\n",
       "    }\n",
       "\n",
       "    .dataframe thead th {\n",
       "        text-align: right;\n",
       "    }\n",
       "</style>\n",
       "<table border=\"1\" class=\"dataframe\">\n",
       "  <thead>\n",
       "    <tr style=\"text-align: right;\">\n",
       "      <th></th>\n",
       "      <th>employee_id</th>\n",
       "      <th>department_id</th>\n",
       "    </tr>\n",
       "  </thead>\n",
       "  <tbody>\n",
       "    <tr>\n",
       "      <th>0</th>\n",
       "      <td>1</td>\n",
       "      <td>1</td>\n",
       "    </tr>\n",
       "    <tr>\n",
       "      <th>1</th>\n",
       "      <td>2</td>\n",
       "      <td>1</td>\n",
       "    </tr>\n",
       "    <tr>\n",
       "      <th>2</th>\n",
       "      <td>3</td>\n",
       "      <td>3</td>\n",
       "    </tr>\n",
       "    <tr>\n",
       "      <th>3</th>\n",
       "      <td>4</td>\n",
       "      <td>3</td>\n",
       "    </tr>\n",
       "  </tbody>\n",
       "</table>\n",
       "</div>"
      ],
      "text/plain": [
       "   employee_id  department_id\n",
       "0            1              1\n",
       "1            2              1\n",
       "2            3              3\n",
       "3            4              3"
      ]
     },
     "execution_count": 98,
     "metadata": {},
     "output_type": "execute_result"
    }
   ],
   "source": [
    "pd.read_sql(\"\"\"\n",
    "SELECT \n",
    "    employee_id, \n",
    "    COALESCE (MAX(CASE WHEN primary_flag = 'Y' THEN department_id END), MAX(department_id))  AS department_id\n",
    "FROM Employee\n",
    "GROUP BY employee_id\n",
    "\"\"\", con)"
   ]
  },
  {
   "cell_type": "markdown",
   "id": "50a6e282",
   "metadata": {},
   "source": [
    "# Leetcode Question 1661: Average Time of Process per Machine"
   ]
  },
  {
   "cell_type": "code",
   "execution_count": null,
   "id": "7364a181",
   "metadata": {},
   "outputs": [],
   "source": [
    "Create table If Not Exists Activity (machine_id int, process_id int, activity_type ENUM('start', 'end'), timestamp float)\n",
    "Truncate table Activity\n",
    "insert into Activity (machine_id, process_id, activity_type, timestamp) values ('0', '0', 'start', '0.712')\n",
    "insert into Activity (machine_id, process_id, activity_type, timestamp) values ('0', '0', 'end', '1.52')\n",
    "insert into Activity (machine_id, process_id, activity_type, timestamp) values ('0', '1', 'start', '3.14')\n",
    "insert into Activity (machine_id, process_id, activity_type, timestamp) values ('0', '1', 'end', '4.12')\n",
    "insert into Activity (machine_id, process_id, activity_type, timestamp) values ('1', '0', 'start', '0.55')\n",
    "insert into Activity (machine_id, process_id, activity_type, timestamp) values ('1', '0', 'end', '1.55')\n",
    "insert into Activity (machine_id, process_id, activity_type, timestamp) values ('1', '1', 'start', '0.43')\n",
    "insert into Activity (machine_id, process_id, activity_type, timestamp) values ('1', '1', 'end', '1.42')\n",
    "insert into Activity (machine_id, process_id, activity_type, timestamp) values ('2', '0', 'start', '4.1')\n",
    "insert into Activity (machine_id, process_id, activity_type, timestamp) values ('2', '0', 'end', '4.512')\n",
    "insert into Activity (machine_id, process_id, activity_type, timestamp) values ('2', '1', 'start', '2.5')\n",
    "insert into Activity (machine_id, process_id, activity_type, timestamp) values ('2', '1', 'end', '5')"
   ]
  },
  {
   "cell_type": "code",
   "execution_count": 100,
   "id": "eb6e4619",
   "metadata": {},
   "outputs": [],
   "source": [
    "database_creator('Leetcode_Q_1661')"
   ]
  },
  {
   "cell_type": "code",
   "execution_count": 101,
   "id": "8f5d269b",
   "metadata": {},
   "outputs": [],
   "source": [
    "schema = \"machine_id int, process_id int, activity_type ENUM('start', 'end'), timestamp float\"\n",
    "data = [ ('0', '0', 'start', '0.712'),\n",
    "       ('0', '0', 'end', '1.52'),\n",
    "       ('0', '1', 'start', '3.14'),\n",
    "       ('0', '1', 'end', '4.12'),\n",
    "       ('1', '0', 'start', '0.55'),\n",
    "       ('1', '0', 'end', '1.55'),\n",
    "       ('1', '1', 'start', '0.43'),\n",
    "       ('1', '1', 'end', '1.42'),\n",
    "       ('2', '0', 'start', '4.1'),\n",
    "       ('2', '0', 'end', '4.512'),\n",
    "       ('2', '1', 'start', '2.5'),\n",
    "       ('2', '1', 'end', '5')]\n",
    "\n",
    "insert_data_to_table(\"Leetcode_Q_1661\", \"Activity\", schema, data)"
   ]
  },
  {
   "cell_type": "code",
   "execution_count": 102,
   "id": "64ad6aef",
   "metadata": {},
   "outputs": [],
   "source": [
    "con = connector('Leetcode_Q_1661')"
   ]
  },
  {
   "cell_type": "code",
   "execution_count": 10,
   "id": "a5b8d4fc",
   "metadata": {},
   "outputs": [
    {
     "data": {
      "text/html": [
       "<div>\n",
       "<style scoped>\n",
       "    .dataframe tbody tr th:only-of-type {\n",
       "        vertical-align: middle;\n",
       "    }\n",
       "\n",
       "    .dataframe tbody tr th {\n",
       "        vertical-align: top;\n",
       "    }\n",
       "\n",
       "    .dataframe thead th {\n",
       "        text-align: right;\n",
       "    }\n",
       "</style>\n",
       "<table border=\"1\" class=\"dataframe\">\n",
       "  <thead>\n",
       "    <tr style=\"text-align: right;\">\n",
       "      <th></th>\n",
       "      <th>machine_id</th>\n",
       "      <th>process_id</th>\n",
       "      <th>activity_type</th>\n",
       "      <th>timestamp</th>\n",
       "    </tr>\n",
       "  </thead>\n",
       "  <tbody>\n",
       "    <tr>\n",
       "      <th>0</th>\n",
       "      <td>0</td>\n",
       "      <td>0</td>\n",
       "      <td>start</td>\n",
       "      <td>0.712</td>\n",
       "    </tr>\n",
       "    <tr>\n",
       "      <th>1</th>\n",
       "      <td>0</td>\n",
       "      <td>0</td>\n",
       "      <td>end</td>\n",
       "      <td>1.520</td>\n",
       "    </tr>\n",
       "    <tr>\n",
       "      <th>2</th>\n",
       "      <td>0</td>\n",
       "      <td>1</td>\n",
       "      <td>start</td>\n",
       "      <td>3.140</td>\n",
       "    </tr>\n",
       "    <tr>\n",
       "      <th>3</th>\n",
       "      <td>0</td>\n",
       "      <td>1</td>\n",
       "      <td>end</td>\n",
       "      <td>4.120</td>\n",
       "    </tr>\n",
       "    <tr>\n",
       "      <th>4</th>\n",
       "      <td>1</td>\n",
       "      <td>0</td>\n",
       "      <td>start</td>\n",
       "      <td>0.550</td>\n",
       "    </tr>\n",
       "    <tr>\n",
       "      <th>5</th>\n",
       "      <td>1</td>\n",
       "      <td>0</td>\n",
       "      <td>end</td>\n",
       "      <td>1.550</td>\n",
       "    </tr>\n",
       "    <tr>\n",
       "      <th>6</th>\n",
       "      <td>1</td>\n",
       "      <td>1</td>\n",
       "      <td>start</td>\n",
       "      <td>0.430</td>\n",
       "    </tr>\n",
       "    <tr>\n",
       "      <th>7</th>\n",
       "      <td>1</td>\n",
       "      <td>1</td>\n",
       "      <td>end</td>\n",
       "      <td>1.420</td>\n",
       "    </tr>\n",
       "    <tr>\n",
       "      <th>8</th>\n",
       "      <td>2</td>\n",
       "      <td>0</td>\n",
       "      <td>start</td>\n",
       "      <td>4.100</td>\n",
       "    </tr>\n",
       "    <tr>\n",
       "      <th>9</th>\n",
       "      <td>2</td>\n",
       "      <td>0</td>\n",
       "      <td>end</td>\n",
       "      <td>4.512</td>\n",
       "    </tr>\n",
       "    <tr>\n",
       "      <th>10</th>\n",
       "      <td>2</td>\n",
       "      <td>1</td>\n",
       "      <td>start</td>\n",
       "      <td>2.500</td>\n",
       "    </tr>\n",
       "    <tr>\n",
       "      <th>11</th>\n",
       "      <td>2</td>\n",
       "      <td>1</td>\n",
       "      <td>end</td>\n",
       "      <td>5.000</td>\n",
       "    </tr>\n",
       "  </tbody>\n",
       "</table>\n",
       "</div>"
      ],
      "text/plain": [
       "    machine_id  process_id activity_type  timestamp\n",
       "0            0           0         start      0.712\n",
       "1            0           0           end      1.520\n",
       "2            0           1         start      3.140\n",
       "3            0           1           end      4.120\n",
       "4            1           0         start      0.550\n",
       "5            1           0           end      1.550\n",
       "6            1           1         start      0.430\n",
       "7            1           1           end      1.420\n",
       "8            2           0         start      4.100\n",
       "9            2           0           end      4.512\n",
       "10           2           1         start      2.500\n",
       "11           2           1           end      5.000"
      ]
     },
     "execution_count": 10,
     "metadata": {},
     "output_type": "execute_result"
    }
   ],
   "source": [
    "pd.read_sql(\"\"\"\n",
    "SELECT *\n",
    "FROM Activity\n",
    "\"\"\", con)"
   ]
  },
  {
   "cell_type": "code",
   "execution_count": 37,
   "id": "1585f9e7",
   "metadata": {
    "scrolled": false
   },
   "outputs": [
    {
     "data": {
      "text/html": [
       "<div>\n",
       "<style scoped>\n",
       "    .dataframe tbody tr th:only-of-type {\n",
       "        vertical-align: middle;\n",
       "    }\n",
       "\n",
       "    .dataframe tbody tr th {\n",
       "        vertical-align: top;\n",
       "    }\n",
       "\n",
       "    .dataframe thead th {\n",
       "        text-align: right;\n",
       "    }\n",
       "</style>\n",
       "<table border=\"1\" class=\"dataframe\">\n",
       "  <thead>\n",
       "    <tr style=\"text-align: right;\">\n",
       "      <th></th>\n",
       "      <th>machine_id</th>\n",
       "      <th>processing_time</th>\n",
       "    </tr>\n",
       "  </thead>\n",
       "  <tbody>\n",
       "    <tr>\n",
       "      <th>0</th>\n",
       "      <td>0</td>\n",
       "      <td>0.894</td>\n",
       "    </tr>\n",
       "    <tr>\n",
       "      <th>1</th>\n",
       "      <td>1</td>\n",
       "      <td>0.995</td>\n",
       "    </tr>\n",
       "    <tr>\n",
       "      <th>2</th>\n",
       "      <td>2</td>\n",
       "      <td>1.456</td>\n",
       "    </tr>\n",
       "  </tbody>\n",
       "</table>\n",
       "</div>"
      ],
      "text/plain": [
       "   machine_id  processing_time\n",
       "0           0            0.894\n",
       "1           1            0.995\n",
       "2           2            1.456"
      ]
     },
     "execution_count": 37,
     "metadata": {},
     "output_type": "execute_result"
    }
   ],
   "source": [
    "pd.read_sql(\"\"\"\n",
    "SELECT \n",
    "    a.machine_id, ROUND(AVG(b.timestamp - a.timestamp), 3) AS processing_time\n",
    "FROM Activity a\n",
    "JOIN Activity b\n",
    "    ON a.machine_id = b.machine_id AND\n",
    "       a.process_id = b.process_id\n",
    "WHERE a.activity_type = 'start' AND b.activity_type = 'end'\n",
    "GROUP BY machine_id\n",
    "\"\"\", con)"
   ]
  },
  {
   "cell_type": "markdown",
   "id": "dd729362",
   "metadata": {},
   "source": [
    "# Leetcode Question 1148: Article Views I"
   ]
  },
  {
   "cell_type": "code",
   "execution_count": null,
   "id": "82af3b9f",
   "metadata": {},
   "outputs": [],
   "source": [
    "Create table If Not Exists Views (article_id int, author_id int, viewer_id int, view_date date)\n",
    "Truncate table Views\n",
    "insert into Views (article_id, author_id, viewer_id, view_date) values ('1', '3', '5', '2019-08-01')\n",
    "insert into Views (article_id, author_id, viewer_id, view_date) values ('1', '3', '6', '2019-08-02')\n",
    "insert into Views (article_id, author_id, viewer_id, view_date) values ('2', '7', '7', '2019-08-01')\n",
    "insert into Views (article_id, author_id, viewer_id, view_date) values ('2', '7', '6', '2019-08-02')\n",
    "insert into Views (article_id, author_id, viewer_id, view_date) values ('4', '7', '1', '2019-07-22')\n",
    "insert into Views (article_id, author_id, viewer_id, view_date) values ('3', '4', '4', '2019-07-21')\n",
    "insert into Views (article_id, author_id, viewer_id, view_date) values ('3', '4', '4', '2019-07-21')"
   ]
  },
  {
   "cell_type": "code",
   "execution_count": 118,
   "id": "8834f0e7",
   "metadata": {},
   "outputs": [],
   "source": [
    "database_creator('Leetcode_Q_1148')"
   ]
  },
  {
   "cell_type": "code",
   "execution_count": 119,
   "id": "98704081",
   "metadata": {},
   "outputs": [],
   "source": [
    "schema = \"article_id int, author_id int, viewer_id int, view_date date\"\n",
    "data = [('1', '3', '5', '2019-08-01'),\n",
    "       ('1', '3', '6', '2019-08-02'),\n",
    "       ('2', '7', '7', '2019-08-01'),\n",
    "       ('2', '7', '6', '2019-08-02'),\n",
    "       ('4', '7', '1', '2019-07-22'),\n",
    "       ('3', '4', '4', '2019-07-21'),\n",
    "       ('3', '4', '4', '2019-07-21')]\n",
    "\n",
    "insert_data_to_table(\"Leetcode_Q_1148\", \"Views\", schema, data)"
   ]
  },
  {
   "cell_type": "code",
   "execution_count": 120,
   "id": "8bdd2d63",
   "metadata": {},
   "outputs": [],
   "source": [
    "con = connector('Leetcode_Q_1148')"
   ]
  },
  {
   "cell_type": "code",
   "execution_count": 121,
   "id": "01374c10",
   "metadata": {},
   "outputs": [
    {
     "name": "stderr",
     "output_type": "stream",
     "text": [
      "/tmp/ipykernel_4765/2494680256.py:1: UserWarning: pandas only supports SQLAlchemy connectable (engine/connection) or database string URI or sqlite3 DBAPI2 connection. Other DBAPI2 objects are not tested. Please consider using SQLAlchemy.\n",
      "  pd.read_sql(\"\"\"\n"
     ]
    },
    {
     "data": {
      "text/html": [
       "<div>\n",
       "<style scoped>\n",
       "    .dataframe tbody tr th:only-of-type {\n",
       "        vertical-align: middle;\n",
       "    }\n",
       "\n",
       "    .dataframe tbody tr th {\n",
       "        vertical-align: top;\n",
       "    }\n",
       "\n",
       "    .dataframe thead th {\n",
       "        text-align: right;\n",
       "    }\n",
       "</style>\n",
       "<table border=\"1\" class=\"dataframe\">\n",
       "  <thead>\n",
       "    <tr style=\"text-align: right;\">\n",
       "      <th></th>\n",
       "      <th>article_id</th>\n",
       "      <th>author_id</th>\n",
       "      <th>viewer_id</th>\n",
       "      <th>view_date</th>\n",
       "    </tr>\n",
       "  </thead>\n",
       "  <tbody>\n",
       "    <tr>\n",
       "      <th>0</th>\n",
       "      <td>1</td>\n",
       "      <td>3</td>\n",
       "      <td>5</td>\n",
       "      <td>2019-08-01</td>\n",
       "    </tr>\n",
       "    <tr>\n",
       "      <th>1</th>\n",
       "      <td>1</td>\n",
       "      <td>3</td>\n",
       "      <td>6</td>\n",
       "      <td>2019-08-02</td>\n",
       "    </tr>\n",
       "    <tr>\n",
       "      <th>2</th>\n",
       "      <td>2</td>\n",
       "      <td>7</td>\n",
       "      <td>7</td>\n",
       "      <td>2019-08-01</td>\n",
       "    </tr>\n",
       "    <tr>\n",
       "      <th>3</th>\n",
       "      <td>2</td>\n",
       "      <td>7</td>\n",
       "      <td>6</td>\n",
       "      <td>2019-08-02</td>\n",
       "    </tr>\n",
       "    <tr>\n",
       "      <th>4</th>\n",
       "      <td>4</td>\n",
       "      <td>7</td>\n",
       "      <td>1</td>\n",
       "      <td>2019-07-22</td>\n",
       "    </tr>\n",
       "    <tr>\n",
       "      <th>5</th>\n",
       "      <td>3</td>\n",
       "      <td>4</td>\n",
       "      <td>4</td>\n",
       "      <td>2019-07-21</td>\n",
       "    </tr>\n",
       "    <tr>\n",
       "      <th>6</th>\n",
       "      <td>3</td>\n",
       "      <td>4</td>\n",
       "      <td>4</td>\n",
       "      <td>2019-07-21</td>\n",
       "    </tr>\n",
       "  </tbody>\n",
       "</table>\n",
       "</div>"
      ],
      "text/plain": [
       "   article_id  author_id  viewer_id   view_date\n",
       "0           1          3          5  2019-08-01\n",
       "1           1          3          6  2019-08-02\n",
       "2           2          7          7  2019-08-01\n",
       "3           2          7          6  2019-08-02\n",
       "4           4          7          1  2019-07-22\n",
       "5           3          4          4  2019-07-21\n",
       "6           3          4          4  2019-07-21"
      ]
     },
     "execution_count": 121,
     "metadata": {},
     "output_type": "execute_result"
    }
   ],
   "source": [
    "pd.read_sql(\"\"\"\n",
    "SELECT *\n",
    "FROM Views\n",
    "\"\"\", con)"
   ]
  },
  {
   "cell_type": "code",
   "execution_count": 55,
   "id": "fbbb64cf",
   "metadata": {
    "scrolled": true
   },
   "outputs": [
    {
     "data": {
      "text/html": [
       "<div>\n",
       "<style scoped>\n",
       "    .dataframe tbody tr th:only-of-type {\n",
       "        vertical-align: middle;\n",
       "    }\n",
       "\n",
       "    .dataframe tbody tr th {\n",
       "        vertical-align: top;\n",
       "    }\n",
       "\n",
       "    .dataframe thead th {\n",
       "        text-align: right;\n",
       "    }\n",
       "</style>\n",
       "<table border=\"1\" class=\"dataframe\">\n",
       "  <thead>\n",
       "    <tr style=\"text-align: right;\">\n",
       "      <th></th>\n",
       "      <th>id</th>\n",
       "    </tr>\n",
       "  </thead>\n",
       "  <tbody>\n",
       "    <tr>\n",
       "      <th>0</th>\n",
       "      <td>4</td>\n",
       "    </tr>\n",
       "    <tr>\n",
       "      <th>1</th>\n",
       "      <td>7</td>\n",
       "    </tr>\n",
       "  </tbody>\n",
       "</table>\n",
       "</div>"
      ],
      "text/plain": [
       "   id\n",
       "0   4\n",
       "1   7"
      ]
     },
     "execution_count": 55,
     "metadata": {},
     "output_type": "execute_result"
    }
   ],
   "source": [
    "pd.read_sql(\"\"\"\n",
    "SELECT DISTINCT author_id AS id\n",
    "FROM Views \n",
    "WHERE author_id = viewer_id\n",
    "ORDER BY author_id\n",
    "\"\"\", con)"
   ]
  },
  {
   "cell_type": "markdown",
   "id": "872d2662",
   "metadata": {},
   "source": [
    "# Leetcode Question 511: Game Play Analysis I"
   ]
  },
  {
   "cell_type": "code",
   "execution_count": null,
   "id": "95bef415",
   "metadata": {},
   "outputs": [],
   "source": [
    "Create table If Not Exists Activity (player_id int, device_id int, event_date date, games_played int)\n",
    "Truncate table Activity\n",
    "insert into Activity (player_id, device_id, event_date, games_played) values ('1', '2', '2016-03-01', '5')\n",
    "insert into Activity (player_id, device_id, event_date, games_played) values ('1', '2', '2016-05-02', '6')\n",
    "insert into Activity (player_id, device_id, event_date, games_played) values ('2', '3', '2017-06-25', '1')\n",
    "insert into Activity (player_id, device_id, event_date, games_played) values ('3', '1', '2016-03-02', '0')\n",
    "insert into Activity (player_id, device_id, event_date, games_played) values ('3', '4', '2018-07-03', '5')"
   ]
  },
  {
   "cell_type": "code",
   "execution_count": 132,
   "id": "9ea96683",
   "metadata": {},
   "outputs": [],
   "source": [
    "database_creator('Leetcode_Q_511')"
   ]
  },
  {
   "cell_type": "code",
   "execution_count": 133,
   "id": "cc08eb21",
   "metadata": {},
   "outputs": [],
   "source": [
    "schema = \"player_id int, device_id int, event_date date, games_played int\"\n",
    "data = [('1', '2', '2016-03-01', '5'),\n",
    "       ('1', '2', '2016-05-02', '6'),\n",
    "       ('2', '3', '2017-06-25', '1'),\n",
    "       ('3', '1', '2016-03-02', '0'),\n",
    "       ('3', '4', '2018-07-03', '5')]\n",
    "\n",
    "insert_data_to_table(\"Leetcode_Q_511\", \"Activity\", schema, data)"
   ]
  },
  {
   "cell_type": "code",
   "execution_count": 134,
   "id": "762e26a4",
   "metadata": {},
   "outputs": [],
   "source": [
    "con = connector('Leetcode_Q_511')"
   ]
  },
  {
   "cell_type": "code",
   "execution_count": 135,
   "id": "aad047db",
   "metadata": {},
   "outputs": [
    {
     "name": "stderr",
     "output_type": "stream",
     "text": [
      "/tmp/ipykernel_4765/987028561.py:1: UserWarning: pandas only supports SQLAlchemy connectable (engine/connection) or database string URI or sqlite3 DBAPI2 connection. Other DBAPI2 objects are not tested. Please consider using SQLAlchemy.\n",
      "  pd.read_sql(\"\"\"\n"
     ]
    },
    {
     "data": {
      "text/html": [
       "<div>\n",
       "<style scoped>\n",
       "    .dataframe tbody tr th:only-of-type {\n",
       "        vertical-align: middle;\n",
       "    }\n",
       "\n",
       "    .dataframe tbody tr th {\n",
       "        vertical-align: top;\n",
       "    }\n",
       "\n",
       "    .dataframe thead th {\n",
       "        text-align: right;\n",
       "    }\n",
       "</style>\n",
       "<table border=\"1\" class=\"dataframe\">\n",
       "  <thead>\n",
       "    <tr style=\"text-align: right;\">\n",
       "      <th></th>\n",
       "      <th>player_id</th>\n",
       "      <th>device_id</th>\n",
       "      <th>event_date</th>\n",
       "      <th>games_played</th>\n",
       "    </tr>\n",
       "  </thead>\n",
       "  <tbody>\n",
       "    <tr>\n",
       "      <th>0</th>\n",
       "      <td>1</td>\n",
       "      <td>2</td>\n",
       "      <td>2016-03-01</td>\n",
       "      <td>5</td>\n",
       "    </tr>\n",
       "    <tr>\n",
       "      <th>1</th>\n",
       "      <td>1</td>\n",
       "      <td>2</td>\n",
       "      <td>2016-05-02</td>\n",
       "      <td>6</td>\n",
       "    </tr>\n",
       "    <tr>\n",
       "      <th>2</th>\n",
       "      <td>2</td>\n",
       "      <td>3</td>\n",
       "      <td>2017-06-25</td>\n",
       "      <td>1</td>\n",
       "    </tr>\n",
       "    <tr>\n",
       "      <th>3</th>\n",
       "      <td>3</td>\n",
       "      <td>1</td>\n",
       "      <td>2016-03-02</td>\n",
       "      <td>0</td>\n",
       "    </tr>\n",
       "    <tr>\n",
       "      <th>4</th>\n",
       "      <td>3</td>\n",
       "      <td>4</td>\n",
       "      <td>2018-07-03</td>\n",
       "      <td>5</td>\n",
       "    </tr>\n",
       "  </tbody>\n",
       "</table>\n",
       "</div>"
      ],
      "text/plain": [
       "   player_id  device_id  event_date  games_played\n",
       "0          1          2  2016-03-01             5\n",
       "1          1          2  2016-05-02             6\n",
       "2          2          3  2017-06-25             1\n",
       "3          3          1  2016-03-02             0\n",
       "4          3          4  2018-07-03             5"
      ]
     },
     "execution_count": 135,
     "metadata": {},
     "output_type": "execute_result"
    }
   ],
   "source": [
    "pd.read_sql(\"\"\"\n",
    "SELECT *\n",
    "FROM Activity\n",
    "\"\"\", con)"
   ]
  },
  {
   "cell_type": "code",
   "execution_count": 61,
   "id": "5062edc0",
   "metadata": {},
   "outputs": [
    {
     "data": {
      "text/html": [
       "<div>\n",
       "<style scoped>\n",
       "    .dataframe tbody tr th:only-of-type {\n",
       "        vertical-align: middle;\n",
       "    }\n",
       "\n",
       "    .dataframe tbody tr th {\n",
       "        vertical-align: top;\n",
       "    }\n",
       "\n",
       "    .dataframe thead th {\n",
       "        text-align: right;\n",
       "    }\n",
       "</style>\n",
       "<table border=\"1\" class=\"dataframe\">\n",
       "  <thead>\n",
       "    <tr style=\"text-align: right;\">\n",
       "      <th></th>\n",
       "      <th>player_id</th>\n",
       "      <th>first_login</th>\n",
       "    </tr>\n",
       "  </thead>\n",
       "  <tbody>\n",
       "    <tr>\n",
       "      <th>0</th>\n",
       "      <td>1</td>\n",
       "      <td>2016-03-01</td>\n",
       "    </tr>\n",
       "    <tr>\n",
       "      <th>1</th>\n",
       "      <td>2</td>\n",
       "      <td>2017-06-25</td>\n",
       "    </tr>\n",
       "    <tr>\n",
       "      <th>2</th>\n",
       "      <td>3</td>\n",
       "      <td>2016-03-02</td>\n",
       "    </tr>\n",
       "  </tbody>\n",
       "</table>\n",
       "</div>"
      ],
      "text/plain": [
       "   player_id first_login\n",
       "0          1  2016-03-01\n",
       "1          2  2017-06-25\n",
       "2          3  2016-03-02"
      ]
     },
     "execution_count": 61,
     "metadata": {},
     "output_type": "execute_result"
    }
   ],
   "source": [
    "pd.read_sql(\"\"\"\n",
    "SELECT player_id, MIN(event_date) AS first_login\n",
    "FROM Activity\n",
    "GROUP BY player_id\n",
    "\"\"\", con)"
   ]
  },
  {
   "cell_type": "markdown",
   "id": "54727473",
   "metadata": {},
   "source": [
    "# Leetcode Question 1327: List the Products Ordered in a Period"
   ]
  },
  {
   "cell_type": "code",
   "execution_count": null,
   "id": "c51caea8",
   "metadata": {},
   "outputs": [],
   "source": [
    "Create table If Not Exists Products (product_id int, product_name varchar(40), product_category varchar(40))\n",
    "Create table If Not Exists Orders (product_id int, order_date date, unit int)\n",
    "Truncate table Products\n",
    "insert into Products (product_id, product_name, product_category) values ('1', 'Leetcode Solutions', 'Book')\n",
    "insert into Products (product_id, product_name, product_category) values ('2', 'Jewels of Stringology', 'Book')\n",
    "insert into Products (product_id, product_name, product_category) values ('3', 'HP', 'Laptop')\n",
    "insert into Products (product_id, product_name, product_category) values ('4', 'Lenovo', 'Laptop')\n",
    "insert into Products (product_id, product_name, product_category) values ('5', 'Leetcode Kit', 'T-shirt')\n",
    "Truncate table Orders\n",
    "insert into Orders (product_id, order_date, unit) values ('1', '2020-02-05', '60')\n",
    "insert into Orders (product_id, order_date, unit) values ('1', '2020-02-10', '70')\n",
    "insert into Orders (product_id, order_date, unit) values ('2', '2020-01-18', '30')\n",
    "insert into Orders (product_id, order_date, unit) values ('2', '2020-02-11', '80')\n",
    "insert into Orders (product_id, order_date, unit) values ('3', '2020-02-17', '2')\n",
    "insert into Orders (product_id, order_date, unit) values ('3', '2020-02-24', '3')\n",
    "insert into Orders (product_id, order_date, unit) values ('4', '2020-03-01', '20')\n",
    "insert into Orders (product_id, order_date, unit) values ('4', '2020-03-04', '30')\n",
    "insert into Orders (product_id, order_date, unit) values ('4', '2020-03-04', '60')\n",
    "insert into Orders (product_id, order_date, unit) values ('5', '2020-02-25', '50')\n",
    "insert into Orders (product_id, order_date, unit) values ('5', '2020-02-27', '50')\n",
    "insert into Orders (product_id, order_date, unit) values ('5', '2020-03-01', '50')"
   ]
  },
  {
   "cell_type": "code",
   "execution_count": 136,
   "id": "8331c1c6",
   "metadata": {},
   "outputs": [],
   "source": [
    "database_creator('Leetcode_Q_1327')"
   ]
  },
  {
   "cell_type": "code",
   "execution_count": 137,
   "id": "7046b3ff",
   "metadata": {},
   "outputs": [],
   "source": [
    "schema = \"product_id int, product_name varchar(40), product_category varchar(40)\"\n",
    "data = [ ('1', 'Leetcode Solutions', 'Book'),\n",
    "        ('2', 'Jewels of Stringology', 'Book'),\n",
    "        ('3', 'HP', 'Laptop'),\n",
    "        ('4', 'Lenovo', 'Laptop'),\n",
    "        ('5', 'Leetcode Kit', 'T-shirt')]\n",
    "\n",
    "insert_data_to_table(\"Leetcode_Q_1327\", \"Products\", schema, data)"
   ]
  },
  {
   "cell_type": "code",
   "execution_count": 138,
   "id": "de1c40df",
   "metadata": {},
   "outputs": [],
   "source": [
    "schema = \"product_id int, order_date date, unit int\"\n",
    "data = [ ('1', '2020-02-05', '60'),\n",
    "       ('1', '2020-02-10', '70'),\n",
    "       ('2', '2020-01-18', '30'),\n",
    "       ('2', '2020-02-11', '80'),\n",
    "       ('3', '2020-02-17', '2'),\n",
    "       ('3', '2020-02-24', '3'),\n",
    "       ('4', '2020-03-01', '20'),\n",
    "       ('4', '2020-03-04', '30'),\n",
    "       ('4', '2020-03-04', '60'),\n",
    "       ('5', '2020-02-25', '50'),\n",
    "       ('5', '2020-02-27', '50'),\n",
    "       ('5', '2020-03-01', '50')]\n",
    "\n",
    "insert_data_to_table(\"Leetcode_Q_1327\", \"Orders\", schema, data)"
   ]
  },
  {
   "cell_type": "code",
   "execution_count": 139,
   "id": "a56c4ddd",
   "metadata": {},
   "outputs": [],
   "source": [
    "con = connector('Leetcode_Q_1327')"
   ]
  },
  {
   "cell_type": "code",
   "execution_count": 140,
   "id": "935afc8f",
   "metadata": {},
   "outputs": [
    {
     "name": "stderr",
     "output_type": "stream",
     "text": [
      "/tmp/ipykernel_4765/926345996.py:1: UserWarning: pandas only supports SQLAlchemy connectable (engine/connection) or database string URI or sqlite3 DBAPI2 connection. Other DBAPI2 objects are not tested. Please consider using SQLAlchemy.\n",
      "  pd.read_sql(\"\"\"\n"
     ]
    },
    {
     "data": {
      "text/html": [
       "<div>\n",
       "<style scoped>\n",
       "    .dataframe tbody tr th:only-of-type {\n",
       "        vertical-align: middle;\n",
       "    }\n",
       "\n",
       "    .dataframe tbody tr th {\n",
       "        vertical-align: top;\n",
       "    }\n",
       "\n",
       "    .dataframe thead th {\n",
       "        text-align: right;\n",
       "    }\n",
       "</style>\n",
       "<table border=\"1\" class=\"dataframe\">\n",
       "  <thead>\n",
       "    <tr style=\"text-align: right;\">\n",
       "      <th></th>\n",
       "      <th>product_id</th>\n",
       "      <th>product_name</th>\n",
       "      <th>product_category</th>\n",
       "    </tr>\n",
       "  </thead>\n",
       "  <tbody>\n",
       "    <tr>\n",
       "      <th>0</th>\n",
       "      <td>1</td>\n",
       "      <td>Leetcode Solutions</td>\n",
       "      <td>Book</td>\n",
       "    </tr>\n",
       "    <tr>\n",
       "      <th>1</th>\n",
       "      <td>2</td>\n",
       "      <td>Jewels of Stringology</td>\n",
       "      <td>Book</td>\n",
       "    </tr>\n",
       "    <tr>\n",
       "      <th>2</th>\n",
       "      <td>3</td>\n",
       "      <td>HP</td>\n",
       "      <td>Laptop</td>\n",
       "    </tr>\n",
       "    <tr>\n",
       "      <th>3</th>\n",
       "      <td>4</td>\n",
       "      <td>Lenovo</td>\n",
       "      <td>Laptop</td>\n",
       "    </tr>\n",
       "    <tr>\n",
       "      <th>4</th>\n",
       "      <td>5</td>\n",
       "      <td>Leetcode Kit</td>\n",
       "      <td>T-shirt</td>\n",
       "    </tr>\n",
       "  </tbody>\n",
       "</table>\n",
       "</div>"
      ],
      "text/plain": [
       "   product_id           product_name product_category\n",
       "0           1     Leetcode Solutions             Book\n",
       "1           2  Jewels of Stringology             Book\n",
       "2           3                     HP           Laptop\n",
       "3           4                 Lenovo           Laptop\n",
       "4           5           Leetcode Kit          T-shirt"
      ]
     },
     "execution_count": 140,
     "metadata": {},
     "output_type": "execute_result"
    }
   ],
   "source": [
    "pd.read_sql(\"\"\"\n",
    "SELECT *\n",
    "FROM Products\n",
    "\"\"\", con)"
   ]
  },
  {
   "cell_type": "code",
   "execution_count": 141,
   "id": "ae28d7af",
   "metadata": {},
   "outputs": [
    {
     "name": "stderr",
     "output_type": "stream",
     "text": [
      "/tmp/ipykernel_4765/1418188007.py:1: UserWarning: pandas only supports SQLAlchemy connectable (engine/connection) or database string URI or sqlite3 DBAPI2 connection. Other DBAPI2 objects are not tested. Please consider using SQLAlchemy.\n",
      "  pd.read_sql(\"\"\"\n"
     ]
    },
    {
     "data": {
      "text/html": [
       "<div>\n",
       "<style scoped>\n",
       "    .dataframe tbody tr th:only-of-type {\n",
       "        vertical-align: middle;\n",
       "    }\n",
       "\n",
       "    .dataframe tbody tr th {\n",
       "        vertical-align: top;\n",
       "    }\n",
       "\n",
       "    .dataframe thead th {\n",
       "        text-align: right;\n",
       "    }\n",
       "</style>\n",
       "<table border=\"1\" class=\"dataframe\">\n",
       "  <thead>\n",
       "    <tr style=\"text-align: right;\">\n",
       "      <th></th>\n",
       "      <th>product_id</th>\n",
       "      <th>order_date</th>\n",
       "      <th>unit</th>\n",
       "    </tr>\n",
       "  </thead>\n",
       "  <tbody>\n",
       "    <tr>\n",
       "      <th>0</th>\n",
       "      <td>1</td>\n",
       "      <td>2020-02-05</td>\n",
       "      <td>60</td>\n",
       "    </tr>\n",
       "    <tr>\n",
       "      <th>1</th>\n",
       "      <td>1</td>\n",
       "      <td>2020-02-10</td>\n",
       "      <td>70</td>\n",
       "    </tr>\n",
       "    <tr>\n",
       "      <th>2</th>\n",
       "      <td>2</td>\n",
       "      <td>2020-01-18</td>\n",
       "      <td>30</td>\n",
       "    </tr>\n",
       "    <tr>\n",
       "      <th>3</th>\n",
       "      <td>2</td>\n",
       "      <td>2020-02-11</td>\n",
       "      <td>80</td>\n",
       "    </tr>\n",
       "    <tr>\n",
       "      <th>4</th>\n",
       "      <td>3</td>\n",
       "      <td>2020-02-17</td>\n",
       "      <td>2</td>\n",
       "    </tr>\n",
       "    <tr>\n",
       "      <th>5</th>\n",
       "      <td>3</td>\n",
       "      <td>2020-02-24</td>\n",
       "      <td>3</td>\n",
       "    </tr>\n",
       "    <tr>\n",
       "      <th>6</th>\n",
       "      <td>4</td>\n",
       "      <td>2020-03-01</td>\n",
       "      <td>20</td>\n",
       "    </tr>\n",
       "    <tr>\n",
       "      <th>7</th>\n",
       "      <td>4</td>\n",
       "      <td>2020-03-04</td>\n",
       "      <td>30</td>\n",
       "    </tr>\n",
       "    <tr>\n",
       "      <th>8</th>\n",
       "      <td>4</td>\n",
       "      <td>2020-03-04</td>\n",
       "      <td>60</td>\n",
       "    </tr>\n",
       "    <tr>\n",
       "      <th>9</th>\n",
       "      <td>5</td>\n",
       "      <td>2020-02-25</td>\n",
       "      <td>50</td>\n",
       "    </tr>\n",
       "    <tr>\n",
       "      <th>10</th>\n",
       "      <td>5</td>\n",
       "      <td>2020-02-27</td>\n",
       "      <td>50</td>\n",
       "    </tr>\n",
       "    <tr>\n",
       "      <th>11</th>\n",
       "      <td>5</td>\n",
       "      <td>2020-03-01</td>\n",
       "      <td>50</td>\n",
       "    </tr>\n",
       "  </tbody>\n",
       "</table>\n",
       "</div>"
      ],
      "text/plain": [
       "    product_id  order_date  unit\n",
       "0            1  2020-02-05    60\n",
       "1            1  2020-02-10    70\n",
       "2            2  2020-01-18    30\n",
       "3            2  2020-02-11    80\n",
       "4            3  2020-02-17     2\n",
       "5            3  2020-02-24     3\n",
       "6            4  2020-03-01    20\n",
       "7            4  2020-03-04    30\n",
       "8            4  2020-03-04    60\n",
       "9            5  2020-02-25    50\n",
       "10           5  2020-02-27    50\n",
       "11           5  2020-03-01    50"
      ]
     },
     "execution_count": 141,
     "metadata": {},
     "output_type": "execute_result"
    }
   ],
   "source": [
    "pd.read_sql(\"\"\"\n",
    "SELECT *\n",
    "FROM Orders\n",
    "\"\"\", con)"
   ]
  },
  {
   "cell_type": "code",
   "execution_count": 68,
   "id": "c3976226",
   "metadata": {},
   "outputs": [
    {
     "data": {
      "text/html": [
       "<div>\n",
       "<style scoped>\n",
       "    .dataframe tbody tr th:only-of-type {\n",
       "        vertical-align: middle;\n",
       "    }\n",
       "\n",
       "    .dataframe tbody tr th {\n",
       "        vertical-align: top;\n",
       "    }\n",
       "\n",
       "    .dataframe thead th {\n",
       "        text-align: right;\n",
       "    }\n",
       "</style>\n",
       "<table border=\"1\" class=\"dataframe\">\n",
       "  <thead>\n",
       "    <tr style=\"text-align: right;\">\n",
       "      <th></th>\n",
       "      <th>product_id</th>\n",
       "      <th>product_name</th>\n",
       "      <th>product_category</th>\n",
       "      <th>order_date</th>\n",
       "      <th>unit</th>\n",
       "    </tr>\n",
       "  </thead>\n",
       "  <tbody>\n",
       "    <tr>\n",
       "      <th>0</th>\n",
       "      <td>1</td>\n",
       "      <td>Leetcode Solutions</td>\n",
       "      <td>Book</td>\n",
       "      <td>2020-02-05</td>\n",
       "      <td>60</td>\n",
       "    </tr>\n",
       "    <tr>\n",
       "      <th>1</th>\n",
       "      <td>1</td>\n",
       "      <td>Leetcode Solutions</td>\n",
       "      <td>Book</td>\n",
       "      <td>2020-02-10</td>\n",
       "      <td>70</td>\n",
       "    </tr>\n",
       "    <tr>\n",
       "      <th>2</th>\n",
       "      <td>2</td>\n",
       "      <td>Jewels of Stringology</td>\n",
       "      <td>Book</td>\n",
       "      <td>2020-01-18</td>\n",
       "      <td>30</td>\n",
       "    </tr>\n",
       "    <tr>\n",
       "      <th>3</th>\n",
       "      <td>2</td>\n",
       "      <td>Jewels of Stringology</td>\n",
       "      <td>Book</td>\n",
       "      <td>2020-02-11</td>\n",
       "      <td>80</td>\n",
       "    </tr>\n",
       "    <tr>\n",
       "      <th>4</th>\n",
       "      <td>3</td>\n",
       "      <td>HP</td>\n",
       "      <td>Laptop</td>\n",
       "      <td>2020-02-17</td>\n",
       "      <td>2</td>\n",
       "    </tr>\n",
       "    <tr>\n",
       "      <th>5</th>\n",
       "      <td>3</td>\n",
       "      <td>HP</td>\n",
       "      <td>Laptop</td>\n",
       "      <td>2020-02-24</td>\n",
       "      <td>3</td>\n",
       "    </tr>\n",
       "    <tr>\n",
       "      <th>6</th>\n",
       "      <td>4</td>\n",
       "      <td>Lenovo</td>\n",
       "      <td>Laptop</td>\n",
       "      <td>2020-03-01</td>\n",
       "      <td>20</td>\n",
       "    </tr>\n",
       "    <tr>\n",
       "      <th>7</th>\n",
       "      <td>4</td>\n",
       "      <td>Lenovo</td>\n",
       "      <td>Laptop</td>\n",
       "      <td>2020-03-04</td>\n",
       "      <td>30</td>\n",
       "    </tr>\n",
       "    <tr>\n",
       "      <th>8</th>\n",
       "      <td>4</td>\n",
       "      <td>Lenovo</td>\n",
       "      <td>Laptop</td>\n",
       "      <td>2020-03-04</td>\n",
       "      <td>60</td>\n",
       "    </tr>\n",
       "    <tr>\n",
       "      <th>9</th>\n",
       "      <td>5</td>\n",
       "      <td>Leetcode Kit</td>\n",
       "      <td>T-shirt</td>\n",
       "      <td>2020-02-25</td>\n",
       "      <td>50</td>\n",
       "    </tr>\n",
       "    <tr>\n",
       "      <th>10</th>\n",
       "      <td>5</td>\n",
       "      <td>Leetcode Kit</td>\n",
       "      <td>T-shirt</td>\n",
       "      <td>2020-02-27</td>\n",
       "      <td>50</td>\n",
       "    </tr>\n",
       "    <tr>\n",
       "      <th>11</th>\n",
       "      <td>5</td>\n",
       "      <td>Leetcode Kit</td>\n",
       "      <td>T-shirt</td>\n",
       "      <td>2020-03-01</td>\n",
       "      <td>50</td>\n",
       "    </tr>\n",
       "  </tbody>\n",
       "</table>\n",
       "</div>"
      ],
      "text/plain": [
       "    product_id           product_name product_category  order_date  unit\n",
       "0            1     Leetcode Solutions             Book  2020-02-05    60\n",
       "1            1     Leetcode Solutions             Book  2020-02-10    70\n",
       "2            2  Jewels of Stringology             Book  2020-01-18    30\n",
       "3            2  Jewels of Stringology             Book  2020-02-11    80\n",
       "4            3                     HP           Laptop  2020-02-17     2\n",
       "5            3                     HP           Laptop  2020-02-24     3\n",
       "6            4                 Lenovo           Laptop  2020-03-01    20\n",
       "7            4                 Lenovo           Laptop  2020-03-04    30\n",
       "8            4                 Lenovo           Laptop  2020-03-04    60\n",
       "9            5           Leetcode Kit          T-shirt  2020-02-25    50\n",
       "10           5           Leetcode Kit          T-shirt  2020-02-27    50\n",
       "11           5           Leetcode Kit          T-shirt  2020-03-01    50"
      ]
     },
     "execution_count": 68,
     "metadata": {},
     "output_type": "execute_result"
    }
   ],
   "source": [
    "pd.read_sql(\"\"\"\n",
    "SELECT *\n",
    "FROM Products p\n",
    "JOIN Orders o\n",
    "    USING (product_id)\n",
    "\n",
    "\"\"\", con)"
   ]
  },
  {
   "cell_type": "code",
   "execution_count": 92,
   "id": "7d6308bd",
   "metadata": {
    "scrolled": false
   },
   "outputs": [
    {
     "data": {
      "text/html": [
       "<div>\n",
       "<style scoped>\n",
       "    .dataframe tbody tr th:only-of-type {\n",
       "        vertical-align: middle;\n",
       "    }\n",
       "\n",
       "    .dataframe tbody tr th {\n",
       "        vertical-align: top;\n",
       "    }\n",
       "\n",
       "    .dataframe thead th {\n",
       "        text-align: right;\n",
       "    }\n",
       "</style>\n",
       "<table border=\"1\" class=\"dataframe\">\n",
       "  <thead>\n",
       "    <tr style=\"text-align: right;\">\n",
       "      <th></th>\n",
       "      <th>product_name</th>\n",
       "      <th>unit</th>\n",
       "    </tr>\n",
       "  </thead>\n",
       "  <tbody>\n",
       "    <tr>\n",
       "      <th>0</th>\n",
       "      <td>Leetcode Solutions</td>\n",
       "      <td>130.0</td>\n",
       "    </tr>\n",
       "    <tr>\n",
       "      <th>1</th>\n",
       "      <td>Leetcode Kit</td>\n",
       "      <td>100.0</td>\n",
       "    </tr>\n",
       "  </tbody>\n",
       "</table>\n",
       "</div>"
      ],
      "text/plain": [
       "         product_name   unit\n",
       "0  Leetcode Solutions  130.0\n",
       "1        Leetcode Kit  100.0"
      ]
     },
     "execution_count": 92,
     "metadata": {},
     "output_type": "execute_result"
    }
   ],
   "source": [
    "pd.read_sql(\"\"\"\n",
    "SELECT product_name, SUM(unit) AS unit\n",
    "FROM Products p\n",
    "JOIN Orders o\n",
    "    USING (product_id)\n",
    "WHERE MONTH(order_date) = 2  \n",
    "GROUP BY product_name\n",
    "HAVING unit >= 100\n",
    "\"\"\", con)"
   ]
  },
  {
   "cell_type": "markdown",
   "id": "5547e02b",
   "metadata": {},
   "source": [
    "# Leetcode Question 577: Employee Bonus"
   ]
  },
  {
   "cell_type": "code",
   "execution_count": null,
   "id": "a1f094ce",
   "metadata": {},
   "outputs": [],
   "source": [
    "Create table If Not Exists Employee (empId int, name varchar(255), supervisor int, salary int)\n",
    "Create table If Not Exists Bonus (empId int, bonus int)\n",
    "Truncate table Employee\n",
    "insert into Employee (empId, name, supervisor, salary) values ('3', 'Brad', 'None', '4000')\n",
    "insert into Employee (empId, name, supervisor, salary) values ('1', 'John', '3', '1000')\n",
    "insert into Employee (empId, name, supervisor, salary) values ('2', 'Dan', '3', '2000')\n",
    "insert into Employee (empId, name, supervisor, salary) values ('4', 'Thomas', '3', '4000')\n",
    "Truncate table Bonus\n",
    "insert into Bonus (empId, bonus) values ('2', '500')\n",
    "insert into Bonus (empId, bonus) values ('4', '2000')"
   ]
  },
  {
   "cell_type": "code",
   "execution_count": 142,
   "id": "8fa5e5e9",
   "metadata": {},
   "outputs": [],
   "source": [
    "database_creator('Leetcode_Q_577')"
   ]
  },
  {
   "cell_type": "code",
   "execution_count": 143,
   "id": "f58a8e18",
   "metadata": {},
   "outputs": [],
   "source": [
    "schema = \"empId int, name varchar(255), supervisor int, salary int\"\n",
    "data = [('3', 'Brad', None, '4000'),\n",
    "       ('1', 'John', '3', '1000'),\n",
    "       ('2', 'Dan', '3', '2000'),\n",
    "       ('4', 'Thomas', '3', '4000')]\n",
    "\n",
    "insert_data_to_table(\"Leetcode_Q_577\", \"Employee\", schema, data)"
   ]
  },
  {
   "cell_type": "code",
   "execution_count": 144,
   "id": "96360da6",
   "metadata": {},
   "outputs": [],
   "source": [
    "schema = \"empId int, bonus int\"\n",
    "data = [('2', '500'),\n",
    "       ('4', '2000')]\n",
    "\n",
    "insert_data_to_table(\"Leetcode_Q_577\", \"Bonus\", schema, data)"
   ]
  },
  {
   "cell_type": "code",
   "execution_count": 145,
   "id": "dbca7389",
   "metadata": {},
   "outputs": [],
   "source": [
    "con = connector('Leetcode_Q_577')"
   ]
  },
  {
   "cell_type": "code",
   "execution_count": 148,
   "id": "1d41f967",
   "metadata": {},
   "outputs": [
    {
     "name": "stderr",
     "output_type": "stream",
     "text": [
      "/tmp/ipykernel_4765/3389445133.py:1: UserWarning: pandas only supports SQLAlchemy connectable (engine/connection) or database string URI or sqlite3 DBAPI2 connection. Other DBAPI2 objects are not tested. Please consider using SQLAlchemy.\n",
      "  pd.read_sql(\"\"\"\n"
     ]
    },
    {
     "data": {
      "text/html": [
       "<div>\n",
       "<style scoped>\n",
       "    .dataframe tbody tr th:only-of-type {\n",
       "        vertical-align: middle;\n",
       "    }\n",
       "\n",
       "    .dataframe tbody tr th {\n",
       "        vertical-align: top;\n",
       "    }\n",
       "\n",
       "    .dataframe thead th {\n",
       "        text-align: right;\n",
       "    }\n",
       "</style>\n",
       "<table border=\"1\" class=\"dataframe\">\n",
       "  <thead>\n",
       "    <tr style=\"text-align: right;\">\n",
       "      <th></th>\n",
       "      <th>empId</th>\n",
       "      <th>name</th>\n",
       "      <th>supervisor</th>\n",
       "      <th>salary</th>\n",
       "    </tr>\n",
       "  </thead>\n",
       "  <tbody>\n",
       "    <tr>\n",
       "      <th>0</th>\n",
       "      <td>3</td>\n",
       "      <td>Brad</td>\n",
       "      <td>NaN</td>\n",
       "      <td>4000</td>\n",
       "    </tr>\n",
       "    <tr>\n",
       "      <th>1</th>\n",
       "      <td>1</td>\n",
       "      <td>John</td>\n",
       "      <td>3.0</td>\n",
       "      <td>1000</td>\n",
       "    </tr>\n",
       "    <tr>\n",
       "      <th>2</th>\n",
       "      <td>2</td>\n",
       "      <td>Dan</td>\n",
       "      <td>3.0</td>\n",
       "      <td>2000</td>\n",
       "    </tr>\n",
       "    <tr>\n",
       "      <th>3</th>\n",
       "      <td>4</td>\n",
       "      <td>Thomas</td>\n",
       "      <td>3.0</td>\n",
       "      <td>4000</td>\n",
       "    </tr>\n",
       "  </tbody>\n",
       "</table>\n",
       "</div>"
      ],
      "text/plain": [
       "   empId    name  supervisor  salary\n",
       "0      3    Brad         NaN    4000\n",
       "1      1    John         3.0    1000\n",
       "2      2     Dan         3.0    2000\n",
       "3      4  Thomas         3.0    4000"
      ]
     },
     "execution_count": 148,
     "metadata": {},
     "output_type": "execute_result"
    }
   ],
   "source": [
    "pd.read_sql(\"\"\"\n",
    "SELECT *\n",
    "FROM Employee\n",
    "\"\"\", con)"
   ]
  },
  {
   "cell_type": "code",
   "execution_count": 149,
   "id": "6c5cb4f1",
   "metadata": {},
   "outputs": [
    {
     "name": "stderr",
     "output_type": "stream",
     "text": [
      "/tmp/ipykernel_4765/1485923284.py:1: UserWarning: pandas only supports SQLAlchemy connectable (engine/connection) or database string URI or sqlite3 DBAPI2 connection. Other DBAPI2 objects are not tested. Please consider using SQLAlchemy.\n",
      "  pd.read_sql(\"\"\"\n"
     ]
    },
    {
     "data": {
      "text/html": [
       "<div>\n",
       "<style scoped>\n",
       "    .dataframe tbody tr th:only-of-type {\n",
       "        vertical-align: middle;\n",
       "    }\n",
       "\n",
       "    .dataframe tbody tr th {\n",
       "        vertical-align: top;\n",
       "    }\n",
       "\n",
       "    .dataframe thead th {\n",
       "        text-align: right;\n",
       "    }\n",
       "</style>\n",
       "<table border=\"1\" class=\"dataframe\">\n",
       "  <thead>\n",
       "    <tr style=\"text-align: right;\">\n",
       "      <th></th>\n",
       "      <th>empId</th>\n",
       "      <th>bonus</th>\n",
       "    </tr>\n",
       "  </thead>\n",
       "  <tbody>\n",
       "    <tr>\n",
       "      <th>0</th>\n",
       "      <td>2</td>\n",
       "      <td>500</td>\n",
       "    </tr>\n",
       "    <tr>\n",
       "      <th>1</th>\n",
       "      <td>4</td>\n",
       "      <td>2000</td>\n",
       "    </tr>\n",
       "  </tbody>\n",
       "</table>\n",
       "</div>"
      ],
      "text/plain": [
       "   empId  bonus\n",
       "0      2    500\n",
       "1      4   2000"
      ]
     },
     "execution_count": 149,
     "metadata": {},
     "output_type": "execute_result"
    }
   ],
   "source": [
    "pd.read_sql(\"\"\"\n",
    "SELECT *\n",
    "FROM Bonus\n",
    "\"\"\", con)"
   ]
  },
  {
   "cell_type": "code",
   "execution_count": 156,
   "id": "09aee5ae",
   "metadata": {},
   "outputs": [
    {
     "name": "stderr",
     "output_type": "stream",
     "text": [
      "/tmp/ipykernel_4765/1324806185.py:1: UserWarning: pandas only supports SQLAlchemy connectable (engine/connection) or database string URI or sqlite3 DBAPI2 connection. Other DBAPI2 objects are not tested. Please consider using SQLAlchemy.\n",
      "  pd.read_sql(\"\"\"\n"
     ]
    },
    {
     "data": {
      "text/html": [
       "<div>\n",
       "<style scoped>\n",
       "    .dataframe tbody tr th:only-of-type {\n",
       "        vertical-align: middle;\n",
       "    }\n",
       "\n",
       "    .dataframe tbody tr th {\n",
       "        vertical-align: top;\n",
       "    }\n",
       "\n",
       "    .dataframe thead th {\n",
       "        text-align: right;\n",
       "    }\n",
       "</style>\n",
       "<table border=\"1\" class=\"dataframe\">\n",
       "  <thead>\n",
       "    <tr style=\"text-align: right;\">\n",
       "      <th></th>\n",
       "      <th>name</th>\n",
       "      <th>bonus</th>\n",
       "    </tr>\n",
       "  </thead>\n",
       "  <tbody>\n",
       "    <tr>\n",
       "      <th>0</th>\n",
       "      <td>Brad</td>\n",
       "      <td>NaN</td>\n",
       "    </tr>\n",
       "    <tr>\n",
       "      <th>1</th>\n",
       "      <td>John</td>\n",
       "      <td>NaN</td>\n",
       "    </tr>\n",
       "    <tr>\n",
       "      <th>2</th>\n",
       "      <td>Dan</td>\n",
       "      <td>500.0</td>\n",
       "    </tr>\n",
       "  </tbody>\n",
       "</table>\n",
       "</div>"
      ],
      "text/plain": [
       "   name  bonus\n",
       "0  Brad    NaN\n",
       "1  John    NaN\n",
       "2   Dan  500.0"
      ]
     },
     "execution_count": 156,
     "metadata": {},
     "output_type": "execute_result"
    }
   ],
   "source": [
    "pd.read_sql(\"\"\"\n",
    "SELECT e.name, b.bonus \n",
    "FROM Employee e\n",
    "LEFT JOIN Bonus b\n",
    "    USING (empId)\n",
    "WHERE b.bonus < 1000 OR b.bonus IS NULL\n",
    "\"\"\", con)"
   ]
  },
  {
   "cell_type": "markdown",
   "id": "b3a76f51",
   "metadata": {},
   "source": [
    "# Leetcode Question 1965: Employees With Missing Information"
   ]
  },
  {
   "cell_type": "code",
   "execution_count": null,
   "id": "72a14d95",
   "metadata": {},
   "outputs": [],
   "source": [
    "Create table If Not Exists Employees (employee_id int, name varchar(30))\n",
    "Create table If Not Exists Salaries (employee_id int, salary int)\n",
    "Truncate table Employees\n",
    "insert into Employees (employee_id, name) values ('2', 'Crew')\n",
    "insert into Employees (employee_id, name) values ('4', 'Haven')\n",
    "insert into Employees (employee_id, name) values ('5', 'Kristian')\n",
    "Truncate table Salaries\n",
    "insert into Salaries (employee_id, salary) values ('5', '76071')\n",
    "insert into Salaries (employee_id, salary) values ('1', '22517')\n",
    "insert into Salaries (employee_id, salary) values ('4', '63539')"
   ]
  },
  {
   "cell_type": "code",
   "execution_count": 164,
   "id": "9a51cdc6",
   "metadata": {},
   "outputs": [],
   "source": [
    "database_creator('Leetcode_Q_1965')"
   ]
  },
  {
   "cell_type": "code",
   "execution_count": 165,
   "id": "3d197305",
   "metadata": {},
   "outputs": [],
   "source": [
    "schema = \"employee_id int, name varchar(30)\"\n",
    "data = [('2', 'Crew'),\n",
    "       ('4', 'Haven'),\n",
    "       ('5', 'Kristian')]\n",
    "\n",
    "insert_data_to_table(\"Leetcode_Q_1965\", \"Employees\", schema, data)"
   ]
  },
  {
   "cell_type": "code",
   "execution_count": 166,
   "id": "886e7100",
   "metadata": {},
   "outputs": [],
   "source": [
    "schema = \"employee_id int, salary int\"\n",
    "data = [('5', '76071'),\n",
    "       ('1', '22517'),\n",
    "       ('4', '63539')]\n",
    "\n",
    "insert_data_to_table(\"Leetcode_Q_1965\", \"Salaries\", schema, data)"
   ]
  },
  {
   "cell_type": "code",
   "execution_count": 167,
   "id": "e418e093",
   "metadata": {},
   "outputs": [],
   "source": [
    "con = connector('Leetcode_Q_1965')"
   ]
  },
  {
   "cell_type": "code",
   "execution_count": 168,
   "id": "d65f1f98",
   "metadata": {},
   "outputs": [
    {
     "name": "stderr",
     "output_type": "stream",
     "text": [
      "/tmp/ipykernel_4765/1059816577.py:1: UserWarning: pandas only supports SQLAlchemy connectable (engine/connection) or database string URI or sqlite3 DBAPI2 connection. Other DBAPI2 objects are not tested. Please consider using SQLAlchemy.\n",
      "  pd.read_sql(\"\"\"\n"
     ]
    },
    {
     "data": {
      "text/html": [
       "<div>\n",
       "<style scoped>\n",
       "    .dataframe tbody tr th:only-of-type {\n",
       "        vertical-align: middle;\n",
       "    }\n",
       "\n",
       "    .dataframe tbody tr th {\n",
       "        vertical-align: top;\n",
       "    }\n",
       "\n",
       "    .dataframe thead th {\n",
       "        text-align: right;\n",
       "    }\n",
       "</style>\n",
       "<table border=\"1\" class=\"dataframe\">\n",
       "  <thead>\n",
       "    <tr style=\"text-align: right;\">\n",
       "      <th></th>\n",
       "      <th>employee_id</th>\n",
       "      <th>name</th>\n",
       "    </tr>\n",
       "  </thead>\n",
       "  <tbody>\n",
       "    <tr>\n",
       "      <th>0</th>\n",
       "      <td>2</td>\n",
       "      <td>Crew</td>\n",
       "    </tr>\n",
       "    <tr>\n",
       "      <th>1</th>\n",
       "      <td>4</td>\n",
       "      <td>Haven</td>\n",
       "    </tr>\n",
       "    <tr>\n",
       "      <th>2</th>\n",
       "      <td>5</td>\n",
       "      <td>Kristian</td>\n",
       "    </tr>\n",
       "  </tbody>\n",
       "</table>\n",
       "</div>"
      ],
      "text/plain": [
       "   employee_id      name\n",
       "0            2      Crew\n",
       "1            4     Haven\n",
       "2            5  Kristian"
      ]
     },
     "execution_count": 168,
     "metadata": {},
     "output_type": "execute_result"
    }
   ],
   "source": [
    "pd.read_sql(\"\"\"\n",
    "SELECT *\n",
    "FROM Employees\n",
    "\"\"\", con)"
   ]
  },
  {
   "cell_type": "code",
   "execution_count": 169,
   "id": "362cc74f",
   "metadata": {},
   "outputs": [
    {
     "name": "stderr",
     "output_type": "stream",
     "text": [
      "/tmp/ipykernel_4765/2259743031.py:1: UserWarning: pandas only supports SQLAlchemy connectable (engine/connection) or database string URI or sqlite3 DBAPI2 connection. Other DBAPI2 objects are not tested. Please consider using SQLAlchemy.\n",
      "  pd.read_sql(\"\"\"\n"
     ]
    },
    {
     "data": {
      "text/html": [
       "<div>\n",
       "<style scoped>\n",
       "    .dataframe tbody tr th:only-of-type {\n",
       "        vertical-align: middle;\n",
       "    }\n",
       "\n",
       "    .dataframe tbody tr th {\n",
       "        vertical-align: top;\n",
       "    }\n",
       "\n",
       "    .dataframe thead th {\n",
       "        text-align: right;\n",
       "    }\n",
       "</style>\n",
       "<table border=\"1\" class=\"dataframe\">\n",
       "  <thead>\n",
       "    <tr style=\"text-align: right;\">\n",
       "      <th></th>\n",
       "      <th>employee_id</th>\n",
       "      <th>salary</th>\n",
       "    </tr>\n",
       "  </thead>\n",
       "  <tbody>\n",
       "    <tr>\n",
       "      <th>0</th>\n",
       "      <td>5</td>\n",
       "      <td>76071</td>\n",
       "    </tr>\n",
       "    <tr>\n",
       "      <th>1</th>\n",
       "      <td>1</td>\n",
       "      <td>22517</td>\n",
       "    </tr>\n",
       "    <tr>\n",
       "      <th>2</th>\n",
       "      <td>4</td>\n",
       "      <td>63539</td>\n",
       "    </tr>\n",
       "  </tbody>\n",
       "</table>\n",
       "</div>"
      ],
      "text/plain": [
       "   employee_id  salary\n",
       "0            5   76071\n",
       "1            1   22517\n",
       "2            4   63539"
      ]
     },
     "execution_count": 169,
     "metadata": {},
     "output_type": "execute_result"
    }
   ],
   "source": [
    "pd.read_sql(\"\"\"\n",
    "SELECT *\n",
    "FROM Salaries\n",
    "\"\"\", con)"
   ]
  },
  {
   "cell_type": "code",
   "execution_count": 153,
   "id": "535f42c2",
   "metadata": {},
   "outputs": [
    {
     "data": {
      "text/html": [
       "<div>\n",
       "<style scoped>\n",
       "    .dataframe tbody tr th:only-of-type {\n",
       "        vertical-align: middle;\n",
       "    }\n",
       "\n",
       "    .dataframe tbody tr th {\n",
       "        vertical-align: top;\n",
       "    }\n",
       "\n",
       "    .dataframe thead th {\n",
       "        text-align: right;\n",
       "    }\n",
       "</style>\n",
       "<table border=\"1\" class=\"dataframe\">\n",
       "  <thead>\n",
       "    <tr style=\"text-align: right;\">\n",
       "      <th></th>\n",
       "      <th>employee_id</th>\n",
       "    </tr>\n",
       "  </thead>\n",
       "  <tbody>\n",
       "    <tr>\n",
       "      <th>0</th>\n",
       "      <td>1</td>\n",
       "    </tr>\n",
       "    <tr>\n",
       "      <th>1</th>\n",
       "      <td>2</td>\n",
       "    </tr>\n",
       "  </tbody>\n",
       "</table>\n",
       "</div>"
      ],
      "text/plain": [
       "   employee_id\n",
       "0            1\n",
       "1            2"
      ]
     },
     "execution_count": 153,
     "metadata": {},
     "output_type": "execute_result"
    }
   ],
   "source": [
    "pd.read_sql(\"\"\"\n",
    "SELECT employee_id\n",
    "FROM Employees e\n",
    "RIGHT JOIN Salaries s\n",
    "    USING (employee_id)\n",
    "WHERE name IS NULL\n",
    "UNION \n",
    "SELECT employee_id\n",
    "FROM Employees e\n",
    "LEFT JOIN Salaries s\n",
    "    USING (employee_id)\n",
    "WHERE salary IS NULL\n",
    "ORDER BY employee_id \n",
    "\n",
    "\"\"\", con)"
   ]
  },
  {
   "cell_type": "markdown",
   "id": "3563e82f",
   "metadata": {},
   "source": [
    "# Leetcode Question 620: Not Boring Movies"
   ]
  },
  {
   "cell_type": "code",
   "execution_count": null,
   "id": "8bf27b3a",
   "metadata": {},
   "outputs": [],
   "source": [
    "Create table If Not Exists cinema (id int, movie varchar(255), description varchar(255), rating float(2, 1))\n",
    "Truncate table cinema\n",
    "insert into cinema (id, movie, description, rating) values ('1', 'War', 'great 3D', '8.9')\n",
    "insert into cinema (id, movie, description, rating) values ('2', 'Science', 'fiction', '8.5')\n",
    "insert into cinema (id, movie, description, rating) values ('3', 'irish', 'boring', '6.2')\n",
    "insert into cinema (id, movie, description, rating) values ('4', 'Ice song', 'Fantacy', '8.6')\n",
    "insert into cinema (id, movie, description, rating) values ('5', 'House card', 'Interesting', '9.1')"
   ]
  },
  {
   "cell_type": "code",
   "execution_count": 170,
   "id": "85df885f",
   "metadata": {},
   "outputs": [],
   "source": [
    "database_creator('Leetcode_Q_620')"
   ]
  },
  {
   "cell_type": "code",
   "execution_count": 171,
   "id": "54b4f361",
   "metadata": {},
   "outputs": [],
   "source": [
    "schema = \"id int, movie varchar(255), description varchar(255), rating float(2, 1)\"\n",
    "data = [('1', 'War', 'great 3D', '8.9'),\n",
    "       ('2', 'Science', 'fiction', '8.5'),\n",
    "       ('3', 'irish', 'boring', '6.2'),\n",
    "       ('4', 'Ice song', 'Fantacy', '8.6'),\n",
    "       ('5', 'House card', 'Interesting', '9.1')]\n",
    "\n",
    "insert_data_to_table(\"Leetcode_Q_620\", \"cinema\", schema, data)"
   ]
  },
  {
   "cell_type": "code",
   "execution_count": 172,
   "id": "faf1d647",
   "metadata": {},
   "outputs": [],
   "source": [
    "con = connector('Leetcode_Q_620')"
   ]
  },
  {
   "cell_type": "code",
   "execution_count": 173,
   "id": "336b5023",
   "metadata": {},
   "outputs": [
    {
     "name": "stderr",
     "output_type": "stream",
     "text": [
      "/tmp/ipykernel_4765/2300673331.py:1: UserWarning: pandas only supports SQLAlchemy connectable (engine/connection) or database string URI or sqlite3 DBAPI2 connection. Other DBAPI2 objects are not tested. Please consider using SQLAlchemy.\n",
      "  pd.read_sql(\"\"\"\n"
     ]
    },
    {
     "data": {
      "text/html": [
       "<div>\n",
       "<style scoped>\n",
       "    .dataframe tbody tr th:only-of-type {\n",
       "        vertical-align: middle;\n",
       "    }\n",
       "\n",
       "    .dataframe tbody tr th {\n",
       "        vertical-align: top;\n",
       "    }\n",
       "\n",
       "    .dataframe thead th {\n",
       "        text-align: right;\n",
       "    }\n",
       "</style>\n",
       "<table border=\"1\" class=\"dataframe\">\n",
       "  <thead>\n",
       "    <tr style=\"text-align: right;\">\n",
       "      <th></th>\n",
       "      <th>id</th>\n",
       "      <th>movie</th>\n",
       "      <th>description</th>\n",
       "      <th>rating</th>\n",
       "    </tr>\n",
       "  </thead>\n",
       "  <tbody>\n",
       "    <tr>\n",
       "      <th>0</th>\n",
       "      <td>1</td>\n",
       "      <td>War</td>\n",
       "      <td>great 3D</td>\n",
       "      <td>8.9</td>\n",
       "    </tr>\n",
       "    <tr>\n",
       "      <th>1</th>\n",
       "      <td>2</td>\n",
       "      <td>Science</td>\n",
       "      <td>fiction</td>\n",
       "      <td>8.5</td>\n",
       "    </tr>\n",
       "    <tr>\n",
       "      <th>2</th>\n",
       "      <td>3</td>\n",
       "      <td>irish</td>\n",
       "      <td>boring</td>\n",
       "      <td>6.2</td>\n",
       "    </tr>\n",
       "    <tr>\n",
       "      <th>3</th>\n",
       "      <td>4</td>\n",
       "      <td>Ice song</td>\n",
       "      <td>Fantacy</td>\n",
       "      <td>8.6</td>\n",
       "    </tr>\n",
       "    <tr>\n",
       "      <th>4</th>\n",
       "      <td>5</td>\n",
       "      <td>House card</td>\n",
       "      <td>Interesting</td>\n",
       "      <td>9.1</td>\n",
       "    </tr>\n",
       "  </tbody>\n",
       "</table>\n",
       "</div>"
      ],
      "text/plain": [
       "   id       movie  description  rating\n",
       "0   1         War     great 3D     8.9\n",
       "1   2     Science      fiction     8.5\n",
       "2   3       irish       boring     6.2\n",
       "3   4    Ice song      Fantacy     8.6\n",
       "4   5  House card  Interesting     9.1"
      ]
     },
     "execution_count": 173,
     "metadata": {},
     "output_type": "execute_result"
    }
   ],
   "source": [
    "pd.read_sql(\"\"\"\n",
    "SELECT *\n",
    "FROM cinema\n",
    "\"\"\", con)"
   ]
  },
  {
   "cell_type": "code",
   "execution_count": 174,
   "id": "a65bc4c3",
   "metadata": {},
   "outputs": [
    {
     "name": "stderr",
     "output_type": "stream",
     "text": [
      "/tmp/ipykernel_4765/3837550734.py:1: UserWarning: pandas only supports SQLAlchemy connectable (engine/connection) or database string URI or sqlite3 DBAPI2 connection. Other DBAPI2 objects are not tested. Please consider using SQLAlchemy.\n",
      "  pd.read_sql(\"\"\"\n"
     ]
    },
    {
     "data": {
      "text/html": [
       "<div>\n",
       "<style scoped>\n",
       "    .dataframe tbody tr th:only-of-type {\n",
       "        vertical-align: middle;\n",
       "    }\n",
       "\n",
       "    .dataframe tbody tr th {\n",
       "        vertical-align: top;\n",
       "    }\n",
       "\n",
       "    .dataframe thead th {\n",
       "        text-align: right;\n",
       "    }\n",
       "</style>\n",
       "<table border=\"1\" class=\"dataframe\">\n",
       "  <thead>\n",
       "    <tr style=\"text-align: right;\">\n",
       "      <th></th>\n",
       "      <th>id</th>\n",
       "      <th>movie</th>\n",
       "      <th>description</th>\n",
       "      <th>rating</th>\n",
       "    </tr>\n",
       "  </thead>\n",
       "  <tbody>\n",
       "    <tr>\n",
       "      <th>0</th>\n",
       "      <td>5</td>\n",
       "      <td>House card</td>\n",
       "      <td>Interesting</td>\n",
       "      <td>9.1</td>\n",
       "    </tr>\n",
       "    <tr>\n",
       "      <th>1</th>\n",
       "      <td>1</td>\n",
       "      <td>War</td>\n",
       "      <td>great 3D</td>\n",
       "      <td>8.9</td>\n",
       "    </tr>\n",
       "  </tbody>\n",
       "</table>\n",
       "</div>"
      ],
      "text/plain": [
       "   id       movie  description  rating\n",
       "0   5  House card  Interesting     9.1\n",
       "1   1         War     great 3D     8.9"
      ]
     },
     "execution_count": 174,
     "metadata": {},
     "output_type": "execute_result"
    }
   ],
   "source": [
    "pd.read_sql(\"\"\"\n",
    "SELECT *\n",
    "FROM cinema\n",
    "WHERE id % 2 <> 0 AND description <> 'boring'\n",
    "ORDER BY rating DESC\n",
    "\"\"\", con)"
   ]
  },
  {
   "cell_type": "markdown",
   "id": "c3c430f5",
   "metadata": {},
   "source": [
    "# Leetcode Question 1729: Find Followers Count"
   ]
  },
  {
   "cell_type": "code",
   "execution_count": null,
   "id": "afa4bd8b",
   "metadata": {},
   "outputs": [],
   "source": [
    "Create table If Not Exists Followers(user_id int, follower_id int)\n",
    "Truncate table Followers\n",
    "insert into Followers (user_id, follower_id) values ('0', '1')\n",
    "insert into Followers (user_id, follower_id) values ('1', '0')\n",
    "insert into Followers (user_id, follower_id) values ('2', '0')\n",
    "insert into Followers (user_id, follower_id) values ('2', '1')"
   ]
  },
  {
   "cell_type": "code",
   "execution_count": 175,
   "id": "65e82827",
   "metadata": {},
   "outputs": [],
   "source": [
    "database_creator('Leetcode_Q_1729')"
   ]
  },
  {
   "cell_type": "code",
   "execution_count": 176,
   "id": "d7916392",
   "metadata": {},
   "outputs": [],
   "source": [
    "schema = \"user_id int, follower_id int\"\n",
    "data = [('0', '1'),\n",
    "       ('1', '0'),\n",
    "       ('2', '0'),\n",
    "       ('2', '1')]\n",
    "\n",
    "insert_data_to_table(\"Leetcode_Q_1729\", \"Followers\", schema, data)"
   ]
  },
  {
   "cell_type": "code",
   "execution_count": 177,
   "id": "f1c00224",
   "metadata": {},
   "outputs": [],
   "source": [
    "con = connector('Leetcode_Q_1729')"
   ]
  },
  {
   "cell_type": "code",
   "execution_count": 178,
   "id": "9cd7e29a",
   "metadata": {},
   "outputs": [
    {
     "name": "stderr",
     "output_type": "stream",
     "text": [
      "/tmp/ipykernel_4765/1608719282.py:1: UserWarning: pandas only supports SQLAlchemy connectable (engine/connection) or database string URI or sqlite3 DBAPI2 connection. Other DBAPI2 objects are not tested. Please consider using SQLAlchemy.\n",
      "  pd.read_sql(\"\"\"\n"
     ]
    },
    {
     "data": {
      "text/html": [
       "<div>\n",
       "<style scoped>\n",
       "    .dataframe tbody tr th:only-of-type {\n",
       "        vertical-align: middle;\n",
       "    }\n",
       "\n",
       "    .dataframe tbody tr th {\n",
       "        vertical-align: top;\n",
       "    }\n",
       "\n",
       "    .dataframe thead th {\n",
       "        text-align: right;\n",
       "    }\n",
       "</style>\n",
       "<table border=\"1\" class=\"dataframe\">\n",
       "  <thead>\n",
       "    <tr style=\"text-align: right;\">\n",
       "      <th></th>\n",
       "      <th>user_id</th>\n",
       "      <th>follower_id</th>\n",
       "    </tr>\n",
       "  </thead>\n",
       "  <tbody>\n",
       "    <tr>\n",
       "      <th>0</th>\n",
       "      <td>0</td>\n",
       "      <td>1</td>\n",
       "    </tr>\n",
       "    <tr>\n",
       "      <th>1</th>\n",
       "      <td>1</td>\n",
       "      <td>0</td>\n",
       "    </tr>\n",
       "    <tr>\n",
       "      <th>2</th>\n",
       "      <td>2</td>\n",
       "      <td>0</td>\n",
       "    </tr>\n",
       "    <tr>\n",
       "      <th>3</th>\n",
       "      <td>2</td>\n",
       "      <td>1</td>\n",
       "    </tr>\n",
       "  </tbody>\n",
       "</table>\n",
       "</div>"
      ],
      "text/plain": [
       "   user_id  follower_id\n",
       "0        0            1\n",
       "1        1            0\n",
       "2        2            0\n",
       "3        2            1"
      ]
     },
     "execution_count": 178,
     "metadata": {},
     "output_type": "execute_result"
    }
   ],
   "source": [
    "pd.read_sql(\"\"\"\n",
    "SELECT *\n",
    "FROM Followers\n",
    "\"\"\", con)"
   ]
  },
  {
   "cell_type": "code",
   "execution_count": 166,
   "id": "f843bff2",
   "metadata": {},
   "outputs": [
    {
     "data": {
      "text/html": [
       "<div>\n",
       "<style scoped>\n",
       "    .dataframe tbody tr th:only-of-type {\n",
       "        vertical-align: middle;\n",
       "    }\n",
       "\n",
       "    .dataframe tbody tr th {\n",
       "        vertical-align: top;\n",
       "    }\n",
       "\n",
       "    .dataframe thead th {\n",
       "        text-align: right;\n",
       "    }\n",
       "</style>\n",
       "<table border=\"1\" class=\"dataframe\">\n",
       "  <thead>\n",
       "    <tr style=\"text-align: right;\">\n",
       "      <th></th>\n",
       "      <th>user_id</th>\n",
       "      <th>followers_count</th>\n",
       "    </tr>\n",
       "  </thead>\n",
       "  <tbody>\n",
       "    <tr>\n",
       "      <th>0</th>\n",
       "      <td>0</td>\n",
       "      <td>1</td>\n",
       "    </tr>\n",
       "    <tr>\n",
       "      <th>1</th>\n",
       "      <td>1</td>\n",
       "      <td>1</td>\n",
       "    </tr>\n",
       "    <tr>\n",
       "      <th>2</th>\n",
       "      <td>2</td>\n",
       "      <td>2</td>\n",
       "    </tr>\n",
       "  </tbody>\n",
       "</table>\n",
       "</div>"
      ],
      "text/plain": [
       "   user_id  followers_count\n",
       "0        0                1\n",
       "1        1                1\n",
       "2        2                2"
      ]
     },
     "execution_count": 166,
     "metadata": {},
     "output_type": "execute_result"
    }
   ],
   "source": [
    "pd.read_sql(\"\"\"\n",
    "SELECT \n",
    "    user_id,\n",
    "    COUNT(*) AS followers_count\n",
    "FROM Followers\n",
    "GROUP BY user_id\n",
    "ORDER BY user_id\n",
    "\"\"\", con)"
   ]
  },
  {
   "cell_type": "markdown",
   "id": "7ffc03f5",
   "metadata": {},
   "source": [
    "# Leetcode Question 182: Duplicate Emails"
   ]
  },
  {
   "cell_type": "code",
   "execution_count": null,
   "id": "6e6a9c92",
   "metadata": {},
   "outputs": [],
   "source": [
    "Create table If Not Exists Person (id int, email varchar(255))\n",
    "Truncate table Person\n",
    "insert into Person (id, email) values ('1', 'a@b.com')\n",
    "insert into Person (id, email) values ('2', 'c@d.com')\n",
    "insert into Person (id, email) values ('3', 'a@b.com')"
   ]
  },
  {
   "cell_type": "code",
   "execution_count": 179,
   "id": "9768f0ae",
   "metadata": {},
   "outputs": [],
   "source": [
    "database_creator('Leetcode_Q_182')"
   ]
  },
  {
   "cell_type": "code",
   "execution_count": 180,
   "id": "2cac2916",
   "metadata": {},
   "outputs": [],
   "source": [
    "schema = \"id int, email varchar(255)\"\n",
    "data = [('1', 'a@b.com'),\n",
    "       ('2', 'c@d.com'),\n",
    "       ('3', 'a@b.com')]\n",
    "\n",
    "insert_data_to_table(\"Leetcode_Q_182\", \"Person\", schema, data)"
   ]
  },
  {
   "cell_type": "code",
   "execution_count": 181,
   "id": "7299ef96",
   "metadata": {},
   "outputs": [],
   "source": [
    "con = connector('Leetcode_Q_182')"
   ]
  },
  {
   "cell_type": "code",
   "execution_count": 182,
   "id": "e5e09650",
   "metadata": {},
   "outputs": [
    {
     "name": "stderr",
     "output_type": "stream",
     "text": [
      "/tmp/ipykernel_4765/2244786807.py:1: UserWarning: pandas only supports SQLAlchemy connectable (engine/connection) or database string URI or sqlite3 DBAPI2 connection. Other DBAPI2 objects are not tested. Please consider using SQLAlchemy.\n",
      "  pd.read_sql(\"\"\"\n"
     ]
    },
    {
     "data": {
      "text/html": [
       "<div>\n",
       "<style scoped>\n",
       "    .dataframe tbody tr th:only-of-type {\n",
       "        vertical-align: middle;\n",
       "    }\n",
       "\n",
       "    .dataframe tbody tr th {\n",
       "        vertical-align: top;\n",
       "    }\n",
       "\n",
       "    .dataframe thead th {\n",
       "        text-align: right;\n",
       "    }\n",
       "</style>\n",
       "<table border=\"1\" class=\"dataframe\">\n",
       "  <thead>\n",
       "    <tr style=\"text-align: right;\">\n",
       "      <th></th>\n",
       "      <th>id</th>\n",
       "      <th>email</th>\n",
       "    </tr>\n",
       "  </thead>\n",
       "  <tbody>\n",
       "    <tr>\n",
       "      <th>0</th>\n",
       "      <td>1</td>\n",
       "      <td>a@b.com</td>\n",
       "    </tr>\n",
       "    <tr>\n",
       "      <th>1</th>\n",
       "      <td>2</td>\n",
       "      <td>c@d.com</td>\n",
       "    </tr>\n",
       "    <tr>\n",
       "      <th>2</th>\n",
       "      <td>3</td>\n",
       "      <td>a@b.com</td>\n",
       "    </tr>\n",
       "  </tbody>\n",
       "</table>\n",
       "</div>"
      ],
      "text/plain": [
       "   id    email\n",
       "0   1  a@b.com\n",
       "1   2  c@d.com\n",
       "2   3  a@b.com"
      ]
     },
     "execution_count": 182,
     "metadata": {},
     "output_type": "execute_result"
    }
   ],
   "source": [
    "pd.read_sql(\"\"\"\n",
    "SELECT *\n",
    "FROM Person\n",
    "\"\"\", con)"
   ]
  },
  {
   "cell_type": "code",
   "execution_count": 171,
   "id": "1d881049",
   "metadata": {},
   "outputs": [
    {
     "data": {
      "text/html": [
       "<div>\n",
       "<style scoped>\n",
       "    .dataframe tbody tr th:only-of-type {\n",
       "        vertical-align: middle;\n",
       "    }\n",
       "\n",
       "    .dataframe tbody tr th {\n",
       "        vertical-align: top;\n",
       "    }\n",
       "\n",
       "    .dataframe thead th {\n",
       "        text-align: right;\n",
       "    }\n",
       "</style>\n",
       "<table border=\"1\" class=\"dataframe\">\n",
       "  <thead>\n",
       "    <tr style=\"text-align: right;\">\n",
       "      <th></th>\n",
       "      <th>email</th>\n",
       "    </tr>\n",
       "  </thead>\n",
       "  <tbody>\n",
       "    <tr>\n",
       "      <th>0</th>\n",
       "      <td>a@b.com</td>\n",
       "    </tr>\n",
       "  </tbody>\n",
       "</table>\n",
       "</div>"
      ],
      "text/plain": [
       "     email\n",
       "0  a@b.com"
      ]
     },
     "execution_count": 171,
     "metadata": {},
     "output_type": "execute_result"
    }
   ],
   "source": [
    "pd.read_sql(\"\"\"\n",
    "SELECT DISTINCT email\n",
    "FROM Person\n",
    "WHERE email IN(\n",
    "                SELECT email\n",
    "                FROM Person\n",
    "                GROUP BY email\n",
    "                HAVING COUNT(*) > 1  \n",
    "            )\n",
    "\"\"\", con)"
   ]
  },
  {
   "cell_type": "markdown",
   "id": "612eb62a",
   "metadata": {},
   "source": [
    "# Leetcode Question 610: Triangle Judgement"
   ]
  },
  {
   "cell_type": "code",
   "execution_count": null,
   "id": "c8a5536b",
   "metadata": {},
   "outputs": [],
   "source": [
    "Create table If Not Exists Triangle (x int, y int, z int)\n",
    "Truncate table Triangle\n",
    "insert into Triangle (x, y, z) values ('13', '15', '30')\n",
    "insert into Triangle (x, y, z) values ('10', '20', '15')"
   ]
  },
  {
   "cell_type": "code",
   "execution_count": 183,
   "id": "1fee1d78",
   "metadata": {},
   "outputs": [],
   "source": [
    "database_creator('Leetcode_Q_610')"
   ]
  },
  {
   "cell_type": "code",
   "execution_count": 184,
   "id": "2df98c25",
   "metadata": {},
   "outputs": [],
   "source": [
    "schema = \"x int, y int, z int\"\n",
    "data = [('13', '15', '30'),\n",
    "       ('10', '20', '15')]\n",
    "\n",
    "insert_data_to_table(\"Leetcode_Q_610\", \"Triangle\", schema, data)"
   ]
  },
  {
   "cell_type": "code",
   "execution_count": 185,
   "id": "7bdfcb04",
   "metadata": {},
   "outputs": [],
   "source": [
    "con = connector('Leetcode_Q_610')"
   ]
  },
  {
   "cell_type": "code",
   "execution_count": 173,
   "id": "f2acb3f0",
   "metadata": {},
   "outputs": [
    {
     "data": {
      "text/html": [
       "<div>\n",
       "<style scoped>\n",
       "    .dataframe tbody tr th:only-of-type {\n",
       "        vertical-align: middle;\n",
       "    }\n",
       "\n",
       "    .dataframe tbody tr th {\n",
       "        vertical-align: top;\n",
       "    }\n",
       "\n",
       "    .dataframe thead th {\n",
       "        text-align: right;\n",
       "    }\n",
       "</style>\n",
       "<table border=\"1\" class=\"dataframe\">\n",
       "  <thead>\n",
       "    <tr style=\"text-align: right;\">\n",
       "      <th></th>\n",
       "      <th>x</th>\n",
       "      <th>y</th>\n",
       "      <th>z</th>\n",
       "    </tr>\n",
       "  </thead>\n",
       "  <tbody>\n",
       "    <tr>\n",
       "      <th>0</th>\n",
       "      <td>13</td>\n",
       "      <td>15</td>\n",
       "      <td>30</td>\n",
       "    </tr>\n",
       "    <tr>\n",
       "      <th>1</th>\n",
       "      <td>10</td>\n",
       "      <td>20</td>\n",
       "      <td>15</td>\n",
       "    </tr>\n",
       "  </tbody>\n",
       "</table>\n",
       "</div>"
      ],
      "text/plain": [
       "    x   y   z\n",
       "0  13  15  30\n",
       "1  10  20  15"
      ]
     },
     "execution_count": 173,
     "metadata": {},
     "output_type": "execute_result"
    }
   ],
   "source": [
    "pd.read_sql(\"\"\"\n",
    "SELECT *\n",
    "FROM Triangle\n",
    "\"\"\", con)"
   ]
  },
  {
   "cell_type": "code",
   "execution_count": 186,
   "id": "90ac79be",
   "metadata": {},
   "outputs": [
    {
     "name": "stderr",
     "output_type": "stream",
     "text": [
      "/tmp/ipykernel_4765/1250539922.py:1: UserWarning: pandas only supports SQLAlchemy connectable (engine/connection) or database string URI or sqlite3 DBAPI2 connection. Other DBAPI2 objects are not tested. Please consider using SQLAlchemy.\n",
      "  pd.read_sql(\"\"\"\n"
     ]
    },
    {
     "data": {
      "text/html": [
       "<div>\n",
       "<style scoped>\n",
       "    .dataframe tbody tr th:only-of-type {\n",
       "        vertical-align: middle;\n",
       "    }\n",
       "\n",
       "    .dataframe tbody tr th {\n",
       "        vertical-align: top;\n",
       "    }\n",
       "\n",
       "    .dataframe thead th {\n",
       "        text-align: right;\n",
       "    }\n",
       "</style>\n",
       "<table border=\"1\" class=\"dataframe\">\n",
       "  <thead>\n",
       "    <tr style=\"text-align: right;\">\n",
       "      <th></th>\n",
       "      <th>x</th>\n",
       "      <th>y</th>\n",
       "      <th>z</th>\n",
       "      <th>triangle</th>\n",
       "    </tr>\n",
       "  </thead>\n",
       "  <tbody>\n",
       "    <tr>\n",
       "      <th>0</th>\n",
       "      <td>13</td>\n",
       "      <td>15</td>\n",
       "      <td>30</td>\n",
       "      <td>No</td>\n",
       "    </tr>\n",
       "    <tr>\n",
       "      <th>1</th>\n",
       "      <td>10</td>\n",
       "      <td>20</td>\n",
       "      <td>15</td>\n",
       "      <td>Yes</td>\n",
       "    </tr>\n",
       "  </tbody>\n",
       "</table>\n",
       "</div>"
      ],
      "text/plain": [
       "    x   y   z triangle\n",
       "0  13  15  30       No\n",
       "1  10  20  15      Yes"
      ]
     },
     "execution_count": 186,
     "metadata": {},
     "output_type": "execute_result"
    }
   ],
   "source": [
    "pd.read_sql(\"\"\"\n",
    "SELECT \n",
    "    *,\n",
    "    CASE\n",
    "       WHEN x + y > z AND x + z > y AND y + z > x THEN 'Yes' \n",
    "       ELSE 'No'\n",
    "    END AS triangle\n",
    "FROM Triangle\n",
    "\"\"\", con)"
   ]
  },
  {
   "cell_type": "markdown",
   "id": "e086f0ce",
   "metadata": {},
   "source": [
    "# Leetcode Question 1211: Queries Quality and Percentage"
   ]
  },
  {
   "cell_type": "code",
   "execution_count": null,
   "id": "63446752",
   "metadata": {},
   "outputs": [],
   "source": [
    "Create table If Not Exists Queries (query_name varchar(30), result varchar(50), position int, rating int)\n",
    "Truncate table Queries\n",
    "insert into Queries (query_name, result, position, rating) values ('Dog', 'Golden Retriever', '1', '5')\n",
    "insert into Queries (query_name, result, position, rating) values ('Dog', 'German Shepherd', '2', '5')\n",
    "insert into Queries (query_name, result, position, rating) values ('Dog', 'Mule', '200', '1')\n",
    "insert into Queries (query_name, result, position, rating) values ('Cat', 'Shirazi', '5', '2')\n",
    "insert into Queries (query_name, result, position, rating) values ('Cat', 'Siamese', '3', '3')\n",
    "insert into Queries (query_name, result, position, rating) values ('Cat', 'Sphynx', '7', '4')"
   ]
  },
  {
   "cell_type": "code",
   "execution_count": 187,
   "id": "d68a60b2",
   "metadata": {},
   "outputs": [],
   "source": [
    "database_creator('Leetcode_Q_1211')"
   ]
  },
  {
   "cell_type": "code",
   "execution_count": 188,
   "id": "27604e21",
   "metadata": {},
   "outputs": [],
   "source": [
    "schema = \"query_name varchar(30), result varchar(50), position int, rating int\"\n",
    "data = [('Dog', 'Golden Retriever', '1', '5'),\n",
    "       ('Dog', 'German Shepherd', '2', '5'),\n",
    "       ('Dog', 'Mule', '200', '1'),\n",
    "       ('Cat', 'Shirazi', '5', '2'),\n",
    "       ('Cat', 'Siamese', '3', '3'),\n",
    "       ('Cat', 'Sphynx', '7', '4')]\n",
    "\n",
    "insert_data_to_table(\"Leetcode_Q_1211\", \"Queries\", schema, data)"
   ]
  },
  {
   "cell_type": "code",
   "execution_count": 189,
   "id": "da00c67f",
   "metadata": {},
   "outputs": [],
   "source": [
    "con = connector('Leetcode_Q_1211')"
   ]
  },
  {
   "cell_type": "code",
   "execution_count": 186,
   "id": "a7b435d0",
   "metadata": {},
   "outputs": [
    {
     "data": {
      "text/html": [
       "<div>\n",
       "<style scoped>\n",
       "    .dataframe tbody tr th:only-of-type {\n",
       "        vertical-align: middle;\n",
       "    }\n",
       "\n",
       "    .dataframe tbody tr th {\n",
       "        vertical-align: top;\n",
       "    }\n",
       "\n",
       "    .dataframe thead th {\n",
       "        text-align: right;\n",
       "    }\n",
       "</style>\n",
       "<table border=\"1\" class=\"dataframe\">\n",
       "  <thead>\n",
       "    <tr style=\"text-align: right;\">\n",
       "      <th></th>\n",
       "      <th>query_name</th>\n",
       "      <th>result</th>\n",
       "      <th>position</th>\n",
       "      <th>rating</th>\n",
       "    </tr>\n",
       "  </thead>\n",
       "  <tbody>\n",
       "    <tr>\n",
       "      <th>0</th>\n",
       "      <td>Dog</td>\n",
       "      <td>Golden Retriever</td>\n",
       "      <td>1</td>\n",
       "      <td>5</td>\n",
       "    </tr>\n",
       "    <tr>\n",
       "      <th>1</th>\n",
       "      <td>Dog</td>\n",
       "      <td>German Shepherd</td>\n",
       "      <td>2</td>\n",
       "      <td>5</td>\n",
       "    </tr>\n",
       "    <tr>\n",
       "      <th>2</th>\n",
       "      <td>Dog</td>\n",
       "      <td>Mule</td>\n",
       "      <td>200</td>\n",
       "      <td>1</td>\n",
       "    </tr>\n",
       "    <tr>\n",
       "      <th>3</th>\n",
       "      <td>Cat</td>\n",
       "      <td>Shirazi</td>\n",
       "      <td>5</td>\n",
       "      <td>2</td>\n",
       "    </tr>\n",
       "    <tr>\n",
       "      <th>4</th>\n",
       "      <td>Cat</td>\n",
       "      <td>Siamese</td>\n",
       "      <td>3</td>\n",
       "      <td>3</td>\n",
       "    </tr>\n",
       "    <tr>\n",
       "      <th>5</th>\n",
       "      <td>Cat</td>\n",
       "      <td>Sphynx</td>\n",
       "      <td>7</td>\n",
       "      <td>4</td>\n",
       "    </tr>\n",
       "  </tbody>\n",
       "</table>\n",
       "</div>"
      ],
      "text/plain": [
       "  query_name            result  position  rating\n",
       "0        Dog  Golden Retriever         1       5\n",
       "1        Dog   German Shepherd         2       5\n",
       "2        Dog              Mule       200       1\n",
       "3        Cat           Shirazi         5       2\n",
       "4        Cat           Siamese         3       3\n",
       "5        Cat            Sphynx         7       4"
      ]
     },
     "execution_count": 186,
     "metadata": {},
     "output_type": "execute_result"
    }
   ],
   "source": [
    "pd.read_sql(\"\"\"\n",
    "SELECT *\n",
    "FROM Queries\n",
    "\"\"\", con)"
   ]
  },
  {
   "cell_type": "code",
   "execution_count": 248,
   "id": "2f04c57b",
   "metadata": {},
   "outputs": [
    {
     "data": {
      "text/html": [
       "<div>\n",
       "<style scoped>\n",
       "    .dataframe tbody tr th:only-of-type {\n",
       "        vertical-align: middle;\n",
       "    }\n",
       "\n",
       "    .dataframe tbody tr th {\n",
       "        vertical-align: top;\n",
       "    }\n",
       "\n",
       "    .dataframe thead th {\n",
       "        text-align: right;\n",
       "    }\n",
       "</style>\n",
       "<table border=\"1\" class=\"dataframe\">\n",
       "  <thead>\n",
       "    <tr style=\"text-align: right;\">\n",
       "      <th></th>\n",
       "      <th>query_name</th>\n",
       "      <th>quality</th>\n",
       "      <th>poor_query_percentage</th>\n",
       "    </tr>\n",
       "  </thead>\n",
       "  <tbody>\n",
       "    <tr>\n",
       "      <th>0</th>\n",
       "      <td>Dog</td>\n",
       "      <td>2.50</td>\n",
       "      <td>33.33</td>\n",
       "    </tr>\n",
       "    <tr>\n",
       "      <th>1</th>\n",
       "      <td>Cat</td>\n",
       "      <td>0.66</td>\n",
       "      <td>33.33</td>\n",
       "    </tr>\n",
       "  </tbody>\n",
       "</table>\n",
       "</div>"
      ],
      "text/plain": [
       "  query_name  quality  poor_query_percentage\n",
       "0        Dog     2.50                  33.33\n",
       "1        Cat     0.66                  33.33"
      ]
     },
     "execution_count": 248,
     "metadata": {},
     "output_type": "execute_result"
    }
   ],
   "source": [
    "pd.read_sql(\"\"\"\n",
    "SELECT \n",
    "    query_name,\n",
    "    ROUND(AVG(rating/position), 2) AS quality, \n",
    "    ROUND(SUM(CASE \n",
    "                    WHEN rating < 3 THEN 1 \n",
    "                    ELSE 0 \n",
    "                END\n",
    "                ) / COUNT(*) *100, 2)\n",
    "        AS poor_query_percentage \n",
    "FROM Queries\n",
    "GROUP BY query_name\n",
    "\n",
    "\"\"\", con)"
   ]
  },
  {
   "cell_type": "markdown",
   "id": "e63cc6b1",
   "metadata": {},
   "source": [
    "# Leetcode Question 1050: Actors and Directors Who Cooperated At Least Three Times"
   ]
  },
  {
   "cell_type": "code",
   "execution_count": null,
   "id": "83a5ea3d",
   "metadata": {},
   "outputs": [],
   "source": [
    "Create table If Not Exists ActorDirector (actor_id int, director_id int, timestamp int)\n",
    "Truncate table ActorDirector\n",
    "insert into ActorDirector (actor_id, director_id, timestamp) values ('1', '1', '0')\n",
    "insert into ActorDirector (actor_id, director_id, timestamp) values ('1', '1', '1')\n",
    "insert into ActorDirector (actor_id, director_id, timestamp) values ('1', '1', '2')\n",
    "insert into ActorDirector (actor_id, director_id, timestamp) values ('1', '2', '3')\n",
    "insert into ActorDirector (actor_id, director_id, timestamp) values ('1', '2', '4')\n",
    "insert into ActorDirector (actor_id, director_id, timestamp) values ('2', '1', '5')\n",
    "insert into ActorDirector (actor_id, director_id, timestamp) values ('2', '1', '6')"
   ]
  },
  {
   "cell_type": "code",
   "execution_count": 191,
   "id": "48e35311",
   "metadata": {},
   "outputs": [],
   "source": [
    "database_creator('Leetcode_Q_1050')"
   ]
  },
  {
   "cell_type": "code",
   "execution_count": 192,
   "id": "d525a057",
   "metadata": {},
   "outputs": [],
   "source": [
    "schema = \"actor_id int, director_id int, timestamp int\"\n",
    "data = [('1', '1', '0'),\n",
    "       ('1', '1', '1'),\n",
    "       ('1', '1', '2'),\n",
    "       ('1', '2', '3'),\n",
    "       ('1', '2', '4'),\n",
    "       ('2', '1', '5'),\n",
    "       ('2', '1', '6')]\n",
    "\n",
    "insert_data_to_table(\"Leetcode_Q_1050\", \"ActorDirector\", schema, data)"
   ]
  },
  {
   "cell_type": "code",
   "execution_count": 193,
   "id": "faf1b297",
   "metadata": {},
   "outputs": [],
   "source": [
    "con = connector('Leetcode_Q_1050')"
   ]
  },
  {
   "cell_type": "code",
   "execution_count": 260,
   "id": "4f2318f2",
   "metadata": {},
   "outputs": [
    {
     "data": {
      "text/html": [
       "<div>\n",
       "<style scoped>\n",
       "    .dataframe tbody tr th:only-of-type {\n",
       "        vertical-align: middle;\n",
       "    }\n",
       "\n",
       "    .dataframe tbody tr th {\n",
       "        vertical-align: top;\n",
       "    }\n",
       "\n",
       "    .dataframe thead th {\n",
       "        text-align: right;\n",
       "    }\n",
       "</style>\n",
       "<table border=\"1\" class=\"dataframe\">\n",
       "  <thead>\n",
       "    <tr style=\"text-align: right;\">\n",
       "      <th></th>\n",
       "      <th>actor_id</th>\n",
       "      <th>director_id</th>\n",
       "      <th>timestamp</th>\n",
       "    </tr>\n",
       "  </thead>\n",
       "  <tbody>\n",
       "    <tr>\n",
       "      <th>0</th>\n",
       "      <td>1</td>\n",
       "      <td>1</td>\n",
       "      <td>0</td>\n",
       "    </tr>\n",
       "    <tr>\n",
       "      <th>1</th>\n",
       "      <td>1</td>\n",
       "      <td>1</td>\n",
       "      <td>1</td>\n",
       "    </tr>\n",
       "    <tr>\n",
       "      <th>2</th>\n",
       "      <td>1</td>\n",
       "      <td>1</td>\n",
       "      <td>2</td>\n",
       "    </tr>\n",
       "    <tr>\n",
       "      <th>3</th>\n",
       "      <td>1</td>\n",
       "      <td>2</td>\n",
       "      <td>3</td>\n",
       "    </tr>\n",
       "    <tr>\n",
       "      <th>4</th>\n",
       "      <td>1</td>\n",
       "      <td>2</td>\n",
       "      <td>4</td>\n",
       "    </tr>\n",
       "    <tr>\n",
       "      <th>5</th>\n",
       "      <td>2</td>\n",
       "      <td>1</td>\n",
       "      <td>5</td>\n",
       "    </tr>\n",
       "    <tr>\n",
       "      <th>6</th>\n",
       "      <td>2</td>\n",
       "      <td>1</td>\n",
       "      <td>6</td>\n",
       "    </tr>\n",
       "  </tbody>\n",
       "</table>\n",
       "</div>"
      ],
      "text/plain": [
       "   actor_id  director_id  timestamp\n",
       "0         1            1          0\n",
       "1         1            1          1\n",
       "2         1            1          2\n",
       "3         1            2          3\n",
       "4         1            2          4\n",
       "5         2            1          5\n",
       "6         2            1          6"
      ]
     },
     "execution_count": 260,
     "metadata": {},
     "output_type": "execute_result"
    }
   ],
   "source": [
    "pd.read_sql(\"\"\"\n",
    "SELECT *\n",
    "FROM ActorDirector\n",
    "\"\"\", con)"
   ]
  },
  {
   "cell_type": "code",
   "execution_count": 268,
   "id": "cbd11546",
   "metadata": {},
   "outputs": [
    {
     "data": {
      "text/html": [
       "<div>\n",
       "<style scoped>\n",
       "    .dataframe tbody tr th:only-of-type {\n",
       "        vertical-align: middle;\n",
       "    }\n",
       "\n",
       "    .dataframe tbody tr th {\n",
       "        vertical-align: top;\n",
       "    }\n",
       "\n",
       "    .dataframe thead th {\n",
       "        text-align: right;\n",
       "    }\n",
       "</style>\n",
       "<table border=\"1\" class=\"dataframe\">\n",
       "  <thead>\n",
       "    <tr style=\"text-align: right;\">\n",
       "      <th></th>\n",
       "      <th>actor_id</th>\n",
       "      <th>director_id</th>\n",
       "    </tr>\n",
       "  </thead>\n",
       "  <tbody>\n",
       "    <tr>\n",
       "      <th>0</th>\n",
       "      <td>1</td>\n",
       "      <td>1</td>\n",
       "    </tr>\n",
       "  </tbody>\n",
       "</table>\n",
       "</div>"
      ],
      "text/plain": [
       "   actor_id  director_id\n",
       "0         1            1"
      ]
     },
     "execution_count": 268,
     "metadata": {},
     "output_type": "execute_result"
    }
   ],
   "source": [
    "pd.read_sql(\"\"\"\n",
    "SELECT \n",
    "    actor_id,\n",
    "    director_id\n",
    "FROM ActorDirector\n",
    "GROUP BY actor_id, director_id\n",
    "HAVING COUNT(*) >=3\n",
    "\"\"\", con)"
   ]
  },
  {
   "cell_type": "markdown",
   "id": "1760c28d",
   "metadata": {},
   "source": [
    "# Leetcode Question 1280: Students and Examinations"
   ]
  },
  {
   "cell_type": "code",
   "execution_count": null,
   "id": "45720d51",
   "metadata": {},
   "outputs": [],
   "source": [
    "Create table If Not Exists Students (student_id int, student_name varchar(20))\n",
    "Create table If Not Exists Subjects (subject_name varchar(20))\n",
    "Create table If Not Exists Examinations (student_id int, subject_name varchar(20))\n",
    "Truncate table Students\n",
    "insert into Students (student_id, student_name) values ('1', 'Alice')\n",
    "insert into Students (student_id, student_name) values ('2', 'Bob')\n",
    "insert into Students (student_id, student_name) values ('13', 'John')\n",
    "insert into Students (student_id, student_name) values ('6', 'Alex')\n",
    "Truncate table Subjects\n",
    "insert into Subjects (subject_name) values ('Math')\n",
    "insert into Subjects (subject_name) values ('Physics')\n",
    "insert into Subjects (subject_name) values ('Programming')\n",
    "Truncate table Examinations\n",
    "insert into Examinations (student_id, subject_name) values ('1', 'Math')\n",
    "insert into Examinations (student_id, subject_name) values ('1', 'Physics')\n",
    "insert into Examinations (student_id, subject_name) values ('1', 'Programming')\n",
    "insert into Examinations (student_id, subject_name) values ('2', 'Programming')\n",
    "insert into Examinations (student_id, subject_name) values ('1', 'Physics')\n",
    "insert into Examinations (student_id, subject_name) values ('1', 'Math')\n",
    "insert into Examinations (student_id, subject_name) values ('13', 'Math')\n",
    "insert into Examinations (student_id, subject_name) values ('13', 'Programming')\n",
    "insert into Examinations (student_id, subject_name) values ('13', 'Physics')\n",
    "insert into Examinations (student_id, subject_name) values ('2', 'Math')\n",
    "insert into Examinations (student_id, subject_name) values ('1', 'Math')"
   ]
  },
  {
   "cell_type": "code",
   "execution_count": 194,
   "id": "14feb833",
   "metadata": {},
   "outputs": [],
   "source": [
    "database_creator('Leetcode_Q_1280')"
   ]
  },
  {
   "cell_type": "code",
   "execution_count": 195,
   "id": "774cacf1",
   "metadata": {},
   "outputs": [],
   "source": [
    "schema = \"student_id int, student_name varchar(20)\"\n",
    "data = [('1', 'Alice'),\n",
    "       ('2', 'Bob'),\n",
    "       ('13', 'John'),\n",
    "       ('6', 'Alex')]\n",
    "\n",
    "insert_data_to_table(\"Leetcode_Q_1280\", \"Students\", schema, data)"
   ]
  },
  {
   "cell_type": "code",
   "execution_count": 196,
   "id": "994dd2cb",
   "metadata": {
    "scrolled": false
   },
   "outputs": [],
   "source": [
    "schema = \"subject_name varchar(20)\"\n",
    "data = [('Math'), ('Physics'), ('Programming')]\n",
    "\n",
    "insert_data_to_table_modified(\"Leetcode_Q_1280\", \"Subjects\", schema, data)"
   ]
  },
  {
   "cell_type": "code",
   "execution_count": 197,
   "id": "a7ec180b",
   "metadata": {},
   "outputs": [],
   "source": [
    "schema = \"student_id int, subject_name varchar(20)\"\n",
    "data = [('1', 'Math'),\n",
    "       ('1', 'Physics'),\n",
    "       ('1', 'Programming'),\n",
    "       ('2', 'Programming'),\n",
    "       ('1', 'Physics'),\n",
    "       ('1', 'Math'),\n",
    "       ('13', 'Math'),\n",
    "       ('13', 'Programming'),\n",
    "       ('13', 'Physics'),\n",
    "       ('2', 'Math'),\n",
    "       ('1', 'Math')]\n",
    "\n",
    "insert_data_to_table(\"Leetcode_Q_1280\", \"Examinations\", schema, data)"
   ]
  },
  {
   "cell_type": "code",
   "execution_count": 198,
   "id": "dced40fa",
   "metadata": {},
   "outputs": [],
   "source": [
    "con = connector('Leetcode_Q_1280')"
   ]
  },
  {
   "cell_type": "code",
   "execution_count": 270,
   "id": "3f3d36bd",
   "metadata": {},
   "outputs": [
    {
     "data": {
      "text/html": [
       "<div>\n",
       "<style scoped>\n",
       "    .dataframe tbody tr th:only-of-type {\n",
       "        vertical-align: middle;\n",
       "    }\n",
       "\n",
       "    .dataframe tbody tr th {\n",
       "        vertical-align: top;\n",
       "    }\n",
       "\n",
       "    .dataframe thead th {\n",
       "        text-align: right;\n",
       "    }\n",
       "</style>\n",
       "<table border=\"1\" class=\"dataframe\">\n",
       "  <thead>\n",
       "    <tr style=\"text-align: right;\">\n",
       "      <th></th>\n",
       "      <th>student_id</th>\n",
       "      <th>student_name</th>\n",
       "    </tr>\n",
       "  </thead>\n",
       "  <tbody>\n",
       "    <tr>\n",
       "      <th>0</th>\n",
       "      <td>1</td>\n",
       "      <td>Alice</td>\n",
       "    </tr>\n",
       "    <tr>\n",
       "      <th>1</th>\n",
       "      <td>2</td>\n",
       "      <td>Bob</td>\n",
       "    </tr>\n",
       "    <tr>\n",
       "      <th>2</th>\n",
       "      <td>13</td>\n",
       "      <td>John</td>\n",
       "    </tr>\n",
       "    <tr>\n",
       "      <th>3</th>\n",
       "      <td>6</td>\n",
       "      <td>Alex</td>\n",
       "    </tr>\n",
       "  </tbody>\n",
       "</table>\n",
       "</div>"
      ],
      "text/plain": [
       "   student_id student_name\n",
       "0           1        Alice\n",
       "1           2          Bob\n",
       "2          13         John\n",
       "3           6         Alex"
      ]
     },
     "execution_count": 270,
     "metadata": {},
     "output_type": "execute_result"
    }
   ],
   "source": [
    "pd.read_sql(\"\"\"\n",
    "SELECT *\n",
    "FROM Students\n",
    "\"\"\", con)"
   ]
  },
  {
   "cell_type": "code",
   "execution_count": 271,
   "id": "8838b71e",
   "metadata": {},
   "outputs": [
    {
     "data": {
      "text/html": [
       "<div>\n",
       "<style scoped>\n",
       "    .dataframe tbody tr th:only-of-type {\n",
       "        vertical-align: middle;\n",
       "    }\n",
       "\n",
       "    .dataframe tbody tr th {\n",
       "        vertical-align: top;\n",
       "    }\n",
       "\n",
       "    .dataframe thead th {\n",
       "        text-align: right;\n",
       "    }\n",
       "</style>\n",
       "<table border=\"1\" class=\"dataframe\">\n",
       "  <thead>\n",
       "    <tr style=\"text-align: right;\">\n",
       "      <th></th>\n",
       "      <th>subject_name</th>\n",
       "    </tr>\n",
       "  </thead>\n",
       "  <tbody>\n",
       "    <tr>\n",
       "      <th>0</th>\n",
       "      <td>Math</td>\n",
       "    </tr>\n",
       "    <tr>\n",
       "      <th>1</th>\n",
       "      <td>Physics</td>\n",
       "    </tr>\n",
       "    <tr>\n",
       "      <th>2</th>\n",
       "      <td>Programming</td>\n",
       "    </tr>\n",
       "  </tbody>\n",
       "</table>\n",
       "</div>"
      ],
      "text/plain": [
       "  subject_name\n",
       "0         Math\n",
       "1      Physics\n",
       "2  Programming"
      ]
     },
     "execution_count": 271,
     "metadata": {},
     "output_type": "execute_result"
    }
   ],
   "source": [
    "pd.read_sql(\"\"\"\n",
    "SELECT *\n",
    "FROM Subjects\n",
    "\"\"\", con) "
   ]
  },
  {
   "cell_type": "code",
   "execution_count": 272,
   "id": "74fade7d",
   "metadata": {},
   "outputs": [
    {
     "data": {
      "text/html": [
       "<div>\n",
       "<style scoped>\n",
       "    .dataframe tbody tr th:only-of-type {\n",
       "        vertical-align: middle;\n",
       "    }\n",
       "\n",
       "    .dataframe tbody tr th {\n",
       "        vertical-align: top;\n",
       "    }\n",
       "\n",
       "    .dataframe thead th {\n",
       "        text-align: right;\n",
       "    }\n",
       "</style>\n",
       "<table border=\"1\" class=\"dataframe\">\n",
       "  <thead>\n",
       "    <tr style=\"text-align: right;\">\n",
       "      <th></th>\n",
       "      <th>student_id</th>\n",
       "      <th>subject_name</th>\n",
       "    </tr>\n",
       "  </thead>\n",
       "  <tbody>\n",
       "    <tr>\n",
       "      <th>0</th>\n",
       "      <td>1</td>\n",
       "      <td>Math</td>\n",
       "    </tr>\n",
       "    <tr>\n",
       "      <th>1</th>\n",
       "      <td>1</td>\n",
       "      <td>Physics</td>\n",
       "    </tr>\n",
       "    <tr>\n",
       "      <th>2</th>\n",
       "      <td>1</td>\n",
       "      <td>Programming</td>\n",
       "    </tr>\n",
       "    <tr>\n",
       "      <th>3</th>\n",
       "      <td>2</td>\n",
       "      <td>Programming</td>\n",
       "    </tr>\n",
       "    <tr>\n",
       "      <th>4</th>\n",
       "      <td>1</td>\n",
       "      <td>Physics</td>\n",
       "    </tr>\n",
       "    <tr>\n",
       "      <th>5</th>\n",
       "      <td>1</td>\n",
       "      <td>Math</td>\n",
       "    </tr>\n",
       "    <tr>\n",
       "      <th>6</th>\n",
       "      <td>13</td>\n",
       "      <td>Math</td>\n",
       "    </tr>\n",
       "    <tr>\n",
       "      <th>7</th>\n",
       "      <td>13</td>\n",
       "      <td>Programming</td>\n",
       "    </tr>\n",
       "    <tr>\n",
       "      <th>8</th>\n",
       "      <td>13</td>\n",
       "      <td>Physics</td>\n",
       "    </tr>\n",
       "    <tr>\n",
       "      <th>9</th>\n",
       "      <td>2</td>\n",
       "      <td>Math</td>\n",
       "    </tr>\n",
       "    <tr>\n",
       "      <th>10</th>\n",
       "      <td>1</td>\n",
       "      <td>Math</td>\n",
       "    </tr>\n",
       "  </tbody>\n",
       "</table>\n",
       "</div>"
      ],
      "text/plain": [
       "    student_id subject_name\n",
       "0            1         Math\n",
       "1            1      Physics\n",
       "2            1  Programming\n",
       "3            2  Programming\n",
       "4            1      Physics\n",
       "5            1         Math\n",
       "6           13         Math\n",
       "7           13  Programming\n",
       "8           13      Physics\n",
       "9            2         Math\n",
       "10           1         Math"
      ]
     },
     "execution_count": 272,
     "metadata": {},
     "output_type": "execute_result"
    }
   ],
   "source": [
    "pd.read_sql(\"\"\"\n",
    "SELECT *\n",
    "FROM Examinations\n",
    "\"\"\", con) "
   ]
  },
  {
   "cell_type": "code",
   "execution_count": 330,
   "id": "3674d19c",
   "metadata": {},
   "outputs": [
    {
     "data": {
      "text/html": [
       "<div>\n",
       "<style scoped>\n",
       "    .dataframe tbody tr th:only-of-type {\n",
       "        vertical-align: middle;\n",
       "    }\n",
       "\n",
       "    .dataframe tbody tr th {\n",
       "        vertical-align: top;\n",
       "    }\n",
       "\n",
       "    .dataframe thead th {\n",
       "        text-align: right;\n",
       "    }\n",
       "</style>\n",
       "<table border=\"1\" class=\"dataframe\">\n",
       "  <thead>\n",
       "    <tr style=\"text-align: right;\">\n",
       "      <th></th>\n",
       "      <th>student_id</th>\n",
       "      <th>student_name</th>\n",
       "      <th>subject_name</th>\n",
       "      <th>attended_exams</th>\n",
       "    </tr>\n",
       "  </thead>\n",
       "  <tbody>\n",
       "    <tr>\n",
       "      <th>0</th>\n",
       "      <td>1</td>\n",
       "      <td>Alice</td>\n",
       "      <td>Math</td>\n",
       "      <td>3</td>\n",
       "    </tr>\n",
       "    <tr>\n",
       "      <th>1</th>\n",
       "      <td>1</td>\n",
       "      <td>Alice</td>\n",
       "      <td>Physics</td>\n",
       "      <td>2</td>\n",
       "    </tr>\n",
       "    <tr>\n",
       "      <th>2</th>\n",
       "      <td>1</td>\n",
       "      <td>Alice</td>\n",
       "      <td>Programming</td>\n",
       "      <td>1</td>\n",
       "    </tr>\n",
       "    <tr>\n",
       "      <th>3</th>\n",
       "      <td>2</td>\n",
       "      <td>Bob</td>\n",
       "      <td>Math</td>\n",
       "      <td>1</td>\n",
       "    </tr>\n",
       "    <tr>\n",
       "      <th>4</th>\n",
       "      <td>2</td>\n",
       "      <td>Bob</td>\n",
       "      <td>Physics</td>\n",
       "      <td>0</td>\n",
       "    </tr>\n",
       "    <tr>\n",
       "      <th>5</th>\n",
       "      <td>2</td>\n",
       "      <td>Bob</td>\n",
       "      <td>Programming</td>\n",
       "      <td>1</td>\n",
       "    </tr>\n",
       "    <tr>\n",
       "      <th>6</th>\n",
       "      <td>6</td>\n",
       "      <td>Alex</td>\n",
       "      <td>Math</td>\n",
       "      <td>0</td>\n",
       "    </tr>\n",
       "    <tr>\n",
       "      <th>7</th>\n",
       "      <td>6</td>\n",
       "      <td>Alex</td>\n",
       "      <td>Physics</td>\n",
       "      <td>0</td>\n",
       "    </tr>\n",
       "    <tr>\n",
       "      <th>8</th>\n",
       "      <td>6</td>\n",
       "      <td>Alex</td>\n",
       "      <td>Programming</td>\n",
       "      <td>0</td>\n",
       "    </tr>\n",
       "    <tr>\n",
       "      <th>9</th>\n",
       "      <td>13</td>\n",
       "      <td>John</td>\n",
       "      <td>Math</td>\n",
       "      <td>1</td>\n",
       "    </tr>\n",
       "    <tr>\n",
       "      <th>10</th>\n",
       "      <td>13</td>\n",
       "      <td>John</td>\n",
       "      <td>Physics</td>\n",
       "      <td>1</td>\n",
       "    </tr>\n",
       "    <tr>\n",
       "      <th>11</th>\n",
       "      <td>13</td>\n",
       "      <td>John</td>\n",
       "      <td>Programming</td>\n",
       "      <td>1</td>\n",
       "    </tr>\n",
       "  </tbody>\n",
       "</table>\n",
       "</div>"
      ],
      "text/plain": [
       "    student_id student_name subject_name  attended_exams\n",
       "0            1        Alice         Math               3\n",
       "1            1        Alice      Physics               2\n",
       "2            1        Alice  Programming               1\n",
       "3            2          Bob         Math               1\n",
       "4            2          Bob      Physics               0\n",
       "5            2          Bob  Programming               1\n",
       "6            6         Alex         Math               0\n",
       "7            6         Alex      Physics               0\n",
       "8            6         Alex  Programming               0\n",
       "9           13         John         Math               1\n",
       "10          13         John      Physics               1\n",
       "11          13         John  Programming               1"
      ]
     },
     "execution_count": 330,
     "metadata": {},
     "output_type": "execute_result"
    }
   ],
   "source": [
    "pd.read_sql(\"\"\"\n",
    "SELECT \n",
    "    st.student_id,\n",
    "    st.student_name,\n",
    "    su.subject_name, \n",
    "    COUNT(e.subject_name) AS attended_exams\n",
    "FROM Students st\n",
    "JOIN Subjects su\n",
    "LEFT JOIN Examinations e\n",
    "    ON st.student_id = e.student_id AND\n",
    "       su.subject_name = e.subject_name\n",
    "GROUP BY st.student_id, st.student_name, su.subject_name\n",
    "ORDER BY student_id, student_name\n",
    "\"\"\", con)"
   ]
  },
  {
   "cell_type": "markdown",
   "id": "290e4a19",
   "metadata": {},
   "source": [
    "# Leetcode Question 595: Big Countries"
   ]
  },
  {
   "cell_type": "code",
   "execution_count": null,
   "id": "5fbde884",
   "metadata": {},
   "outputs": [],
   "source": [
    "Create table If Not Exists World (name varchar(255), continent varchar(255), area int, population int, gdp bigint)\n",
    "Truncate table World\n",
    "insert into World (name, continent, area, population, gdp) values ('Afghanistan', 'Asia', '652230', '25500100', '20343000000')\n",
    "insert into World (name, continent, area, population, gdp) values ('Albania', 'Europe', '28748', '2831741', '12960000000')\n",
    "insert into World (name, continent, area, population, gdp) values ('Algeria', 'Africa', '2381741', '37100000', '188681000000')\n",
    "insert into World (name, continent, area, population, gdp) values ('Andorra', 'Europe', '468', '78115', '3712000000')\n",
    "insert into World (name, continent, area, population, gdp) values ('Angola', 'Africa', '1246700', '20609294', '100990000000')"
   ]
  },
  {
   "cell_type": "code",
   "execution_count": 199,
   "id": "34f5d838",
   "metadata": {},
   "outputs": [],
   "source": [
    "database_creator('Leetcode_Q_595')"
   ]
  },
  {
   "cell_type": "code",
   "execution_count": 200,
   "id": "e5dc4471",
   "metadata": {},
   "outputs": [],
   "source": [
    "schema = \"name varchar(255), continent varchar(255), area int, population int, gdp bigint\"\n",
    "data = [('Afghanistan', 'Asia', '652230', '25500100', '20343000000'),\n",
    "       ('Albania', 'Europe', '28748', '2831741', '12960000000'),\n",
    "       ('Algeria', 'Africa', '2381741', '37100000', '188681000000'),\n",
    "       ('Andorra', 'Europe', '468', '78115', '3712000000'),\n",
    "        ('Angola', 'Africa', '1246700', '20609294', '100990000000')]\n",
    "\n",
    "insert_data_to_table(\"Leetcode_Q_595\", \"World\", schema, data)"
   ]
  },
  {
   "cell_type": "code",
   "execution_count": 201,
   "id": "fb7bdb07",
   "metadata": {},
   "outputs": [],
   "source": [
    "con = connector('Leetcode_Q_595')"
   ]
  },
  {
   "cell_type": "code",
   "execution_count": 5,
   "id": "5c27004d",
   "metadata": {},
   "outputs": [
    {
     "data": {
      "text/html": [
       "<div>\n",
       "<style scoped>\n",
       "    .dataframe tbody tr th:only-of-type {\n",
       "        vertical-align: middle;\n",
       "    }\n",
       "\n",
       "    .dataframe tbody tr th {\n",
       "        vertical-align: top;\n",
       "    }\n",
       "\n",
       "    .dataframe thead th {\n",
       "        text-align: right;\n",
       "    }\n",
       "</style>\n",
       "<table border=\"1\" class=\"dataframe\">\n",
       "  <thead>\n",
       "    <tr style=\"text-align: right;\">\n",
       "      <th></th>\n",
       "      <th>name</th>\n",
       "      <th>continent</th>\n",
       "      <th>area</th>\n",
       "      <th>population</th>\n",
       "      <th>gdp</th>\n",
       "    </tr>\n",
       "  </thead>\n",
       "  <tbody>\n",
       "    <tr>\n",
       "      <th>0</th>\n",
       "      <td>Afghanistan</td>\n",
       "      <td>Asia</td>\n",
       "      <td>652230</td>\n",
       "      <td>25500100</td>\n",
       "      <td>20343000000</td>\n",
       "    </tr>\n",
       "    <tr>\n",
       "      <th>1</th>\n",
       "      <td>Albania</td>\n",
       "      <td>Europe</td>\n",
       "      <td>28748</td>\n",
       "      <td>2831741</td>\n",
       "      <td>12960000000</td>\n",
       "    </tr>\n",
       "    <tr>\n",
       "      <th>2</th>\n",
       "      <td>Algeria</td>\n",
       "      <td>Africa</td>\n",
       "      <td>2381741</td>\n",
       "      <td>37100000</td>\n",
       "      <td>188681000000</td>\n",
       "    </tr>\n",
       "    <tr>\n",
       "      <th>3</th>\n",
       "      <td>Andorra</td>\n",
       "      <td>Europe</td>\n",
       "      <td>468</td>\n",
       "      <td>78115</td>\n",
       "      <td>3712000000</td>\n",
       "    </tr>\n",
       "    <tr>\n",
       "      <th>4</th>\n",
       "      <td>Angola</td>\n",
       "      <td>Africa</td>\n",
       "      <td>1246700</td>\n",
       "      <td>20609294</td>\n",
       "      <td>100990000000</td>\n",
       "    </tr>\n",
       "  </tbody>\n",
       "</table>\n",
       "</div>"
      ],
      "text/plain": [
       "          name continent     area  population           gdp\n",
       "0  Afghanistan      Asia   652230    25500100   20343000000\n",
       "1      Albania    Europe    28748     2831741   12960000000\n",
       "2      Algeria    Africa  2381741    37100000  188681000000\n",
       "3      Andorra    Europe      468       78115    3712000000\n",
       "4       Angola    Africa  1246700    20609294  100990000000"
      ]
     },
     "execution_count": 5,
     "metadata": {},
     "output_type": "execute_result"
    }
   ],
   "source": [
    "pd.read_sql(\"\"\"\n",
    "SELECT *\n",
    "FROM World\n",
    "\"\"\", con)"
   ]
  },
  {
   "cell_type": "code",
   "execution_count": 13,
   "id": "8d45f22b",
   "metadata": {},
   "outputs": [
    {
     "data": {
      "text/html": [
       "<div>\n",
       "<style scoped>\n",
       "    .dataframe tbody tr th:only-of-type {\n",
       "        vertical-align: middle;\n",
       "    }\n",
       "\n",
       "    .dataframe tbody tr th {\n",
       "        vertical-align: top;\n",
       "    }\n",
       "\n",
       "    .dataframe thead th {\n",
       "        text-align: right;\n",
       "    }\n",
       "</style>\n",
       "<table border=\"1\" class=\"dataframe\">\n",
       "  <thead>\n",
       "    <tr style=\"text-align: right;\">\n",
       "      <th></th>\n",
       "      <th>name</th>\n",
       "      <th>population</th>\n",
       "      <th>area</th>\n",
       "    </tr>\n",
       "  </thead>\n",
       "  <tbody>\n",
       "    <tr>\n",
       "      <th>0</th>\n",
       "      <td>Afghanistan</td>\n",
       "      <td>25500100</td>\n",
       "      <td>652230</td>\n",
       "    </tr>\n",
       "    <tr>\n",
       "      <th>1</th>\n",
       "      <td>Algeria</td>\n",
       "      <td>37100000</td>\n",
       "      <td>2381741</td>\n",
       "    </tr>\n",
       "  </tbody>\n",
       "</table>\n",
       "</div>"
      ],
      "text/plain": [
       "          name  population     area\n",
       "0  Afghanistan    25500100   652230\n",
       "1      Algeria    37100000  2381741"
      ]
     },
     "execution_count": 13,
     "metadata": {},
     "output_type": "execute_result"
    }
   ],
   "source": [
    "pd.read_sql(\"\"\"\n",
    "SELECT \n",
    "    name,\n",
    "    population,\n",
    "    area\n",
    "FROM World\n",
    "WHERE area >= 3000000 OR population >= 25000000\n",
    "\"\"\", con)"
   ]
  },
  {
   "cell_type": "markdown",
   "id": "8c3368be",
   "metadata": {},
   "source": [
    "# Leetcode Question 584: Find Customer Referee"
   ]
  },
  {
   "cell_type": "code",
   "execution_count": null,
   "id": "d6c0ab06",
   "metadata": {},
   "outputs": [],
   "source": [
    "Create table If Not Exists Customer (id int, name varchar(25), referee_id int)\n",
    "Truncate table Customer\n",
    "insert into Customer (id, name, referee_id) values ('1', 'Will', 'None')\n",
    "insert into Customer (id, name, referee_id) values ('2', 'Jane', 'None')\n",
    "insert into Customer (id, name, referee_id) values ('3', 'Alex', '2')\n",
    "insert into Customer (id, name, referee_id) values ('4', 'Bill', 'None')\n",
    "insert into Customer (id, name, referee_id) values ('5', 'Zack', '1')\n",
    "insert into Customer (id, name, referee_id) values ('6', 'Mark', '2')"
   ]
  },
  {
   "cell_type": "code",
   "execution_count": 203,
   "id": "c735f6b2",
   "metadata": {},
   "outputs": [],
   "source": [
    "database_creator('Leetcode_Q_584')"
   ]
  },
  {
   "cell_type": "code",
   "execution_count": 204,
   "id": "e478cbb1",
   "metadata": {},
   "outputs": [],
   "source": [
    "schema = \"id int, name varchar(25), referee_id int\"\n",
    "data = [('1', 'Will', None),\n",
    "       ('2', 'Jane', None),\n",
    "       ('3', 'Alex', '2'),\n",
    "       ('4', 'Bill', None),\n",
    "       ('5', 'Zack', '1'),\n",
    "       ('6', 'Mark', '2')]\n",
    "\n",
    "insert_data_to_table(\"Leetcode_Q_584\", \"Customer\", schema, data)"
   ]
  },
  {
   "cell_type": "code",
   "execution_count": 205,
   "id": "c5099a0c",
   "metadata": {},
   "outputs": [],
   "source": [
    "con = connector('Leetcode_Q_584')"
   ]
  },
  {
   "cell_type": "code",
   "execution_count": 5,
   "id": "51465685",
   "metadata": {},
   "outputs": [
    {
     "data": {
      "text/html": [
       "<div>\n",
       "<style scoped>\n",
       "    .dataframe tbody tr th:only-of-type {\n",
       "        vertical-align: middle;\n",
       "    }\n",
       "\n",
       "    .dataframe tbody tr th {\n",
       "        vertical-align: top;\n",
       "    }\n",
       "\n",
       "    .dataframe thead th {\n",
       "        text-align: right;\n",
       "    }\n",
       "</style>\n",
       "<table border=\"1\" class=\"dataframe\">\n",
       "  <thead>\n",
       "    <tr style=\"text-align: right;\">\n",
       "      <th></th>\n",
       "      <th>id</th>\n",
       "      <th>name</th>\n",
       "      <th>referee_id</th>\n",
       "    </tr>\n",
       "  </thead>\n",
       "  <tbody>\n",
       "    <tr>\n",
       "      <th>0</th>\n",
       "      <td>1</td>\n",
       "      <td>Will</td>\n",
       "      <td>NaN</td>\n",
       "    </tr>\n",
       "    <tr>\n",
       "      <th>1</th>\n",
       "      <td>2</td>\n",
       "      <td>Jane</td>\n",
       "      <td>NaN</td>\n",
       "    </tr>\n",
       "    <tr>\n",
       "      <th>2</th>\n",
       "      <td>3</td>\n",
       "      <td>Alex</td>\n",
       "      <td>2.0</td>\n",
       "    </tr>\n",
       "    <tr>\n",
       "      <th>3</th>\n",
       "      <td>4</td>\n",
       "      <td>Bill</td>\n",
       "      <td>NaN</td>\n",
       "    </tr>\n",
       "    <tr>\n",
       "      <th>4</th>\n",
       "      <td>5</td>\n",
       "      <td>Zack</td>\n",
       "      <td>1.0</td>\n",
       "    </tr>\n",
       "    <tr>\n",
       "      <th>5</th>\n",
       "      <td>6</td>\n",
       "      <td>Mark</td>\n",
       "      <td>2.0</td>\n",
       "    </tr>\n",
       "  </tbody>\n",
       "</table>\n",
       "</div>"
      ],
      "text/plain": [
       "   id  name  referee_id\n",
       "0   1  Will         NaN\n",
       "1   2  Jane         NaN\n",
       "2   3  Alex         2.0\n",
       "3   4  Bill         NaN\n",
       "4   5  Zack         1.0\n",
       "5   6  Mark         2.0"
      ]
     },
     "execution_count": 5,
     "metadata": {},
     "output_type": "execute_result"
    }
   ],
   "source": [
    "pd.read_sql(\"\"\"\n",
    "SELECT *\n",
    "FROM Customer\n",
    "\"\"\", con)"
   ]
  },
  {
   "cell_type": "code",
   "execution_count": 8,
   "id": "9a0a0d8f",
   "metadata": {},
   "outputs": [
    {
     "data": {
      "text/html": [
       "<div>\n",
       "<style scoped>\n",
       "    .dataframe tbody tr th:only-of-type {\n",
       "        vertical-align: middle;\n",
       "    }\n",
       "\n",
       "    .dataframe tbody tr th {\n",
       "        vertical-align: top;\n",
       "    }\n",
       "\n",
       "    .dataframe thead th {\n",
       "        text-align: right;\n",
       "    }\n",
       "</style>\n",
       "<table border=\"1\" class=\"dataframe\">\n",
       "  <thead>\n",
       "    <tr style=\"text-align: right;\">\n",
       "      <th></th>\n",
       "      <th>name</th>\n",
       "    </tr>\n",
       "  </thead>\n",
       "  <tbody>\n",
       "    <tr>\n",
       "      <th>0</th>\n",
       "      <td>Will</td>\n",
       "    </tr>\n",
       "    <tr>\n",
       "      <th>1</th>\n",
       "      <td>Jane</td>\n",
       "    </tr>\n",
       "    <tr>\n",
       "      <th>2</th>\n",
       "      <td>Bill</td>\n",
       "    </tr>\n",
       "    <tr>\n",
       "      <th>3</th>\n",
       "      <td>Zack</td>\n",
       "    </tr>\n",
       "  </tbody>\n",
       "</table>\n",
       "</div>"
      ],
      "text/plain": [
       "   name\n",
       "0  Will\n",
       "1  Jane\n",
       "2  Bill\n",
       "3  Zack"
      ]
     },
     "execution_count": 8,
     "metadata": {},
     "output_type": "execute_result"
    }
   ],
   "source": [
    "pd.read_sql(\"\"\"\n",
    "SELECT name\n",
    "FROM Customer\n",
    "WHERE referee_id != 2 or referee_id IS NULL\n",
    "\"\"\", con)"
   ]
  },
  {
   "cell_type": "markdown",
   "id": "2bd8f34c",
   "metadata": {},
   "source": [
    "# Leetcode Question 181: Employees Earning More Than Their Managers"
   ]
  },
  {
   "cell_type": "code",
   "execution_count": null,
   "id": "5dc76f6d",
   "metadata": {},
   "outputs": [],
   "source": [
    "Create table If Not Exists Employee (id int, name varchar(255), salary int, managerId int)\n",
    "Truncate table Employee\n",
    "insert into Employee (id, name, salary, managerId) values ('1', 'Joe', '70000', '3')\n",
    "insert into Employee (id, name, salary, managerId) values ('2', 'Henry', '80000', '4')\n",
    "insert into Employee (id, name, salary, managerId) values ('3', 'Sam', '60000', 'None')\n",
    "insert into Employee (id, name, salary, managerId) values ('4', 'Max', '90000', 'None')"
   ]
  },
  {
   "cell_type": "code",
   "execution_count": 206,
   "id": "4b599b83",
   "metadata": {},
   "outputs": [],
   "source": [
    "database_creator('Leetcode_Q_181')"
   ]
  },
  {
   "cell_type": "code",
   "execution_count": 207,
   "id": "b5ef57da",
   "metadata": {},
   "outputs": [],
   "source": [
    "schema = \"id int, name varchar(255), salary int, managerId int\"\n",
    "data = [('1', 'Joe', '70000', '3'),\n",
    "       ('2', 'Henry', '80000', '4'),\n",
    "       ('3', 'Sam', '60000', None),\n",
    "       ('4', 'Max', '90000', None)]\n",
    "\n",
    "insert_data_to_table(\"Leetcode_Q_181\", \"Employee\", schema, data)"
   ]
  },
  {
   "cell_type": "code",
   "execution_count": 208,
   "id": "adea5b35",
   "metadata": {},
   "outputs": [],
   "source": [
    "con = connector('Leetcode_Q_181')"
   ]
  },
  {
   "cell_type": "code",
   "execution_count": 10,
   "id": "c492df6a",
   "metadata": {},
   "outputs": [
    {
     "data": {
      "text/html": [
       "<div>\n",
       "<style scoped>\n",
       "    .dataframe tbody tr th:only-of-type {\n",
       "        vertical-align: middle;\n",
       "    }\n",
       "\n",
       "    .dataframe tbody tr th {\n",
       "        vertical-align: top;\n",
       "    }\n",
       "\n",
       "    .dataframe thead th {\n",
       "        text-align: right;\n",
       "    }\n",
       "</style>\n",
       "<table border=\"1\" class=\"dataframe\">\n",
       "  <thead>\n",
       "    <tr style=\"text-align: right;\">\n",
       "      <th></th>\n",
       "      <th>id</th>\n",
       "      <th>name</th>\n",
       "      <th>salary</th>\n",
       "      <th>managerId</th>\n",
       "    </tr>\n",
       "  </thead>\n",
       "  <tbody>\n",
       "    <tr>\n",
       "      <th>0</th>\n",
       "      <td>1</td>\n",
       "      <td>Joe</td>\n",
       "      <td>70000</td>\n",
       "      <td>3.0</td>\n",
       "    </tr>\n",
       "    <tr>\n",
       "      <th>1</th>\n",
       "      <td>2</td>\n",
       "      <td>Henry</td>\n",
       "      <td>80000</td>\n",
       "      <td>4.0</td>\n",
       "    </tr>\n",
       "    <tr>\n",
       "      <th>2</th>\n",
       "      <td>3</td>\n",
       "      <td>Sam</td>\n",
       "      <td>60000</td>\n",
       "      <td>NaN</td>\n",
       "    </tr>\n",
       "    <tr>\n",
       "      <th>3</th>\n",
       "      <td>4</td>\n",
       "      <td>Max</td>\n",
       "      <td>90000</td>\n",
       "      <td>NaN</td>\n",
       "    </tr>\n",
       "  </tbody>\n",
       "</table>\n",
       "</div>"
      ],
      "text/plain": [
       "   id   name  salary  managerId\n",
       "0   1    Joe   70000        3.0\n",
       "1   2  Henry   80000        4.0\n",
       "2   3    Sam   60000        NaN\n",
       "3   4    Max   90000        NaN"
      ]
     },
     "execution_count": 10,
     "metadata": {},
     "output_type": "execute_result"
    }
   ],
   "source": [
    "pd.read_sql(\"\"\"\n",
    "SELECT *\n",
    "FROM Employee\n",
    "\"\"\", con)"
   ]
  },
  {
   "cell_type": "code",
   "execution_count": 209,
   "id": "b2aa11a7",
   "metadata": {},
   "outputs": [
    {
     "name": "stderr",
     "output_type": "stream",
     "text": [
      "/tmp/ipykernel_4765/937966064.py:1: UserWarning: pandas only supports SQLAlchemy connectable (engine/connection) or database string URI or sqlite3 DBAPI2 connection. Other DBAPI2 objects are not tested. Please consider using SQLAlchemy.\n",
      "  pd.read_sql(\"\"\"\n"
     ]
    },
    {
     "data": {
      "text/html": [
       "<div>\n",
       "<style scoped>\n",
       "    .dataframe tbody tr th:only-of-type {\n",
       "        vertical-align: middle;\n",
       "    }\n",
       "\n",
       "    .dataframe tbody tr th {\n",
       "        vertical-align: top;\n",
       "    }\n",
       "\n",
       "    .dataframe thead th {\n",
       "        text-align: right;\n",
       "    }\n",
       "</style>\n",
       "<table border=\"1\" class=\"dataframe\">\n",
       "  <thead>\n",
       "    <tr style=\"text-align: right;\">\n",
       "      <th></th>\n",
       "      <th>Employee</th>\n",
       "    </tr>\n",
       "  </thead>\n",
       "  <tbody>\n",
       "    <tr>\n",
       "      <th>0</th>\n",
       "      <td>Joe</td>\n",
       "    </tr>\n",
       "  </tbody>\n",
       "</table>\n",
       "</div>"
      ],
      "text/plain": [
       "  Employee\n",
       "0      Joe"
      ]
     },
     "execution_count": 209,
     "metadata": {},
     "output_type": "execute_result"
    }
   ],
   "source": [
    "pd.read_sql(\"\"\"\n",
    "SELECT e.name AS Employee\n",
    "FROM Employee e\n",
    "JOIN Employee em\n",
    "    ON e.managerId = em.id\n",
    "WHERE e.salary > em.salary\n",
    "\"\"\", con)"
   ]
  },
  {
   "cell_type": "markdown",
   "id": "2e85e8f9",
   "metadata": {},
   "source": [
    "# Leetcode Question 607: Sales Person"
   ]
  },
  {
   "cell_type": "code",
   "execution_count": null,
   "id": "786db17b",
   "metadata": {},
   "outputs": [],
   "source": [
    "Create table If Not Exists SalesPerson (sales_id int, name varchar(255), salary int, commission_rate int, hire_date date)\n",
    "Create table If Not Exists Company (com_id int, name varchar(255), city varchar(255))\n",
    "Create table If Not Exists Orders (order_id int, order_date date, com_id int, sales_id int, amount int)\n",
    "Truncate table SalesPerson\n",
    "insert into SalesPerson (sales_id, name, salary, commission_rate, hire_date) values ('1', 'John', '100000', '6', '4/1/2006')\n",
    "insert into SalesPerson (sales_id, name, salary, commission_rate, hire_date) values ('2', 'Amy', '12000', '5', '5/1/2010')\n",
    "insert into SalesPerson (sales_id, name, salary, commission_rate, hire_date) values ('3', 'Mark', '65000', '12', '12/25/2008')\n",
    "insert into SalesPerson (sales_id, name, salary, commission_rate, hire_date) values ('4', 'Pam', '25000', '25', '1/1/2005')\n",
    "insert into SalesPerson (sales_id, name, salary, commission_rate, hire_date) values ('5', 'Alex', '5000', '10', '2/3/2007')\n",
    "Truncate table Company\n",
    "insert into Company (com_id, name, city) values ('1', 'RED', 'Boston')\n",
    "insert into Company (com_id, name, city) values ('2', 'ORANGE', 'New York')\n",
    "insert into Company (com_id, name, city) values ('3', 'YELLOW', 'Boston')\n",
    "insert into Company (com_id, name, city) values ('4', 'GREEN', 'Austin')\n",
    "Truncate table Orders\n",
    "insert into Orders (order_id, order_date, com_id, sales_id, amount) values ('1', '1/1/2014', '3', '4', '10000')\n",
    "insert into Orders (order_id, order_date, com_id, sales_id, amount) values ('2', '2/1/2014', '4', '5', '5000')\n",
    "insert into Orders (order_id, order_date, com_id, sales_id, amount) values ('3', '3/1/2014', '1', '1', '50000')\n",
    "insert into Orders (order_id, order_date, com_id, sales_id, amount) values ('4', '4/1/2014', '1', '4', '25000')"
   ]
  },
  {
   "cell_type": "code",
   "execution_count": 6,
   "id": "ed68472f",
   "metadata": {},
   "outputs": [],
   "source": [
    "database_creator('Leetcode_Q_607')"
   ]
  },
  {
   "cell_type": "code",
   "execution_count": 7,
   "id": "ff653714",
   "metadata": {},
   "outputs": [],
   "source": [
    "schema = \"sales_id int, name varchar(255), salary int, commission_rate int, hire_date date\"\n",
    "data = [('1', 'John', '100000', '6', '2006-04-01'),\n",
    "       ('2', 'Amy', '12000', '5', '2010-05-01'),\n",
    "       ('3', 'Mark', '65000', '12', '2008-12-25'),\n",
    "       ('4', 'Pam', '25000', '25', '2005-01-01'),\n",
    "       ('5', 'Alex', '5000', '10', '2007-02-03')]\n",
    "\n",
    "insert_data_to_table(\"Leetcode_Q_607\", \"SalesPerson\", schema, data)"
   ]
  },
  {
   "cell_type": "code",
   "execution_count": 8,
   "id": "a35317ac",
   "metadata": {},
   "outputs": [],
   "source": [
    "schema = \"com_id int, name varchar(255), city varchar(255)\"\n",
    "data = [('1', 'RED', 'Boston'),\n",
    "       ('2', 'ORANGE', 'New York'),\n",
    "       ('3', 'YELLOW', 'Boston'),\n",
    "       ('4', 'GREEN', 'Austin')]\n",
    "\n",
    "insert_data_to_table(\"Leetcode_Q_607\", \"Company\", schema, data)"
   ]
  },
  {
   "cell_type": "code",
   "execution_count": 9,
   "id": "bbca58dc",
   "metadata": {},
   "outputs": [],
   "source": [
    "schema = \"order_id int, order_date date, com_id int, sales_id int, amount int\"\n",
    "data = [('1', '2014-01-01', '3', '4', '10000'),\n",
    "       ('2', '2014-02-01', '4', '5', '5000'),\n",
    "       ('3', '2014-03-01', '1', '1', '50000'),\n",
    "       ('4', '2014-04-01', '1', '4', '25000')]\n",
    "\n",
    "insert_data_to_table(\"Leetcode_Q_607\", \"Orders\", schema, data)"
   ]
  },
  {
   "cell_type": "code",
   "execution_count": 10,
   "id": "a6d9b8f1",
   "metadata": {},
   "outputs": [],
   "source": [
    "con = connector('Leetcode_Q_607')"
   ]
  },
  {
   "cell_type": "code",
   "execution_count": 23,
   "id": "c496f503",
   "metadata": {},
   "outputs": [
    {
     "data": {
      "text/html": [
       "<div>\n",
       "<style scoped>\n",
       "    .dataframe tbody tr th:only-of-type {\n",
       "        vertical-align: middle;\n",
       "    }\n",
       "\n",
       "    .dataframe tbody tr th {\n",
       "        vertical-align: top;\n",
       "    }\n",
       "\n",
       "    .dataframe thead th {\n",
       "        text-align: right;\n",
       "    }\n",
       "</style>\n",
       "<table border=\"1\" class=\"dataframe\">\n",
       "  <thead>\n",
       "    <tr style=\"text-align: right;\">\n",
       "      <th></th>\n",
       "      <th>sales_id</th>\n",
       "      <th>name</th>\n",
       "      <th>salary</th>\n",
       "      <th>commission_rate</th>\n",
       "      <th>hire_date</th>\n",
       "    </tr>\n",
       "  </thead>\n",
       "  <tbody>\n",
       "    <tr>\n",
       "      <th>0</th>\n",
       "      <td>1</td>\n",
       "      <td>John</td>\n",
       "      <td>100000</td>\n",
       "      <td>6</td>\n",
       "      <td>2006-04-01</td>\n",
       "    </tr>\n",
       "    <tr>\n",
       "      <th>1</th>\n",
       "      <td>2</td>\n",
       "      <td>Amy</td>\n",
       "      <td>12000</td>\n",
       "      <td>5</td>\n",
       "      <td>2010-05-01</td>\n",
       "    </tr>\n",
       "    <tr>\n",
       "      <th>2</th>\n",
       "      <td>3</td>\n",
       "      <td>Mark</td>\n",
       "      <td>65000</td>\n",
       "      <td>12</td>\n",
       "      <td>2008-12-25</td>\n",
       "    </tr>\n",
       "    <tr>\n",
       "      <th>3</th>\n",
       "      <td>4</td>\n",
       "      <td>Pam</td>\n",
       "      <td>25000</td>\n",
       "      <td>25</td>\n",
       "      <td>2005-01-01</td>\n",
       "    </tr>\n",
       "    <tr>\n",
       "      <th>4</th>\n",
       "      <td>5</td>\n",
       "      <td>Alex</td>\n",
       "      <td>5000</td>\n",
       "      <td>10</td>\n",
       "      <td>2007-02-03</td>\n",
       "    </tr>\n",
       "  </tbody>\n",
       "</table>\n",
       "</div>"
      ],
      "text/plain": [
       "   sales_id  name  salary  commission_rate   hire_date\n",
       "0         1  John  100000                6  2006-04-01\n",
       "1         2   Amy   12000                5  2010-05-01\n",
       "2         3  Mark   65000               12  2008-12-25\n",
       "3         4   Pam   25000               25  2005-01-01\n",
       "4         5  Alex    5000               10  2007-02-03"
      ]
     },
     "execution_count": 23,
     "metadata": {},
     "output_type": "execute_result"
    }
   ],
   "source": [
    "pd.read_sql(\"\"\"\n",
    "SELECT *\n",
    "FROM SalesPerson\n",
    "\"\"\", con)"
   ]
  },
  {
   "cell_type": "code",
   "execution_count": 24,
   "id": "b50e2bfe",
   "metadata": {},
   "outputs": [
    {
     "data": {
      "text/html": [
       "<div>\n",
       "<style scoped>\n",
       "    .dataframe tbody tr th:only-of-type {\n",
       "        vertical-align: middle;\n",
       "    }\n",
       "\n",
       "    .dataframe tbody tr th {\n",
       "        vertical-align: top;\n",
       "    }\n",
       "\n",
       "    .dataframe thead th {\n",
       "        text-align: right;\n",
       "    }\n",
       "</style>\n",
       "<table border=\"1\" class=\"dataframe\">\n",
       "  <thead>\n",
       "    <tr style=\"text-align: right;\">\n",
       "      <th></th>\n",
       "      <th>com_id</th>\n",
       "      <th>name</th>\n",
       "      <th>city</th>\n",
       "    </tr>\n",
       "  </thead>\n",
       "  <tbody>\n",
       "    <tr>\n",
       "      <th>0</th>\n",
       "      <td>1</td>\n",
       "      <td>RED</td>\n",
       "      <td>Boston</td>\n",
       "    </tr>\n",
       "    <tr>\n",
       "      <th>1</th>\n",
       "      <td>2</td>\n",
       "      <td>ORANGE</td>\n",
       "      <td>New York</td>\n",
       "    </tr>\n",
       "    <tr>\n",
       "      <th>2</th>\n",
       "      <td>3</td>\n",
       "      <td>YELLOW</td>\n",
       "      <td>Boston</td>\n",
       "    </tr>\n",
       "    <tr>\n",
       "      <th>3</th>\n",
       "      <td>4</td>\n",
       "      <td>GREEN</td>\n",
       "      <td>Austin</td>\n",
       "    </tr>\n",
       "  </tbody>\n",
       "</table>\n",
       "</div>"
      ],
      "text/plain": [
       "   com_id    name      city\n",
       "0       1     RED    Boston\n",
       "1       2  ORANGE  New York\n",
       "2       3  YELLOW    Boston\n",
       "3       4   GREEN    Austin"
      ]
     },
     "execution_count": 24,
     "metadata": {},
     "output_type": "execute_result"
    }
   ],
   "source": [
    "pd.read_sql(\"\"\"\n",
    "SELECT *\n",
    "FROM Company\n",
    "\"\"\", con)"
   ]
  },
  {
   "cell_type": "code",
   "execution_count": 25,
   "id": "c1d666e4",
   "metadata": {},
   "outputs": [
    {
     "data": {
      "text/html": [
       "<div>\n",
       "<style scoped>\n",
       "    .dataframe tbody tr th:only-of-type {\n",
       "        vertical-align: middle;\n",
       "    }\n",
       "\n",
       "    .dataframe tbody tr th {\n",
       "        vertical-align: top;\n",
       "    }\n",
       "\n",
       "    .dataframe thead th {\n",
       "        text-align: right;\n",
       "    }\n",
       "</style>\n",
       "<table border=\"1\" class=\"dataframe\">\n",
       "  <thead>\n",
       "    <tr style=\"text-align: right;\">\n",
       "      <th></th>\n",
       "      <th>order_id</th>\n",
       "      <th>order_date</th>\n",
       "      <th>com_id</th>\n",
       "      <th>sales_id</th>\n",
       "      <th>amount</th>\n",
       "    </tr>\n",
       "  </thead>\n",
       "  <tbody>\n",
       "    <tr>\n",
       "      <th>0</th>\n",
       "      <td>1</td>\n",
       "      <td>2014-01-01</td>\n",
       "      <td>3</td>\n",
       "      <td>4</td>\n",
       "      <td>10000</td>\n",
       "    </tr>\n",
       "    <tr>\n",
       "      <th>1</th>\n",
       "      <td>2</td>\n",
       "      <td>2014-02-01</td>\n",
       "      <td>4</td>\n",
       "      <td>5</td>\n",
       "      <td>5000</td>\n",
       "    </tr>\n",
       "    <tr>\n",
       "      <th>2</th>\n",
       "      <td>3</td>\n",
       "      <td>2014-03-01</td>\n",
       "      <td>1</td>\n",
       "      <td>1</td>\n",
       "      <td>50000</td>\n",
       "    </tr>\n",
       "    <tr>\n",
       "      <th>3</th>\n",
       "      <td>4</td>\n",
       "      <td>2014-04-01</td>\n",
       "      <td>1</td>\n",
       "      <td>4</td>\n",
       "      <td>25000</td>\n",
       "    </tr>\n",
       "  </tbody>\n",
       "</table>\n",
       "</div>"
      ],
      "text/plain": [
       "   order_id  order_date  com_id  sales_id  amount\n",
       "0         1  2014-01-01       3         4   10000\n",
       "1         2  2014-02-01       4         5    5000\n",
       "2         3  2014-03-01       1         1   50000\n",
       "3         4  2014-04-01       1         4   25000"
      ]
     },
     "execution_count": 25,
     "metadata": {},
     "output_type": "execute_result"
    }
   ],
   "source": [
    "pd.read_sql(\"\"\"\n",
    "SELECT *\n",
    "FROM Orders\n",
    "\"\"\", con)"
   ]
  },
  {
   "cell_type": "code",
   "execution_count": 67,
   "id": "22952812",
   "metadata": {},
   "outputs": [
    {
     "data": {
      "text/html": [
       "<div>\n",
       "<style scoped>\n",
       "    .dataframe tbody tr th:only-of-type {\n",
       "        vertical-align: middle;\n",
       "    }\n",
       "\n",
       "    .dataframe tbody tr th {\n",
       "        vertical-align: top;\n",
       "    }\n",
       "\n",
       "    .dataframe thead th {\n",
       "        text-align: right;\n",
       "    }\n",
       "</style>\n",
       "<table border=\"1\" class=\"dataframe\">\n",
       "  <thead>\n",
       "    <tr style=\"text-align: right;\">\n",
       "      <th></th>\n",
       "      <th>name</th>\n",
       "    </tr>\n",
       "  </thead>\n",
       "  <tbody>\n",
       "    <tr>\n",
       "      <th>0</th>\n",
       "      <td>Amy</td>\n",
       "    </tr>\n",
       "    <tr>\n",
       "      <th>1</th>\n",
       "      <td>Mark</td>\n",
       "    </tr>\n",
       "    <tr>\n",
       "      <th>2</th>\n",
       "      <td>Alex</td>\n",
       "    </tr>\n",
       "  </tbody>\n",
       "</table>\n",
       "</div>"
      ],
      "text/plain": [
       "   name\n",
       "0   Amy\n",
       "1  Mark\n",
       "2  Alex"
      ]
     },
     "execution_count": 67,
     "metadata": {},
     "output_type": "execute_result"
    }
   ],
   "source": [
    "pd.read_sql(\"\"\"\n",
    "SELECT \n",
    "    name \n",
    "FROM SalesPerson \n",
    "WHERE sales_id NOT IN(\n",
    "            SELECT sales_id \n",
    "            FROM Orders \n",
    "            WHERE com_id IN\n",
    "                    (SELECT com_id \n",
    "                    FROM Company \n",
    "                    WHERE name='Red')\n",
    "                )\n",
    "\"\"\", con)"
   ]
  },
  {
   "cell_type": "markdown",
   "id": "c76f28ae",
   "metadata": {},
   "source": [
    "# Leetcode Question 183: Customers Who Never Order"
   ]
  },
  {
   "cell_type": "code",
   "execution_count": null,
   "id": "7eb639af",
   "metadata": {},
   "outputs": [],
   "source": [
    "Create table If Not Exists Customers (id int, name varchar(255))\n",
    "Create table If Not Exists Orders (id int, customerId int)\n",
    "Truncate table Customers\n",
    "insert into Customers (id, name) values ('1', 'Joe')\n",
    "insert into Customers (id, name) values ('2', 'Henry')\n",
    "insert into Customers (id, name) values ('3', 'Sam')\n",
    "insert into Customers (id, name) values ('4', 'Max')\n",
    "Truncate table Orders\n",
    "insert into Orders (id, customerId) values ('1', '3')\n",
    "insert into Orders (id, customerId) values ('2', '1')"
   ]
  },
  {
   "cell_type": "code",
   "execution_count": 11,
   "id": "a99d5576",
   "metadata": {},
   "outputs": [],
   "source": [
    "database_creator('Leetcode_Q_183')"
   ]
  },
  {
   "cell_type": "code",
   "execution_count": 12,
   "id": "a686d20d",
   "metadata": {},
   "outputs": [],
   "source": [
    "schema = \"id int, name varchar(255)\"\n",
    "data = [('1', 'Joe'),\n",
    "        ('2', 'Henry'),\n",
    "        ('3', 'Sam'),\n",
    "        ('4', 'Max')]\n",
    "\n",
    "insert_data_to_table(\"Leetcode_Q_183\", \"Customers\", schema, data)"
   ]
  },
  {
   "cell_type": "code",
   "execution_count": 13,
   "id": "db33c4b1",
   "metadata": {},
   "outputs": [],
   "source": [
    "schema = \"id int, customerId int\"\n",
    "data = [('1', '3'),\n",
    "       ('2', '1')]\n",
    "\n",
    "insert_data_to_table(\"Leetcode_Q_183\", \"Orders\", schema, data)"
   ]
  },
  {
   "cell_type": "code",
   "execution_count": 14,
   "id": "d1af5754",
   "metadata": {},
   "outputs": [],
   "source": [
    "con = connector('Leetcode_Q_183')"
   ]
  },
  {
   "cell_type": "code",
   "execution_count": 69,
   "id": "e83f5af6",
   "metadata": {},
   "outputs": [
    {
     "data": {
      "text/html": [
       "<div>\n",
       "<style scoped>\n",
       "    .dataframe tbody tr th:only-of-type {\n",
       "        vertical-align: middle;\n",
       "    }\n",
       "\n",
       "    .dataframe tbody tr th {\n",
       "        vertical-align: top;\n",
       "    }\n",
       "\n",
       "    .dataframe thead th {\n",
       "        text-align: right;\n",
       "    }\n",
       "</style>\n",
       "<table border=\"1\" class=\"dataframe\">\n",
       "  <thead>\n",
       "    <tr style=\"text-align: right;\">\n",
       "      <th></th>\n",
       "      <th>id</th>\n",
       "      <th>name</th>\n",
       "    </tr>\n",
       "  </thead>\n",
       "  <tbody>\n",
       "    <tr>\n",
       "      <th>0</th>\n",
       "      <td>1</td>\n",
       "      <td>Joe</td>\n",
       "    </tr>\n",
       "    <tr>\n",
       "      <th>1</th>\n",
       "      <td>2</td>\n",
       "      <td>Henry</td>\n",
       "    </tr>\n",
       "    <tr>\n",
       "      <th>2</th>\n",
       "      <td>3</td>\n",
       "      <td>Sam</td>\n",
       "    </tr>\n",
       "    <tr>\n",
       "      <th>3</th>\n",
       "      <td>4</td>\n",
       "      <td>Max</td>\n",
       "    </tr>\n",
       "  </tbody>\n",
       "</table>\n",
       "</div>"
      ],
      "text/plain": [
       "   id   name\n",
       "0   1    Joe\n",
       "1   2  Henry\n",
       "2   3    Sam\n",
       "3   4    Max"
      ]
     },
     "execution_count": 69,
     "metadata": {},
     "output_type": "execute_result"
    }
   ],
   "source": [
    "pd.read_sql(\"\"\"\n",
    "SELECT *\n",
    "FROM Customers\n",
    "\"\"\", con)"
   ]
  },
  {
   "cell_type": "code",
   "execution_count": 70,
   "id": "d8edf27d",
   "metadata": {},
   "outputs": [
    {
     "data": {
      "text/html": [
       "<div>\n",
       "<style scoped>\n",
       "    .dataframe tbody tr th:only-of-type {\n",
       "        vertical-align: middle;\n",
       "    }\n",
       "\n",
       "    .dataframe tbody tr th {\n",
       "        vertical-align: top;\n",
       "    }\n",
       "\n",
       "    .dataframe thead th {\n",
       "        text-align: right;\n",
       "    }\n",
       "</style>\n",
       "<table border=\"1\" class=\"dataframe\">\n",
       "  <thead>\n",
       "    <tr style=\"text-align: right;\">\n",
       "      <th></th>\n",
       "      <th>id</th>\n",
       "      <th>customerId</th>\n",
       "    </tr>\n",
       "  </thead>\n",
       "  <tbody>\n",
       "    <tr>\n",
       "      <th>0</th>\n",
       "      <td>1</td>\n",
       "      <td>3</td>\n",
       "    </tr>\n",
       "    <tr>\n",
       "      <th>1</th>\n",
       "      <td>2</td>\n",
       "      <td>1</td>\n",
       "    </tr>\n",
       "  </tbody>\n",
       "</table>\n",
       "</div>"
      ],
      "text/plain": [
       "   id  customerId\n",
       "0   1           3\n",
       "1   2           1"
      ]
     },
     "execution_count": 70,
     "metadata": {},
     "output_type": "execute_result"
    }
   ],
   "source": [
    "pd.read_sql(\"\"\"\n",
    "SELECT *\n",
    "FROM Orders\n",
    "\"\"\", con)"
   ]
  },
  {
   "cell_type": "code",
   "execution_count": 76,
   "id": "307aa9a0",
   "metadata": {},
   "outputs": [
    {
     "data": {
      "text/html": [
       "<div>\n",
       "<style scoped>\n",
       "    .dataframe tbody tr th:only-of-type {\n",
       "        vertical-align: middle;\n",
       "    }\n",
       "\n",
       "    .dataframe tbody tr th {\n",
       "        vertical-align: top;\n",
       "    }\n",
       "\n",
       "    .dataframe thead th {\n",
       "        text-align: right;\n",
       "    }\n",
       "</style>\n",
       "<table border=\"1\" class=\"dataframe\">\n",
       "  <thead>\n",
       "    <tr style=\"text-align: right;\">\n",
       "      <th></th>\n",
       "      <th>Customers</th>\n",
       "    </tr>\n",
       "  </thead>\n",
       "  <tbody>\n",
       "    <tr>\n",
       "      <th>0</th>\n",
       "      <td>Henry</td>\n",
       "    </tr>\n",
       "    <tr>\n",
       "      <th>1</th>\n",
       "      <td>Max</td>\n",
       "    </tr>\n",
       "  </tbody>\n",
       "</table>\n",
       "</div>"
      ],
      "text/plain": [
       "  Customers\n",
       "0     Henry\n",
       "1       Max"
      ]
     },
     "execution_count": 76,
     "metadata": {},
     "output_type": "execute_result"
    }
   ],
   "source": [
    "pd.read_sql(\"\"\"\n",
    "SELECT \n",
    "    c.name AS Customers\n",
    "FROM Customers c\n",
    "LEFT JOIN Orders o\n",
    "    ON c.id = o.customerId\n",
    "WHERE o.id IS NULL\n",
    "\"\"\", con)"
   ]
  },
  {
   "cell_type": "markdown",
   "id": "5b17ad3a",
   "metadata": {},
   "source": [
    "# Leetcode Question 586: Customer Placing the Largest Number of Orders"
   ]
  },
  {
   "cell_type": "code",
   "execution_count": null,
   "id": "590a6e54",
   "metadata": {},
   "outputs": [],
   "source": [
    "Create table If Not Exists orders (order_number int, customer_number int)\n",
    "Truncate table orders\n",
    "insert into orders (order_number, customer_number) values ('1', '1')\n",
    "insert into orders (order_number, customer_number) values ('2', '2')\n",
    "insert into orders (order_number, customer_number) values ('3', '3')\n",
    "insert into orders (order_number, customer_number) values ('4', '3')"
   ]
  },
  {
   "cell_type": "code",
   "execution_count": 15,
   "id": "a7c91692",
   "metadata": {},
   "outputs": [],
   "source": [
    "database_creator('Leetcode_Q_586')"
   ]
  },
  {
   "cell_type": "code",
   "execution_count": 16,
   "id": "7e448058",
   "metadata": {},
   "outputs": [],
   "source": [
    "schema = \"order_number int, customer_number int\"\n",
    "data = [('1', '1'),\n",
    "       ('2', '2'),\n",
    "       ('3', '3'),\n",
    "       ('4', '3')]\n",
    "\n",
    "insert_data_to_table(\"Leetcode_Q_586\", \"orders\", schema, data)"
   ]
  },
  {
   "cell_type": "code",
   "execution_count": 17,
   "id": "5e5cf79c",
   "metadata": {},
   "outputs": [],
   "source": [
    "con = connector('Leetcode_Q_586')"
   ]
  },
  {
   "cell_type": "code",
   "execution_count": 78,
   "id": "238ea1a5",
   "metadata": {},
   "outputs": [
    {
     "data": {
      "text/html": [
       "<div>\n",
       "<style scoped>\n",
       "    .dataframe tbody tr th:only-of-type {\n",
       "        vertical-align: middle;\n",
       "    }\n",
       "\n",
       "    .dataframe tbody tr th {\n",
       "        vertical-align: top;\n",
       "    }\n",
       "\n",
       "    .dataframe thead th {\n",
       "        text-align: right;\n",
       "    }\n",
       "</style>\n",
       "<table border=\"1\" class=\"dataframe\">\n",
       "  <thead>\n",
       "    <tr style=\"text-align: right;\">\n",
       "      <th></th>\n",
       "      <th>order_number</th>\n",
       "      <th>customer_number</th>\n",
       "    </tr>\n",
       "  </thead>\n",
       "  <tbody>\n",
       "    <tr>\n",
       "      <th>0</th>\n",
       "      <td>1</td>\n",
       "      <td>1</td>\n",
       "    </tr>\n",
       "    <tr>\n",
       "      <th>1</th>\n",
       "      <td>2</td>\n",
       "      <td>2</td>\n",
       "    </tr>\n",
       "    <tr>\n",
       "      <th>2</th>\n",
       "      <td>3</td>\n",
       "      <td>3</td>\n",
       "    </tr>\n",
       "    <tr>\n",
       "      <th>3</th>\n",
       "      <td>4</td>\n",
       "      <td>3</td>\n",
       "    </tr>\n",
       "  </tbody>\n",
       "</table>\n",
       "</div>"
      ],
      "text/plain": [
       "   order_number  customer_number\n",
       "0             1                1\n",
       "1             2                2\n",
       "2             3                3\n",
       "3             4                3"
      ]
     },
     "execution_count": 78,
     "metadata": {},
     "output_type": "execute_result"
    }
   ],
   "source": [
    "pd.read_sql(\"\"\"\n",
    "SELECT *\n",
    "FROM orders\n",
    "\"\"\", con)"
   ]
  },
  {
   "cell_type": "code",
   "execution_count": 112,
   "id": "f7620bab",
   "metadata": {},
   "outputs": [
    {
     "data": {
      "text/html": [
       "<div>\n",
       "<style scoped>\n",
       "    .dataframe tbody tr th:only-of-type {\n",
       "        vertical-align: middle;\n",
       "    }\n",
       "\n",
       "    .dataframe tbody tr th {\n",
       "        vertical-align: top;\n",
       "    }\n",
       "\n",
       "    .dataframe thead th {\n",
       "        text-align: right;\n",
       "    }\n",
       "</style>\n",
       "<table border=\"1\" class=\"dataframe\">\n",
       "  <thead>\n",
       "    <tr style=\"text-align: right;\">\n",
       "      <th></th>\n",
       "      <th>customer_number</th>\n",
       "    </tr>\n",
       "  </thead>\n",
       "  <tbody>\n",
       "    <tr>\n",
       "      <th>0</th>\n",
       "      <td>3</td>\n",
       "    </tr>\n",
       "  </tbody>\n",
       "</table>\n",
       "</div>"
      ],
      "text/plain": [
       "   customer_number\n",
       "0                3"
      ]
     },
     "execution_count": 112,
     "metadata": {},
     "output_type": "execute_result"
    }
   ],
   "source": [
    "pd.read_sql(\"\"\"\n",
    "SELECT \n",
    "    customer_number \n",
    "FROM orders\n",
    "GROUP BY customer_number\n",
    "ORDER BY COUNT(order_number) DESC \n",
    "LIMIT 1\n",
    "\"\"\", con)"
   ]
  },
  {
   "cell_type": "code",
   "execution_count": null,
   "id": "e1b9db14",
   "metadata": {},
   "outputs": [],
   "source": [
    "# another solution using a subquery"
   ]
  },
  {
   "cell_type": "code",
   "execution_count": 18,
   "id": "b28e25da",
   "metadata": {},
   "outputs": [
    {
     "name": "stderr",
     "output_type": "stream",
     "text": [
      "/tmp/ipykernel_4953/2426670018.py:1: UserWarning: pandas only supports SQLAlchemy connectable (engine/connection) or database string URI or sqlite3 DBAPI2 connection. Other DBAPI2 objects are not tested. Please consider using SQLAlchemy.\n",
      "  pd.read_sql(\"\"\"\n"
     ]
    },
    {
     "data": {
      "text/html": [
       "<div>\n",
       "<style scoped>\n",
       "    .dataframe tbody tr th:only-of-type {\n",
       "        vertical-align: middle;\n",
       "    }\n",
       "\n",
       "    .dataframe tbody tr th {\n",
       "        vertical-align: top;\n",
       "    }\n",
       "\n",
       "    .dataframe thead th {\n",
       "        text-align: right;\n",
       "    }\n",
       "</style>\n",
       "<table border=\"1\" class=\"dataframe\">\n",
       "  <thead>\n",
       "    <tr style=\"text-align: right;\">\n",
       "      <th></th>\n",
       "      <th>customer_number</th>\n",
       "    </tr>\n",
       "  </thead>\n",
       "  <tbody>\n",
       "    <tr>\n",
       "      <th>0</th>\n",
       "      <td>3</td>\n",
       "    </tr>\n",
       "  </tbody>\n",
       "</table>\n",
       "</div>"
      ],
      "text/plain": [
       "   customer_number\n",
       "0                3"
      ]
     },
     "execution_count": 18,
     "metadata": {},
     "output_type": "execute_result"
    }
   ],
   "source": [
    "pd.read_sql(\"\"\"\n",
    "\n",
    "SELECT customer_number\n",
    "FROM orders\n",
    "GROUP BY customer_number\n",
    "HAVING COUNT(order_number) = (\n",
    "                    SELECT MAX(order_count) \n",
    "                    FROM (\n",
    "                        SELECT customer_number, COUNT(order_number) AS order_count\n",
    "                        FROM orders\n",
    "                        GROUP BY customer_number\n",
    "                    ) AS subquery\n",
    ")\n",
    "\n",
    "\"\"\", con)"
   ]
  },
  {
   "cell_type": "markdown",
   "id": "6e3b8349",
   "metadata": {},
   "source": [
    "# Leetcode Question 1075: Project Employees I"
   ]
  },
  {
   "cell_type": "code",
   "execution_count": null,
   "id": "89146f36",
   "metadata": {},
   "outputs": [],
   "source": [
    "Create table If Not Exists Project (project_id int, employee_id int)\n",
    "Create table If Not Exists Employee (employee_id int, name varchar(10), experience_years int)\n",
    "Truncate table Project\n",
    "insert into Project (project_id, employee_id) values ('1', '1')\n",
    "insert into Project (project_id, employee_id) values ('1', '2')\n",
    "insert into Project (project_id, employee_id) values ('1', '3')\n",
    "insert into Project (project_id, employee_id) values ('2', '1')\n",
    "insert into Project (project_id, employee_id) values ('2', '4')\n",
    "Truncate table Employee\n",
    "insert into Employee (employee_id, name, experience_years) values ('1', 'Khaled', '3')\n",
    "insert into Employee (employee_id, name, experience_years) values ('2', 'Ali', '2')\n",
    "insert into Employee (employee_id, name, experience_years) values ('3', 'John', '1')\n",
    "insert into Employee (employee_id, name, experience_years) values ('4', 'Doe', '2')"
   ]
  },
  {
   "cell_type": "code",
   "execution_count": 19,
   "id": "f1d208cc",
   "metadata": {},
   "outputs": [],
   "source": [
    "database_creator('Leetcode_Q_1075')"
   ]
  },
  {
   "cell_type": "code",
   "execution_count": 20,
   "id": "5c7a2f74",
   "metadata": {},
   "outputs": [],
   "source": [
    "schema = \"project_id int, employee_id int\"\n",
    "data = [('1', '1'),\n",
    "       ('1', '2'),\n",
    "       ('1', '3'),\n",
    "       ('2', '1'),\n",
    "       ('2', '4')]\n",
    "\n",
    "insert_data_to_table(\"Leetcode_Q_1075\", \"Project\", schema, data)"
   ]
  },
  {
   "cell_type": "code",
   "execution_count": 21,
   "id": "e6c851a3",
   "metadata": {},
   "outputs": [],
   "source": [
    "schema = \"employee_id int, name varchar(10), experience_years int\"\n",
    "data = [('1', 'Khaled', '3'),\n",
    "       ('2', 'Ali', '2'),\n",
    "       ('3', 'John', '1'),\n",
    "       ('4', 'Doe', '2')]\n",
    "\n",
    "insert_data_to_table(\"Leetcode_Q_1075\", \"Employee\", schema, data)"
   ]
  },
  {
   "cell_type": "code",
   "execution_count": 22,
   "id": "5b8a68f3",
   "metadata": {},
   "outputs": [],
   "source": [
    "con = connector('Leetcode_Q_1075')"
   ]
  },
  {
   "cell_type": "code",
   "execution_count": 114,
   "id": "30af3068",
   "metadata": {},
   "outputs": [
    {
     "data": {
      "text/html": [
       "<div>\n",
       "<style scoped>\n",
       "    .dataframe tbody tr th:only-of-type {\n",
       "        vertical-align: middle;\n",
       "    }\n",
       "\n",
       "    .dataframe tbody tr th {\n",
       "        vertical-align: top;\n",
       "    }\n",
       "\n",
       "    .dataframe thead th {\n",
       "        text-align: right;\n",
       "    }\n",
       "</style>\n",
       "<table border=\"1\" class=\"dataframe\">\n",
       "  <thead>\n",
       "    <tr style=\"text-align: right;\">\n",
       "      <th></th>\n",
       "      <th>project_id</th>\n",
       "      <th>employee_id</th>\n",
       "    </tr>\n",
       "  </thead>\n",
       "  <tbody>\n",
       "    <tr>\n",
       "      <th>0</th>\n",
       "      <td>1</td>\n",
       "      <td>1</td>\n",
       "    </tr>\n",
       "    <tr>\n",
       "      <th>1</th>\n",
       "      <td>1</td>\n",
       "      <td>2</td>\n",
       "    </tr>\n",
       "    <tr>\n",
       "      <th>2</th>\n",
       "      <td>1</td>\n",
       "      <td>3</td>\n",
       "    </tr>\n",
       "    <tr>\n",
       "      <th>3</th>\n",
       "      <td>2</td>\n",
       "      <td>1</td>\n",
       "    </tr>\n",
       "    <tr>\n",
       "      <th>4</th>\n",
       "      <td>2</td>\n",
       "      <td>4</td>\n",
       "    </tr>\n",
       "  </tbody>\n",
       "</table>\n",
       "</div>"
      ],
      "text/plain": [
       "   project_id  employee_id\n",
       "0           1            1\n",
       "1           1            2\n",
       "2           1            3\n",
       "3           2            1\n",
       "4           2            4"
      ]
     },
     "execution_count": 114,
     "metadata": {},
     "output_type": "execute_result"
    }
   ],
   "source": [
    "pd.read_sql(\"\"\"\n",
    "SELECT *\n",
    "FROM Project\n",
    "\"\"\", con)"
   ]
  },
  {
   "cell_type": "code",
   "execution_count": 115,
   "id": "0cf21fe7",
   "metadata": {},
   "outputs": [
    {
     "data": {
      "text/html": [
       "<div>\n",
       "<style scoped>\n",
       "    .dataframe tbody tr th:only-of-type {\n",
       "        vertical-align: middle;\n",
       "    }\n",
       "\n",
       "    .dataframe tbody tr th {\n",
       "        vertical-align: top;\n",
       "    }\n",
       "\n",
       "    .dataframe thead th {\n",
       "        text-align: right;\n",
       "    }\n",
       "</style>\n",
       "<table border=\"1\" class=\"dataframe\">\n",
       "  <thead>\n",
       "    <tr style=\"text-align: right;\">\n",
       "      <th></th>\n",
       "      <th>employee_id</th>\n",
       "      <th>name</th>\n",
       "      <th>experience_years</th>\n",
       "    </tr>\n",
       "  </thead>\n",
       "  <tbody>\n",
       "    <tr>\n",
       "      <th>0</th>\n",
       "      <td>1</td>\n",
       "      <td>Khaled</td>\n",
       "      <td>3</td>\n",
       "    </tr>\n",
       "    <tr>\n",
       "      <th>1</th>\n",
       "      <td>2</td>\n",
       "      <td>Ali</td>\n",
       "      <td>2</td>\n",
       "    </tr>\n",
       "    <tr>\n",
       "      <th>2</th>\n",
       "      <td>3</td>\n",
       "      <td>John</td>\n",
       "      <td>1</td>\n",
       "    </tr>\n",
       "    <tr>\n",
       "      <th>3</th>\n",
       "      <td>4</td>\n",
       "      <td>Doe</td>\n",
       "      <td>2</td>\n",
       "    </tr>\n",
       "  </tbody>\n",
       "</table>\n",
       "</div>"
      ],
      "text/plain": [
       "   employee_id    name  experience_years\n",
       "0            1  Khaled                 3\n",
       "1            2     Ali                 2\n",
       "2            3    John                 1\n",
       "3            4     Doe                 2"
      ]
     },
     "execution_count": 115,
     "metadata": {},
     "output_type": "execute_result"
    }
   ],
   "source": [
    "pd.read_sql(\"\"\"\n",
    "SELECT *\n",
    "FROM Employee\n",
    "\"\"\", con)"
   ]
  },
  {
   "cell_type": "code",
   "execution_count": 123,
   "id": "15772c29",
   "metadata": {},
   "outputs": [
    {
     "data": {
      "text/html": [
       "<div>\n",
       "<style scoped>\n",
       "    .dataframe tbody tr th:only-of-type {\n",
       "        vertical-align: middle;\n",
       "    }\n",
       "\n",
       "    .dataframe tbody tr th {\n",
       "        vertical-align: top;\n",
       "    }\n",
       "\n",
       "    .dataframe thead th {\n",
       "        text-align: right;\n",
       "    }\n",
       "</style>\n",
       "<table border=\"1\" class=\"dataframe\">\n",
       "  <thead>\n",
       "    <tr style=\"text-align: right;\">\n",
       "      <th></th>\n",
       "      <th>project_id</th>\n",
       "      <th>average_years</th>\n",
       "    </tr>\n",
       "  </thead>\n",
       "  <tbody>\n",
       "    <tr>\n",
       "      <th>0</th>\n",
       "      <td>1</td>\n",
       "      <td>2.0</td>\n",
       "    </tr>\n",
       "    <tr>\n",
       "      <th>1</th>\n",
       "      <td>2</td>\n",
       "      <td>2.5</td>\n",
       "    </tr>\n",
       "  </tbody>\n",
       "</table>\n",
       "</div>"
      ],
      "text/plain": [
       "   project_id  average_years\n",
       "0           1            2.0\n",
       "1           2            2.5"
      ]
     },
     "execution_count": 123,
     "metadata": {},
     "output_type": "execute_result"
    }
   ],
   "source": [
    "pd.read_sql(\"\"\"\n",
    "SELECT \n",
    "    project_id,\n",
    "    ROUND(AVG(CAST(experience_years AS DECIMAL(10, 2))), 2) AS average_years\n",
    "    \n",
    "FROM Project\n",
    "JOIN Employee\n",
    "    USING (employee_id)\n",
    "GROUP BY project_id\n",
    "\"\"\", con)"
   ]
  },
  {
   "cell_type": "markdown",
   "id": "2960ec4a",
   "metadata": {},
   "source": [
    "# Leetcode Question 1633: Percentage of Users Attended a Contest\n"
   ]
  },
  {
   "cell_type": "code",
   "execution_count": null,
   "id": "5ee6ad0c",
   "metadata": {},
   "outputs": [],
   "source": [
    "Create table If Not Exists Users (user_id int, user_name varchar(20))\n",
    "Create table If Not Exists Register (contest_id int, user_id int)\n",
    "Truncate table Users\n",
    "insert into Users (user_id, user_name) values ('6', 'Alice')\n",
    "insert into Users (user_id, user_name) values ('2', 'Bob')\n",
    "insert into Users (user_id, user_name) values ('7', 'Alex')\n",
    "Truncate table Register\n",
    "insert into Register (contest_id, user_id) values ('215', '6')\n",
    "insert into Register (contest_id, user_id) values ('209', '2')\n",
    "insert into Register (contest_id, user_id) values ('208', '2')\n",
    "insert into Register (contest_id, user_id) values ('210', '6')\n",
    "insert into Register (contest_id, user_id) values ('208', '6')\n",
    "insert into Register (contest_id, user_id) values ('209', '7')\n",
    "insert into Register (contest_id, user_id) values ('209', '6')\n",
    "insert into Register (contest_id, user_id) values ('215', '7')\n",
    "insert into Register (contest_id, user_id) values ('208', '7')\n",
    "insert into Register (contest_id, user_id) values ('210', '2')\n",
    "insert into Register (contest_id, user_id) values ('207', '2')\n",
    "insert into Register (contest_id, user_id) values ('210', '7')"
   ]
  },
  {
   "cell_type": "code",
   "execution_count": 23,
   "id": "c0d0b6b2",
   "metadata": {},
   "outputs": [],
   "source": [
    "database_creator('Leetcode_Q_1633')"
   ]
  },
  {
   "cell_type": "code",
   "execution_count": 24,
   "id": "65867490",
   "metadata": {},
   "outputs": [],
   "source": [
    "schema = \"user_id int, user_name varchar(20)\"\n",
    "data = [('6', 'Alice'),\n",
    "       ('2', 'Bob'),\n",
    "       ('7', 'Alex')]\n",
    "\n",
    "insert_data_to_table(\"Leetcode_Q_1633\", \"Users\", schema, data)"
   ]
  },
  {
   "cell_type": "code",
   "execution_count": 25,
   "id": "feba8615",
   "metadata": {},
   "outputs": [],
   "source": [
    "schema = \"contest_id int, user_id int\"\n",
    "data = [('215', '6'),\n",
    "       ('209', '2'),\n",
    "       ('208', '2'),\n",
    "       ('210', '6'),\n",
    "       ('208', '6'),\n",
    "       ('209', '7'),\n",
    "       ('209', '6'),\n",
    "       ('215', '7'),\n",
    "       ('208', '7'),\n",
    "       ('210', '2'),\n",
    "       ('207', '2'),\n",
    "       ('210', '7')]\n",
    "\n",
    "insert_data_to_table(\"Leetcode_Q_1633\", \"Register\", schema, data)"
   ]
  },
  {
   "cell_type": "code",
   "execution_count": 26,
   "id": "ab6a5151",
   "metadata": {},
   "outputs": [],
   "source": [
    "con = connector('Leetcode_Q_1633')"
   ]
  },
  {
   "cell_type": "code",
   "execution_count": 7,
   "id": "39c2f430",
   "metadata": {},
   "outputs": [
    {
     "data": {
      "text/html": [
       "<div>\n",
       "<style scoped>\n",
       "    .dataframe tbody tr th:only-of-type {\n",
       "        vertical-align: middle;\n",
       "    }\n",
       "\n",
       "    .dataframe tbody tr th {\n",
       "        vertical-align: top;\n",
       "    }\n",
       "\n",
       "    .dataframe thead th {\n",
       "        text-align: right;\n",
       "    }\n",
       "</style>\n",
       "<table border=\"1\" class=\"dataframe\">\n",
       "  <thead>\n",
       "    <tr style=\"text-align: right;\">\n",
       "      <th></th>\n",
       "      <th>user_id</th>\n",
       "      <th>user_name</th>\n",
       "    </tr>\n",
       "  </thead>\n",
       "  <tbody>\n",
       "    <tr>\n",
       "      <th>0</th>\n",
       "      <td>6</td>\n",
       "      <td>Alice</td>\n",
       "    </tr>\n",
       "    <tr>\n",
       "      <th>1</th>\n",
       "      <td>2</td>\n",
       "      <td>Bob</td>\n",
       "    </tr>\n",
       "    <tr>\n",
       "      <th>2</th>\n",
       "      <td>7</td>\n",
       "      <td>Alex</td>\n",
       "    </tr>\n",
       "  </tbody>\n",
       "</table>\n",
       "</div>"
      ],
      "text/plain": [
       "   user_id user_name\n",
       "0        6     Alice\n",
       "1        2       Bob\n",
       "2        7      Alex"
      ]
     },
     "execution_count": 7,
     "metadata": {},
     "output_type": "execute_result"
    }
   ],
   "source": [
    "pd.read_sql(\"\"\"\n",
    "SELECT *\n",
    "FROM Users\n",
    "\"\"\", con)"
   ]
  },
  {
   "cell_type": "code",
   "execution_count": 8,
   "id": "7ca48c76",
   "metadata": {},
   "outputs": [
    {
     "data": {
      "text/html": [
       "<div>\n",
       "<style scoped>\n",
       "    .dataframe tbody tr th:only-of-type {\n",
       "        vertical-align: middle;\n",
       "    }\n",
       "\n",
       "    .dataframe tbody tr th {\n",
       "        vertical-align: top;\n",
       "    }\n",
       "\n",
       "    .dataframe thead th {\n",
       "        text-align: right;\n",
       "    }\n",
       "</style>\n",
       "<table border=\"1\" class=\"dataframe\">\n",
       "  <thead>\n",
       "    <tr style=\"text-align: right;\">\n",
       "      <th></th>\n",
       "      <th>contest_id</th>\n",
       "      <th>user_id</th>\n",
       "    </tr>\n",
       "  </thead>\n",
       "  <tbody>\n",
       "    <tr>\n",
       "      <th>0</th>\n",
       "      <td>215</td>\n",
       "      <td>6</td>\n",
       "    </tr>\n",
       "    <tr>\n",
       "      <th>1</th>\n",
       "      <td>209</td>\n",
       "      <td>2</td>\n",
       "    </tr>\n",
       "    <tr>\n",
       "      <th>2</th>\n",
       "      <td>208</td>\n",
       "      <td>2</td>\n",
       "    </tr>\n",
       "    <tr>\n",
       "      <th>3</th>\n",
       "      <td>210</td>\n",
       "      <td>6</td>\n",
       "    </tr>\n",
       "    <tr>\n",
       "      <th>4</th>\n",
       "      <td>208</td>\n",
       "      <td>6</td>\n",
       "    </tr>\n",
       "    <tr>\n",
       "      <th>5</th>\n",
       "      <td>209</td>\n",
       "      <td>7</td>\n",
       "    </tr>\n",
       "    <tr>\n",
       "      <th>6</th>\n",
       "      <td>209</td>\n",
       "      <td>6</td>\n",
       "    </tr>\n",
       "    <tr>\n",
       "      <th>7</th>\n",
       "      <td>215</td>\n",
       "      <td>7</td>\n",
       "    </tr>\n",
       "    <tr>\n",
       "      <th>8</th>\n",
       "      <td>208</td>\n",
       "      <td>7</td>\n",
       "    </tr>\n",
       "    <tr>\n",
       "      <th>9</th>\n",
       "      <td>210</td>\n",
       "      <td>2</td>\n",
       "    </tr>\n",
       "    <tr>\n",
       "      <th>10</th>\n",
       "      <td>207</td>\n",
       "      <td>2</td>\n",
       "    </tr>\n",
       "    <tr>\n",
       "      <th>11</th>\n",
       "      <td>210</td>\n",
       "      <td>7</td>\n",
       "    </tr>\n",
       "  </tbody>\n",
       "</table>\n",
       "</div>"
      ],
      "text/plain": [
       "    contest_id  user_id\n",
       "0          215        6\n",
       "1          209        2\n",
       "2          208        2\n",
       "3          210        6\n",
       "4          208        6\n",
       "5          209        7\n",
       "6          209        6\n",
       "7          215        7\n",
       "8          208        7\n",
       "9          210        2\n",
       "10         207        2\n",
       "11         210        7"
      ]
     },
     "execution_count": 8,
     "metadata": {},
     "output_type": "execute_result"
    }
   ],
   "source": [
    "pd.read_sql(\"\"\"\n",
    "SELECT *\n",
    "FROM Register\n",
    "\"\"\", con)"
   ]
  },
  {
   "cell_type": "code",
   "execution_count": 37,
   "id": "b9cb19df",
   "metadata": {},
   "outputs": [
    {
     "data": {
      "text/html": [
       "<div>\n",
       "<style scoped>\n",
       "    .dataframe tbody tr th:only-of-type {\n",
       "        vertical-align: middle;\n",
       "    }\n",
       "\n",
       "    .dataframe tbody tr th {\n",
       "        vertical-align: top;\n",
       "    }\n",
       "\n",
       "    .dataframe thead th {\n",
       "        text-align: right;\n",
       "    }\n",
       "</style>\n",
       "<table border=\"1\" class=\"dataframe\">\n",
       "  <thead>\n",
       "    <tr style=\"text-align: right;\">\n",
       "      <th></th>\n",
       "      <th>contest_id</th>\n",
       "      <th>percentage</th>\n",
       "    </tr>\n",
       "  </thead>\n",
       "  <tbody>\n",
       "    <tr>\n",
       "      <th>0</th>\n",
       "      <td>208</td>\n",
       "      <td>100.00</td>\n",
       "    </tr>\n",
       "    <tr>\n",
       "      <th>1</th>\n",
       "      <td>209</td>\n",
       "      <td>100.00</td>\n",
       "    </tr>\n",
       "    <tr>\n",
       "      <th>2</th>\n",
       "      <td>210</td>\n",
       "      <td>100.00</td>\n",
       "    </tr>\n",
       "    <tr>\n",
       "      <th>3</th>\n",
       "      <td>215</td>\n",
       "      <td>66.67</td>\n",
       "    </tr>\n",
       "    <tr>\n",
       "      <th>4</th>\n",
       "      <td>207</td>\n",
       "      <td>33.33</td>\n",
       "    </tr>\n",
       "  </tbody>\n",
       "</table>\n",
       "</div>"
      ],
      "text/plain": [
       "   contest_id  percentage\n",
       "0         208      100.00\n",
       "1         209      100.00\n",
       "2         210      100.00\n",
       "3         215       66.67\n",
       "4         207       33.33"
      ]
     },
     "execution_count": 37,
     "metadata": {},
     "output_type": "execute_result"
    }
   ],
   "source": [
    "pd.read_sql(\"\"\"\n",
    "SELECT \n",
    "    contest_id, \n",
    "    ROUND(COUNT(user_id) / (\n",
    "                        SELECT COUNT(*) FROM Users\n",
    "                        ) * 100, 2) AS percentage\n",
    "FROM Register \n",
    "GROUP BY contest_id\n",
    "ORDER BY percentage DESC, contest_id\n",
    "\"\"\", con)"
   ]
  },
  {
   "cell_type": "markdown",
   "id": "7e5ff403",
   "metadata": {},
   "source": [
    "# Leetcode Question 1667: Fix Names in a Table\n"
   ]
  },
  {
   "cell_type": "code",
   "execution_count": null,
   "id": "5ddc51b9",
   "metadata": {},
   "outputs": [],
   "source": [
    "Create table If Not Exists Users (user_id int, name varchar(40))\n",
    "Truncate table Users\n",
    "insert into Users (user_id, name) values ('1', 'aLice')\n",
    "insert into Users (user_id, name) values ('2', 'bOB')"
   ]
  },
  {
   "cell_type": "code",
   "execution_count": 27,
   "id": "e164ed12",
   "metadata": {},
   "outputs": [],
   "source": [
    "database_creator('Leetcode_Q_1667')"
   ]
  },
  {
   "cell_type": "code",
   "execution_count": 28,
   "id": "917082d5",
   "metadata": {},
   "outputs": [],
   "source": [
    "schema = \"user_id int, name varchar(40)\"\n",
    "data = [('1', 'aLice'),\n",
    "       ('2', 'bOB')]\n",
    "\n",
    "insert_data_to_table(\"Leetcode_Q_1667\", \"Users\", schema, data)"
   ]
  },
  {
   "cell_type": "code",
   "execution_count": 29,
   "id": "0611aabd",
   "metadata": {},
   "outputs": [],
   "source": [
    "con = connector('Leetcode_Q_1667')"
   ]
  },
  {
   "cell_type": "code",
   "execution_count": 39,
   "id": "86c9a4ee",
   "metadata": {},
   "outputs": [
    {
     "data": {
      "text/html": [
       "<div>\n",
       "<style scoped>\n",
       "    .dataframe tbody tr th:only-of-type {\n",
       "        vertical-align: middle;\n",
       "    }\n",
       "\n",
       "    .dataframe tbody tr th {\n",
       "        vertical-align: top;\n",
       "    }\n",
       "\n",
       "    .dataframe thead th {\n",
       "        text-align: right;\n",
       "    }\n",
       "</style>\n",
       "<table border=\"1\" class=\"dataframe\">\n",
       "  <thead>\n",
       "    <tr style=\"text-align: right;\">\n",
       "      <th></th>\n",
       "      <th>user_id</th>\n",
       "      <th>name</th>\n",
       "    </tr>\n",
       "  </thead>\n",
       "  <tbody>\n",
       "    <tr>\n",
       "      <th>0</th>\n",
       "      <td>1</td>\n",
       "      <td>aLice</td>\n",
       "    </tr>\n",
       "    <tr>\n",
       "      <th>1</th>\n",
       "      <td>2</td>\n",
       "      <td>bOB</td>\n",
       "    </tr>\n",
       "  </tbody>\n",
       "</table>\n",
       "</div>"
      ],
      "text/plain": [
       "   user_id   name\n",
       "0        1  aLice\n",
       "1        2    bOB"
      ]
     },
     "execution_count": 39,
     "metadata": {},
     "output_type": "execute_result"
    }
   ],
   "source": [
    "pd.read_sql(\"\"\"\n",
    "SELECT *\n",
    "FROM Users\n",
    "\"\"\", con)"
   ]
  },
  {
   "cell_type": "code",
   "execution_count": 54,
   "id": "a0b22d84",
   "metadata": {},
   "outputs": [
    {
     "data": {
      "text/html": [
       "<div>\n",
       "<style scoped>\n",
       "    .dataframe tbody tr th:only-of-type {\n",
       "        vertical-align: middle;\n",
       "    }\n",
       "\n",
       "    .dataframe tbody tr th {\n",
       "        vertical-align: top;\n",
       "    }\n",
       "\n",
       "    .dataframe thead th {\n",
       "        text-align: right;\n",
       "    }\n",
       "</style>\n",
       "<table border=\"1\" class=\"dataframe\">\n",
       "  <thead>\n",
       "    <tr style=\"text-align: right;\">\n",
       "      <th></th>\n",
       "      <th>user_id</th>\n",
       "      <th>name</th>\n",
       "    </tr>\n",
       "  </thead>\n",
       "  <tbody>\n",
       "    <tr>\n",
       "      <th>0</th>\n",
       "      <td>1</td>\n",
       "      <td>Alice</td>\n",
       "    </tr>\n",
       "    <tr>\n",
       "      <th>1</th>\n",
       "      <td>2</td>\n",
       "      <td>Bob</td>\n",
       "    </tr>\n",
       "  </tbody>\n",
       "</table>\n",
       "</div>"
      ],
      "text/plain": [
       "   user_id   name\n",
       "0        1  Alice\n",
       "1        2    Bob"
      ]
     },
     "execution_count": 54,
     "metadata": {},
     "output_type": "execute_result"
    }
   ],
   "source": [
    "pd.read_sql(\"\"\"\n",
    "SELECT \n",
    "    user_id,\n",
    "    CONCAT(UPPER(LEFT(name, 1)), LOWER(RIGHT(name, LENGTH(name)-1))) AS name\n",
    "FROM Users\n",
    "ORDER BY user_id\n",
    "\"\"\", con)"
   ]
  },
  {
   "cell_type": "markdown",
   "id": "630ad905",
   "metadata": {},
   "source": [
    "# Leetcode Question 1407: Top Travellers\n"
   ]
  },
  {
   "cell_type": "code",
   "execution_count": null,
   "id": "0f5c71b6",
   "metadata": {},
   "outputs": [],
   "source": [
    "Create Table If Not Exists Users (id int, name varchar(30))\n",
    "Create Table If Not Exists Rides (id int, user_id int, distance int)\n",
    "Truncate table Users\n",
    "insert into Users (id, name) values ('1', 'Alice')\n",
    "insert into Users (id, name) values ('2', 'Bob')\n",
    "insert into Users (id, name) values ('3', 'Alex')\n",
    "insert into Users (id, name) values ('4', 'Donald')\n",
    "insert into Users (id, name) values ('7', 'Lee')\n",
    "insert into Users (id, name) values ('13', 'Jonathan')\n",
    "insert into Users (id, name) values ('19', 'Elvis')\n",
    "Truncate table Rides\n",
    "insert into Rides (id, user_id, distance) values ('1', '1', '120')\n",
    "insert into Rides (id, user_id, distance) values ('2', '2', '317')\n",
    "insert into Rides (id, user_id, distance) values ('3', '3', '222')\n",
    "insert into Rides (id, user_id, distance) values ('4', '7', '100')\n",
    "insert into Rides (id, user_id, distance) values ('5', '13', '312')\n",
    "insert into Rides (id, user_id, distance) values ('6', '19', '50')\n",
    "insert into Rides (id, user_id, distance) values ('7', '7', '120')\n",
    "insert into Rides (id, user_id, distance) values ('8', '19', '400')\n",
    "insert into Rides (id, user_id, distance) values ('9', '7', '230')"
   ]
  },
  {
   "cell_type": "code",
   "execution_count": 31,
   "id": "e1cb3b27",
   "metadata": {},
   "outputs": [],
   "source": [
    "database_creator('Leetcode_Q_1407')"
   ]
  },
  {
   "cell_type": "code",
   "execution_count": 32,
   "id": "f1a5855f",
   "metadata": {},
   "outputs": [],
   "source": [
    "schema = \"id int, name varchar(30)\"\n",
    "data = [ ('1', 'Alice'),\n",
    "       ('2', 'Bob'),\n",
    "       ('3', 'Alex'),\n",
    "       ('4', 'Donald'),\n",
    "       ('7', 'Lee'),\n",
    "       ('13', 'Jonathan'),\n",
    "       ('19', 'Elvis')]\n",
    "\n",
    "insert_data_to_table(\"Leetcode_Q_1407\", \"Users\", schema, data)"
   ]
  },
  {
   "cell_type": "code",
   "execution_count": 33,
   "id": "3506a65d",
   "metadata": {},
   "outputs": [],
   "source": [
    "schema = \"id int, user_id int, distance int\"\n",
    "data = [('1', '1', '120'),\n",
    "       ('2', '2', '317'),\n",
    "       ('3', '3', '222'),\n",
    "       ('4', '7', '100'),\n",
    "       ('5', '13', '312'),\n",
    "       ('6', '19', '50'),\n",
    "       ('7', '7', '120'),\n",
    "       ('8', '19', '400'),\n",
    "       ('9', '7', '230')]\n",
    "\n",
    "insert_data_to_table(\"Leetcode_Q_1407\", \"Rides\", schema, data)"
   ]
  },
  {
   "cell_type": "code",
   "execution_count": 34,
   "id": "eb8d381f",
   "metadata": {},
   "outputs": [],
   "source": [
    "con = connector('Leetcode_Q_1407')"
   ]
  },
  {
   "cell_type": "code",
   "execution_count": 56,
   "id": "be812b39",
   "metadata": {},
   "outputs": [
    {
     "data": {
      "text/html": [
       "<div>\n",
       "<style scoped>\n",
       "    .dataframe tbody tr th:only-of-type {\n",
       "        vertical-align: middle;\n",
       "    }\n",
       "\n",
       "    .dataframe tbody tr th {\n",
       "        vertical-align: top;\n",
       "    }\n",
       "\n",
       "    .dataframe thead th {\n",
       "        text-align: right;\n",
       "    }\n",
       "</style>\n",
       "<table border=\"1\" class=\"dataframe\">\n",
       "  <thead>\n",
       "    <tr style=\"text-align: right;\">\n",
       "      <th></th>\n",
       "      <th>id</th>\n",
       "      <th>name</th>\n",
       "    </tr>\n",
       "  </thead>\n",
       "  <tbody>\n",
       "    <tr>\n",
       "      <th>0</th>\n",
       "      <td>1</td>\n",
       "      <td>Alice</td>\n",
       "    </tr>\n",
       "    <tr>\n",
       "      <th>1</th>\n",
       "      <td>2</td>\n",
       "      <td>Bob</td>\n",
       "    </tr>\n",
       "    <tr>\n",
       "      <th>2</th>\n",
       "      <td>3</td>\n",
       "      <td>Alex</td>\n",
       "    </tr>\n",
       "    <tr>\n",
       "      <th>3</th>\n",
       "      <td>4</td>\n",
       "      <td>Donald</td>\n",
       "    </tr>\n",
       "    <tr>\n",
       "      <th>4</th>\n",
       "      <td>7</td>\n",
       "      <td>Lee</td>\n",
       "    </tr>\n",
       "    <tr>\n",
       "      <th>5</th>\n",
       "      <td>13</td>\n",
       "      <td>Jonathan</td>\n",
       "    </tr>\n",
       "    <tr>\n",
       "      <th>6</th>\n",
       "      <td>19</td>\n",
       "      <td>Elvis</td>\n",
       "    </tr>\n",
       "  </tbody>\n",
       "</table>\n",
       "</div>"
      ],
      "text/plain": [
       "   id      name\n",
       "0   1     Alice\n",
       "1   2       Bob\n",
       "2   3      Alex\n",
       "3   4    Donald\n",
       "4   7       Lee\n",
       "5  13  Jonathan\n",
       "6  19     Elvis"
      ]
     },
     "execution_count": 56,
     "metadata": {},
     "output_type": "execute_result"
    }
   ],
   "source": [
    "pd.read_sql(\"\"\"\n",
    "SELECT *\n",
    "FROM Users\n",
    "\"\"\", con)"
   ]
  },
  {
   "cell_type": "code",
   "execution_count": 57,
   "id": "113aa54a",
   "metadata": {},
   "outputs": [
    {
     "data": {
      "text/html": [
       "<div>\n",
       "<style scoped>\n",
       "    .dataframe tbody tr th:only-of-type {\n",
       "        vertical-align: middle;\n",
       "    }\n",
       "\n",
       "    .dataframe tbody tr th {\n",
       "        vertical-align: top;\n",
       "    }\n",
       "\n",
       "    .dataframe thead th {\n",
       "        text-align: right;\n",
       "    }\n",
       "</style>\n",
       "<table border=\"1\" class=\"dataframe\">\n",
       "  <thead>\n",
       "    <tr style=\"text-align: right;\">\n",
       "      <th></th>\n",
       "      <th>id</th>\n",
       "      <th>user_id</th>\n",
       "      <th>distance</th>\n",
       "    </tr>\n",
       "  </thead>\n",
       "  <tbody>\n",
       "    <tr>\n",
       "      <th>0</th>\n",
       "      <td>1</td>\n",
       "      <td>1</td>\n",
       "      <td>120</td>\n",
       "    </tr>\n",
       "    <tr>\n",
       "      <th>1</th>\n",
       "      <td>2</td>\n",
       "      <td>2</td>\n",
       "      <td>317</td>\n",
       "    </tr>\n",
       "    <tr>\n",
       "      <th>2</th>\n",
       "      <td>3</td>\n",
       "      <td>3</td>\n",
       "      <td>222</td>\n",
       "    </tr>\n",
       "    <tr>\n",
       "      <th>3</th>\n",
       "      <td>4</td>\n",
       "      <td>7</td>\n",
       "      <td>100</td>\n",
       "    </tr>\n",
       "    <tr>\n",
       "      <th>4</th>\n",
       "      <td>5</td>\n",
       "      <td>13</td>\n",
       "      <td>312</td>\n",
       "    </tr>\n",
       "    <tr>\n",
       "      <th>5</th>\n",
       "      <td>6</td>\n",
       "      <td>19</td>\n",
       "      <td>50</td>\n",
       "    </tr>\n",
       "    <tr>\n",
       "      <th>6</th>\n",
       "      <td>7</td>\n",
       "      <td>7</td>\n",
       "      <td>120</td>\n",
       "    </tr>\n",
       "    <tr>\n",
       "      <th>7</th>\n",
       "      <td>8</td>\n",
       "      <td>19</td>\n",
       "      <td>400</td>\n",
       "    </tr>\n",
       "    <tr>\n",
       "      <th>8</th>\n",
       "      <td>9</td>\n",
       "      <td>7</td>\n",
       "      <td>230</td>\n",
       "    </tr>\n",
       "  </tbody>\n",
       "</table>\n",
       "</div>"
      ],
      "text/plain": [
       "   id  user_id  distance\n",
       "0   1        1       120\n",
       "1   2        2       317\n",
       "2   3        3       222\n",
       "3   4        7       100\n",
       "4   5       13       312\n",
       "5   6       19        50\n",
       "6   7        7       120\n",
       "7   8       19       400\n",
       "8   9        7       230"
      ]
     },
     "execution_count": 57,
     "metadata": {},
     "output_type": "execute_result"
    }
   ],
   "source": [
    "pd.read_sql(\"\"\"\n",
    "SELECT *\n",
    "FROM Rides\n",
    "\"\"\", con)"
   ]
  },
  {
   "cell_type": "code",
   "execution_count": 93,
   "id": "0d77924a",
   "metadata": {},
   "outputs": [
    {
     "data": {
      "text/html": [
       "<div>\n",
       "<style scoped>\n",
       "    .dataframe tbody tr th:only-of-type {\n",
       "        vertical-align: middle;\n",
       "    }\n",
       "\n",
       "    .dataframe tbody tr th {\n",
       "        vertical-align: top;\n",
       "    }\n",
       "\n",
       "    .dataframe thead th {\n",
       "        text-align: right;\n",
       "    }\n",
       "</style>\n",
       "<table border=\"1\" class=\"dataframe\">\n",
       "  <thead>\n",
       "    <tr style=\"text-align: right;\">\n",
       "      <th></th>\n",
       "      <th>name</th>\n",
       "      <th>travelled_distance</th>\n",
       "    </tr>\n",
       "  </thead>\n",
       "  <tbody>\n",
       "    <tr>\n",
       "      <th>0</th>\n",
       "      <td>Elvis</td>\n",
       "      <td>450.0</td>\n",
       "    </tr>\n",
       "    <tr>\n",
       "      <th>1</th>\n",
       "      <td>Lee</td>\n",
       "      <td>450.0</td>\n",
       "    </tr>\n",
       "    <tr>\n",
       "      <th>2</th>\n",
       "      <td>Bob</td>\n",
       "      <td>317.0</td>\n",
       "    </tr>\n",
       "    <tr>\n",
       "      <th>3</th>\n",
       "      <td>Jonathan</td>\n",
       "      <td>312.0</td>\n",
       "    </tr>\n",
       "    <tr>\n",
       "      <th>4</th>\n",
       "      <td>Alex</td>\n",
       "      <td>222.0</td>\n",
       "    </tr>\n",
       "    <tr>\n",
       "      <th>5</th>\n",
       "      <td>Alice</td>\n",
       "      <td>120.0</td>\n",
       "    </tr>\n",
       "    <tr>\n",
       "      <th>6</th>\n",
       "      <td>Donald</td>\n",
       "      <td>0.0</td>\n",
       "    </tr>\n",
       "  </tbody>\n",
       "</table>\n",
       "</div>"
      ],
      "text/plain": [
       "       name  travelled_distance\n",
       "0     Elvis               450.0\n",
       "1       Lee               450.0\n",
       "2       Bob               317.0\n",
       "3  Jonathan               312.0\n",
       "4      Alex               222.0\n",
       "5     Alice               120.0\n",
       "6    Donald                 0.0"
      ]
     },
     "execution_count": 93,
     "metadata": {},
     "output_type": "execute_result"
    }
   ],
   "source": [
    "pd.read_sql(\"\"\"\n",
    "SELECT\n",
    "    u.name, \n",
    "    IFNULL(SUM(distance), 0) AS travelled_distance\n",
    "FROM Users u\n",
    "LEFT JOIN Rides r\n",
    "    ON u.id = r.user_id\n",
    "GROUP BY u.name, u.id\n",
    "ORDER BY travelled_distance DESC, name\n",
    "\n",
    "\"\"\", con)"
   ]
  },
  {
   "cell_type": "markdown",
   "id": "09ec31a7",
   "metadata": {},
   "source": [
    "# Leetcode Question 196: Delete Duplicate Emails\n"
   ]
  },
  {
   "cell_type": "code",
   "execution_count": null,
   "id": "46384e47",
   "metadata": {},
   "outputs": [],
   "source": [
    "Create table If Not Exists Person (Id int, Email varchar(255))\n",
    "Truncate table Person\n",
    "insert into Person (id, email) values ('1', 'john@example.com')\n",
    "insert into Person (id, email) values ('2', 'bob@example.com')\n",
    "insert into Person (id, email) values ('3', 'john@example.com')"
   ]
  },
  {
   "cell_type": "code",
   "execution_count": 4,
   "id": "6d4cec6e",
   "metadata": {
    "scrolled": true
   },
   "outputs": [],
   "source": [
    "database_creator('Leetcode_Q_196')"
   ]
  },
  {
   "cell_type": "code",
   "execution_count": 5,
   "id": "7f55e483",
   "metadata": {},
   "outputs": [],
   "source": [
    "schema = \"Id int, Email varchar(255)\"\n",
    "data = [('1', 'john@example.com'), \n",
    "       ('2', 'bob@example.com'),\n",
    "       ('3', 'john@example.com')]\n",
    "\n",
    "insert_data_to_table(\"Leetcode_Q_196\", \"Person\", schema, data)"
   ]
  },
  {
   "cell_type": "code",
   "execution_count": 6,
   "id": "2e900171",
   "metadata": {},
   "outputs": [],
   "source": [
    "con = connector('Leetcode_Q_196')"
   ]
  },
  {
   "cell_type": "code",
   "execution_count": 7,
   "id": "c52247b9",
   "metadata": {},
   "outputs": [
    {
     "name": "stderr",
     "output_type": "stream",
     "text": [
      "/tmp/ipykernel_6016/2244786807.py:1: UserWarning: pandas only supports SQLAlchemy connectable (engine/connection) or database string URI or sqlite3 DBAPI2 connection. Other DBAPI2 objects are not tested. Please consider using SQLAlchemy.\n",
      "  pd.read_sql(\"\"\"\n"
     ]
    },
    {
     "data": {
      "text/html": [
       "<div>\n",
       "<style scoped>\n",
       "    .dataframe tbody tr th:only-of-type {\n",
       "        vertical-align: middle;\n",
       "    }\n",
       "\n",
       "    .dataframe tbody tr th {\n",
       "        vertical-align: top;\n",
       "    }\n",
       "\n",
       "    .dataframe thead th {\n",
       "        text-align: right;\n",
       "    }\n",
       "</style>\n",
       "<table border=\"1\" class=\"dataframe\">\n",
       "  <thead>\n",
       "    <tr style=\"text-align: right;\">\n",
       "      <th></th>\n",
       "      <th>Id</th>\n",
       "      <th>Email</th>\n",
       "    </tr>\n",
       "  </thead>\n",
       "  <tbody>\n",
       "    <tr>\n",
       "      <th>0</th>\n",
       "      <td>1</td>\n",
       "      <td>john@example.com</td>\n",
       "    </tr>\n",
       "    <tr>\n",
       "      <th>1</th>\n",
       "      <td>2</td>\n",
       "      <td>bob@example.com</td>\n",
       "    </tr>\n",
       "    <tr>\n",
       "      <th>2</th>\n",
       "      <td>3</td>\n",
       "      <td>john@example.com</td>\n",
       "    </tr>\n",
       "  </tbody>\n",
       "</table>\n",
       "</div>"
      ],
      "text/plain": [
       "   Id             Email\n",
       "0   1  john@example.com\n",
       "1   2   bob@example.com\n",
       "2   3  john@example.com"
      ]
     },
     "execution_count": 7,
     "metadata": {},
     "output_type": "execute_result"
    }
   ],
   "source": [
    "pd.read_sql(\"\"\"\n",
    "SELECT *\n",
    "FROM Person\n",
    "\"\"\", con)"
   ]
  },
  {
   "cell_type": "code",
   "execution_count": 38,
   "id": "4342f271",
   "metadata": {},
   "outputs": [],
   "source": [
    "cursor = con.cursor()\n",
    "\n",
    "cursor.execute(\"\"\"\n",
    "\n",
    "DELETE FROM Person\n",
    "WHERE id NOT IN (\n",
    "  SELECT id_to_keep\n",
    "  FROM (\n",
    "    SELECT MIN(id) as id_to_keep\n",
    "    FROM Person\n",
    "    GROUP BY email\n",
    "  ) AS t\n",
    "\n",
    ")\n",
    "\"\"\")\n",
    "\n",
    "con.commit()\n",
    "cursor.close()"
   ]
  },
  {
   "cell_type": "code",
   "execution_count": 39,
   "id": "be093f4e",
   "metadata": {},
   "outputs": [
    {
     "name": "stderr",
     "output_type": "stream",
     "text": [
      "/tmp/ipykernel_4953/2244786807.py:1: UserWarning: pandas only supports SQLAlchemy connectable (engine/connection) or database string URI or sqlite3 DBAPI2 connection. Other DBAPI2 objects are not tested. Please consider using SQLAlchemy.\n",
      "  pd.read_sql(\"\"\"\n"
     ]
    },
    {
     "data": {
      "text/html": [
       "<div>\n",
       "<style scoped>\n",
       "    .dataframe tbody tr th:only-of-type {\n",
       "        vertical-align: middle;\n",
       "    }\n",
       "\n",
       "    .dataframe tbody tr th {\n",
       "        vertical-align: top;\n",
       "    }\n",
       "\n",
       "    .dataframe thead th {\n",
       "        text-align: right;\n",
       "    }\n",
       "</style>\n",
       "<table border=\"1\" class=\"dataframe\">\n",
       "  <thead>\n",
       "    <tr style=\"text-align: right;\">\n",
       "      <th></th>\n",
       "      <th>Id</th>\n",
       "      <th>Email</th>\n",
       "    </tr>\n",
       "  </thead>\n",
       "  <tbody>\n",
       "    <tr>\n",
       "      <th>0</th>\n",
       "      <td>1</td>\n",
       "      <td>john@example.com</td>\n",
       "    </tr>\n",
       "    <tr>\n",
       "      <th>1</th>\n",
       "      <td>2</td>\n",
       "      <td>bob@example.com</td>\n",
       "    </tr>\n",
       "  </tbody>\n",
       "</table>\n",
       "</div>"
      ],
      "text/plain": [
       "   Id             Email\n",
       "0   1  john@example.com\n",
       "1   2   bob@example.com"
      ]
     },
     "execution_count": 39,
     "metadata": {},
     "output_type": "execute_result"
    }
   ],
   "source": [
    "pd.read_sql(\"\"\"\n",
    "SELECT *\n",
    "FROM Person\n",
    "\"\"\", con)"
   ]
  },
  {
   "cell_type": "markdown",
   "id": "4786aad5",
   "metadata": {},
   "source": [
    "# Leetcode Question 1873: Calculate Special Bonus\n"
   ]
  },
  {
   "cell_type": "code",
   "execution_count": null,
   "id": "589199e5",
   "metadata": {},
   "outputs": [],
   "source": [
    "Create table If Not Exists Employees (employee_id int, name varchar(30), salary int)\n",
    "Truncate table Employees\n",
    "insert into Employees (employee_id, name, salary) values ('2', 'Meir', '3000')\n",
    "insert into Employees (employee_id, name, salary) values ('3', 'Michael', '3800')\n",
    "insert into Employees (employee_id, name, salary) values ('7', 'Addilyn', '7400')\n",
    "insert into Employees (employee_id, name, salary) values ('8', 'Juan', '6100')\n",
    "insert into Employees (employee_id, name, salary) values ('9', 'Kannon', '7700')"
   ]
  },
  {
   "cell_type": "code",
   "execution_count": 8,
   "id": "26686de5",
   "metadata": {},
   "outputs": [],
   "source": [
    "database_creator('Leetcode_Q_1873')"
   ]
  },
  {
   "cell_type": "code",
   "execution_count": 9,
   "id": "cfd69aef",
   "metadata": {},
   "outputs": [],
   "source": [
    "schema = \"employee_id int, name varchar(30), salary int\"\n",
    "data = [('2', 'Meir', '3000'),\n",
    "       ('3', 'Michael', '3800'),\n",
    "       ('7', 'Addilyn', '7400'),\n",
    "       ('8', 'Juan', '6100'),\n",
    "       ('9', 'Kannon', '7700')]\n",
    "\n",
    "insert_data_to_table(\"Leetcode_Q_1873\", \"Employees\", schema, data)"
   ]
  },
  {
   "cell_type": "code",
   "execution_count": 17,
   "id": "2eea45a5",
   "metadata": {},
   "outputs": [],
   "source": [
    "con = connector('Leetcode_Q_1873')"
   ]
  },
  {
   "cell_type": "code",
   "execution_count": 18,
   "id": "548cd821",
   "metadata": {},
   "outputs": [
    {
     "name": "stderr",
     "output_type": "stream",
     "text": [
      "/tmp/ipykernel_6016/1059816577.py:1: UserWarning: pandas only supports SQLAlchemy connectable (engine/connection) or database string URI or sqlite3 DBAPI2 connection. Other DBAPI2 objects are not tested. Please consider using SQLAlchemy.\n",
      "  pd.read_sql(\"\"\"\n"
     ]
    },
    {
     "data": {
      "text/html": [
       "<div>\n",
       "<style scoped>\n",
       "    .dataframe tbody tr th:only-of-type {\n",
       "        vertical-align: middle;\n",
       "    }\n",
       "\n",
       "    .dataframe tbody tr th {\n",
       "        vertical-align: top;\n",
       "    }\n",
       "\n",
       "    .dataframe thead th {\n",
       "        text-align: right;\n",
       "    }\n",
       "</style>\n",
       "<table border=\"1\" class=\"dataframe\">\n",
       "  <thead>\n",
       "    <tr style=\"text-align: right;\">\n",
       "      <th></th>\n",
       "      <th>employee_id</th>\n",
       "      <th>name</th>\n",
       "      <th>salary</th>\n",
       "    </tr>\n",
       "  </thead>\n",
       "  <tbody>\n",
       "    <tr>\n",
       "      <th>0</th>\n",
       "      <td>2</td>\n",
       "      <td>Meir</td>\n",
       "      <td>3000</td>\n",
       "    </tr>\n",
       "    <tr>\n",
       "      <th>1</th>\n",
       "      <td>3</td>\n",
       "      <td>Michael</td>\n",
       "      <td>3800</td>\n",
       "    </tr>\n",
       "    <tr>\n",
       "      <th>2</th>\n",
       "      <td>7</td>\n",
       "      <td>Addilyn</td>\n",
       "      <td>7400</td>\n",
       "    </tr>\n",
       "    <tr>\n",
       "      <th>3</th>\n",
       "      <td>8</td>\n",
       "      <td>Juan</td>\n",
       "      <td>6100</td>\n",
       "    </tr>\n",
       "    <tr>\n",
       "      <th>4</th>\n",
       "      <td>9</td>\n",
       "      <td>Kannon</td>\n",
       "      <td>7700</td>\n",
       "    </tr>\n",
       "  </tbody>\n",
       "</table>\n",
       "</div>"
      ],
      "text/plain": [
       "   employee_id     name  salary\n",
       "0            2     Meir    3000\n",
       "1            3  Michael    3800\n",
       "2            7  Addilyn    7400\n",
       "3            8     Juan    6100\n",
       "4            9   Kannon    7700"
      ]
     },
     "execution_count": 18,
     "metadata": {},
     "output_type": "execute_result"
    }
   ],
   "source": [
    "pd.read_sql(\"\"\"\n",
    "SELECT *\n",
    "FROM Employees\n",
    "\"\"\", con)"
   ]
  },
  {
   "cell_type": "code",
   "execution_count": 111,
   "id": "ff9b2558",
   "metadata": {},
   "outputs": [
    {
     "data": {
      "text/html": [
       "<div>\n",
       "<style scoped>\n",
       "    .dataframe tbody tr th:only-of-type {\n",
       "        vertical-align: middle;\n",
       "    }\n",
       "\n",
       "    .dataframe tbody tr th {\n",
       "        vertical-align: top;\n",
       "    }\n",
       "\n",
       "    .dataframe thead th {\n",
       "        text-align: right;\n",
       "    }\n",
       "</style>\n",
       "<table border=\"1\" class=\"dataframe\">\n",
       "  <thead>\n",
       "    <tr style=\"text-align: right;\">\n",
       "      <th></th>\n",
       "      <th>employee_id</th>\n",
       "      <th>bonus</th>\n",
       "    </tr>\n",
       "  </thead>\n",
       "  <tbody>\n",
       "    <tr>\n",
       "      <th>0</th>\n",
       "      <td>2</td>\n",
       "      <td>0</td>\n",
       "    </tr>\n",
       "    <tr>\n",
       "      <th>1</th>\n",
       "      <td>3</td>\n",
       "      <td>0</td>\n",
       "    </tr>\n",
       "    <tr>\n",
       "      <th>2</th>\n",
       "      <td>7</td>\n",
       "      <td>7400</td>\n",
       "    </tr>\n",
       "    <tr>\n",
       "      <th>3</th>\n",
       "      <td>8</td>\n",
       "      <td>0</td>\n",
       "    </tr>\n",
       "    <tr>\n",
       "      <th>4</th>\n",
       "      <td>9</td>\n",
       "      <td>7700</td>\n",
       "    </tr>\n",
       "  </tbody>\n",
       "</table>\n",
       "</div>"
      ],
      "text/plain": [
       "   employee_id  bonus\n",
       "0            2      0\n",
       "1            3      0\n",
       "2            7   7400\n",
       "3            8      0\n",
       "4            9   7700"
      ]
     },
     "execution_count": 111,
     "metadata": {},
     "output_type": "execute_result"
    }
   ],
   "source": [
    "pd.read_sql(\"\"\"\n",
    "SELECT \n",
    "    employee_id,\n",
    "    salary AS bonus\n",
    "FROM Employees\n",
    "WHERE employee_id %2 =1 AND NOT name REGEXP '^M'\n",
    "\n",
    "UNION\n",
    "SELECT \n",
    "    employee_id,\n",
    "    0 AS bonus\n",
    "FROM Employees\n",
    "WHERE NOT(employee_id %2 =1 AND NOT name REGEXP '^M')\n",
    "ORDER BY employee_id\n",
    "\"\"\", con)"
   ]
  },
  {
   "cell_type": "code",
   "execution_count": 22,
   "id": "716c1d58",
   "metadata": {},
   "outputs": [
    {
     "name": "stderr",
     "output_type": "stream",
     "text": [
      "/tmp/ipykernel_6016/193028933.py:3: UserWarning: pandas only supports SQLAlchemy connectable (engine/connection) or database string URI or sqlite3 DBAPI2 connection. Other DBAPI2 objects are not tested. Please consider using SQLAlchemy.\n",
      "  pd.read_sql(\"\"\"\n"
     ]
    },
    {
     "data": {
      "text/html": [
       "<div>\n",
       "<style scoped>\n",
       "    .dataframe tbody tr th:only-of-type {\n",
       "        vertical-align: middle;\n",
       "    }\n",
       "\n",
       "    .dataframe tbody tr th {\n",
       "        vertical-align: top;\n",
       "    }\n",
       "\n",
       "    .dataframe thead th {\n",
       "        text-align: right;\n",
       "    }\n",
       "</style>\n",
       "<table border=\"1\" class=\"dataframe\">\n",
       "  <thead>\n",
       "    <tr style=\"text-align: right;\">\n",
       "      <th></th>\n",
       "      <th>employee_id</th>\n",
       "      <th>bonus</th>\n",
       "    </tr>\n",
       "  </thead>\n",
       "  <tbody>\n",
       "    <tr>\n",
       "      <th>0</th>\n",
       "      <td>2</td>\n",
       "      <td>0</td>\n",
       "    </tr>\n",
       "    <tr>\n",
       "      <th>1</th>\n",
       "      <td>3</td>\n",
       "      <td>0</td>\n",
       "    </tr>\n",
       "    <tr>\n",
       "      <th>2</th>\n",
       "      <td>7</td>\n",
       "      <td>7400</td>\n",
       "    </tr>\n",
       "    <tr>\n",
       "      <th>3</th>\n",
       "      <td>8</td>\n",
       "      <td>0</td>\n",
       "    </tr>\n",
       "    <tr>\n",
       "      <th>4</th>\n",
       "      <td>9</td>\n",
       "      <td>7700</td>\n",
       "    </tr>\n",
       "  </tbody>\n",
       "</table>\n",
       "</div>"
      ],
      "text/plain": [
       "   employee_id  bonus\n",
       "0            2      0\n",
       "1            3      0\n",
       "2            7   7400\n",
       "3            8      0\n",
       "4            9   7700"
      ]
     },
     "execution_count": 22,
     "metadata": {},
     "output_type": "execute_result"
    }
   ],
   "source": [
    "# better solution\n",
    "\n",
    "pd.read_sql(\"\"\"\n",
    "\n",
    "SELECT \n",
    "    employee_id,\n",
    "    CASE\n",
    "        WHEN employee_id % 2 <> 0 AND NOT name REGEXP '^M' THEN salary\n",
    "        ELSE 0\n",
    "    END AS bonus\n",
    "FROM Employees\n",
    "ORDER BY employee_id\n",
    "\n",
    "\n",
    "\n",
    "\"\"\", con)"
   ]
  },
  {
   "cell_type": "markdown",
   "id": "17fef905",
   "metadata": {},
   "source": [
    "# Leetcode Question 1517: Find Users With Valid E-Mails\n"
   ]
  },
  {
   "cell_type": "code",
   "execution_count": null,
   "id": "2fd8fbca",
   "metadata": {},
   "outputs": [],
   "source": [
    "Create table If Not Exists Users (user_id int, name varchar(30), mail varchar(50))\n",
    "Truncate table Users\n",
    "insert into Users (user_id, name, mail) values ('1', 'Winston', 'winston@leetcode.com')\n",
    "insert into Users (user_id, name, mail) values ('2', 'Jonathan', 'jonathanisgreat')\n",
    "insert into Users (user_id, name, mail) values ('3', 'Annabelle', 'bella-@leetcode.com')\n",
    "insert into Users (user_id, name, mail) values ('4', 'Sally', 'sally.come@leetcode.com')\n",
    "insert into Users (user_id, name, mail) values ('5', 'Marwan', 'quarz#2020@leetcode.com')\n",
    "insert into Users (user_id, name, mail) values ('6', 'David', 'david69@gmail.com')\n",
    "insert into Users (user_id, name, mail) values ('7', 'Shapiro', '.shapo@leetcode.com')"
   ]
  },
  {
   "cell_type": "code",
   "execution_count": 23,
   "id": "0b40087b",
   "metadata": {},
   "outputs": [],
   "source": [
    "database_creator('Leetcode_Q_1517')"
   ]
  },
  {
   "cell_type": "code",
   "execution_count": 24,
   "id": "ace2994c",
   "metadata": {},
   "outputs": [],
   "source": [
    "schema = \"user_id int, name varchar(30), mail varchar(50)\"\n",
    "data = [ ('1', 'Winston', 'winston@leetcode.com'),\n",
    "       ('2', 'Jonathan', 'jonathanisgreat'),\n",
    "       ('3', 'Annabelle', 'bella-@leetcode.com'),\n",
    "       ('4', 'Sally', 'sally.come@leetcode.com'),\n",
    "       ('5', 'Marwan', 'quarz#2020@leetcode.com'),\n",
    "       ('6', 'David', 'david69@gmail.com'),\n",
    "       ('7', 'Shapiro', '.shapo@leetcode.com')]\n",
    "\n",
    "insert_data_to_table(\"Leetcode_Q_1517\", \"Users\", schema, data)"
   ]
  },
  {
   "cell_type": "code",
   "execution_count": 25,
   "id": "5ae1e47b",
   "metadata": {},
   "outputs": [],
   "source": [
    "con = connector('Leetcode_Q_1517')"
   ]
  },
  {
   "cell_type": "code",
   "execution_count": 5,
   "id": "8473da1d",
   "metadata": {},
   "outputs": [
    {
     "data": {
      "text/html": [
       "<div>\n",
       "<style scoped>\n",
       "    .dataframe tbody tr th:only-of-type {\n",
       "        vertical-align: middle;\n",
       "    }\n",
       "\n",
       "    .dataframe tbody tr th {\n",
       "        vertical-align: top;\n",
       "    }\n",
       "\n",
       "    .dataframe thead th {\n",
       "        text-align: right;\n",
       "    }\n",
       "</style>\n",
       "<table border=\"1\" class=\"dataframe\">\n",
       "  <thead>\n",
       "    <tr style=\"text-align: right;\">\n",
       "      <th></th>\n",
       "      <th>user_id</th>\n",
       "      <th>name</th>\n",
       "      <th>mail</th>\n",
       "    </tr>\n",
       "  </thead>\n",
       "  <tbody>\n",
       "    <tr>\n",
       "      <th>0</th>\n",
       "      <td>1</td>\n",
       "      <td>Winston</td>\n",
       "      <td>winston@leetcode.com</td>\n",
       "    </tr>\n",
       "    <tr>\n",
       "      <th>1</th>\n",
       "      <td>2</td>\n",
       "      <td>Jonathan</td>\n",
       "      <td>jonathanisgreat</td>\n",
       "    </tr>\n",
       "    <tr>\n",
       "      <th>2</th>\n",
       "      <td>3</td>\n",
       "      <td>Annabelle</td>\n",
       "      <td>bella-@leetcode.com</td>\n",
       "    </tr>\n",
       "    <tr>\n",
       "      <th>3</th>\n",
       "      <td>4</td>\n",
       "      <td>Sally</td>\n",
       "      <td>sally.come@leetcode.com</td>\n",
       "    </tr>\n",
       "    <tr>\n",
       "      <th>4</th>\n",
       "      <td>5</td>\n",
       "      <td>Marwan</td>\n",
       "      <td>quarz#2020@leetcode.com</td>\n",
       "    </tr>\n",
       "    <tr>\n",
       "      <th>5</th>\n",
       "      <td>6</td>\n",
       "      <td>David</td>\n",
       "      <td>david69@gmail.com</td>\n",
       "    </tr>\n",
       "    <tr>\n",
       "      <th>6</th>\n",
       "      <td>7</td>\n",
       "      <td>Shapiro</td>\n",
       "      <td>.shapo@leetcode.com</td>\n",
       "    </tr>\n",
       "  </tbody>\n",
       "</table>\n",
       "</div>"
      ],
      "text/plain": [
       "   user_id       name                     mail\n",
       "0        1    Winston     winston@leetcode.com\n",
       "1        2   Jonathan          jonathanisgreat\n",
       "2        3  Annabelle      bella-@leetcode.com\n",
       "3        4      Sally  sally.come@leetcode.com\n",
       "4        5     Marwan  quarz#2020@leetcode.com\n",
       "5        6      David        david69@gmail.com\n",
       "6        7    Shapiro      .shapo@leetcode.com"
      ]
     },
     "execution_count": 5,
     "metadata": {},
     "output_type": "execute_result"
    }
   ],
   "source": [
    "pd.read_sql(\"\"\"\n",
    "SELECT *\n",
    "FROM Users\n",
    "\"\"\", con)"
   ]
  },
  {
   "cell_type": "code",
   "execution_count": 36,
   "id": "11d1021e",
   "metadata": {},
   "outputs": [
    {
     "data": {
      "text/html": [
       "<div>\n",
       "<style scoped>\n",
       "    .dataframe tbody tr th:only-of-type {\n",
       "        vertical-align: middle;\n",
       "    }\n",
       "\n",
       "    .dataframe tbody tr th {\n",
       "        vertical-align: top;\n",
       "    }\n",
       "\n",
       "    .dataframe thead th {\n",
       "        text-align: right;\n",
       "    }\n",
       "</style>\n",
       "<table border=\"1\" class=\"dataframe\">\n",
       "  <thead>\n",
       "    <tr style=\"text-align: right;\">\n",
       "      <th></th>\n",
       "      <th>user_id</th>\n",
       "      <th>name</th>\n",
       "      <th>mail</th>\n",
       "    </tr>\n",
       "  </thead>\n",
       "  <tbody>\n",
       "    <tr>\n",
       "      <th>0</th>\n",
       "      <td>1</td>\n",
       "      <td>Winston</td>\n",
       "      <td>winston@leetcode.com</td>\n",
       "    </tr>\n",
       "    <tr>\n",
       "      <th>1</th>\n",
       "      <td>3</td>\n",
       "      <td>Annabelle</td>\n",
       "      <td>bella-@leetcode.com</td>\n",
       "    </tr>\n",
       "    <tr>\n",
       "      <th>2</th>\n",
       "      <td>4</td>\n",
       "      <td>Sally</td>\n",
       "      <td>sally.come@leetcode.com</td>\n",
       "    </tr>\n",
       "  </tbody>\n",
       "</table>\n",
       "</div>"
      ],
      "text/plain": [
       "   user_id       name                     mail\n",
       "0        1    Winston     winston@leetcode.com\n",
       "1        3  Annabelle      bella-@leetcode.com\n",
       "2        4      Sally  sally.come@leetcode.com"
      ]
     },
     "execution_count": 36,
     "metadata": {},
     "output_type": "execute_result"
    }
   ],
   "source": [
    "pd.read_sql(\"\"\"\n",
    "SELECT  *\n",
    "FROM Users\n",
    "WHERE mail REGEXP '^[a-zA-Z][a-zA-Z0-9._-]*@leetcode\\\\.com'\n",
    "\"\"\", con)"
   ]
  },
  {
   "cell_type": "markdown",
   "id": "c4973258",
   "metadata": {},
   "source": [
    "# Leetcode Question 619: Biggest Single Number\n"
   ]
  },
  {
   "cell_type": "code",
   "execution_count": null,
   "id": "4f24debc",
   "metadata": {},
   "outputs": [],
   "source": [
    "Create table If Not Exists MyNumbers (num int)\n",
    "Truncate table MyNumbers\n",
    "insert into MyNumbers (num) values ('8')\n",
    "insert into MyNumbers (num) values ('8')\n",
    "insert into MyNumbers (num) values ('3')\n",
    "insert into MyNumbers (num) values ('3')\n",
    "insert into MyNumbers (num) values ('1')\n",
    "insert into MyNumbers (num) values ('4')\n",
    "insert into MyNumbers (num) values ('5')\n",
    "insert into MyNumbers (num) values ('6')"
   ]
  },
  {
   "cell_type": "code",
   "execution_count": 26,
   "id": "ec1c7c2b",
   "metadata": {},
   "outputs": [],
   "source": [
    "database_creator('Leetcode_Q_619')"
   ]
  },
  {
   "cell_type": "code",
   "execution_count": 27,
   "id": "0f259d43",
   "metadata": {},
   "outputs": [],
   "source": [
    "schema = \"num int\"\n",
    "data = [('8'),\n",
    "       ('8'),\n",
    "       ('3'),\n",
    "       ('3'),\n",
    "       ('1'),\n",
    "       ('4'),\n",
    "       ('5'),\n",
    "       ('6')]\n",
    "\n",
    "insert_data_to_table_modified(\"Leetcode_Q_619\", \"MyNumbers\", schema, data)"
   ]
  },
  {
   "cell_type": "code",
   "execution_count": 28,
   "id": "49c97112",
   "metadata": {},
   "outputs": [],
   "source": [
    "con = connector('Leetcode_Q_619')"
   ]
  },
  {
   "cell_type": "code",
   "execution_count": 38,
   "id": "9c6db1e1",
   "metadata": {},
   "outputs": [
    {
     "data": {
      "text/html": [
       "<div>\n",
       "<style scoped>\n",
       "    .dataframe tbody tr th:only-of-type {\n",
       "        vertical-align: middle;\n",
       "    }\n",
       "\n",
       "    .dataframe tbody tr th {\n",
       "        vertical-align: top;\n",
       "    }\n",
       "\n",
       "    .dataframe thead th {\n",
       "        text-align: right;\n",
       "    }\n",
       "</style>\n",
       "<table border=\"1\" class=\"dataframe\">\n",
       "  <thead>\n",
       "    <tr style=\"text-align: right;\">\n",
       "      <th></th>\n",
       "      <th>num</th>\n",
       "    </tr>\n",
       "  </thead>\n",
       "  <tbody>\n",
       "    <tr>\n",
       "      <th>0</th>\n",
       "      <td>8</td>\n",
       "    </tr>\n",
       "    <tr>\n",
       "      <th>1</th>\n",
       "      <td>8</td>\n",
       "    </tr>\n",
       "    <tr>\n",
       "      <th>2</th>\n",
       "      <td>3</td>\n",
       "    </tr>\n",
       "    <tr>\n",
       "      <th>3</th>\n",
       "      <td>3</td>\n",
       "    </tr>\n",
       "    <tr>\n",
       "      <th>4</th>\n",
       "      <td>1</td>\n",
       "    </tr>\n",
       "    <tr>\n",
       "      <th>5</th>\n",
       "      <td>4</td>\n",
       "    </tr>\n",
       "    <tr>\n",
       "      <th>6</th>\n",
       "      <td>5</td>\n",
       "    </tr>\n",
       "    <tr>\n",
       "      <th>7</th>\n",
       "      <td>6</td>\n",
       "    </tr>\n",
       "  </tbody>\n",
       "</table>\n",
       "</div>"
      ],
      "text/plain": [
       "   num\n",
       "0    8\n",
       "1    8\n",
       "2    3\n",
       "3    3\n",
       "4    1\n",
       "5    4\n",
       "6    5\n",
       "7    6"
      ]
     },
     "execution_count": 38,
     "metadata": {},
     "output_type": "execute_result"
    }
   ],
   "source": [
    "pd.read_sql(\"\"\"\n",
    "SELECT *\n",
    "FROM MyNumbers\n",
    "\"\"\", con)"
   ]
  },
  {
   "cell_type": "code",
   "execution_count": 63,
   "id": "9f3805f8",
   "metadata": {
    "scrolled": true
   },
   "outputs": [
    {
     "data": {
      "text/html": [
       "<div>\n",
       "<style scoped>\n",
       "    .dataframe tbody tr th:only-of-type {\n",
       "        vertical-align: middle;\n",
       "    }\n",
       "\n",
       "    .dataframe tbody tr th {\n",
       "        vertical-align: top;\n",
       "    }\n",
       "\n",
       "    .dataframe thead th {\n",
       "        text-align: right;\n",
       "    }\n",
       "</style>\n",
       "<table border=\"1\" class=\"dataframe\">\n",
       "  <thead>\n",
       "    <tr style=\"text-align: right;\">\n",
       "      <th></th>\n",
       "      <th>num</th>\n",
       "    </tr>\n",
       "  </thead>\n",
       "  <tbody>\n",
       "    <tr>\n",
       "      <th>0</th>\n",
       "      <td>6</td>\n",
       "    </tr>\n",
       "  </tbody>\n",
       "</table>\n",
       "</div>"
      ],
      "text/plain": [
       "   num\n",
       "0    6"
      ]
     },
     "execution_count": 63,
     "metadata": {},
     "output_type": "execute_result"
    }
   ],
   "source": [
    "pd.read_sql(\"\"\"\n",
    "SELECT IFNULL (\n",
    "    (SELECT MAX(num) \n",
    "    FROM (\n",
    "        SELECT num\n",
    "        FROM MyNumbers\n",
    "        GROUP BY num\n",
    "        HAVING COUNT(*) = 1\n",
    "    ) AS unique_nums), NULL) AS num\n",
    "\"\"\", con)"
   ]
  },
  {
   "cell_type": "code",
   "execution_count": 29,
   "id": "2b247a7a",
   "metadata": {},
   "outputs": [
    {
     "name": "stderr",
     "output_type": "stream",
     "text": [
      "/tmp/ipykernel_6016/3749329868.py:3: UserWarning: pandas only supports SQLAlchemy connectable (engine/connection) or database string URI or sqlite3 DBAPI2 connection. Other DBAPI2 objects are not tested. Please consider using SQLAlchemy.\n",
      "  pd.read_sql(\"\"\"\n"
     ]
    },
    {
     "data": {
      "text/html": [
       "<div>\n",
       "<style scoped>\n",
       "    .dataframe tbody tr th:only-of-type {\n",
       "        vertical-align: middle;\n",
       "    }\n",
       "\n",
       "    .dataframe tbody tr th {\n",
       "        vertical-align: top;\n",
       "    }\n",
       "\n",
       "    .dataframe thead th {\n",
       "        text-align: right;\n",
       "    }\n",
       "</style>\n",
       "<table border=\"1\" class=\"dataframe\">\n",
       "  <thead>\n",
       "    <tr style=\"text-align: right;\">\n",
       "      <th></th>\n",
       "      <th>num</th>\n",
       "    </tr>\n",
       "  </thead>\n",
       "  <tbody>\n",
       "    <tr>\n",
       "      <th>0</th>\n",
       "      <td>6</td>\n",
       "    </tr>\n",
       "  </tbody>\n",
       "</table>\n",
       "</div>"
      ],
      "text/plain": [
       "   num\n",
       "0    6"
      ]
     },
     "execution_count": 29,
     "metadata": {},
     "output_type": "execute_result"
    }
   ],
   "source": [
    "# OR\n",
    "\n",
    "pd.read_sql(\"\"\"\n",
    "\n",
    "SELECT IFNULL(MAX(num), NULL) AS num\n",
    "FROM MyNumbers\n",
    "WHERE num IN(\n",
    "            SELECT num\n",
    "            FROM MyNumbers\n",
    "            GROUP BY num\n",
    "            HAVING COUNT(num) = 1\n",
    "\n",
    ")\n",
    "\n",
    "\"\"\", con)"
   ]
  },
  {
   "cell_type": "markdown",
   "id": "186d979b",
   "metadata": {},
   "source": [
    "# Leetcode Question 1978: Employees Whose Manager Left the Company\n"
   ]
  },
  {
   "cell_type": "code",
   "execution_count": null,
   "id": "78a047d3",
   "metadata": {},
   "outputs": [],
   "source": [
    "Create table If Not Exists Employees (employee_id int, name varchar(20), manager_id int, salary int)\n",
    "Truncate table Employees\n",
    "insert into Employees (employee_id, name, manager_id, salary) values ('3', 'Mila', '9', '60301')\n",
    "insert into Employees (employee_id, name, manager_id, salary) values ('12', 'Antonella', 'None', '31000')\n",
    "insert into Employees (employee_id, name, manager_id, salary) values ('13', 'Emery', 'None', '67084')\n",
    "insert into Employees (employee_id, name, manager_id, salary) values ('1', 'Kalel', '11', '21241')\n",
    "insert into Employees (employee_id, name, manager_id, salary) values ('9', 'Mikaela', 'None', '50937')\n",
    "insert into Employees (employee_id, name, manager_id, salary) values ('11', 'Joziah', '6', '28485')"
   ]
  },
  {
   "cell_type": "code",
   "execution_count": 30,
   "id": "3711c127",
   "metadata": {},
   "outputs": [],
   "source": [
    "database_creator('Leetcode_Q_1978')"
   ]
  },
  {
   "cell_type": "code",
   "execution_count": 31,
   "id": "1f11a04f",
   "metadata": {},
   "outputs": [],
   "source": [
    "schema = \"employee_id int, name varchar(20), manager_id int, salary int\"\n",
    "data = [('3', 'Mila', '9', '60301'),\n",
    "       ('12', 'Antonella', None, '31000'),\n",
    "       ('13', 'Emery', None, '67084'),\n",
    "       ('1', 'Kalel', '11', '21241'),\n",
    "       ('9', 'Mikaela', None, '50937'),\n",
    "       ('11', 'Joziah', '6', '28485')]\n",
    "\n",
    "insert_data_to_table(\"Leetcode_Q_1978\", \"Employees\", schema, data)"
   ]
  },
  {
   "cell_type": "code",
   "execution_count": 32,
   "id": "c28c9a40",
   "metadata": {},
   "outputs": [],
   "source": [
    "con = connector('Leetcode_Q_1978')"
   ]
  },
  {
   "cell_type": "code",
   "execution_count": 65,
   "id": "4d16ebad",
   "metadata": {},
   "outputs": [
    {
     "data": {
      "text/html": [
       "<div>\n",
       "<style scoped>\n",
       "    .dataframe tbody tr th:only-of-type {\n",
       "        vertical-align: middle;\n",
       "    }\n",
       "\n",
       "    .dataframe tbody tr th {\n",
       "        vertical-align: top;\n",
       "    }\n",
       "\n",
       "    .dataframe thead th {\n",
       "        text-align: right;\n",
       "    }\n",
       "</style>\n",
       "<table border=\"1\" class=\"dataframe\">\n",
       "  <thead>\n",
       "    <tr style=\"text-align: right;\">\n",
       "      <th></th>\n",
       "      <th>employee_id</th>\n",
       "      <th>name</th>\n",
       "      <th>manager_id</th>\n",
       "      <th>salary</th>\n",
       "    </tr>\n",
       "  </thead>\n",
       "  <tbody>\n",
       "    <tr>\n",
       "      <th>0</th>\n",
       "      <td>3</td>\n",
       "      <td>Mila</td>\n",
       "      <td>9.0</td>\n",
       "      <td>60301</td>\n",
       "    </tr>\n",
       "    <tr>\n",
       "      <th>1</th>\n",
       "      <td>12</td>\n",
       "      <td>Antonella</td>\n",
       "      <td>NaN</td>\n",
       "      <td>31000</td>\n",
       "    </tr>\n",
       "    <tr>\n",
       "      <th>2</th>\n",
       "      <td>13</td>\n",
       "      <td>Emery</td>\n",
       "      <td>NaN</td>\n",
       "      <td>67084</td>\n",
       "    </tr>\n",
       "    <tr>\n",
       "      <th>3</th>\n",
       "      <td>1</td>\n",
       "      <td>Kalel</td>\n",
       "      <td>11.0</td>\n",
       "      <td>21241</td>\n",
       "    </tr>\n",
       "    <tr>\n",
       "      <th>4</th>\n",
       "      <td>9</td>\n",
       "      <td>Mikaela</td>\n",
       "      <td>NaN</td>\n",
       "      <td>50937</td>\n",
       "    </tr>\n",
       "    <tr>\n",
       "      <th>5</th>\n",
       "      <td>11</td>\n",
       "      <td>Joziah</td>\n",
       "      <td>6.0</td>\n",
       "      <td>28485</td>\n",
       "    </tr>\n",
       "  </tbody>\n",
       "</table>\n",
       "</div>"
      ],
      "text/plain": [
       "   employee_id       name  manager_id  salary\n",
       "0            3       Mila         9.0   60301\n",
       "1           12  Antonella         NaN   31000\n",
       "2           13      Emery         NaN   67084\n",
       "3            1      Kalel        11.0   21241\n",
       "4            9    Mikaela         NaN   50937\n",
       "5           11     Joziah         6.0   28485"
      ]
     },
     "execution_count": 65,
     "metadata": {},
     "output_type": "execute_result"
    }
   ],
   "source": [
    "pd.read_sql(\"\"\"\n",
    "SELECT *\n",
    "FROM Employees\n",
    "\"\"\", con)"
   ]
  },
  {
   "cell_type": "code",
   "execution_count": 74,
   "id": "802dfa34",
   "metadata": {},
   "outputs": [
    {
     "data": {
      "text/html": [
       "<div>\n",
       "<style scoped>\n",
       "    .dataframe tbody tr th:only-of-type {\n",
       "        vertical-align: middle;\n",
       "    }\n",
       "\n",
       "    .dataframe tbody tr th {\n",
       "        vertical-align: top;\n",
       "    }\n",
       "\n",
       "    .dataframe thead th {\n",
       "        text-align: right;\n",
       "    }\n",
       "</style>\n",
       "<table border=\"1\" class=\"dataframe\">\n",
       "  <thead>\n",
       "    <tr style=\"text-align: right;\">\n",
       "      <th></th>\n",
       "      <th>employee_id</th>\n",
       "    </tr>\n",
       "  </thead>\n",
       "  <tbody>\n",
       "    <tr>\n",
       "      <th>0</th>\n",
       "      <td>11</td>\n",
       "    </tr>\n",
       "  </tbody>\n",
       "</table>\n",
       "</div>"
      ],
      "text/plain": [
       "   employee_id\n",
       "0           11"
      ]
     },
     "execution_count": 74,
     "metadata": {},
     "output_type": "execute_result"
    }
   ],
   "source": [
    "pd.read_sql(\"\"\"\n",
    "SELECT employee_id\n",
    "FROM Employees\n",
    "WHERE manager_id NOT IN (\n",
    "    SELECT employee_id FROM Employees\n",
    "    ) AND\n",
    "    salary < 30000\n",
    "ORDER BY employee_id\n",
    "\"\"\", con)"
   ]
  },
  {
   "cell_type": "markdown",
   "id": "8ad71be6",
   "metadata": {},
   "source": [
    "# Leetcode Question 1731: The Number of Employees Which Report to Each Employee\n"
   ]
  },
  {
   "cell_type": "code",
   "execution_count": null,
   "id": "cbd75f3a",
   "metadata": {},
   "outputs": [],
   "source": [
    "Create table If Not Exists Employees(employee_id int, name varchar(20), reports_to int, age int)\n",
    "Truncate table Employees\n",
    "insert into Employees (employee_id, name, reports_to, age) values ('9', 'Hercy', 'None', '43')\n",
    "insert into Employees (employee_id, name, reports_to, age) values ('6', 'Alice', '9', '41')\n",
    "insert into Employees (employee_id, name, reports_to, age) values ('4', 'Bob', '9', '36')\n",
    "insert into Employees (employee_id, name, reports_to, age) values ('2', 'Winston', 'None', '37')"
   ]
  },
  {
   "cell_type": "code",
   "execution_count": 33,
   "id": "f015bb24",
   "metadata": {},
   "outputs": [],
   "source": [
    "database_creator('Leetcode_Q_1731')"
   ]
  },
  {
   "cell_type": "code",
   "execution_count": 34,
   "id": "45747ceb",
   "metadata": {},
   "outputs": [],
   "source": [
    "schema = \"employee_id int, name varchar(20), reports_to int, age int\"\n",
    "data = [('9', 'Hercy', None, '43'),\n",
    "       ('6', 'Alice', '9', '41'),\n",
    "       ('4', 'Bob', '9', '36'),\n",
    "       ('2', 'Winston', None, '37')]\n",
    "\n",
    "insert_data_to_table(\"Leetcode_Q_1731\", \"Employees\", schema, data)"
   ]
  },
  {
   "cell_type": "code",
   "execution_count": 35,
   "id": "95a24fff",
   "metadata": {},
   "outputs": [],
   "source": [
    "con = connector('Leetcode_Q_1731')"
   ]
  },
  {
   "cell_type": "code",
   "execution_count": 5,
   "id": "ba47b3e0",
   "metadata": {},
   "outputs": [
    {
     "data": {
      "text/html": [
       "<div>\n",
       "<style scoped>\n",
       "    .dataframe tbody tr th:only-of-type {\n",
       "        vertical-align: middle;\n",
       "    }\n",
       "\n",
       "    .dataframe tbody tr th {\n",
       "        vertical-align: top;\n",
       "    }\n",
       "\n",
       "    .dataframe thead th {\n",
       "        text-align: right;\n",
       "    }\n",
       "</style>\n",
       "<table border=\"1\" class=\"dataframe\">\n",
       "  <thead>\n",
       "    <tr style=\"text-align: right;\">\n",
       "      <th></th>\n",
       "      <th>employee_id</th>\n",
       "      <th>name</th>\n",
       "      <th>reports_to</th>\n",
       "      <th>age</th>\n",
       "    </tr>\n",
       "  </thead>\n",
       "  <tbody>\n",
       "    <tr>\n",
       "      <th>0</th>\n",
       "      <td>9</td>\n",
       "      <td>Hercy</td>\n",
       "      <td>NaN</td>\n",
       "      <td>43</td>\n",
       "    </tr>\n",
       "    <tr>\n",
       "      <th>1</th>\n",
       "      <td>6</td>\n",
       "      <td>Alice</td>\n",
       "      <td>9.0</td>\n",
       "      <td>41</td>\n",
       "    </tr>\n",
       "    <tr>\n",
       "      <th>2</th>\n",
       "      <td>4</td>\n",
       "      <td>Bob</td>\n",
       "      <td>9.0</td>\n",
       "      <td>36</td>\n",
       "    </tr>\n",
       "    <tr>\n",
       "      <th>3</th>\n",
       "      <td>2</td>\n",
       "      <td>Winston</td>\n",
       "      <td>NaN</td>\n",
       "      <td>37</td>\n",
       "    </tr>\n",
       "  </tbody>\n",
       "</table>\n",
       "</div>"
      ],
      "text/plain": [
       "   employee_id     name  reports_to  age\n",
       "0            9    Hercy         NaN   43\n",
       "1            6    Alice         9.0   41\n",
       "2            4      Bob         9.0   36\n",
       "3            2  Winston         NaN   37"
      ]
     },
     "execution_count": 5,
     "metadata": {},
     "output_type": "execute_result"
    }
   ],
   "source": [
    "pd.read_sql(\"\"\"\n",
    "SELECT *\n",
    "FROM Employees\n",
    "\"\"\", con)"
   ]
  },
  {
   "cell_type": "code",
   "execution_count": 82,
   "id": "5e584ea4",
   "metadata": {},
   "outputs": [
    {
     "data": {
      "text/html": [
       "<div>\n",
       "<style scoped>\n",
       "    .dataframe tbody tr th:only-of-type {\n",
       "        vertical-align: middle;\n",
       "    }\n",
       "\n",
       "    .dataframe tbody tr th {\n",
       "        vertical-align: top;\n",
       "    }\n",
       "\n",
       "    .dataframe thead th {\n",
       "        text-align: right;\n",
       "    }\n",
       "</style>\n",
       "<table border=\"1\" class=\"dataframe\">\n",
       "  <thead>\n",
       "    <tr style=\"text-align: right;\">\n",
       "      <th></th>\n",
       "      <th>employee_id</th>\n",
       "      <th>name</th>\n",
       "      <th>reports_count</th>\n",
       "      <th>average_age</th>\n",
       "    </tr>\n",
       "  </thead>\n",
       "  <tbody>\n",
       "    <tr>\n",
       "      <th>0</th>\n",
       "      <td>9</td>\n",
       "      <td>Hercy</td>\n",
       "      <td>2</td>\n",
       "      <td>39.0</td>\n",
       "    </tr>\n",
       "  </tbody>\n",
       "</table>\n",
       "</div>"
      ],
      "text/plain": [
       "   employee_id   name  reports_count  average_age\n",
       "0            9  Hercy              2         39.0"
      ]
     },
     "execution_count": 82,
     "metadata": {},
     "output_type": "execute_result"
    }
   ],
   "source": [
    "# I use Common Table Expression (CTE):\n",
    "\n",
    "pd.read_sql(\"\"\"\n",
    "WITH cte AS(\n",
    "SELECT \n",
    "    reports_to, \n",
    "    COUNT(employee_id) AS reports_count,\n",
    "    ROUND(AVG(age), 0) AS average_age\n",
    "FROM Employees\n",
    "WHERE reports_to IS NOT NULL\n",
    "GROUP BY reports_to\n",
    ")\n",
    "SELECT \n",
    "    c.reports_to AS employee_id,\n",
    "    e.name, \n",
    "    c.reports_count,\n",
    "    c.average_age\n",
    "FROM cte c\n",
    "LEFT JOIN Employees e\n",
    "    ON c.reports_to = e.employee_id\n",
    "ORDER BY employee_id\n",
    "\"\"\", con)"
   ]
  },
  {
   "cell_type": "code",
   "execution_count": 36,
   "id": "3355dd42",
   "metadata": {},
   "outputs": [
    {
     "name": "stderr",
     "output_type": "stream",
     "text": [
      "/tmp/ipykernel_6016/2354022432.py:3: UserWarning: pandas only supports SQLAlchemy connectable (engine/connection) or database string URI or sqlite3 DBAPI2 connection. Other DBAPI2 objects are not tested. Please consider using SQLAlchemy.\n",
      "  pd.read_sql(\"\"\"\n"
     ]
    },
    {
     "data": {
      "text/html": [
       "<div>\n",
       "<style scoped>\n",
       "    .dataframe tbody tr th:only-of-type {\n",
       "        vertical-align: middle;\n",
       "    }\n",
       "\n",
       "    .dataframe tbody tr th {\n",
       "        vertical-align: top;\n",
       "    }\n",
       "\n",
       "    .dataframe thead th {\n",
       "        text-align: right;\n",
       "    }\n",
       "</style>\n",
       "<table border=\"1\" class=\"dataframe\">\n",
       "  <thead>\n",
       "    <tr style=\"text-align: right;\">\n",
       "      <th></th>\n",
       "      <th>employee_id</th>\n",
       "      <th>name</th>\n",
       "      <th>reports_count</th>\n",
       "      <th>average_age</th>\n",
       "    </tr>\n",
       "  </thead>\n",
       "  <tbody>\n",
       "    <tr>\n",
       "      <th>0</th>\n",
       "      <td>9</td>\n",
       "      <td>Hercy</td>\n",
       "      <td>2</td>\n",
       "      <td>39.0</td>\n",
       "    </tr>\n",
       "  </tbody>\n",
       "</table>\n",
       "</div>"
      ],
      "text/plain": [
       "   employee_id   name  reports_count  average_age\n",
       "0            9  Hercy              2         39.0"
      ]
     },
     "execution_count": 36,
     "metadata": {},
     "output_type": "execute_result"
    }
   ],
   "source": [
    "# or\n",
    "\n",
    "pd.read_sql(\"\"\"\n",
    "\n",
    "SELECT m.employee_id, m.name, COUNT(e.employee_id) AS reports_count, ROUND(AVG(e.age), 0) AS average_age\n",
    "FROM Employees e\n",
    "JOIN Employees m\n",
    "    ON e.reports_to = m.employee_id\n",
    "GROUP BY m.employee_id, m.name\n",
    "ORDER BY m.employee_id\n",
    "\"\"\", con)"
   ]
  },
  {
   "cell_type": "markdown",
   "id": "c55aff22",
   "metadata": {},
   "source": [
    "# Leetcode Question 1084: Sales Analysis III\n",
    " "
   ]
  },
  {
   "cell_type": "code",
   "execution_count": null,
   "id": "a898c5d9",
   "metadata": {},
   "outputs": [],
   "source": [
    "Create table If Not Exists Product (product_id int, product_name varchar(10), unit_price int)\n",
    "Create table If Not Exists Sales (seller_id int, product_id int, buyer_id int, sale_date date, quantity int, price int)\n",
    "Truncate table Product\n",
    "insert into Product (product_id, product_name, unit_price) values ('1', 'S8', '1000')\n",
    "insert into Product (product_id, product_name, unit_price) values ('2', 'G4', '800')\n",
    "insert into Product (product_id, product_name, unit_price) values ('3', 'iPhone', '1400')\n",
    "Truncate table Sales\n",
    "insert into Sales (seller_id, product_id, buyer_id, sale_date, quantity, price) values ('1', '1', '1', '2019-01-21', '2', '2000')\n",
    "insert into Sales (seller_id, product_id, buyer_id, sale_date, quantity, price) values ('1', '2', '2', '2019-02-17', '1', '800')\n",
    "insert into Sales (seller_id, product_id, buyer_id, sale_date, quantity, price) values ('2', '2', '3', '2019-06-02', '1', '800')\n",
    "insert into Sales (seller_id, product_id, buyer_id, sale_date, quantity, price) values ('3', '3', '4', '2019-05-13', '2', '2800')"
   ]
  },
  {
   "cell_type": "code",
   "execution_count": 37,
   "id": "eadd52a1",
   "metadata": {},
   "outputs": [],
   "source": [
    "database_creator('Leetcode_Q_1084')"
   ]
  },
  {
   "cell_type": "code",
   "execution_count": 38,
   "id": "689af060",
   "metadata": {},
   "outputs": [],
   "source": [
    "schema = \"product_id int, product_name varchar(10), unit_price int\"\n",
    "data = [('1', 'S8', '1000'),\n",
    "       ('2', 'G4', '800'),\n",
    "       ('3', 'iPhone', '1400')]\n",
    "\n",
    "insert_data_to_table(\"Leetcode_Q_1084\", \"Product\", schema, data)"
   ]
  },
  {
   "cell_type": "code",
   "execution_count": 39,
   "id": "212960ce",
   "metadata": {},
   "outputs": [],
   "source": [
    "schema = \"seller_id int, product_id int, buyer_id int, sale_date date, quantity int, price int\"\n",
    "data = [('1', '1', '1', '2019-01-21', '2', '2000'),\n",
    "       ('1', '2', '2', '2019-02-17', '1', '800'),\n",
    "       ('2', '2', '3', '2019-06-02', '1', '800'),\n",
    "       ('3', '3', '4', '2019-05-13', '2', '2800')]\n",
    "\n",
    "insert_data_to_table(\"Leetcode_Q_1084\", \"Sales\", schema, data)"
   ]
  },
  {
   "cell_type": "code",
   "execution_count": 40,
   "id": "948cbbe2",
   "metadata": {},
   "outputs": [],
   "source": [
    "con = connector('Leetcode_Q_1084')"
   ]
  },
  {
   "cell_type": "code",
   "execution_count": 5,
   "id": "6ae1f671",
   "metadata": {},
   "outputs": [
    {
     "data": {
      "text/html": [
       "<div>\n",
       "<style scoped>\n",
       "    .dataframe tbody tr th:only-of-type {\n",
       "        vertical-align: middle;\n",
       "    }\n",
       "\n",
       "    .dataframe tbody tr th {\n",
       "        vertical-align: top;\n",
       "    }\n",
       "\n",
       "    .dataframe thead th {\n",
       "        text-align: right;\n",
       "    }\n",
       "</style>\n",
       "<table border=\"1\" class=\"dataframe\">\n",
       "  <thead>\n",
       "    <tr style=\"text-align: right;\">\n",
       "      <th></th>\n",
       "      <th>product_id</th>\n",
       "      <th>product_name</th>\n",
       "      <th>unit_price</th>\n",
       "    </tr>\n",
       "  </thead>\n",
       "  <tbody>\n",
       "    <tr>\n",
       "      <th>0</th>\n",
       "      <td>1</td>\n",
       "      <td>S8</td>\n",
       "      <td>1000</td>\n",
       "    </tr>\n",
       "    <tr>\n",
       "      <th>1</th>\n",
       "      <td>2</td>\n",
       "      <td>G4</td>\n",
       "      <td>800</td>\n",
       "    </tr>\n",
       "    <tr>\n",
       "      <th>2</th>\n",
       "      <td>3</td>\n",
       "      <td>iPhone</td>\n",
       "      <td>1400</td>\n",
       "    </tr>\n",
       "  </tbody>\n",
       "</table>\n",
       "</div>"
      ],
      "text/plain": [
       "   product_id product_name  unit_price\n",
       "0           1           S8        1000\n",
       "1           2           G4         800\n",
       "2           3       iPhone        1400"
      ]
     },
     "execution_count": 5,
     "metadata": {},
     "output_type": "execute_result"
    }
   ],
   "source": [
    "pd.read_sql(\"\"\"\n",
    "SELECT *\n",
    "FROM Product\n",
    "\"\"\", con)"
   ]
  },
  {
   "cell_type": "code",
   "execution_count": 6,
   "id": "c9cdfcd2",
   "metadata": {},
   "outputs": [
    {
     "data": {
      "text/html": [
       "<div>\n",
       "<style scoped>\n",
       "    .dataframe tbody tr th:only-of-type {\n",
       "        vertical-align: middle;\n",
       "    }\n",
       "\n",
       "    .dataframe tbody tr th {\n",
       "        vertical-align: top;\n",
       "    }\n",
       "\n",
       "    .dataframe thead th {\n",
       "        text-align: right;\n",
       "    }\n",
       "</style>\n",
       "<table border=\"1\" class=\"dataframe\">\n",
       "  <thead>\n",
       "    <tr style=\"text-align: right;\">\n",
       "      <th></th>\n",
       "      <th>seller_id</th>\n",
       "      <th>product_id</th>\n",
       "      <th>buyer_id</th>\n",
       "      <th>sale_date</th>\n",
       "      <th>quantity</th>\n",
       "      <th>price</th>\n",
       "    </tr>\n",
       "  </thead>\n",
       "  <tbody>\n",
       "    <tr>\n",
       "      <th>0</th>\n",
       "      <td>1</td>\n",
       "      <td>1</td>\n",
       "      <td>1</td>\n",
       "      <td>2019-01-21</td>\n",
       "      <td>2</td>\n",
       "      <td>2000</td>\n",
       "    </tr>\n",
       "    <tr>\n",
       "      <th>1</th>\n",
       "      <td>1</td>\n",
       "      <td>2</td>\n",
       "      <td>2</td>\n",
       "      <td>2019-02-17</td>\n",
       "      <td>1</td>\n",
       "      <td>800</td>\n",
       "    </tr>\n",
       "    <tr>\n",
       "      <th>2</th>\n",
       "      <td>2</td>\n",
       "      <td>2</td>\n",
       "      <td>3</td>\n",
       "      <td>2019-06-02</td>\n",
       "      <td>1</td>\n",
       "      <td>800</td>\n",
       "    </tr>\n",
       "    <tr>\n",
       "      <th>3</th>\n",
       "      <td>3</td>\n",
       "      <td>3</td>\n",
       "      <td>4</td>\n",
       "      <td>2019-05-13</td>\n",
       "      <td>2</td>\n",
       "      <td>2800</td>\n",
       "    </tr>\n",
       "  </tbody>\n",
       "</table>\n",
       "</div>"
      ],
      "text/plain": [
       "   seller_id  product_id  buyer_id   sale_date  quantity  price\n",
       "0          1           1         1  2019-01-21         2   2000\n",
       "1          1           2         2  2019-02-17         1    800\n",
       "2          2           2         3  2019-06-02         1    800\n",
       "3          3           3         4  2019-05-13         2   2800"
      ]
     },
     "execution_count": 6,
     "metadata": {},
     "output_type": "execute_result"
    }
   ],
   "source": [
    "pd.read_sql(\"\"\"\n",
    "SELECT *\n",
    "FROM Sales\n",
    "\"\"\", con)"
   ]
  },
  {
   "cell_type": "code",
   "execution_count": 30,
   "id": "9084220d",
   "metadata": {
    "scrolled": true
   },
   "outputs": [
    {
     "data": {
      "text/html": [
       "<div>\n",
       "<style scoped>\n",
       "    .dataframe tbody tr th:only-of-type {\n",
       "        vertical-align: middle;\n",
       "    }\n",
       "\n",
       "    .dataframe tbody tr th {\n",
       "        vertical-align: top;\n",
       "    }\n",
       "\n",
       "    .dataframe thead th {\n",
       "        text-align: right;\n",
       "    }\n",
       "</style>\n",
       "<table border=\"1\" class=\"dataframe\">\n",
       "  <thead>\n",
       "    <tr style=\"text-align: right;\">\n",
       "      <th></th>\n",
       "      <th>product_id</th>\n",
       "      <th>product_name</th>\n",
       "    </tr>\n",
       "  </thead>\n",
       "  <tbody>\n",
       "    <tr>\n",
       "      <th>0</th>\n",
       "      <td>1</td>\n",
       "      <td>S8</td>\n",
       "    </tr>\n",
       "  </tbody>\n",
       "</table>\n",
       "</div>"
      ],
      "text/plain": [
       "   product_id product_name\n",
       "0           1           S8"
      ]
     },
     "execution_count": 30,
     "metadata": {},
     "output_type": "execute_result"
    }
   ],
   "source": [
    "pd.read_sql(\"\"\"\n",
    "SELECT \n",
    "    product_id,\n",
    "    product_name\n",
    "FROM Product p\n",
    "JOIN Sales s\n",
    "    USING (product_id)\n",
    "GROUP BY product_id, product_name\n",
    "HAVING MIN(sale_date) >= '2019-01-01' AND MAX(sale_date) <= '2019-03-31'\n",
    "\n",
    "\"\"\", con)"
   ]
  },
  {
   "cell_type": "markdown",
   "id": "e49f7517",
   "metadata": {},
   "source": [
    "# Leetcode Question 1141: User Activity for the Past 30 Days I\n"
   ]
  },
  {
   "cell_type": "code",
   "execution_count": null,
   "id": "3491d712",
   "metadata": {},
   "outputs": [],
   "source": [
    "Create table If Not Exists Activity (user_id int, session_id int, activity_date date, activity_type ENUM('open_session', 'end_session', 'scroll_down', 'send_message'))\n",
    "Truncate table Activity\n",
    "insert into Activity (user_id, session_id, activity_date, activity_type) values ('1', '1', '2019-07-20', 'open_session')\n",
    "insert into Activity (user_id, session_id, activity_date, activity_type) values ('1', '1', '2019-07-20', 'scroll_down')\n",
    "insert into Activity (user_id, session_id, activity_date, activity_type) values ('1', '1', '2019-07-20', 'end_session')\n",
    "insert into Activity (user_id, session_id, activity_date, activity_type) values ('2', '4', '2019-07-20', 'open_session')\n",
    "insert into Activity (user_id, session_id, activity_date, activity_type) values ('2', '4', '2019-07-21', 'send_message')\n",
    "insert into Activity (user_id, session_id, activity_date, activity_type) values ('2', '4', '2019-07-21', 'end_session')\n",
    "insert into Activity (user_id, session_id, activity_date, activity_type) values ('3', '2', '2019-07-21', 'open_session')\n",
    "insert into Activity (user_id, session_id, activity_date, activity_type) values ('3', '2', '2019-07-21', 'send_message')\n",
    "insert into Activity (user_id, session_id, activity_date, activity_type) values ('3', '2', '2019-07-21', 'end_session')\n",
    "insert into Activity (user_id, session_id, activity_date, activity_type) values ('4', '3', '2019-06-25', 'open_session')\n",
    "insert into Activity (user_id, session_id, activity_date, activity_type) values ('4', '3', '2019-06-25', 'end_session')"
   ]
  },
  {
   "cell_type": "code",
   "execution_count": 4,
   "id": "7ed6c5ba",
   "metadata": {},
   "outputs": [],
   "source": [
    "database_creator('Leetcode_Q_1141')"
   ]
  },
  {
   "cell_type": "code",
   "execution_count": 5,
   "id": "fc09bdcc",
   "metadata": {},
   "outputs": [],
   "source": [
    "schema = \"user_id int, session_id int, activity_date date, activity_type ENUM('open_session', 'end_session', 'scroll_down', 'send_message')\"\n",
    "data = [('1', '1', '2019-07-20', 'open_session'),\n",
    "       ('1', '1', '2019-07-20', 'scroll_down'),\n",
    "       ('1', '1', '2019-07-20', 'end_session'),\n",
    "       ('2', '4', '2019-07-20', 'open_session'),\n",
    "       ('2', '4', '2019-07-21', 'send_message'),\n",
    "       ('2', '4', '2019-07-21', 'end_session'),\n",
    "       ('3', '2', '2019-07-21', 'open_session'),\n",
    "       ('3', '2', '2019-07-21', 'send_message'),\n",
    "       ('3', '2', '2019-07-21', 'end_session'),\n",
    "       ('4', '3', '2019-06-25', 'open_session'),\n",
    "       ('4', '3', '2019-06-25', 'end_session')]\n",
    "\n",
    "insert_data_to_table(\"Leetcode_Q_1141\", \"Activity\", schema, data)"
   ]
  },
  {
   "cell_type": "code",
   "execution_count": 6,
   "id": "de222cc9",
   "metadata": {},
   "outputs": [],
   "source": [
    "con = connector('Leetcode_Q_1141')"
   ]
  },
  {
   "cell_type": "code",
   "execution_count": 109,
   "id": "232e70f8",
   "metadata": {},
   "outputs": [
    {
     "name": "stderr",
     "output_type": "stream",
     "text": [
      "/tmp/ipykernel_4765/987028561.py:1: UserWarning: pandas only supports SQLAlchemy connectable (engine/connection) or database string URI or sqlite3 DBAPI2 connection. Other DBAPI2 objects are not tested. Please consider using SQLAlchemy.\n",
      "  pd.read_sql(\"\"\"\n"
     ]
    },
    {
     "data": {
      "text/html": [
       "<div>\n",
       "<style scoped>\n",
       "    .dataframe tbody tr th:only-of-type {\n",
       "        vertical-align: middle;\n",
       "    }\n",
       "\n",
       "    .dataframe tbody tr th {\n",
       "        vertical-align: top;\n",
       "    }\n",
       "\n",
       "    .dataframe thead th {\n",
       "        text-align: right;\n",
       "    }\n",
       "</style>\n",
       "<table border=\"1\" class=\"dataframe\">\n",
       "  <thead>\n",
       "    <tr style=\"text-align: right;\">\n",
       "      <th></th>\n",
       "      <th>user_id</th>\n",
       "      <th>session_id</th>\n",
       "      <th>activity_date</th>\n",
       "      <th>activity_type</th>\n",
       "    </tr>\n",
       "  </thead>\n",
       "  <tbody>\n",
       "    <tr>\n",
       "      <th>0</th>\n",
       "      <td>1</td>\n",
       "      <td>1</td>\n",
       "      <td>2019-07-20</td>\n",
       "      <td>open_session</td>\n",
       "    </tr>\n",
       "    <tr>\n",
       "      <th>1</th>\n",
       "      <td>1</td>\n",
       "      <td>1</td>\n",
       "      <td>2019-07-20</td>\n",
       "      <td>scroll_down</td>\n",
       "    </tr>\n",
       "    <tr>\n",
       "      <th>2</th>\n",
       "      <td>1</td>\n",
       "      <td>1</td>\n",
       "      <td>2019-07-20</td>\n",
       "      <td>end_session</td>\n",
       "    </tr>\n",
       "    <tr>\n",
       "      <th>3</th>\n",
       "      <td>2</td>\n",
       "      <td>4</td>\n",
       "      <td>2019-07-20</td>\n",
       "      <td>open_session</td>\n",
       "    </tr>\n",
       "    <tr>\n",
       "      <th>4</th>\n",
       "      <td>2</td>\n",
       "      <td>4</td>\n",
       "      <td>2019-07-21</td>\n",
       "      <td>send_message</td>\n",
       "    </tr>\n",
       "    <tr>\n",
       "      <th>5</th>\n",
       "      <td>2</td>\n",
       "      <td>4</td>\n",
       "      <td>2019-07-21</td>\n",
       "      <td>end_session</td>\n",
       "    </tr>\n",
       "    <tr>\n",
       "      <th>6</th>\n",
       "      <td>3</td>\n",
       "      <td>2</td>\n",
       "      <td>2019-07-21</td>\n",
       "      <td>open_session</td>\n",
       "    </tr>\n",
       "    <tr>\n",
       "      <th>7</th>\n",
       "      <td>3</td>\n",
       "      <td>2</td>\n",
       "      <td>2019-07-21</td>\n",
       "      <td>send_message</td>\n",
       "    </tr>\n",
       "    <tr>\n",
       "      <th>8</th>\n",
       "      <td>3</td>\n",
       "      <td>2</td>\n",
       "      <td>2019-07-21</td>\n",
       "      <td>end_session</td>\n",
       "    </tr>\n",
       "    <tr>\n",
       "      <th>9</th>\n",
       "      <td>4</td>\n",
       "      <td>3</td>\n",
       "      <td>2019-06-25</td>\n",
       "      <td>open_session</td>\n",
       "    </tr>\n",
       "    <tr>\n",
       "      <th>10</th>\n",
       "      <td>4</td>\n",
       "      <td>3</td>\n",
       "      <td>2019-06-25</td>\n",
       "      <td>end_session</td>\n",
       "    </tr>\n",
       "  </tbody>\n",
       "</table>\n",
       "</div>"
      ],
      "text/plain": [
       "    user_id  session_id activity_date activity_type\n",
       "0         1           1    2019-07-20  open_session\n",
       "1         1           1    2019-07-20   scroll_down\n",
       "2         1           1    2019-07-20   end_session\n",
       "3         2           4    2019-07-20  open_session\n",
       "4         2           4    2019-07-21  send_message\n",
       "5         2           4    2019-07-21   end_session\n",
       "6         3           2    2019-07-21  open_session\n",
       "7         3           2    2019-07-21  send_message\n",
       "8         3           2    2019-07-21   end_session\n",
       "9         4           3    2019-06-25  open_session\n",
       "10        4           3    2019-06-25   end_session"
      ]
     },
     "execution_count": 109,
     "metadata": {},
     "output_type": "execute_result"
    }
   ],
   "source": [
    "pd.read_sql(\"\"\"\n",
    "SELECT *\n",
    "FROM Activity\n",
    "\"\"\", con)"
   ]
  },
  {
   "cell_type": "code",
   "execution_count": 114,
   "id": "9eb73936",
   "metadata": {
    "scrolled": true
   },
   "outputs": [
    {
     "name": "stderr",
     "output_type": "stream",
     "text": [
      "/tmp/ipykernel_4765/3159662318.py:1: UserWarning: pandas only supports SQLAlchemy connectable (engine/connection) or database string URI or sqlite3 DBAPI2 connection. Other DBAPI2 objects are not tested. Please consider using SQLAlchemy.\n",
      "  pd.read_sql(\"\"\"\n"
     ]
    },
    {
     "data": {
      "text/html": [
       "<div>\n",
       "<style scoped>\n",
       "    .dataframe tbody tr th:only-of-type {\n",
       "        vertical-align: middle;\n",
       "    }\n",
       "\n",
       "    .dataframe tbody tr th {\n",
       "        vertical-align: top;\n",
       "    }\n",
       "\n",
       "    .dataframe thead th {\n",
       "        text-align: right;\n",
       "    }\n",
       "</style>\n",
       "<table border=\"1\" class=\"dataframe\">\n",
       "  <thead>\n",
       "    <tr style=\"text-align: right;\">\n",
       "      <th></th>\n",
       "      <th>day</th>\n",
       "      <th>active_users</th>\n",
       "    </tr>\n",
       "  </thead>\n",
       "  <tbody>\n",
       "    <tr>\n",
       "      <th>0</th>\n",
       "      <td>2019-07-20</td>\n",
       "      <td>2</td>\n",
       "    </tr>\n",
       "    <tr>\n",
       "      <th>1</th>\n",
       "      <td>2019-07-21</td>\n",
       "      <td>2</td>\n",
       "    </tr>\n",
       "  </tbody>\n",
       "</table>\n",
       "</div>"
      ],
      "text/plain": [
       "          day  active_users\n",
       "0  2019-07-20             2\n",
       "1  2019-07-21             2"
      ]
     },
     "execution_count": 114,
     "metadata": {},
     "output_type": "execute_result"
    }
   ],
   "source": [
    "pd.read_sql(\"\"\"\n",
    "SELECT \n",
    "    activity_date AS day,\n",
    "    COUNT(DISTINCT user_id) AS active_users\n",
    "FROM Activity\n",
    "GROUP BY activity_date\n",
    "HAVING activity_date BETWEEN '2019-06-28' AND '2019-07-27'\n",
    "\"\"\", con)"
   ]
  },
  {
   "cell_type": "code",
   "execution_count": null,
   "id": "010e8e73",
   "metadata": {},
   "outputs": [],
   "source": [
    "# OR"
   ]
  },
  {
   "cell_type": "code",
   "execution_count": 116,
   "id": "7da3b8d0",
   "metadata": {},
   "outputs": [
    {
     "name": "stderr",
     "output_type": "stream",
     "text": [
      "/tmp/ipykernel_4765/2781172801.py:1: UserWarning: pandas only supports SQLAlchemy connectable (engine/connection) or database string URI or sqlite3 DBAPI2 connection. Other DBAPI2 objects are not tested. Please consider using SQLAlchemy.\n",
      "  pd.read_sql(\"\"\"\n"
     ]
    },
    {
     "data": {
      "text/html": [
       "<div>\n",
       "<style scoped>\n",
       "    .dataframe tbody tr th:only-of-type {\n",
       "        vertical-align: middle;\n",
       "    }\n",
       "\n",
       "    .dataframe tbody tr th {\n",
       "        vertical-align: top;\n",
       "    }\n",
       "\n",
       "    .dataframe thead th {\n",
       "        text-align: right;\n",
       "    }\n",
       "</style>\n",
       "<table border=\"1\" class=\"dataframe\">\n",
       "  <thead>\n",
       "    <tr style=\"text-align: right;\">\n",
       "      <th></th>\n",
       "      <th>day</th>\n",
       "      <th>active_users</th>\n",
       "    </tr>\n",
       "  </thead>\n",
       "  <tbody>\n",
       "    <tr>\n",
       "      <th>0</th>\n",
       "      <td>2019-07-20</td>\n",
       "      <td>2</td>\n",
       "    </tr>\n",
       "    <tr>\n",
       "      <th>1</th>\n",
       "      <td>2019-07-21</td>\n",
       "      <td>2</td>\n",
       "    </tr>\n",
       "  </tbody>\n",
       "</table>\n",
       "</div>"
      ],
      "text/plain": [
       "          day  active_users\n",
       "0  2019-07-20             2\n",
       "1  2019-07-21             2"
      ]
     },
     "execution_count": 116,
     "metadata": {},
     "output_type": "execute_result"
    }
   ],
   "source": [
    "pd.read_sql(\"\"\"\n",
    "SELECT \n",
    "    activity_date AS day,\n",
    "    COUNT(DISTINCT user_id) AS active_users\n",
    "FROM Activity\n",
    "WHERE activity_date BETWEEN '2019-06-28' AND '2019-07-27'\n",
    "GROUP BY  activity_date\n",
    "\"\"\", con)"
   ]
  },
  {
   "cell_type": "markdown",
   "id": "1c87f5cd",
   "metadata": {},
   "source": [
    "# Leetcode Question 596: Classes More Than 5 Students\n"
   ]
  },
  {
   "cell_type": "code",
   "execution_count": null,
   "id": "59c64a01",
   "metadata": {},
   "outputs": [],
   "source": [
    "Create table If Not Exists Courses (student varchar(255), class varchar(255))\n",
    "Truncate table Courses\n",
    "insert into Courses (student, class) values ('A', 'Math')\n",
    "insert into Courses (student, class) values ('B', 'English')\n",
    "insert into Courses (student, class) values ('C', 'Math')\n",
    "insert into Courses (student, class) values ('D', 'Biology')\n",
    "insert into Courses (student, class) values ('E', 'Math')\n",
    "insert into Courses (student, class) values ('F', 'Computer')\n",
    "insert into Courses (student, class) values ('G', 'Math')\n",
    "insert into Courses (student, class) values ('H', 'Math')\n",
    "insert into Courses (student, class) values ('I', 'Math')"
   ]
  },
  {
   "cell_type": "code",
   "execution_count": 7,
   "id": "75dfc79f",
   "metadata": {},
   "outputs": [],
   "source": [
    "database_creator('Leetcode_Q_596')"
   ]
  },
  {
   "cell_type": "code",
   "execution_count": 8,
   "id": "6a6cd879",
   "metadata": {},
   "outputs": [],
   "source": [
    "schema = \"student varchar(255), class varchar(255)\"\n",
    "data = [('A', 'Math'),\n",
    "        ('B', 'English'),\n",
    "       ('C', 'Math'),\n",
    "       ('D', 'Biology'),\n",
    "       ('E', 'Math'),\n",
    "       ('F', 'Computer'),\n",
    "       ('G', 'Math'),\n",
    "       ('H', 'Math'),\n",
    "       ('I', 'Math')]\n",
    "\n",
    "insert_data_to_table(\"Leetcode_Q_596\", \"Courses\", schema, data)"
   ]
  },
  {
   "cell_type": "code",
   "execution_count": 9,
   "id": "6e9456c9",
   "metadata": {},
   "outputs": [],
   "source": [
    "con = connector('Leetcode_Q_596')"
   ]
  },
  {
   "cell_type": "code",
   "execution_count": 45,
   "id": "a681f02b",
   "metadata": {},
   "outputs": [
    {
     "data": {
      "text/html": [
       "<div>\n",
       "<style scoped>\n",
       "    .dataframe tbody tr th:only-of-type {\n",
       "        vertical-align: middle;\n",
       "    }\n",
       "\n",
       "    .dataframe tbody tr th {\n",
       "        vertical-align: top;\n",
       "    }\n",
       "\n",
       "    .dataframe thead th {\n",
       "        text-align: right;\n",
       "    }\n",
       "</style>\n",
       "<table border=\"1\" class=\"dataframe\">\n",
       "  <thead>\n",
       "    <tr style=\"text-align: right;\">\n",
       "      <th></th>\n",
       "      <th>student</th>\n",
       "      <th>class</th>\n",
       "    </tr>\n",
       "  </thead>\n",
       "  <tbody>\n",
       "    <tr>\n",
       "      <th>0</th>\n",
       "      <td>A</td>\n",
       "      <td>Math</td>\n",
       "    </tr>\n",
       "    <tr>\n",
       "      <th>1</th>\n",
       "      <td>B</td>\n",
       "      <td>English</td>\n",
       "    </tr>\n",
       "    <tr>\n",
       "      <th>2</th>\n",
       "      <td>C</td>\n",
       "      <td>Math</td>\n",
       "    </tr>\n",
       "    <tr>\n",
       "      <th>3</th>\n",
       "      <td>D</td>\n",
       "      <td>Biology</td>\n",
       "    </tr>\n",
       "    <tr>\n",
       "      <th>4</th>\n",
       "      <td>E</td>\n",
       "      <td>Math</td>\n",
       "    </tr>\n",
       "    <tr>\n",
       "      <th>5</th>\n",
       "      <td>F</td>\n",
       "      <td>Computer</td>\n",
       "    </tr>\n",
       "    <tr>\n",
       "      <th>6</th>\n",
       "      <td>G</td>\n",
       "      <td>Math</td>\n",
       "    </tr>\n",
       "    <tr>\n",
       "      <th>7</th>\n",
       "      <td>H</td>\n",
       "      <td>Math</td>\n",
       "    </tr>\n",
       "    <tr>\n",
       "      <th>8</th>\n",
       "      <td>I</td>\n",
       "      <td>Math</td>\n",
       "    </tr>\n",
       "  </tbody>\n",
       "</table>\n",
       "</div>"
      ],
      "text/plain": [
       "  student     class\n",
       "0       A      Math\n",
       "1       B   English\n",
       "2       C      Math\n",
       "3       D   Biology\n",
       "4       E      Math\n",
       "5       F  Computer\n",
       "6       G      Math\n",
       "7       H      Math\n",
       "8       I      Math"
      ]
     },
     "execution_count": 45,
     "metadata": {},
     "output_type": "execute_result"
    }
   ],
   "source": [
    "pd.read_sql(\"\"\"\n",
    "SELECT *\n",
    "FROM Courses\n",
    "\"\"\", con)"
   ]
  },
  {
   "cell_type": "code",
   "execution_count": 49,
   "id": "be826470",
   "metadata": {},
   "outputs": [
    {
     "data": {
      "text/html": [
       "<div>\n",
       "<style scoped>\n",
       "    .dataframe tbody tr th:only-of-type {\n",
       "        vertical-align: middle;\n",
       "    }\n",
       "\n",
       "    .dataframe tbody tr th {\n",
       "        vertical-align: top;\n",
       "    }\n",
       "\n",
       "    .dataframe thead th {\n",
       "        text-align: right;\n",
       "    }\n",
       "</style>\n",
       "<table border=\"1\" class=\"dataframe\">\n",
       "  <thead>\n",
       "    <tr style=\"text-align: right;\">\n",
       "      <th></th>\n",
       "      <th>class</th>\n",
       "    </tr>\n",
       "  </thead>\n",
       "  <tbody>\n",
       "    <tr>\n",
       "      <th>0</th>\n",
       "      <td>Math</td>\n",
       "    </tr>\n",
       "  </tbody>\n",
       "</table>\n",
       "</div>"
      ],
      "text/plain": [
       "  class\n",
       "0  Math"
      ]
     },
     "execution_count": 49,
     "metadata": {},
     "output_type": "execute_result"
    }
   ],
   "source": [
    "pd.read_sql(\"\"\"\n",
    "SELECT \n",
    "    class\n",
    "FROM Courses\n",
    "GROUP BY class\n",
    "HAVING COUNT(student) >= 5\n",
    "\"\"\", con)"
   ]
  },
  {
   "cell_type": "markdown",
   "id": "a93c45c9",
   "metadata": {},
   "source": [
    "# Leetcode Question 197: Rising Temperature\n"
   ]
  },
  {
   "cell_type": "code",
   "execution_count": null,
   "id": "943e30f0",
   "metadata": {},
   "outputs": [],
   "source": [
    "Create table If Not Exists Weather (id int, recordDate date, temperature int)\n",
    "Truncate table Weather\n",
    "insert into Weather (id, recordDate, temperature) values ('1', '2015-01-01', '10')\n",
    "insert into Weather (id, recordDate, temperature) values ('2', '2015-01-02', '25')\n",
    "insert into Weather (id, recordDate, temperature) values ('3', '2015-01-03', '20')\n",
    "insert into Weather (id, recordDate, temperature) values ('4', '2015-01-04', '30')"
   ]
  },
  {
   "cell_type": "code",
   "execution_count": 10,
   "id": "07a43c30",
   "metadata": {},
   "outputs": [],
   "source": [
    "database_creator('Leetcode_Q_197')"
   ]
  },
  {
   "cell_type": "code",
   "execution_count": 11,
   "id": "a04259f8",
   "metadata": {},
   "outputs": [],
   "source": [
    "schema = \"id int, recordDate date, temperature int\"\n",
    "data = [('1', '2015-01-01', '10'),\n",
    "       ('2', '2015-01-02', '25'),\n",
    "       ('3', '2015-01-03', '20'),\n",
    "       ('4', '2015-01-04', '30')]\n",
    "\n",
    "insert_data_to_table(\"Leetcode_Q_197\", \"Weather\", schema, data)"
   ]
  },
  {
   "cell_type": "code",
   "execution_count": 12,
   "id": "14311ea2",
   "metadata": {},
   "outputs": [],
   "source": [
    "con = connector('Leetcode_Q_197')"
   ]
  },
  {
   "cell_type": "code",
   "execution_count": 5,
   "id": "5fdc8dd1",
   "metadata": {},
   "outputs": [
    {
     "data": {
      "text/html": [
       "<div>\n",
       "<style scoped>\n",
       "    .dataframe tbody tr th:only-of-type {\n",
       "        vertical-align: middle;\n",
       "    }\n",
       "\n",
       "    .dataframe tbody tr th {\n",
       "        vertical-align: top;\n",
       "    }\n",
       "\n",
       "    .dataframe thead th {\n",
       "        text-align: right;\n",
       "    }\n",
       "</style>\n",
       "<table border=\"1\" class=\"dataframe\">\n",
       "  <thead>\n",
       "    <tr style=\"text-align: right;\">\n",
       "      <th></th>\n",
       "      <th>id</th>\n",
       "      <th>recordDate</th>\n",
       "      <th>temperature</th>\n",
       "    </tr>\n",
       "  </thead>\n",
       "  <tbody>\n",
       "    <tr>\n",
       "      <th>0</th>\n",
       "      <td>1</td>\n",
       "      <td>2015-01-01</td>\n",
       "      <td>10</td>\n",
       "    </tr>\n",
       "    <tr>\n",
       "      <th>1</th>\n",
       "      <td>2</td>\n",
       "      <td>2015-01-02</td>\n",
       "      <td>25</td>\n",
       "    </tr>\n",
       "    <tr>\n",
       "      <th>2</th>\n",
       "      <td>3</td>\n",
       "      <td>2015-01-03</td>\n",
       "      <td>20</td>\n",
       "    </tr>\n",
       "    <tr>\n",
       "      <th>3</th>\n",
       "      <td>4</td>\n",
       "      <td>2015-01-04</td>\n",
       "      <td>30</td>\n",
       "    </tr>\n",
       "  </tbody>\n",
       "</table>\n",
       "</div>"
      ],
      "text/plain": [
       "   id  recordDate  temperature\n",
       "0   1  2015-01-01           10\n",
       "1   2  2015-01-02           25\n",
       "2   3  2015-01-03           20\n",
       "3   4  2015-01-04           30"
      ]
     },
     "execution_count": 5,
     "metadata": {},
     "output_type": "execute_result"
    }
   ],
   "source": [
    "pd.read_sql(\"\"\"\n",
    "SELECT *\n",
    "FROM Weather\"\"\", con)"
   ]
  },
  {
   "cell_type": "code",
   "execution_count": 19,
   "id": "652b40ea",
   "metadata": {},
   "outputs": [
    {
     "data": {
      "text/html": [
       "<div>\n",
       "<style scoped>\n",
       "    .dataframe tbody tr th:only-of-type {\n",
       "        vertical-align: middle;\n",
       "    }\n",
       "\n",
       "    .dataframe tbody tr th {\n",
       "        vertical-align: top;\n",
       "    }\n",
       "\n",
       "    .dataframe thead th {\n",
       "        text-align: right;\n",
       "    }\n",
       "</style>\n",
       "<table border=\"1\" class=\"dataframe\">\n",
       "  <thead>\n",
       "    <tr style=\"text-align: right;\">\n",
       "      <th></th>\n",
       "      <th>id</th>\n",
       "    </tr>\n",
       "  </thead>\n",
       "  <tbody>\n",
       "    <tr>\n",
       "      <th>0</th>\n",
       "      <td>2</td>\n",
       "    </tr>\n",
       "    <tr>\n",
       "      <th>1</th>\n",
       "      <td>4</td>\n",
       "    </tr>\n",
       "  </tbody>\n",
       "</table>\n",
       "</div>"
      ],
      "text/plain": [
       "   id\n",
       "0   2\n",
       "1   4"
      ]
     },
     "execution_count": 19,
     "metadata": {},
     "output_type": "execute_result"
    }
   ],
   "source": [
    "pd.read_sql(\"\"\"\n",
    "SELECT w2.id\n",
    "FROM Weather w1\n",
    "JOIN Weather w2\n",
    "    ON DATEDIFF(w1.recordDate, w2.recordDate) = -1\n",
    "WHERE w2.temperature > w1.temperature\n",
    "\"\"\", con)"
   ]
  },
  {
   "cell_type": "markdown",
   "id": "04e93fe9",
   "metadata": {},
   "source": [
    "# Leetcode Question 1527: Patients With a Condition\n"
   ]
  },
  {
   "cell_type": "code",
   "execution_count": null,
   "id": "6f348071",
   "metadata": {},
   "outputs": [],
   "source": [
    "Create table If Not Exists Patients (patient_id int, patient_name varchar(30), conditions varchar(100))\n",
    "Truncate table Patients\n",
    "insert into Patients (patient_id, patient_name, conditions) values ('1', 'Daniel', 'YFEV COUGH')\n",
    "insert into Patients (patient_id, patient_name, conditions) values ('2', 'Alice', '')\n",
    "insert into Patients (patient_id, patient_name, conditions) values ('3', 'Bob', 'DIAB100 MYOP')\n",
    "insert into Patients (patient_id, patient_name, conditions) values ('4', 'George', 'ACNE DIAB100')\n",
    "insert into Patients (patient_id, patient_name, conditions) values ('5', 'Alain', 'DIAB201')"
   ]
  },
  {
   "cell_type": "code",
   "execution_count": 13,
   "id": "c00fa9ca",
   "metadata": {},
   "outputs": [],
   "source": [
    "database_creator('Leetcode_Q_1527')"
   ]
  },
  {
   "cell_type": "code",
   "execution_count": 14,
   "id": "1e34a91b",
   "metadata": {},
   "outputs": [],
   "source": [
    "schema = \"patient_id int, patient_name varchar(30), conditions varchar(100)\"\n",
    "data = [('1', 'Daniel', 'YFEV COUGH'),\n",
    "       ('2', 'Alice', ''),\n",
    "       ('3', 'Bob', 'DIAB100 MYOP'),\n",
    "       ('4', 'George', 'ACNE DIAB100'),\n",
    "       ('5', 'Alain', 'DIAB201')]\n",
    "\n",
    "insert_data_to_table(\"Leetcode_Q_1527\", \"Patients\", schema, data)"
   ]
  },
  {
   "cell_type": "code",
   "execution_count": 15,
   "id": "08016804",
   "metadata": {},
   "outputs": [],
   "source": [
    "con = connector('Leetcode_Q_1527')"
   ]
  },
  {
   "cell_type": "code",
   "execution_count": 5,
   "id": "7ed4b551",
   "metadata": {},
   "outputs": [
    {
     "data": {
      "text/html": [
       "<div>\n",
       "<style scoped>\n",
       "    .dataframe tbody tr th:only-of-type {\n",
       "        vertical-align: middle;\n",
       "    }\n",
       "\n",
       "    .dataframe tbody tr th {\n",
       "        vertical-align: top;\n",
       "    }\n",
       "\n",
       "    .dataframe thead th {\n",
       "        text-align: right;\n",
       "    }\n",
       "</style>\n",
       "<table border=\"1\" class=\"dataframe\">\n",
       "  <thead>\n",
       "    <tr style=\"text-align: right;\">\n",
       "      <th></th>\n",
       "      <th>patient_id</th>\n",
       "      <th>patient_name</th>\n",
       "      <th>conditions</th>\n",
       "    </tr>\n",
       "  </thead>\n",
       "  <tbody>\n",
       "    <tr>\n",
       "      <th>0</th>\n",
       "      <td>1</td>\n",
       "      <td>Daniel</td>\n",
       "      <td>YFEV COUGH</td>\n",
       "    </tr>\n",
       "    <tr>\n",
       "      <th>1</th>\n",
       "      <td>2</td>\n",
       "      <td>Alice</td>\n",
       "      <td></td>\n",
       "    </tr>\n",
       "    <tr>\n",
       "      <th>2</th>\n",
       "      <td>3</td>\n",
       "      <td>Bob</td>\n",
       "      <td>DIAB100 MYOP</td>\n",
       "    </tr>\n",
       "    <tr>\n",
       "      <th>3</th>\n",
       "      <td>4</td>\n",
       "      <td>George</td>\n",
       "      <td>ACNE DIAB100</td>\n",
       "    </tr>\n",
       "    <tr>\n",
       "      <th>4</th>\n",
       "      <td>5</td>\n",
       "      <td>Alain</td>\n",
       "      <td>DIAB201</td>\n",
       "    </tr>\n",
       "  </tbody>\n",
       "</table>\n",
       "</div>"
      ],
      "text/plain": [
       "   patient_id patient_name    conditions\n",
       "0           1       Daniel    YFEV COUGH\n",
       "1           2        Alice              \n",
       "2           3          Bob  DIAB100 MYOP\n",
       "3           4       George  ACNE DIAB100\n",
       "4           5        Alain       DIAB201"
      ]
     },
     "execution_count": 5,
     "metadata": {},
     "output_type": "execute_result"
    }
   ],
   "source": [
    "pd.read_sql(\"\"\"\n",
    "SELECT *\n",
    "FROM Patients\n",
    "\"\"\", con)"
   ]
  },
  {
   "cell_type": "code",
   "execution_count": 23,
   "id": "95c1cf4a",
   "metadata": {},
   "outputs": [
    {
     "data": {
      "text/html": [
       "<div>\n",
       "<style scoped>\n",
       "    .dataframe tbody tr th:only-of-type {\n",
       "        vertical-align: middle;\n",
       "    }\n",
       "\n",
       "    .dataframe tbody tr th {\n",
       "        vertical-align: top;\n",
       "    }\n",
       "\n",
       "    .dataframe thead th {\n",
       "        text-align: right;\n",
       "    }\n",
       "</style>\n",
       "<table border=\"1\" class=\"dataframe\">\n",
       "  <thead>\n",
       "    <tr style=\"text-align: right;\">\n",
       "      <th></th>\n",
       "      <th>patient_id</th>\n",
       "      <th>patient_name</th>\n",
       "      <th>conditions</th>\n",
       "    </tr>\n",
       "  </thead>\n",
       "  <tbody>\n",
       "    <tr>\n",
       "      <th>0</th>\n",
       "      <td>3</td>\n",
       "      <td>Bob</td>\n",
       "      <td>DIAB100 MYOP</td>\n",
       "    </tr>\n",
       "    <tr>\n",
       "      <th>1</th>\n",
       "      <td>4</td>\n",
       "      <td>George</td>\n",
       "      <td>ACNE DIAB100</td>\n",
       "    </tr>\n",
       "  </tbody>\n",
       "</table>\n",
       "</div>"
      ],
      "text/plain": [
       "   patient_id patient_name    conditions\n",
       "0           3          Bob  DIAB100 MYOP\n",
       "1           4       George  ACNE DIAB100"
      ]
     },
     "execution_count": 23,
     "metadata": {},
     "output_type": "execute_result"
    }
   ],
   "source": [
    "pd.read_sql(\"\"\"\n",
    "SELECT *\n",
    "FROM Patients\n",
    "WHERE conditions LIKE 'DIAB1%' OR conditions LIKE '% DIAB1%'\n",
    "\"\"\", con)"
   ]
  },
  {
   "cell_type": "markdown",
   "id": "b79a0200",
   "metadata": {},
   "source": [
    "## Medium difficulty questions:"
   ]
  },
  {
   "cell_type": "markdown",
   "id": "4efe9144",
   "metadata": {},
   "source": [
    "# Leetcode Question 1393: Capital Gain/Loss\n"
   ]
  },
  {
   "cell_type": "code",
   "execution_count": null,
   "id": "ad612990",
   "metadata": {},
   "outputs": [],
   "source": [
    "Create Table If Not Exists Stocks (stock_name varchar(15), operation ENUM('Sell', 'Buy'), operation_day int, price int)\n",
    "Truncate table Stocks\n",
    "insert into Stocks (stock_name, operation, operation_day, price) values ('Leetcode', 'Buy', '1', '1000')\n",
    "insert into Stocks (stock_name, operation, operation_day, price) values ('Corona Masks', 'Buy', '2', '10')\n",
    "insert into Stocks (stock_name, operation, operation_day, price) values ('Leetcode', 'Sell', '5', '9000')\n",
    "insert into Stocks (stock_name, operation, operation_day, price) values ('Handbags', 'Buy', '17', '30000')\n",
    "insert into Stocks (stock_name, operation, operation_day, price) values ('Corona Masks', 'Sell', '3', '1010')\n",
    "insert into Stocks (stock_name, operation, operation_day, price) values ('Corona Masks', 'Buy', '4', '1000')\n",
    "insert into Stocks (stock_name, operation, operation_day, price) values ('Corona Masks', 'Sell', '5', '500')\n",
    "insert into Stocks (stock_name, operation, operation_day, price) values ('Corona Masks', 'Buy', '6', '1000')\n",
    "insert into Stocks (stock_name, operation, operation_day, price) values ('Handbags', 'Sell', '29', '7000')\n",
    "insert into Stocks (stock_name, operation, operation_day, price) values ('Corona Masks', 'Sell', '10', '10000')"
   ]
  },
  {
   "cell_type": "code",
   "execution_count": 5,
   "id": "d0e11de4",
   "metadata": {},
   "outputs": [],
   "source": [
    "database_creator('Leetcode_Q_1393')"
   ]
  },
  {
   "cell_type": "code",
   "execution_count": 7,
   "id": "82a7b13d",
   "metadata": {},
   "outputs": [],
   "source": [
    "schema = \"stock_name varchar(15), operation ENUM('Sell', 'Buy'), operation_day int, price int\"\n",
    "data = [ ('Leetcode', 'Buy', '1', '1000'),\n",
    "       ('Corona Masks', 'Buy', '2', '10'),\n",
    "       ('Leetcode', 'Sell', '5', '9000'),\n",
    "       ('Handbags', 'Buy', '17', '30000'),\n",
    "       ('Corona Masks', 'Sell', '3', '1010'),\n",
    "       ('Corona Masks', 'Buy', '4', '1000'),\n",
    "       ('Corona Masks', 'Sell', '5', '500'),\n",
    "       ('Corona Masks', 'Buy', '6', '1000'),\n",
    "       ('Handbags', 'Sell', '29', '7000'),\n",
    "       ('Corona Masks', 'Sell', '10', '10000')]\n",
    "\n",
    "insert_data_to_table(\"Leetcode_Q_1393\", \"Stocks\", schema, data)"
   ]
  },
  {
   "cell_type": "code",
   "execution_count": 4,
   "id": "b12fd454",
   "metadata": {},
   "outputs": [],
   "source": [
    "con = connector('Leetcode_Q_1393')"
   ]
  },
  {
   "cell_type": "code",
   "execution_count": 5,
   "id": "61532ba6",
   "metadata": {},
   "outputs": [
    {
     "name": "stderr",
     "output_type": "stream",
     "text": [
      "/tmp/ipykernel_5811/202102921.py:1: UserWarning: pandas only supports SQLAlchemy connectable (engine/connection) or database string URI or sqlite3 DBAPI2 connection. Other DBAPI2 objects are not tested. Please consider using SQLAlchemy.\n",
      "  pd.read_sql(\"\"\"\n"
     ]
    },
    {
     "data": {
      "text/html": [
       "<div>\n",
       "<style scoped>\n",
       "    .dataframe tbody tr th:only-of-type {\n",
       "        vertical-align: middle;\n",
       "    }\n",
       "\n",
       "    .dataframe tbody tr th {\n",
       "        vertical-align: top;\n",
       "    }\n",
       "\n",
       "    .dataframe thead th {\n",
       "        text-align: right;\n",
       "    }\n",
       "</style>\n",
       "<table border=\"1\" class=\"dataframe\">\n",
       "  <thead>\n",
       "    <tr style=\"text-align: right;\">\n",
       "      <th></th>\n",
       "      <th>stock_name</th>\n",
       "      <th>operation</th>\n",
       "      <th>operation_day</th>\n",
       "      <th>price</th>\n",
       "    </tr>\n",
       "  </thead>\n",
       "  <tbody>\n",
       "    <tr>\n",
       "      <th>0</th>\n",
       "      <td>Leetcode</td>\n",
       "      <td>Buy</td>\n",
       "      <td>1</td>\n",
       "      <td>1000</td>\n",
       "    </tr>\n",
       "    <tr>\n",
       "      <th>1</th>\n",
       "      <td>Corona Masks</td>\n",
       "      <td>Buy</td>\n",
       "      <td>2</td>\n",
       "      <td>10</td>\n",
       "    </tr>\n",
       "    <tr>\n",
       "      <th>2</th>\n",
       "      <td>Leetcode</td>\n",
       "      <td>Sell</td>\n",
       "      <td>5</td>\n",
       "      <td>9000</td>\n",
       "    </tr>\n",
       "    <tr>\n",
       "      <th>3</th>\n",
       "      <td>Handbags</td>\n",
       "      <td>Buy</td>\n",
       "      <td>17</td>\n",
       "      <td>30000</td>\n",
       "    </tr>\n",
       "    <tr>\n",
       "      <th>4</th>\n",
       "      <td>Corona Masks</td>\n",
       "      <td>Sell</td>\n",
       "      <td>3</td>\n",
       "      <td>1010</td>\n",
       "    </tr>\n",
       "    <tr>\n",
       "      <th>5</th>\n",
       "      <td>Corona Masks</td>\n",
       "      <td>Buy</td>\n",
       "      <td>4</td>\n",
       "      <td>1000</td>\n",
       "    </tr>\n",
       "    <tr>\n",
       "      <th>6</th>\n",
       "      <td>Corona Masks</td>\n",
       "      <td>Sell</td>\n",
       "      <td>5</td>\n",
       "      <td>500</td>\n",
       "    </tr>\n",
       "    <tr>\n",
       "      <th>7</th>\n",
       "      <td>Corona Masks</td>\n",
       "      <td>Buy</td>\n",
       "      <td>6</td>\n",
       "      <td>1000</td>\n",
       "    </tr>\n",
       "    <tr>\n",
       "      <th>8</th>\n",
       "      <td>Handbags</td>\n",
       "      <td>Sell</td>\n",
       "      <td>29</td>\n",
       "      <td>7000</td>\n",
       "    </tr>\n",
       "    <tr>\n",
       "      <th>9</th>\n",
       "      <td>Corona Masks</td>\n",
       "      <td>Sell</td>\n",
       "      <td>10</td>\n",
       "      <td>10000</td>\n",
       "    </tr>\n",
       "  </tbody>\n",
       "</table>\n",
       "</div>"
      ],
      "text/plain": [
       "     stock_name operation  operation_day  price\n",
       "0      Leetcode       Buy              1   1000\n",
       "1  Corona Masks       Buy              2     10\n",
       "2      Leetcode      Sell              5   9000\n",
       "3      Handbags       Buy             17  30000\n",
       "4  Corona Masks      Sell              3   1010\n",
       "5  Corona Masks       Buy              4   1000\n",
       "6  Corona Masks      Sell              5    500\n",
       "7  Corona Masks       Buy              6   1000\n",
       "8      Handbags      Sell             29   7000\n",
       "9  Corona Masks      Sell             10  10000"
      ]
     },
     "execution_count": 5,
     "metadata": {},
     "output_type": "execute_result"
    }
   ],
   "source": [
    "pd.read_sql(\"\"\"\n",
    "SELECT *\n",
    "FROM Stocks\n",
    "\"\"\", con)"
   ]
  },
  {
   "cell_type": "code",
   "execution_count": 20,
   "id": "bf76b5a3",
   "metadata": {},
   "outputs": [
    {
     "name": "stderr",
     "output_type": "stream",
     "text": [
      "/tmp/ipykernel_5811/1832767489.py:1: UserWarning: pandas only supports SQLAlchemy connectable (engine/connection) or database string URI or sqlite3 DBAPI2 connection. Other DBAPI2 objects are not tested. Please consider using SQLAlchemy.\n",
      "  pd.read_sql(\"\"\"\n"
     ]
    },
    {
     "data": {
      "text/html": [
       "<div>\n",
       "<style scoped>\n",
       "    .dataframe tbody tr th:only-of-type {\n",
       "        vertical-align: middle;\n",
       "    }\n",
       "\n",
       "    .dataframe tbody tr th {\n",
       "        vertical-align: top;\n",
       "    }\n",
       "\n",
       "    .dataframe thead th {\n",
       "        text-align: right;\n",
       "    }\n",
       "</style>\n",
       "<table border=\"1\" class=\"dataframe\">\n",
       "  <thead>\n",
       "    <tr style=\"text-align: right;\">\n",
       "      <th></th>\n",
       "      <th>stock_name</th>\n",
       "      <th>capital_gain_loss</th>\n",
       "    </tr>\n",
       "  </thead>\n",
       "  <tbody>\n",
       "    <tr>\n",
       "      <th>0</th>\n",
       "      <td>Leetcode</td>\n",
       "      <td>8000.0</td>\n",
       "    </tr>\n",
       "    <tr>\n",
       "      <th>1</th>\n",
       "      <td>Corona Masks</td>\n",
       "      <td>9500.0</td>\n",
       "    </tr>\n",
       "    <tr>\n",
       "      <th>2</th>\n",
       "      <td>Handbags</td>\n",
       "      <td>-23000.0</td>\n",
       "    </tr>\n",
       "  </tbody>\n",
       "</table>\n",
       "</div>"
      ],
      "text/plain": [
       "     stock_name  capital_gain_loss\n",
       "0      Leetcode             8000.0\n",
       "1  Corona Masks             9500.0\n",
       "2      Handbags           -23000.0"
      ]
     },
     "execution_count": 20,
     "metadata": {},
     "output_type": "execute_result"
    }
   ],
   "source": [
    "pd.read_sql(\"\"\"\n",
    "\n",
    "SELECT \n",
    "    stock_name, \n",
    "    SUM(CASE \n",
    "        WHEN operation = 'Sell' THEN price ELSE 0\n",
    "    END) - SUM(CASE \n",
    "        WHEN operation = 'Buy' THEN price ELSE 0\n",
    "    END) AS capital_gain_loss\n",
    "FROM Stocks\n",
    "GROUP BY stock_name\n",
    "\"\"\", con)"
   ]
  },
  {
   "cell_type": "markdown",
   "id": "7325e451",
   "metadata": {},
   "source": [
    "# Leetcode Question 1204: Last Person to Fit in the Bus\n"
   ]
  },
  {
   "cell_type": "code",
   "execution_count": null,
   "id": "c5de7ed6",
   "metadata": {},
   "outputs": [],
   "source": [
    "Create table If Not Exists Queue (person_id int, person_name varchar(30), weight int, turn int)\n",
    "Truncate table Queue\n",
    "insert into Queue (person_id, person_name, weight, turn) values ('5', 'Alice', '250', '1')\n",
    "insert into Queue (person_id, person_name, weight, turn) values ('4', 'Bob', '175', '5')\n",
    "insert into Queue (person_id, person_name, weight, turn) values ('3', 'Alex', '350', '2')\n",
    "insert into Queue (person_id, person_name, weight, turn) values ('6', 'John Cena', '400', '3')\n",
    "insert into Queue (person_id, person_name, weight, turn) values ('1', 'Winston', '500', '6')\n",
    "insert into Queue (person_id, person_name, weight, turn) values ('2', 'Marie', '200', '4')"
   ]
  },
  {
   "cell_type": "code",
   "execution_count": null,
   "id": "a1bbe127",
   "metadata": {},
   "outputs": [],
   "source": [
    "database_creator('Leetcode_Q_')"
   ]
  },
  {
   "cell_type": "code",
   "execution_count": null,
   "id": "190b94df",
   "metadata": {},
   "outputs": [],
   "source": [
    "schema = \" \"\n",
    "data = [ ]\n",
    "\n",
    "insert_data_to_table(\"Leetcode_Q_\", \"\", schema, data)"
   ]
  },
  {
   "cell_type": "code",
   "execution_count": null,
   "id": "4ce03e9a",
   "metadata": {},
   "outputs": [],
   "source": [
    "con = connector('')"
   ]
  },
  {
   "cell_type": "code",
   "execution_count": null,
   "id": "510e1b5d",
   "metadata": {},
   "outputs": [],
   "source": [
    "pd.read_sql(\"\"\"\n",
    "SELECT *\n",
    "FROM \n",
    "\"\"\", con)"
   ]
  },
  {
   "cell_type": "code",
   "execution_count": null,
   "id": "28e38842",
   "metadata": {},
   "outputs": [],
   "source": []
  },
  {
   "cell_type": "markdown",
   "id": "90b8eeeb",
   "metadata": {},
   "source": [
    "# Leetcode Question 608: Tree Node\n"
   ]
  },
  {
   "cell_type": "code",
   "execution_count": null,
   "id": "cfaf3877",
   "metadata": {},
   "outputs": [],
   "source": [
    "Create table If Not Exists Tree (id int, p_id int)\n",
    "Truncate table Tree\n",
    "insert into Tree (id, p_id) values ('1', 'None')\n",
    "insert into Tree (id, p_id) values ('2', '1')\n",
    "insert into Tree (id, p_id) values ('3', '1')\n",
    "insert into Tree (id, p_id) values ('4', '2')\n",
    "insert into Tree (id, p_id) values ('5', '2')"
   ]
  },
  {
   "cell_type": "code",
   "execution_count": null,
   "id": "4688cf1b",
   "metadata": {},
   "outputs": [],
   "source": [
    "database_creator('Leetcode_Q_')"
   ]
  },
  {
   "cell_type": "code",
   "execution_count": null,
   "id": "c2adccc0",
   "metadata": {},
   "outputs": [],
   "source": [
    "schema = \" \"\n",
    "data = [ ]\n",
    "\n",
    "insert_data_to_table(\"Leetcode_Q_\", \"\", schema, data)"
   ]
  },
  {
   "cell_type": "code",
   "execution_count": null,
   "id": "6894e5f0",
   "metadata": {},
   "outputs": [],
   "source": [
    "con = connector('')"
   ]
  },
  {
   "cell_type": "code",
   "execution_count": null,
   "id": "eb9ba966",
   "metadata": {},
   "outputs": [],
   "source": [
    "pd.read_sql(\"\"\"\n",
    "SELECT *\n",
    "FROM \n",
    "\"\"\", con)"
   ]
  },
  {
   "cell_type": "code",
   "execution_count": null,
   "id": "130e3cf1",
   "metadata": {},
   "outputs": [],
   "source": []
  },
  {
   "cell_type": "markdown",
   "id": "aa23d92c",
   "metadata": {},
   "source": [
    "# Leetcode Question 1934: Confirmation Rate\n"
   ]
  },
  {
   "cell_type": "code",
   "execution_count": null,
   "id": "6617feda",
   "metadata": {},
   "outputs": [],
   "source": [
    "Create table If Not Exists Signups (user_id int, time_stamp datetime)\n",
    "Create table If Not Exists Confirmations (user_id int, time_stamp datetime, action ENUM('confirmed','timeout'))\n",
    "Truncate table Signups\n",
    "insert into Signups (user_id, time_stamp) values ('3', '2020-03-21 10:16:13')\n",
    "insert into Signups (user_id, time_stamp) values ('7', '2020-01-04 13:57:59')\n",
    "insert into Signups (user_id, time_stamp) values ('2', '2020-07-29 23:09:44')\n",
    "insert into Signups (user_id, time_stamp) values ('6', '2020-12-09 10:39:37')\n",
    "Truncate table Confirmations\n",
    "insert into Confirmations (user_id, time_stamp, action) values ('3', '2021-01-06 03:30:46', 'timeout')\n",
    "insert into Confirmations (user_id, time_stamp, action) values ('3', '2021-07-14 14:00:00', 'timeout')\n",
    "insert into Confirmations (user_id, time_stamp, action) values ('7', '2021-06-12 11:57:29', 'confirmed')\n",
    "insert into Confirmations (user_id, time_stamp, action) values ('7', '2021-06-13 12:58:28', 'confirmed')\n",
    "insert into Confirmations (user_id, time_stamp, action) values ('7', '2021-06-14 13:59:27', 'confirmed')\n",
    "insert into Confirmations (user_id, time_stamp, action) values ('2', '2021-01-22 00:00:00', 'confirmed')\n",
    "insert into Confirmations (user_id, time_stamp, action) values ('2', '2021-02-28 23:59:59', 'timeout')"
   ]
  },
  {
   "cell_type": "code",
   "execution_count": null,
   "id": "244c9cfd",
   "metadata": {},
   "outputs": [],
   "source": [
    "database_creator('Leetcode_Q_')"
   ]
  },
  {
   "cell_type": "code",
   "execution_count": null,
   "id": "2631a71d",
   "metadata": {},
   "outputs": [],
   "source": [
    "schema = \" \"\n",
    "data = [ ]\n",
    "\n",
    "insert_data_to_table(\"Leetcode_Q_\", \"\", schema, data)"
   ]
  },
  {
   "cell_type": "code",
   "execution_count": null,
   "id": "dbfb3966",
   "metadata": {},
   "outputs": [],
   "source": [
    "con = connector('')"
   ]
  },
  {
   "cell_type": "code",
   "execution_count": null,
   "id": "4bfcc76e",
   "metadata": {},
   "outputs": [],
   "source": [
    "pd.read_sql(\"\"\"\n",
    "SELECT *\n",
    "FROM \n",
    "\"\"\", con)"
   ]
  },
  {
   "cell_type": "markdown",
   "id": "97d91cb1",
   "metadata": {},
   "source": [
    "# Leetcode Question 626: Exchange Seats\n"
   ]
  },
  {
   "cell_type": "code",
   "execution_count": null,
   "id": "63384c2d",
   "metadata": {},
   "outputs": [],
   "source": [
    "Create table If Not Exists Seat (id int, student varchar(255))\n",
    "Truncate table Seat\n",
    "insert into Seat (id, student) values ('1', 'Abbot')\n",
    "insert into Seat (id, student) values ('2', 'Doris')\n",
    "insert into Seat (id, student) values ('3', 'Emerson')\n",
    "insert into Seat (id, student) values ('4', 'Green')\n",
    "insert into Seat (id, student) values ('5', 'Jeames')"
   ]
  },
  {
   "cell_type": "code",
   "execution_count": null,
   "id": "24ddb195",
   "metadata": {},
   "outputs": [],
   "source": [
    "database_creator('Leetcode_Q_')"
   ]
  },
  {
   "cell_type": "code",
   "execution_count": null,
   "id": "51dfaad9",
   "metadata": {},
   "outputs": [],
   "source": [
    "schema = \" \"\n",
    "data = [ ]\n",
    "\n",
    "insert_data_to_table(\"Leetcode_Q_\", \"\", schema, data)"
   ]
  },
  {
   "cell_type": "code",
   "execution_count": null,
   "id": "a295bde4",
   "metadata": {},
   "outputs": [],
   "source": [
    "con = connector('')"
   ]
  },
  {
   "cell_type": "code",
   "execution_count": null,
   "id": "c3fe4883",
   "metadata": {},
   "outputs": [],
   "source": [
    "pd.read_sql(\"\"\"\n",
    "SELECT *\n",
    "FROM \n",
    "\"\"\", con)"
   ]
  },
  {
   "cell_type": "markdown",
   "id": "f5542e45",
   "metadata": {},
   "source": [
    "# Leetcode Question 1321: Restaurant Growth\n"
   ]
  },
  {
   "cell_type": "code",
   "execution_count": null,
   "id": "ada0b020",
   "metadata": {},
   "outputs": [],
   "source": [
    "Create table If Not Exists Customer (customer_id int, name varchar(20), visited_on date, amount int)\n",
    "Truncate table Customer\n",
    "insert into Customer (customer_id, name, visited_on, amount) values ('1', 'Jhon', '2019-01-01', '100')\n",
    "insert into Customer (customer_id, name, visited_on, amount) values ('2', 'Daniel', '2019-01-02', '110')\n",
    "insert into Customer (customer_id, name, visited_on, amount) values ('3', 'Jade', '2019-01-03', '120')\n",
    "insert into Customer (customer_id, name, visited_on, amount) values ('4', 'Khaled', '2019-01-04', '130')\n",
    "insert into Customer (customer_id, name, visited_on, amount) values ('5', 'Winston', '2019-01-05', '110')\n",
    "insert into Customer (customer_id, name, visited_on, amount) values ('6', 'Elvis', '2019-01-06', '140')\n",
    "insert into Customer (customer_id, name, visited_on, amount) values ('7', 'Anna', '2019-01-07', '150')\n",
    "insert into Customer (customer_id, name, visited_on, amount) values ('8', 'Maria', '2019-01-08', '80')\n",
    "insert into Customer (customer_id, name, visited_on, amount) values ('9', 'Jaze', '2019-01-09', '110')\n",
    "insert into Customer (customer_id, name, visited_on, amount) values ('1', 'Jhon', '2019-01-10', '130')\n",
    "insert into Customer (customer_id, name, visited_on, amount) values ('3', 'Jade', '2019-01-10', '150')"
   ]
  },
  {
   "cell_type": "code",
   "execution_count": null,
   "id": "33372265",
   "metadata": {},
   "outputs": [],
   "source": [
    "database_creator('Leetcode_Q_')"
   ]
  },
  {
   "cell_type": "code",
   "execution_count": null,
   "id": "26e384f5",
   "metadata": {},
   "outputs": [],
   "source": [
    "schema = \" \"\n",
    "data = [ ]\n",
    "\n",
    "insert_data_to_table(\"Leetcode_Q_\", \"\", schema, data)"
   ]
  },
  {
   "cell_type": "code",
   "execution_count": null,
   "id": "7742ad88",
   "metadata": {},
   "outputs": [],
   "source": [
    "con = connector('')"
   ]
  },
  {
   "cell_type": "code",
   "execution_count": null,
   "id": "f4f35f32",
   "metadata": {},
   "outputs": [],
   "source": [
    "pd.read_sql(\"\"\"\n",
    "SELECT *\n",
    "FROM \n",
    "\"\"\", con)"
   ]
  },
  {
   "cell_type": "markdown",
   "id": "10e2bcb1",
   "metadata": {},
   "source": [
    "# Leetcode Question 570: Managers with at Least 5 Direct Reports\n"
   ]
  },
  {
   "cell_type": "code",
   "execution_count": null,
   "id": "f0af3cb8",
   "metadata": {},
   "outputs": [],
   "source": [
    "Create table If Not Exists Employee (id int, name varchar(255), department varchar(255), managerId int)\n",
    "Truncate table Employee\n",
    "insert into Employee (id, name, department, managerId) values ('101', 'John', 'A', 'None')\n",
    "insert into Employee (id, name, department, managerId) values ('102', 'Dan', 'A', '101')\n",
    "insert into Employee (id, name, department, managerId) values ('103', 'James', 'A', '101')\n",
    "insert into Employee (id, name, department, managerId) values ('104', 'Amy', 'A', '101')\n",
    "insert into Employee (id, name, department, managerId) values ('105', 'Anne', 'A', '101')\n",
    "insert into Employee (id, name, department, managerId) values ('106', 'Ron', 'B', '101')"
   ]
  },
  {
   "cell_type": "code",
   "execution_count": null,
   "id": "05f6719b",
   "metadata": {},
   "outputs": [],
   "source": [
    "database_creator('Leetcode_Q_')"
   ]
  },
  {
   "cell_type": "code",
   "execution_count": null,
   "id": "4c73e555",
   "metadata": {},
   "outputs": [],
   "source": [
    "schema = \" \"\n",
    "data = [ ]\n",
    "\n",
    "insert_data_to_table(\"Leetcode_Q_\", \"\", schema, data)"
   ]
  },
  {
   "cell_type": "code",
   "execution_count": null,
   "id": "f99b2407",
   "metadata": {},
   "outputs": [],
   "source": [
    "con = connector('')"
   ]
  },
  {
   "cell_type": "code",
   "execution_count": null,
   "id": "f7f862bd",
   "metadata": {},
   "outputs": [],
   "source": [
    "pd.read_sql(\"\"\"\n",
    "SELECT *\n",
    "FROM \n",
    "\"\"\", con)"
   ]
  },
  {
   "cell_type": "markdown",
   "id": "e3c27839",
   "metadata": {},
   "source": [
    "# Leetcode Question 1045: Customers Who Bought All Products\n"
   ]
  },
  {
   "cell_type": "code",
   "execution_count": null,
   "id": "25a43131",
   "metadata": {},
   "outputs": [],
   "source": [
    "Create table If Not Exists Customer (customer_id int, product_key int)\n",
    "Create table Product (product_key int)\n",
    "Truncate table Customer\n",
    "insert into Customer (customer_id, product_key) values ('1', '5')\n",
    "insert into Customer (customer_id, product_key) values ('2', '6')\n",
    "insert into Customer (customer_id, product_key) values ('3', '5')\n",
    "insert into Customer (customer_id, product_key) values ('3', '6')\n",
    "insert into Customer (customer_id, product_key) values ('1', '6')\n",
    "Truncate table Product\n",
    "insert into Product (product_key) values ('5')\n",
    "insert into Product (product_key) values ('6')"
   ]
  },
  {
   "cell_type": "code",
   "execution_count": null,
   "id": "e19a5177",
   "metadata": {},
   "outputs": [],
   "source": [
    "database_creator('Leetcode_Q_')"
   ]
  },
  {
   "cell_type": "code",
   "execution_count": null,
   "id": "90e769b8",
   "metadata": {},
   "outputs": [],
   "source": [
    "schema = \" \"\n",
    "data = [ ]\n",
    "\n",
    "insert_data_to_table(\"Leetcode_Q_\", \"\", schema, data)"
   ]
  },
  {
   "cell_type": "code",
   "execution_count": null,
   "id": "e94861df",
   "metadata": {},
   "outputs": [],
   "source": [
    "con = connector('')"
   ]
  },
  {
   "cell_type": "code",
   "execution_count": null,
   "id": "dd38a408",
   "metadata": {},
   "outputs": [],
   "source": [
    "pd.read_sql(\"\"\"\n",
    "SELECT *\n",
    "FROM \n",
    "\"\"\", con)"
   ]
  },
  {
   "cell_type": "markdown",
   "id": "fcdc2a48",
   "metadata": {},
   "source": [
    "# Leetcode Question 1164: Product Price at a Given Date\n"
   ]
  },
  {
   "cell_type": "code",
   "execution_count": null,
   "id": "21a2ad7f",
   "metadata": {},
   "outputs": [],
   "source": [
    "Create table If Not Exists Products (product_id int, new_price int, change_date date)\n",
    "Truncate table Products\n",
    "insert into Products (product_id, new_price, change_date) values ('1', '20', '2019-08-14')\n",
    "insert into Products (product_id, new_price, change_date) values ('2', '50', '2019-08-14')\n",
    "insert into Products (product_id, new_price, change_date) values ('1', '30', '2019-08-15')\n",
    "insert into Products (product_id, new_price, change_date) values ('1', '35', '2019-08-16')\n",
    "insert into Products (product_id, new_price, change_date) values ('2', '65', '2019-08-17')\n",
    "insert into Products (product_id, new_price, change_date) values ('3', '20', '2019-08-18')"
   ]
  },
  {
   "cell_type": "code",
   "execution_count": null,
   "id": "324d27e0",
   "metadata": {},
   "outputs": [],
   "source": [
    "database_creator('Leetcode_Q_')"
   ]
  },
  {
   "cell_type": "code",
   "execution_count": null,
   "id": "986f312c",
   "metadata": {},
   "outputs": [],
   "source": [
    "schema = \" \"\n",
    "data = [ ]\n",
    "\n",
    "insert_data_to_table(\"Leetcode_Q_\", \"\", schema, data)"
   ]
  },
  {
   "cell_type": "code",
   "execution_count": null,
   "id": "b2b4f1f4",
   "metadata": {},
   "outputs": [],
   "source": [
    "con = connector('')"
   ]
  },
  {
   "cell_type": "code",
   "execution_count": null,
   "id": "9248dc47",
   "metadata": {},
   "outputs": [],
   "source": [
    "pd.read_sql(\"\"\"\n",
    "SELECT *\n",
    "FROM \n",
    "\"\"\", con)"
   ]
  },
  {
   "cell_type": "markdown",
   "id": "5a8f0615",
   "metadata": {},
   "source": [
    "# Leetcode Question 1193: Monthly Transactions I\n"
   ]
  },
  {
   "cell_type": "code",
   "execution_count": null,
   "id": "392f02a4",
   "metadata": {},
   "outputs": [],
   "source": [
    "Create table If Not Exists Transactions (id int, country varchar(4), state enum('approved', 'declined'), amount int, trans_date date)\n",
    "Truncate table Transactions\n",
    "insert into Transactions (id, country, state, amount, trans_date) values ('121', 'US', 'approved', '1000', '2018-12-18')\n",
    "insert into Transactions (id, country, state, amount, trans_date) values ('122', 'US', 'declined', '2000', '2018-12-19')\n",
    "insert into Transactions (id, country, state, amount, trans_date) values ('123', 'US', 'approved', '2000', '2019-01-01')\n",
    "insert into Transactions (id, country, state, amount, trans_date) values ('124', 'DE', 'approved', '2000', '2019-01-07')"
   ]
  },
  {
   "cell_type": "code",
   "execution_count": null,
   "id": "8a533b52",
   "metadata": {},
   "outputs": [],
   "source": [
    "database_creator('Leetcode_Q_')"
   ]
  },
  {
   "cell_type": "code",
   "execution_count": null,
   "id": "d492d8af",
   "metadata": {},
   "outputs": [],
   "source": [
    "schema = \" \"\n",
    "data = [ ]\n",
    "\n",
    "insert_data_to_table(\"Leetcode_Q_\", \"\", schema, data)"
   ]
  },
  {
   "cell_type": "code",
   "execution_count": null,
   "id": "d50100f7",
   "metadata": {},
   "outputs": [],
   "source": [
    "con = connector('')"
   ]
  },
  {
   "cell_type": "code",
   "execution_count": null,
   "id": "515acc3c",
   "metadata": {},
   "outputs": [],
   "source": [
    "pd.read_sql(\"\"\"\n",
    "SELECT *\n",
    "FROM \n",
    "\"\"\", con)"
   ]
  },
  {
   "cell_type": "markdown",
   "id": "b28a9cfd",
   "metadata": {},
   "source": [
    "# Leetcode Question 1907: Count Salary Categories\n"
   ]
  },
  {
   "cell_type": "code",
   "execution_count": null,
   "id": "3a1e0b79",
   "metadata": {},
   "outputs": [],
   "source": [
    "Create table If Not Exists Accounts (account_id int, income int)\n",
    "Truncate table Accounts\n",
    "insert into Accounts (account_id, income) values ('3', '108939')\n",
    "insert into Accounts (account_id, income) values ('2', '12747')\n",
    "insert into Accounts (account_id, income) values ('8', '87709')\n",
    "insert into Accounts (account_id, income) values ('6', '91796')"
   ]
  },
  {
   "cell_type": "code",
   "execution_count": null,
   "id": "f8578034",
   "metadata": {},
   "outputs": [],
   "source": [
    "database_creator('Leetcode_Q_')"
   ]
  },
  {
   "cell_type": "code",
   "execution_count": null,
   "id": "7a6a5695",
   "metadata": {},
   "outputs": [],
   "source": [
    "schema = \" \"\n",
    "data = [ ]\n",
    "\n",
    "insert_data_to_table(\"Leetcode_Q_\", \"\", schema, data)"
   ]
  },
  {
   "cell_type": "code",
   "execution_count": null,
   "id": "2eeead9e",
   "metadata": {},
   "outputs": [],
   "source": [
    "con = connector('')"
   ]
  },
  {
   "cell_type": "code",
   "execution_count": null,
   "id": "09eba8fd",
   "metadata": {},
   "outputs": [],
   "source": [
    "pd.read_sql(\"\"\"\n",
    "SELECT *\n",
    "FROM \n",
    "\"\"\", con)"
   ]
  },
  {
   "cell_type": "markdown",
   "id": "72945e21",
   "metadata": {},
   "source": [
    "# Leetcode Question 1174: Immediate Food Delivery II\n"
   ]
  },
  {
   "cell_type": "code",
   "execution_count": null,
   "id": "f0e928ec",
   "metadata": {},
   "outputs": [],
   "source": [
    "Create table If Not Exists Delivery (delivery_id int, customer_id int, order_date date, customer_pref_delivery_date date)\n",
    "Truncate table Delivery\n",
    "insert into Delivery (delivery_id, customer_id, order_date, customer_pref_delivery_date) values ('1', '1', '2019-08-01', '2019-08-02')\n",
    "insert into Delivery (delivery_id, customer_id, order_date, customer_pref_delivery_date) values ('2', '2', '2019-08-02', '2019-08-02')\n",
    "insert into Delivery (delivery_id, customer_id, order_date, customer_pref_delivery_date) values ('3', '1', '2019-08-11', '2019-08-12')\n",
    "insert into Delivery (delivery_id, customer_id, order_date, customer_pref_delivery_date) values ('4', '3', '2019-08-24', '2019-08-24')\n",
    "insert into Delivery (delivery_id, customer_id, order_date, customer_pref_delivery_date) values ('5', '3', '2019-08-21', '2019-08-22')\n",
    "insert into Delivery (delivery_id, customer_id, order_date, customer_pref_delivery_date) values ('6', '2', '2019-08-11', '2019-08-13')\n",
    "insert into Delivery (delivery_id, customer_id, order_date, customer_pref_delivery_date) values ('7', '4', '2019-08-09', '2019-08-09')"
   ]
  },
  {
   "cell_type": "code",
   "execution_count": null,
   "id": "90e8859f",
   "metadata": {},
   "outputs": [],
   "source": [
    "database_creator('Leetcode_Q_')"
   ]
  },
  {
   "cell_type": "code",
   "execution_count": null,
   "id": "a2e70d12",
   "metadata": {},
   "outputs": [],
   "source": [
    "schema = \" \"\n",
    "data = [ ]\n",
    "\n",
    "insert_data_to_table(\"Leetcode_Q_\", \"\", schema, data)"
   ]
  },
  {
   "cell_type": "code",
   "execution_count": null,
   "id": "7ef6d651",
   "metadata": {},
   "outputs": [],
   "source": [
    "con = connector('')"
   ]
  },
  {
   "cell_type": "code",
   "execution_count": null,
   "id": "a6c93770",
   "metadata": {},
   "outputs": [],
   "source": [
    "pd.read_sql(\"\"\"\n",
    "SELECT *\n",
    "FROM \n",
    "\"\"\", con)"
   ]
  },
  {
   "cell_type": "markdown",
   "id": "7f22cd2e",
   "metadata": {},
   "source": [
    "# Leetcode Question 178: Rank Scores\n"
   ]
  },
  {
   "cell_type": "code",
   "execution_count": null,
   "id": "88d71c3f",
   "metadata": {},
   "outputs": [],
   "source": [
    "Create table If Not Exists Scores (id int, score DECIMAL(3,2))\n",
    "Truncate table Scores\n",
    "insert into Scores (id, score) values ('1', '3.5')\n",
    "insert into Scores (id, score) values ('2', '3.65')\n",
    "insert into Scores (id, score) values ('3', '4.0')\n",
    "insert into Scores (id, score) values ('4', '3.85')\n",
    "insert into Scores (id, score) values ('5', '4.0')\n",
    "insert into Scores (id, score) values ('6', '3.65')"
   ]
  },
  {
   "cell_type": "code",
   "execution_count": null,
   "id": "6f5a8ce8",
   "metadata": {},
   "outputs": [],
   "source": [
    "database_creator('Leetcode_Q_')"
   ]
  },
  {
   "cell_type": "code",
   "execution_count": null,
   "id": "a43b436b",
   "metadata": {},
   "outputs": [],
   "source": [
    "schema = \" \"\n",
    "data = [ ]\n",
    "\n",
    "insert_data_to_table(\"Leetcode_Q_\", \"\", schema, data)"
   ]
  },
  {
   "cell_type": "code",
   "execution_count": null,
   "id": "c8e8ba24",
   "metadata": {},
   "outputs": [],
   "source": [
    "con = connector('')"
   ]
  },
  {
   "cell_type": "code",
   "execution_count": null,
   "id": "b838f14e",
   "metadata": {},
   "outputs": [],
   "source": [
    "pd.read_sql(\"\"\"\n",
    "SELECT *\n",
    "FROM \n",
    "\"\"\", con)"
   ]
  },
  {
   "cell_type": "markdown",
   "id": "11b92144",
   "metadata": {},
   "source": [
    "# Leetcode Question 602: Friend Requests II: Who Has the Most Friends\n"
   ]
  },
  {
   "cell_type": "code",
   "execution_count": null,
   "id": "1ebbca95",
   "metadata": {},
   "outputs": [],
   "source": [
    "Create table If Not Exists RequestAccepted (requester_id int not null, accepter_id int null, accept_date date null)\n",
    "Truncate table RequestAccepted\n",
    "insert into RequestAccepted (requester_id, accepter_id, accept_date) values ('1', '2', '2016/06/03')\n",
    "insert into RequestAccepted (requester_id, accepter_id, accept_date) values ('1', '3', '2016/06/08')\n",
    "insert into RequestAccepted (requester_id, accepter_id, accept_date) values ('2', '3', '2016/06/08')\n",
    "insert into RequestAccepted (requester_id, accepter_id, accept_date) values ('3', '4', '2016/06/09')"
   ]
  },
  {
   "cell_type": "code",
   "execution_count": null,
   "id": "844f2616",
   "metadata": {},
   "outputs": [],
   "source": [
    "database_creator('Leetcode_Q_')"
   ]
  },
  {
   "cell_type": "code",
   "execution_count": null,
   "id": "d029f64b",
   "metadata": {},
   "outputs": [],
   "source": [
    "schema = \" \"\n",
    "data = [ ]\n",
    "\n",
    "insert_data_to_table(\"Leetcode_Q_\", \"\", schema, data)"
   ]
  },
  {
   "cell_type": "code",
   "execution_count": null,
   "id": "b93cfa60",
   "metadata": {},
   "outputs": [],
   "source": [
    "con = connector('')"
   ]
  },
  {
   "cell_type": "code",
   "execution_count": null,
   "id": "123309db",
   "metadata": {},
   "outputs": [],
   "source": [
    "pd.read_sql(\"\"\"\n",
    "SELECT *\n",
    "FROM \n",
    "\"\"\", con)"
   ]
  },
  {
   "cell_type": "markdown",
   "id": "ab176dc4",
   "metadata": {},
   "source": [
    "# Leetcode Question 1158: Market Analysis I\n"
   ]
  },
  {
   "cell_type": "code",
   "execution_count": null,
   "id": "22e1dea0",
   "metadata": {},
   "outputs": [],
   "source": [
    "Create table If Not Exists Users (user_id int, join_date date, favorite_brand varchar(10))\n",
    "Create table If Not Exists Orders (order_id int, order_date date, item_id int, buyer_id int, seller_id int)\n",
    "Create table If Not Exists Items (item_id int, item_brand varchar(10))\n",
    "Truncate table Users\n",
    "insert into Users (user_id, join_date, favorite_brand) values ('1', '2018-01-01', 'Lenovo')\n",
    "insert into Users (user_id, join_date, favorite_brand) values ('2', '2018-02-09', 'Samsung')\n",
    "insert into Users (user_id, join_date, favorite_brand) values ('3', '2018-01-19', 'LG')\n",
    "insert into Users (user_id, join_date, favorite_brand) values ('4', '2018-05-21', 'HP')\n",
    "Truncate table Orders\n",
    "insert into Orders (order_id, order_date, item_id, buyer_id, seller_id) values ('1', '2019-08-01', '4', '1', '2')\n",
    "insert into Orders (order_id, order_date, item_id, buyer_id, seller_id) values ('2', '2018-08-02', '2', '1', '3')\n",
    "insert into Orders (order_id, order_date, item_id, buyer_id, seller_id) values ('3', '2019-08-03', '3', '2', '3')\n",
    "insert into Orders (order_id, order_date, item_id, buyer_id, seller_id) values ('4', '2018-08-04', '1', '4', '2')\n",
    "insert into Orders (order_id, order_date, item_id, buyer_id, seller_id) values ('5', '2018-08-04', '1', '3', '4')\n",
    "insert into Orders (order_id, order_date, item_id, buyer_id, seller_id) values ('6', '2019-08-05', '2', '2', '4')\n",
    "Truncate table Items\n",
    "insert into Items (item_id, item_brand) values ('1', 'Samsung')\n",
    "insert into Items (item_id, item_brand) values ('2', 'Lenovo')\n",
    "insert into Items (item_id, item_brand) values ('3', 'LG')\n",
    "insert into Items (item_id, item_brand) values ('4', 'HP')"
   ]
  },
  {
   "cell_type": "code",
   "execution_count": null,
   "id": "947bfc8b",
   "metadata": {},
   "outputs": [],
   "source": [
    "database_creator('Leetcode_Q_')"
   ]
  },
  {
   "cell_type": "code",
   "execution_count": null,
   "id": "dfc404f3",
   "metadata": {},
   "outputs": [],
   "source": [
    "schema = \" \"\n",
    "data = [ ]\n",
    "\n",
    "insert_data_to_table(\"Leetcode_Q_\", \"\", schema, data)"
   ]
  },
  {
   "cell_type": "code",
   "execution_count": null,
   "id": "0f23d97c",
   "metadata": {},
   "outputs": [],
   "source": [
    "con = connector('')"
   ]
  },
  {
   "cell_type": "code",
   "execution_count": null,
   "id": "7107ff8d",
   "metadata": {},
   "outputs": [],
   "source": [
    "pd.read_sql(\"\"\"\n",
    "SELECT *\n",
    "FROM \n",
    "\"\"\", con)"
   ]
  },
  {
   "cell_type": "markdown",
   "id": "ae6f2ac1",
   "metadata": {},
   "source": [
    "# Leetcode Question 1341: Movie Rating\n"
   ]
  },
  {
   "cell_type": "code",
   "execution_count": null,
   "id": "46fdcd3f",
   "metadata": {},
   "outputs": [],
   "source": [
    "Create table If Not Exists Movies (movie_id int, title varchar(30))\n",
    "Create table If Not Exists Users (user_id int, name varchar(30))\n",
    "Create table If Not Exists MovieRating (movie_id int, user_id int, rating int, created_at date)\n",
    "Truncate table Movies\n",
    "insert into Movies (movie_id, title) values ('1', 'Avengers')\n",
    "insert into Movies (movie_id, title) values ('2', 'Frozen 2')\n",
    "insert into Movies (movie_id, title) values ('3', 'Joker')\n",
    "Truncate table Users\n",
    "insert into Users (user_id, name) values ('1', 'Daniel')\n",
    "insert into Users (user_id, name) values ('2', 'Monica')\n",
    "insert into Users (user_id, name) values ('3', 'Maria')\n",
    "insert into Users (user_id, name) values ('4', 'James')\n",
    "Truncate table MovieRating\n",
    "insert into MovieRating (movie_id, user_id, rating, created_at) values ('1', '1', '3', '2020-01-12')\n",
    "insert into MovieRating (movie_id, user_id, rating, created_at) values ('1', '2', '4', '2020-02-11')\n",
    "insert into MovieRating (movie_id, user_id, rating, created_at) values ('1', '3', '2', '2020-02-12')\n",
    "insert into MovieRating (movie_id, user_id, rating, created_at) values ('1', '4', '1', '2020-01-01')\n",
    "insert into MovieRating (movie_id, user_id, rating, created_at) values ('2', '1', '5', '2020-02-17')\n",
    "insert into MovieRating (movie_id, user_id, rating, created_at) values ('2', '2', '2', '2020-02-01')\n",
    "insert into MovieRating (movie_id, user_id, rating, created_at) values ('2', '3', '2', '2020-03-01')\n",
    "insert into MovieRating (movie_id, user_id, rating, created_at) values ('3', '1', '3', '2020-02-22')\n",
    "insert into MovieRating (movie_id, user_id, rating, created_at) values ('3', '2', '4', '2020-02-25')"
   ]
  },
  {
   "cell_type": "code",
   "execution_count": null,
   "id": "0047b7ad",
   "metadata": {},
   "outputs": [],
   "source": [
    "database_creator('Leetcode_Q_')"
   ]
  },
  {
   "cell_type": "code",
   "execution_count": null,
   "id": "7e15a5d0",
   "metadata": {},
   "outputs": [],
   "source": [
    "schema = \" \"\n",
    "data = [ ]\n",
    "\n",
    "insert_data_to_table(\"Leetcode_Q_\", \"\", schema, data)"
   ]
  },
  {
   "cell_type": "code",
   "execution_count": null,
   "id": "47d6437d",
   "metadata": {},
   "outputs": [],
   "source": [
    "con = connector('')"
   ]
  },
  {
   "cell_type": "code",
   "execution_count": null,
   "id": "66fe8152",
   "metadata": {},
   "outputs": [],
   "source": [
    "pd.read_sql(\"\"\"\n",
    "SELECT *\n",
    "FROM \n",
    "\"\"\", con)"
   ]
  },
  {
   "cell_type": "markdown",
   "id": "f28c56d8",
   "metadata": {},
   "source": [
    "# Leetcode Question 585: Investments in 2016\n"
   ]
  },
  {
   "cell_type": "code",
   "execution_count": null,
   "id": "f8994ef7",
   "metadata": {},
   "outputs": [],
   "source": [
    "Create Table If Not Exists Insurance (pid int, tiv_2015 float, tiv_2016 float, lat float, lon float)\n",
    "Truncate table Insurance\n",
    "insert into Insurance (pid, tiv_2015, tiv_2016, lat, lon) values ('1', '10', '5', '10', '10')\n",
    "insert into Insurance (pid, tiv_2015, tiv_2016, lat, lon) values ('2', '20', '20', '20', '20')\n",
    "insert into Insurance (pid, tiv_2015, tiv_2016, lat, lon) values ('3', '10', '30', '20', '20')\n",
    "insert into Insurance (pid, tiv_2015, tiv_2016, lat, lon) values ('4', '10', '40', '40', '40')"
   ]
  },
  {
   "cell_type": "code",
   "execution_count": null,
   "id": "ef7c6e8e",
   "metadata": {},
   "outputs": [],
   "source": [
    "database_creator('Leetcode_Q_')"
   ]
  },
  {
   "cell_type": "code",
   "execution_count": null,
   "id": "b8b632a1",
   "metadata": {},
   "outputs": [],
   "source": [
    "schema = \" \"\n",
    "data = [ ]\n",
    "\n",
    "insert_data_to_table(\"Leetcode_Q_\", \"\", schema, data)"
   ]
  },
  {
   "cell_type": "code",
   "execution_count": null,
   "id": "a52d089f",
   "metadata": {},
   "outputs": [],
   "source": [
    "con = connector('')"
   ]
  },
  {
   "cell_type": "code",
   "execution_count": null,
   "id": "bc36ca38",
   "metadata": {},
   "outputs": [],
   "source": [
    "pd.read_sql(\"\"\"\n",
    "SELECT *\n",
    "FROM \n",
    "\"\"\", con)"
   ]
  },
  {
   "cell_type": "markdown",
   "id": "8e4d6853",
   "metadata": {},
   "source": [
    "# Leetcode Question 184: Department Highest Salary\n"
   ]
  },
  {
   "cell_type": "code",
   "execution_count": null,
   "id": "f3151b15",
   "metadata": {},
   "outputs": [],
   "source": [
    "Create table If Not Exists Employee (id int, name varchar(255), salary int, departmentId int)\n",
    "Create table If Not Exists Department (id int, name varchar(255))\n",
    "Truncate table Employee\n",
    "insert into Employee (id, name, salary, departmentId) values ('1', 'Joe', '70000', '1')\n",
    "insert into Employee (id, name, salary, departmentId) values ('2', 'Jim', '90000', '1')\n",
    "insert into Employee (id, name, salary, departmentId) values ('3', 'Henry', '80000', '2')\n",
    "insert into Employee (id, name, salary, departmentId) values ('4', 'Sam', '60000', '2')\n",
    "insert into Employee (id, name, salary, departmentId) values ('5', 'Max', '90000', '1')\n",
    "Truncate table Department\n",
    "insert into Department (id, name) values ('1', 'IT')\n",
    "insert into Department (id, name) values ('2', 'Sales')"
   ]
  },
  {
   "cell_type": "code",
   "execution_count": null,
   "id": "9be6e4bf",
   "metadata": {},
   "outputs": [],
   "source": [
    "database_creator('Leetcode_Q_')"
   ]
  },
  {
   "cell_type": "code",
   "execution_count": null,
   "id": "cd2be916",
   "metadata": {},
   "outputs": [],
   "source": [
    "schema = \" \"\n",
    "data = [ ]\n",
    "\n",
    "insert_data_to_table(\"Leetcode_Q_\", \"\", schema, data)"
   ]
  },
  {
   "cell_type": "code",
   "execution_count": null,
   "id": "d10945ea",
   "metadata": {},
   "outputs": [],
   "source": [
    "con = connector('')"
   ]
  },
  {
   "cell_type": "code",
   "execution_count": null,
   "id": "4f1704e5",
   "metadata": {},
   "outputs": [],
   "source": [
    "pd.read_sql(\"\"\"\n",
    "SELECT *\n",
    "FROM \n",
    "\"\"\", con)"
   ]
  },
  {
   "cell_type": "markdown",
   "id": "45f010f0",
   "metadata": {},
   "source": [
    "# Leetcode Question 1070: Product Sales Analysis III\n"
   ]
  },
  {
   "cell_type": "code",
   "execution_count": null,
   "id": "50308f09",
   "metadata": {},
   "outputs": [],
   "source": [
    "Create table If Not Exists Sales (sale_id int, product_id int, year int, quantity int, price int)\n",
    "Create table If Not Exists Product (product_id int, product_name varchar(10))\n",
    "Truncate table Sales\n",
    "insert into Sales (sale_id, product_id, year, quantity, price) values ('1', '100', '2008', '10', '5000')\n",
    "insert into Sales (sale_id, product_id, year, quantity, price) values ('2', '100', '2009', '12', '5000')\n",
    "insert into Sales (sale_id, product_id, year, quantity, price) values ('7', '200', '2011', '15', '9000')\n",
    "Truncate table Product\n",
    "insert into Product (product_id, product_name) values ('100', 'Nokia')\n",
    "insert into Product (product_id, product_name) values ('200', 'Apple')\n",
    "insert into Product (product_id, product_name) values ('300', 'Samsung')"
   ]
  },
  {
   "cell_type": "code",
   "execution_count": null,
   "id": "f29f020f",
   "metadata": {},
   "outputs": [],
   "source": [
    "database_creator('Leetcode_Q_')"
   ]
  },
  {
   "cell_type": "code",
   "execution_count": null,
   "id": "f47c97b5",
   "metadata": {},
   "outputs": [],
   "source": [
    "schema = \" \"\n",
    "data = [ ]\n",
    "\n",
    "insert_data_to_table(\"Leetcode_Q_\", \"\", schema, data)"
   ]
  },
  {
   "cell_type": "code",
   "execution_count": null,
   "id": "e3292d62",
   "metadata": {},
   "outputs": [],
   "source": [
    "con = connector('')"
   ]
  },
  {
   "cell_type": "code",
   "execution_count": null,
   "id": "9010ba79",
   "metadata": {},
   "outputs": [],
   "source": [
    "pd.read_sql(\"\"\"\n",
    "SELECT *\n",
    "FROM \n",
    "\"\"\", con)"
   ]
  },
  {
   "cell_type": "markdown",
   "id": "d39f13e7",
   "metadata": {},
   "source": [
    "# Leetcode Question 180: Consecutive Numbers\n"
   ]
  },
  {
   "cell_type": "code",
   "execution_count": null,
   "id": "8f48f678",
   "metadata": {},
   "outputs": [],
   "source": [
    "Create table If Not Exists Logs (id int, num int)\n",
    "Truncate table Logs\n",
    "insert into Logs (id, num) values ('1', '1')\n",
    "insert into Logs (id, num) values ('2', '1')\n",
    "insert into Logs (id, num) values ('3', '1')\n",
    "insert into Logs (id, num) values ('4', '2')\n",
    "insert into Logs (id, num) values ('5', '1')\n",
    "insert into Logs (id, num) values ('6', '2')\n",
    "insert into Logs (id, num) values ('7', '2')"
   ]
  },
  {
   "cell_type": "code",
   "execution_count": null,
   "id": "02a73a71",
   "metadata": {},
   "outputs": [],
   "source": [
    "database_creator('Leetcode_Q_')"
   ]
  },
  {
   "cell_type": "code",
   "execution_count": null,
   "id": "d2162663",
   "metadata": {},
   "outputs": [],
   "source": [
    "schema = \" \"\n",
    "data = [ ]\n",
    "\n",
    "insert_data_to_table(\"Leetcode_Q_\", \"\", schema, data)"
   ]
  },
  {
   "cell_type": "code",
   "execution_count": null,
   "id": "cfbc2af3",
   "metadata": {},
   "outputs": [],
   "source": [
    "con = connector('')"
   ]
  },
  {
   "cell_type": "code",
   "execution_count": null,
   "id": "0fe68993",
   "metadata": {},
   "outputs": [],
   "source": [
    "pd.read_sql(\"\"\"\n",
    "SELECT *\n",
    "FROM \n",
    "\"\"\", con)"
   ]
  },
  {
   "cell_type": "markdown",
   "id": "c5072ed3",
   "metadata": {},
   "source": [
    "# Leetcode Question 550: Game Play Analysis IV\n"
   ]
  },
  {
   "cell_type": "code",
   "execution_count": null,
   "id": "d95821f3",
   "metadata": {},
   "outputs": [],
   "source": [
    "Create table If Not Exists Activity (player_id int, device_id int, event_date date, games_played int)\n",
    "Truncate table Activity\n",
    "insert into Activity (player_id, device_id, event_date, games_played) values ('1', '2', '2016-03-01', '5')\n",
    "insert into Activity (player_id, device_id, event_date, games_played) values ('1', '2', '2016-03-02', '6')\n",
    "insert into Activity (player_id, device_id, event_date, games_played) values ('2', '3', '2017-06-25', '1')\n",
    "insert into Activity (player_id, device_id, event_date, games_played) values ('3', '1', '2016-03-02', '0')\n",
    "insert into Activity (player_id, device_id, event_date, games_played) values ('3', '4', '2018-07-03', '5')"
   ]
  },
  {
   "cell_type": "code",
   "execution_count": null,
   "id": "d52a71c0",
   "metadata": {},
   "outputs": [],
   "source": [
    "database_creator('Leetcode_Q_')"
   ]
  },
  {
   "cell_type": "code",
   "execution_count": null,
   "id": "b1dc2bc2",
   "metadata": {},
   "outputs": [],
   "source": [
    "schema = \" \"\n",
    "data = [ ]\n",
    "\n",
    "insert_data_to_table(\"Leetcode_Q_\", \"\", schema, data)"
   ]
  },
  {
   "cell_type": "code",
   "execution_count": null,
   "id": "8a2bd782",
   "metadata": {},
   "outputs": [],
   "source": [
    "con = connector('')"
   ]
  },
  {
   "cell_type": "code",
   "execution_count": null,
   "id": "76dc12b7",
   "metadata": {},
   "outputs": [],
   "source": [
    "pd.read_sql(\"\"\"\n",
    "SELECT *\n",
    "FROM \n",
    "\"\"\", con)"
   ]
  },
  {
   "cell_type": "markdown",
   "id": "6b627a6f",
   "metadata": {},
   "source": [
    "# Leetcode Question 176: Second Highest Salary\n"
   ]
  },
  {
   "cell_type": "code",
   "execution_count": null,
   "id": "183d1c63",
   "metadata": {},
   "outputs": [],
   "source": [
    "Create table If Not Exists Employee (id int, salary int)\n",
    "Truncate table Employee\n",
    "insert into Employee (id, salary) values ('1', '100')\n",
    "insert into Employee (id, salary) values ('2', '200')\n",
    "insert into Employee (id, salary) values ('3', '300')"
   ]
  },
  {
   "cell_type": "code",
   "execution_count": null,
   "id": "a3c63c94",
   "metadata": {},
   "outputs": [],
   "source": [
    "database_creator('Leetcode_Q_')"
   ]
  },
  {
   "cell_type": "code",
   "execution_count": null,
   "id": "06ebf2f5",
   "metadata": {},
   "outputs": [],
   "source": [
    "schema = \" \"\n",
    "data = [ ]\n",
    "\n",
    "insert_data_to_table(\"Leetcode_Q_\", \"\", schema, data)"
   ]
  },
  {
   "cell_type": "code",
   "execution_count": null,
   "id": "e9f70099",
   "metadata": {},
   "outputs": [],
   "source": [
    "con = connector('')"
   ]
  },
  {
   "cell_type": "code",
   "execution_count": null,
   "id": "750f95ca",
   "metadata": {},
   "outputs": [],
   "source": [
    "pd.read_sql(\"\"\"\n",
    "SELECT *\n",
    "FROM \n",
    "\"\"\", con)"
   ]
  },
  {
   "cell_type": "markdown",
   "id": "42269861",
   "metadata": {},
   "source": [
    "# Leetcode Question 177: Nth Highest Salary\n"
   ]
  },
  {
   "cell_type": "code",
   "execution_count": null,
   "id": "b6c4b7f9",
   "metadata": {},
   "outputs": [],
   "source": [
    "Create table If Not Exists Employee (Id int, Salary int)\n",
    "Truncate table Employee\n",
    "insert into Employee (id, salary) values ('1', '100')\n",
    "insert into Employee (id, salary) values ('2', '200')\n",
    "insert into Employee (id, salary) values ('3', '300')"
   ]
  },
  {
   "cell_type": "code",
   "execution_count": null,
   "id": "8de342a1",
   "metadata": {},
   "outputs": [],
   "source": [
    "database_creator('Leetcode_Q_')"
   ]
  },
  {
   "cell_type": "code",
   "execution_count": null,
   "id": "55304af1",
   "metadata": {},
   "outputs": [],
   "source": [
    "schema = \" \"\n",
    "data = [ ]\n",
    "\n",
    "insert_data_to_table(\"Leetcode_Q_\", \"\", schema, data)"
   ]
  },
  {
   "cell_type": "code",
   "execution_count": null,
   "id": "8059fcb5",
   "metadata": {},
   "outputs": [],
   "source": [
    "con = connector('')"
   ]
  },
  {
   "cell_type": "code",
   "execution_count": null,
   "id": "f3053577",
   "metadata": {},
   "outputs": [],
   "source": [
    "pd.read_sql(\"\"\"\n",
    "SELECT *\n",
    "FROM \n",
    "\"\"\", con)"
   ]
  },
  {
   "cell_type": "markdown",
   "id": "8c1957ce",
   "metadata": {},
   "source": [
    "## From here on Hard difficulty questions"
   ]
  },
  {
   "cell_type": "markdown",
   "id": "922da2d7",
   "metadata": {},
   "source": [
    "# Leetcode Question 185: Department Top Three Salaries\n",
    "\n"
   ]
  },
  {
   "cell_type": "code",
   "execution_count": null,
   "id": "bec0e323",
   "metadata": {},
   "outputs": [],
   "source": [
    "Create table If Not Exists Employee (id int, name varchar(255), salary int, departmentId int)\n",
    "Create table If Not Exists Department (id int, name varchar(255))\n",
    "Truncate table Employee\n",
    "insert into Employee (id, name, salary, departmentId) values ('1', 'Joe', '85000', '1')\n",
    "insert into Employee (id, name, salary, departmentId) values ('2', 'Henry', '80000', '2')\n",
    "insert into Employee (id, name, salary, departmentId) values ('3', 'Sam', '60000', '2')\n",
    "insert into Employee (id, name, salary, departmentId) values ('4', 'Max', '90000', '1')\n",
    "insert into Employee (id, name, salary, departmentId) values ('5', 'Janet', '69000', '1')\n",
    "insert into Employee (id, name, salary, departmentId) values ('6', 'Randy', '85000', '1')\n",
    "insert into Employee (id, name, salary, departmentId) values ('7', 'Will', '70000', '1')\n",
    "Truncate table Department\n",
    "insert into Department (id, name) values ('1', 'IT')\n",
    "insert into Department (id, name) values ('2', 'Sales')"
   ]
  },
  {
   "cell_type": "code",
   "execution_count": null,
   "id": "22138aeb",
   "metadata": {},
   "outputs": [],
   "source": [
    "database_creator('Leetcode_Q_')"
   ]
  },
  {
   "cell_type": "code",
   "execution_count": null,
   "id": "1157b378",
   "metadata": {},
   "outputs": [],
   "source": [
    "schema = \" \"\n",
    "data = [ ]\n",
    "\n",
    "insert_data_to_table(\"Leetcode_Q_\", \"\", schema, data)"
   ]
  },
  {
   "cell_type": "code",
   "execution_count": null,
   "id": "cf276c52",
   "metadata": {},
   "outputs": [],
   "source": [
    "con = connector('')"
   ]
  },
  {
   "cell_type": "code",
   "execution_count": null,
   "id": "e82c2d84",
   "metadata": {},
   "outputs": [],
   "source": [
    "pd.read_sql(\"\"\"\n",
    "SELECT *\n",
    "FROM \n",
    "\"\"\", con)"
   ]
  },
  {
   "cell_type": "markdown",
   "id": "8677c64a",
   "metadata": {},
   "source": [
    "# Leetcode Question 601: Human Traffic of Stadium\n",
    "\n"
   ]
  },
  {
   "cell_type": "code",
   "execution_count": null,
   "id": "09f46f6f",
   "metadata": {},
   "outputs": [],
   "source": [
    "Create table If Not Exists Stadium (id int, visit_date DATE NULL, people int)\n",
    "Truncate table Stadium\n",
    "insert into Stadium (id, visit_date, people) values ('1', '2017-01-01', '10')\n",
    "insert into Stadium (id, visit_date, people) values ('2', '2017-01-02', '109')\n",
    "insert into Stadium (id, visit_date, people) values ('3', '2017-01-03', '150')\n",
    "insert into Stadium (id, visit_date, people) values ('4', '2017-01-04', '99')\n",
    "insert into Stadium (id, visit_date, people) values ('5', '2017-01-05', '145')\n",
    "insert into Stadium (id, visit_date, people) values ('6', '2017-01-06', '1455')\n",
    "insert into Stadium (id, visit_date, people) values ('7', '2017-01-07', '199')\n",
    "insert into Stadium (id, visit_date, people) values ('8', '2017-01-09', '188')"
   ]
  },
  {
   "cell_type": "code",
   "execution_count": null,
   "id": "aee1b634",
   "metadata": {},
   "outputs": [],
   "source": [
    "database_creator('Leetcode_Q_')"
   ]
  },
  {
   "cell_type": "code",
   "execution_count": null,
   "id": "5d1ec0cb",
   "metadata": {},
   "outputs": [],
   "source": [
    "schema = \" \"\n",
    "data = [ ]\n",
    "\n",
    "insert_data_to_table(\"Leetcode_Q_\", \"\", schema, data)"
   ]
  },
  {
   "cell_type": "code",
   "execution_count": null,
   "id": "486beeeb",
   "metadata": {},
   "outputs": [],
   "source": [
    "con = connector('')"
   ]
  },
  {
   "cell_type": "code",
   "execution_count": null,
   "id": "825de538",
   "metadata": {},
   "outputs": [],
   "source": [
    "pd.read_sql(\"\"\"\n",
    "SELECT *\n",
    "FROM \n",
    "\"\"\", con)"
   ]
  },
  {
   "cell_type": "markdown",
   "id": "f6eb229a",
   "metadata": {},
   "source": [
    "# Leetcode Question 262: Trips and Users\n",
    "\n"
   ]
  },
  {
   "cell_type": "code",
   "execution_count": null,
   "id": "8df86e96",
   "metadata": {},
   "outputs": [],
   "source": [
    "Create table If Not Exists Trips (id int, client_id int, driver_id int, city_id int, status ENUM('completed', 'cancelled_by_driver', 'cancelled_by_client'), request_at varchar(50))\n",
    "Create table If Not Exists Users (users_id int, banned varchar(50), role ENUM('client', 'driver', 'partner'))\n",
    "Truncate table Trips\n",
    "insert into Trips (id, client_id, driver_id, city_id, status, request_at) values ('1', '1', '10', '1', 'completed', '2013-10-01')\n",
    "insert into Trips (id, client_id, driver_id, city_id, status, request_at) values ('2', '2', '11', '1', 'cancelled_by_driver', '2013-10-01')\n",
    "insert into Trips (id, client_id, driver_id, city_id, status, request_at) values ('3', '3', '12', '6', 'completed', '2013-10-01')\n",
    "insert into Trips (id, client_id, driver_id, city_id, status, request_at) values ('4', '4', '13', '6', 'cancelled_by_client', '2013-10-01')\n",
    "insert into Trips (id, client_id, driver_id, city_id, status, request_at) values ('5', '1', '10', '1', 'completed', '2013-10-02')\n",
    "insert into Trips (id, client_id, driver_id, city_id, status, request_at) values ('6', '2', '11', '6', 'completed', '2013-10-02')\n",
    "insert into Trips (id, client_id, driver_id, city_id, status, request_at) values ('7', '3', '12', '6', 'completed', '2013-10-02')\n",
    "insert into Trips (id, client_id, driver_id, city_id, status, request_at) values ('8', '2', '12', '12', 'completed', '2013-10-03')\n",
    "insert into Trips (id, client_id, driver_id, city_id, status, request_at) values ('9', '3', '10', '12', 'completed', '2013-10-03')\n",
    "insert into Trips (id, client_id, driver_id, city_id, status, request_at) values ('10', '4', '13', '12', 'cancelled_by_driver', '2013-10-03')\n",
    "Truncate table Users\n",
    "insert into Users (users_id, banned, role) values ('1', 'No', 'client')\n",
    "insert into Users (users_id, banned, role) values ('2', 'Yes', 'client')\n",
    "insert into Users (users_id, banned, role) values ('3', 'No', 'client')\n",
    "insert into Users (users_id, banned, role) values ('4', 'No', 'client')\n",
    "insert into Users (users_id, banned, role) values ('10', 'No', 'driver')\n",
    "insert into Users (users_id, banned, role) values ('11', 'No', 'driver')\n",
    "insert into Users (users_id, banned, role) values ('12', 'No', 'driver')\n",
    "insert into Users (users_id, banned, role) values ('13', 'No', 'driver')"
   ]
  },
  {
   "cell_type": "code",
   "execution_count": 13,
   "id": "7c612eed",
   "metadata": {},
   "outputs": [],
   "source": [
    "database_creator('Leetcode_Q_262')"
   ]
  },
  {
   "cell_type": "code",
   "execution_count": 16,
   "id": "bf216ac6",
   "metadata": {},
   "outputs": [],
   "source": [
    "schema = \"id int, client_id int, driver_id int, city_id int, status ENUM('completed', 'cancelled_by_driver', 'cancelled_by_client'), request_at varchar(50)\"\n",
    "data = [('1', '1', '10', '1', 'completed', '2013-10-01'),\n",
    "       ('2', '2', '11', '1', 'cancelled_by_driver', '2013-10-01'),\n",
    "       ('3', '3', '12', '6', 'completed', '2013-10-01'),\n",
    "       ('4', '4', '13', '6', 'cancelled_by_client', '2013-10-01'),\n",
    "       ('5', '1', '10', '1', 'completed', '2013-10-02'),\n",
    "       ('6', '2', '11', '6', 'completed', '2013-10-02'),\n",
    "       ('7', '3', '12', '6', 'completed', '2013-10-02'),\n",
    "       ('8', '2', '12', '12', 'completed', '2013-10-03'),\n",
    "       ('9', '3', '10', '12', 'completed', '2013-10-03'),\n",
    "       ('10', '4', '13', '12', 'cancelled_by_driver', '2013-10-03')]\n",
    "\n",
    "insert_data_to_table(\"Leetcode_Q_262\", \"Trips\", schema, data)"
   ]
  },
  {
   "cell_type": "code",
   "execution_count": 17,
   "id": "179e95e5",
   "metadata": {},
   "outputs": [],
   "source": [
    "schema = \"users_id int, banned varchar(50), role ENUM('client', 'driver', 'partner')\"\n",
    "data = [('1', 'No', 'client'),\n",
    "        ('2', 'Yes', 'client'),\n",
    "         ('3', 'No', 'client'),\n",
    "        ('4', 'No', 'client'),\n",
    "        ('10', 'No', 'driver'),\n",
    "         ('11', 'No', 'driver'),\n",
    "         ('12', 'No', 'driver'),\n",
    "        ('13', 'No', 'driver')]\n",
    "\n",
    "insert_data_to_table(\"Leetcode_Q_262\", \"Users\", schema, data)"
   ]
  },
  {
   "cell_type": "code",
   "execution_count": 18,
   "id": "c0a39d71",
   "metadata": {},
   "outputs": [],
   "source": [
    "con = connector('Leetcode_Q_262')"
   ]
  },
  {
   "cell_type": "code",
   "execution_count": 19,
   "id": "4471c93b",
   "metadata": {},
   "outputs": [
    {
     "data": {
      "text/html": [
       "<div>\n",
       "<style scoped>\n",
       "    .dataframe tbody tr th:only-of-type {\n",
       "        vertical-align: middle;\n",
       "    }\n",
       "\n",
       "    .dataframe tbody tr th {\n",
       "        vertical-align: top;\n",
       "    }\n",
       "\n",
       "    .dataframe thead th {\n",
       "        text-align: right;\n",
       "    }\n",
       "</style>\n",
       "<table border=\"1\" class=\"dataframe\">\n",
       "  <thead>\n",
       "    <tr style=\"text-align: right;\">\n",
       "      <th></th>\n",
       "      <th>id</th>\n",
       "      <th>client_id</th>\n",
       "      <th>driver_id</th>\n",
       "      <th>city_id</th>\n",
       "      <th>status</th>\n",
       "      <th>request_at</th>\n",
       "    </tr>\n",
       "  </thead>\n",
       "  <tbody>\n",
       "    <tr>\n",
       "      <th>0</th>\n",
       "      <td>1</td>\n",
       "      <td>1</td>\n",
       "      <td>10</td>\n",
       "      <td>1</td>\n",
       "      <td>completed</td>\n",
       "      <td>2013-10-01</td>\n",
       "    </tr>\n",
       "    <tr>\n",
       "      <th>1</th>\n",
       "      <td>2</td>\n",
       "      <td>2</td>\n",
       "      <td>11</td>\n",
       "      <td>1</td>\n",
       "      <td>cancelled_by_driver</td>\n",
       "      <td>2013-10-01</td>\n",
       "    </tr>\n",
       "    <tr>\n",
       "      <th>2</th>\n",
       "      <td>3</td>\n",
       "      <td>3</td>\n",
       "      <td>12</td>\n",
       "      <td>6</td>\n",
       "      <td>completed</td>\n",
       "      <td>2013-10-01</td>\n",
       "    </tr>\n",
       "    <tr>\n",
       "      <th>3</th>\n",
       "      <td>4</td>\n",
       "      <td>4</td>\n",
       "      <td>13</td>\n",
       "      <td>6</td>\n",
       "      <td>cancelled_by_client</td>\n",
       "      <td>2013-10-01</td>\n",
       "    </tr>\n",
       "    <tr>\n",
       "      <th>4</th>\n",
       "      <td>5</td>\n",
       "      <td>1</td>\n",
       "      <td>10</td>\n",
       "      <td>1</td>\n",
       "      <td>completed</td>\n",
       "      <td>2013-10-02</td>\n",
       "    </tr>\n",
       "    <tr>\n",
       "      <th>5</th>\n",
       "      <td>6</td>\n",
       "      <td>2</td>\n",
       "      <td>11</td>\n",
       "      <td>6</td>\n",
       "      <td>completed</td>\n",
       "      <td>2013-10-02</td>\n",
       "    </tr>\n",
       "    <tr>\n",
       "      <th>6</th>\n",
       "      <td>7</td>\n",
       "      <td>3</td>\n",
       "      <td>12</td>\n",
       "      <td>6</td>\n",
       "      <td>completed</td>\n",
       "      <td>2013-10-02</td>\n",
       "    </tr>\n",
       "    <tr>\n",
       "      <th>7</th>\n",
       "      <td>8</td>\n",
       "      <td>2</td>\n",
       "      <td>12</td>\n",
       "      <td>12</td>\n",
       "      <td>completed</td>\n",
       "      <td>2013-10-03</td>\n",
       "    </tr>\n",
       "    <tr>\n",
       "      <th>8</th>\n",
       "      <td>9</td>\n",
       "      <td>3</td>\n",
       "      <td>10</td>\n",
       "      <td>12</td>\n",
       "      <td>completed</td>\n",
       "      <td>2013-10-03</td>\n",
       "    </tr>\n",
       "    <tr>\n",
       "      <th>9</th>\n",
       "      <td>10</td>\n",
       "      <td>4</td>\n",
       "      <td>13</td>\n",
       "      <td>12</td>\n",
       "      <td>cancelled_by_driver</td>\n",
       "      <td>2013-10-03</td>\n",
       "    </tr>\n",
       "  </tbody>\n",
       "</table>\n",
       "</div>"
      ],
      "text/plain": [
       "   id  client_id  driver_id  city_id               status  request_at\n",
       "0   1          1         10        1            completed  2013-10-01\n",
       "1   2          2         11        1  cancelled_by_driver  2013-10-01\n",
       "2   3          3         12        6            completed  2013-10-01\n",
       "3   4          4         13        6  cancelled_by_client  2013-10-01\n",
       "4   5          1         10        1            completed  2013-10-02\n",
       "5   6          2         11        6            completed  2013-10-02\n",
       "6   7          3         12        6            completed  2013-10-02\n",
       "7   8          2         12       12            completed  2013-10-03\n",
       "8   9          3         10       12            completed  2013-10-03\n",
       "9  10          4         13       12  cancelled_by_driver  2013-10-03"
      ]
     },
     "execution_count": 19,
     "metadata": {},
     "output_type": "execute_result"
    }
   ],
   "source": [
    "pd.read_sql(\"\"\"\n",
    "SELECT *\n",
    "FROM Trips\n",
    "\"\"\", con)"
   ]
  },
  {
   "cell_type": "code",
   "execution_count": 20,
   "id": "fc67b0b6",
   "metadata": {},
   "outputs": [
    {
     "data": {
      "text/html": [
       "<div>\n",
       "<style scoped>\n",
       "    .dataframe tbody tr th:only-of-type {\n",
       "        vertical-align: middle;\n",
       "    }\n",
       "\n",
       "    .dataframe tbody tr th {\n",
       "        vertical-align: top;\n",
       "    }\n",
       "\n",
       "    .dataframe thead th {\n",
       "        text-align: right;\n",
       "    }\n",
       "</style>\n",
       "<table border=\"1\" class=\"dataframe\">\n",
       "  <thead>\n",
       "    <tr style=\"text-align: right;\">\n",
       "      <th></th>\n",
       "      <th>users_id</th>\n",
       "      <th>banned</th>\n",
       "      <th>role</th>\n",
       "    </tr>\n",
       "  </thead>\n",
       "  <tbody>\n",
       "    <tr>\n",
       "      <th>0</th>\n",
       "      <td>1</td>\n",
       "      <td>No</td>\n",
       "      <td>client</td>\n",
       "    </tr>\n",
       "    <tr>\n",
       "      <th>1</th>\n",
       "      <td>2</td>\n",
       "      <td>Yes</td>\n",
       "      <td>client</td>\n",
       "    </tr>\n",
       "    <tr>\n",
       "      <th>2</th>\n",
       "      <td>3</td>\n",
       "      <td>No</td>\n",
       "      <td>client</td>\n",
       "    </tr>\n",
       "    <tr>\n",
       "      <th>3</th>\n",
       "      <td>4</td>\n",
       "      <td>No</td>\n",
       "      <td>client</td>\n",
       "    </tr>\n",
       "    <tr>\n",
       "      <th>4</th>\n",
       "      <td>10</td>\n",
       "      <td>No</td>\n",
       "      <td>driver</td>\n",
       "    </tr>\n",
       "    <tr>\n",
       "      <th>5</th>\n",
       "      <td>11</td>\n",
       "      <td>No</td>\n",
       "      <td>driver</td>\n",
       "    </tr>\n",
       "    <tr>\n",
       "      <th>6</th>\n",
       "      <td>12</td>\n",
       "      <td>No</td>\n",
       "      <td>driver</td>\n",
       "    </tr>\n",
       "    <tr>\n",
       "      <th>7</th>\n",
       "      <td>13</td>\n",
       "      <td>No</td>\n",
       "      <td>driver</td>\n",
       "    </tr>\n",
       "  </tbody>\n",
       "</table>\n",
       "</div>"
      ],
      "text/plain": [
       "   users_id banned    role\n",
       "0         1     No  client\n",
       "1         2    Yes  client\n",
       "2         3     No  client\n",
       "3         4     No  client\n",
       "4        10     No  driver\n",
       "5        11     No  driver\n",
       "6        12     No  driver\n",
       "7        13     No  driver"
      ]
     },
     "execution_count": 20,
     "metadata": {},
     "output_type": "execute_result"
    }
   ],
   "source": [
    "pd.read_sql(\"\"\"\n",
    "SELECT *\n",
    "FROM Users\n",
    "\"\"\", con)"
   ]
  },
  {
   "cell_type": "code",
   "execution_count": null,
   "id": "954c19e3",
   "metadata": {},
   "outputs": [],
   "source": []
  }
 ],
 "metadata": {
  "kernelspec": {
   "display_name": "Python 3 (ipykernel)",
   "language": "python",
   "name": "python3"
  },
  "language_info": {
   "codemirror_mode": {
    "name": "ipython",
    "version": 3
   },
   "file_extension": ".py",
   "mimetype": "text/x-python",
   "name": "python",
   "nbconvert_exporter": "python",
   "pygments_lexer": "ipython3",
   "version": "3.11.3"
  }
 },
 "nbformat": 4,
 "nbformat_minor": 5
}
