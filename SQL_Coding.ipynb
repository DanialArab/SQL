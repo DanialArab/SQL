{
 "cells": [
  {
   "cell_type": "code",
   "execution_count": 1,
   "id": "6c6ddce3",
   "metadata": {},
   "outputs": [],
   "source": [
    "import os\n",
    "import pymysql\n",
    "import pandas as pd\n",
    "password = os.environ.get('MYSQL_PASSWORD')\n"
   ]
  },
  {
   "cell_type": "code",
   "execution_count": 2,
   "id": "c8d2cdb8",
   "metadata": {},
   "outputs": [
    {
     "name": "stdout",
     "output_type": "stream",
     "text": [
      "Connection to the database was successful!\n"
     ]
    }
   ],
   "source": [
    "password = os.environ.get('MYSQL_PASSWORD')\n",
    "\n",
    "try:\n",
    "    con = pymysql.connect(\n",
    "    host='localhost',\n",
    "    user='root',\n",
    "    password=password,\n",
    "    charset='utf8mb4'\n",
    "    )\n",
    "    print(\"Connection to the database was successful!\")\n",
    "except pymysql.Error as e:\n",
    "    print(f\"An error occurred while connecting to the database: {e}\")\n"
   ]
  },
  {
   "cell_type": "code",
   "execution_count": 3,
   "id": "a516978e",
   "metadata": {},
   "outputs": [],
   "source": [
    "def connector (database, password=password, host='localhost', \n",
    "               user='root', charset='utf8mb4',):\n",
    "    \n",
    "    conn = pymysql.connect(\n",
    "                        host=host,\n",
    "                        user=user,\n",
    "                        password=password,\n",
    "                        charset=charset, \n",
    "                        database=database)\n",
    "    \n",
    "    return conn"
   ]
  },
  {
   "cell_type": "code",
   "execution_count": 4,
   "id": "9339ece9",
   "metadata": {},
   "outputs": [
    {
     "data": {
      "text/html": [
       "<div>\n",
       "<style scoped>\n",
       "    .dataframe tbody tr th:only-of-type {\n",
       "        vertical-align: middle;\n",
       "    }\n",
       "\n",
       "    .dataframe tbody tr th {\n",
       "        vertical-align: top;\n",
       "    }\n",
       "\n",
       "    .dataframe thead th {\n",
       "        text-align: right;\n",
       "    }\n",
       "</style>\n",
       "<table border=\"1\" class=\"dataframe\">\n",
       "  <thead>\n",
       "    <tr style=\"text-align: right;\">\n",
       "      <th></th>\n",
       "      <th>product_id</th>\n",
       "      <th>name</th>\n",
       "      <th>quantity_in_stock</th>\n",
       "      <th>unit_price</th>\n",
       "    </tr>\n",
       "  </thead>\n",
       "  <tbody>\n",
       "    <tr>\n",
       "      <th>0</th>\n",
       "      <td>1</td>\n",
       "      <td>Foam Dinner Plate</td>\n",
       "      <td>70</td>\n",
       "      <td>1.21</td>\n",
       "    </tr>\n",
       "    <tr>\n",
       "      <th>1</th>\n",
       "      <td>2</td>\n",
       "      <td>Pork - Bacon,back Peameal</td>\n",
       "      <td>49</td>\n",
       "      <td>4.65</td>\n",
       "    </tr>\n",
       "    <tr>\n",
       "      <th>2</th>\n",
       "      <td>3</td>\n",
       "      <td>Lettuce - Romaine, Heart</td>\n",
       "      <td>38</td>\n",
       "      <td>3.35</td>\n",
       "    </tr>\n",
       "    <tr>\n",
       "      <th>3</th>\n",
       "      <td>4</td>\n",
       "      <td>Brocolinni - Gaylan, Chinese</td>\n",
       "      <td>90</td>\n",
       "      <td>4.53</td>\n",
       "    </tr>\n",
       "    <tr>\n",
       "      <th>4</th>\n",
       "      <td>5</td>\n",
       "      <td>Sauce - Ranch Dressing</td>\n",
       "      <td>94</td>\n",
       "      <td>1.63</td>\n",
       "    </tr>\n",
       "    <tr>\n",
       "      <th>5</th>\n",
       "      <td>6</td>\n",
       "      <td>Petit Baguette</td>\n",
       "      <td>14</td>\n",
       "      <td>2.39</td>\n",
       "    </tr>\n",
       "    <tr>\n",
       "      <th>6</th>\n",
       "      <td>7</td>\n",
       "      <td>Sweet Pea Sprouts</td>\n",
       "      <td>98</td>\n",
       "      <td>3.29</td>\n",
       "    </tr>\n",
       "    <tr>\n",
       "      <th>7</th>\n",
       "      <td>8</td>\n",
       "      <td>Island Oasis - Raspberry</td>\n",
       "      <td>26</td>\n",
       "      <td>0.74</td>\n",
       "    </tr>\n",
       "    <tr>\n",
       "      <th>8</th>\n",
       "      <td>9</td>\n",
       "      <td>Longan</td>\n",
       "      <td>67</td>\n",
       "      <td>2.26</td>\n",
       "    </tr>\n",
       "    <tr>\n",
       "      <th>9</th>\n",
       "      <td>10</td>\n",
       "      <td>Broom - Push</td>\n",
       "      <td>6</td>\n",
       "      <td>1.09</td>\n",
       "    </tr>\n",
       "  </tbody>\n",
       "</table>\n",
       "</div>"
      ],
      "text/plain": [
       "   product_id                          name  quantity_in_stock  unit_price\n",
       "0           1             Foam Dinner Plate                 70        1.21\n",
       "1           2     Pork - Bacon,back Peameal                 49        4.65\n",
       "2           3      Lettuce - Romaine, Heart                 38        3.35\n",
       "3           4  Brocolinni - Gaylan, Chinese                 90        4.53\n",
       "4           5        Sauce - Ranch Dressing                 94        1.63\n",
       "5           6                Petit Baguette                 14        2.39\n",
       "6           7             Sweet Pea Sprouts                 98        3.29\n",
       "7           8      Island Oasis - Raspberry                 26        0.74\n",
       "8           9                        Longan                 67        2.26\n",
       "9          10                  Broom - Push                  6        1.09"
      ]
     },
     "execution_count": 4,
     "metadata": {},
     "output_type": "execute_result"
    }
   ],
   "source": [
    "con = connector ('sql_inventory')\n",
    "df = pd.read_sql(\"SELECT * FROM products\", con)\n",
    "df\n"
   ]
  },
  {
   "cell_type": "code",
   "execution_count": null,
   "id": "f56a0031",
   "metadata": {},
   "outputs": [],
   "source": []
  },
  {
   "cell_type": "code",
   "execution_count": null,
   "id": "ea77f37c",
   "metadata": {},
   "outputs": [],
   "source": []
  }
 ],
 "metadata": {
  "kernelspec": {
   "display_name": "Python 3",
   "language": "python",
   "name": "python3"
  },
  "language_info": {
   "codemirror_mode": {
    "name": "ipython",
    "version": 3
   },
   "file_extension": ".py",
   "mimetype": "text/x-python",
   "name": "python",
   "nbconvert_exporter": "python",
   "pygments_lexer": "ipython3",
   "version": "3.6.8"
  }
 },
 "nbformat": 4,
 "nbformat_minor": 5
}
