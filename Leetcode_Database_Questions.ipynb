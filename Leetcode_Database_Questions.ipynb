{
 "cells": [
  {
   "cell_type": "code",
   "execution_count": null,
   "id": "e8e1340d",
   "metadata": {},
   "outputs": [],
   "source": [
    "# "
   ]
  },
  {
   "cell_type": "code",
   "execution_count": 1,
   "id": "a9c05103",
   "metadata": {},
   "outputs": [],
   "source": [
    "import os\n",
    "import pymysql\n",
    "import pandas as pd\n",
    "password = os.environ.get('MYSQL_PASSWORD')"
   ]
  },
  {
   "cell_type": "code",
   "execution_count": 2,
   "id": "40d56d7f",
   "metadata": {},
   "outputs": [
    {
     "name": "stdout",
     "output_type": "stream",
     "text": [
      "Connection to the database was successful!\n"
     ]
    }
   ],
   "source": [
    "password = os.environ.get('MYSQL_PASSWORD')\n",
    "\n",
    "try:\n",
    "    con = pymysql.connect(\n",
    "    host='localhost',\n",
    "    user='root',\n",
    "    password=password,\n",
    "    charset='utf8mb4'\n",
    "    )\n",
    "    print(\"Connection to the database was successful!\")\n",
    "except pymysql.Error as e:\n",
    "    print(f\"An error occurred while connecting to the database: {e}\")\n"
   ]
  },
  {
   "cell_type": "code",
   "execution_count": 3,
   "id": "d9898b7a",
   "metadata": {},
   "outputs": [],
   "source": [
    "# calling this function makes life easy and just need to pass the name of the database I want to make a query on\n",
    "# It serves like USE keyword in SQL\n",
    "\n",
    "def connector (database, password=password, host='localhost', \n",
    "               user='root', charset='utf8mb4',):\n",
    "    \n",
    "    conn = pymysql.connect(\n",
    "                        host=host,\n",
    "                        user=user,\n",
    "                        password=password,\n",
    "                        charset=charset, \n",
    "                        database=database)\n",
    "    \n",
    "    return conn"
   ]
  },
  {
   "cell_type": "code",
   "execution_count": 6,
   "id": "cfc79a8a",
   "metadata": {},
   "outputs": [
    {
     "name": "stdout",
     "output_type": "stream",
     "text": [
      "information_schema\n",
      "mysql\n",
      "performance_schema\n",
      "sql_hr\n",
      "sql_inventory\n",
      "sql_invoicing\n",
      "sql_store\n",
      "sys\n"
     ]
    }
   ],
   "source": [
    "# How to get the names of all the databases in my MySQL server \n",
    "\n",
    "# I can use the cursor object from my database connection to execute SQL commands and retrieve information \n",
    "# about my databases. Here's an example of how I can use the **SHOW DATABASES** SQL command to retrieve the \n",
    "# names of all databases in my MySQL server using my connector function:\n",
    "\n",
    "\n",
    "# Create a database connection\n",
    "conn = connector(database='sql_store')\n",
    "\n",
    "# Create a cursor object\n",
    "cursor = conn.cursor()\n",
    "\n",
    "# Execute the SHOW DATABASES command\n",
    "cursor.execute('SHOW DATABASES')\n",
    "\n",
    "# Fetch all the results as a list of tuples\n",
    "results = cursor.fetchall()\n",
    "\n",
    "# Print the names of all databases in the MySQL server\n",
    "for row in results:\n",
    "    print(row[0])\n",
    "\n",
    "# Close the cursor and connection\n",
    "cursor.close()\n",
    "conn.close()\n"
   ]
  },
  {
   "cell_type": "code",
   "execution_count": 5,
   "id": "dc72e529",
   "metadata": {},
   "outputs": [],
   "source": [
    "# to delete a database from my MySQL server \n",
    "\n",
    "conn = connector(database=None)\n",
    "cursor = conn.cursor()\n",
    "\n",
    "# Replace <database_name> with the name of the database you want to delete\n",
    "database_name = \"q1757\"\n",
    "\n",
    "# Execute the DROP DATABASE SQL command\n",
    "cursor.execute(f\"DROP DATABASE {database_name}\")\n",
    "\n",
    "# Commit the transaction\n",
    "conn.commit()\n",
    "\n",
    "# Close the connection\n",
    "conn.close()\n"
   ]
  },
  {
   "cell_type": "code",
   "execution_count": 7,
   "id": "6ed14f0a",
   "metadata": {},
   "outputs": [],
   "source": [
    "def database_creator(database_name):\n",
    "    \n",
    "    conn = connector(database=None)\n",
    "    \n",
    "    # Create a cursor object\n",
    "    cursor = conn.cursor()\n",
    "\n",
    "    # Execute the CREATE DATABASE SQL command\n",
    "    cursor.execute(f\"CREATE DATABASE {database_name}\")\n",
    "\n",
    "    # Commit the transaction\n",
    "    conn.commit()\n",
    "\n",
    "    # Close the connection\n",
    "    conn.close()\n"
   ]
  },
  {
   "cell_type": "code",
   "execution_count": 8,
   "id": "c1e2d7f2",
   "metadata": {},
   "outputs": [],
   "source": [
    "database_creator ('q1757')"
   ]
  },
  {
   "cell_type": "code",
   "execution_count": 9,
   "id": "f0cb3aea",
   "metadata": {},
   "outputs": [],
   "source": [
    "def insert_data_to_table(database_name, table_name, schema, data):\n",
    "    # Connect to the database\n",
    "    conn = connector(database_name)\n",
    "\n",
    "    # Create a cursor object\n",
    "    cursor = conn.cursor()\n",
    "\n",
    "    # Create the table with the given schema if it does not exist\n",
    "    cursor.execute(f\"CREATE TABLE IF NOT EXISTS {table_name} ({schema})\")\n",
    "\n",
    "    # Truncate the table to remove any existing data\n",
    "    cursor.execute(f\"TRUNCATE TABLE {table_name}\")\n",
    "\n",
    "    # Insert data into the table\n",
    "    for row in data:\n",
    "        placeholders = \",\".join([\"%s\" for _ in range(len(row))])\n",
    "        query = f\"INSERT INTO {table_name} VALUES ({placeholders})\"\n",
    "        cursor.execute(query, row)\n",
    "\n",
    "    # Commit the transaction to save the changes\n",
    "    conn.commit()\n",
    "\n",
    "    # Close the connection\n",
    "    conn.close()\n"
   ]
  },
  {
   "cell_type": "code",
   "execution_count": 10,
   "id": "1d7a203d",
   "metadata": {},
   "outputs": [
    {
     "ename": "SyntaxError",
     "evalue": "invalid syntax (<ipython-input-10-60572ccb8344>, line 3)",
     "output_type": "error",
     "traceback": [
      "\u001b[0;36m  File \u001b[0;32m\"<ipython-input-10-60572ccb8344>\"\u001b[0;36m, line \u001b[0;32m3\u001b[0m\n\u001b[0;31m    Create table If Not Exists Products (product_id int, low_fats ENUM('Y', 'N'), recyclable ENUM('Y','N'))\u001b[0m\n\u001b[0m               ^\u001b[0m\n\u001b[0;31mSyntaxError\u001b[0m\u001b[0;31m:\u001b[0m invalid syntax\n"
     ]
    }
   ],
   "source": [
    "# here is the SQL Schema for the question 1757 on Leetcode - database \n",
    "\n",
    "Create table If Not Exists Products (product_id int, low_fats ENUM('Y', 'N'), recyclable ENUM('Y','N'))\n",
    "Truncate table Products\n",
    "insert into Products (product_id, low_fats, recyclable) values ('0', 'Y', 'N')\n",
    "insert into Products (product_id, low_fats, recyclable) values ('1', 'Y', 'Y')\n",
    "insert into Products (product_id, low_fats, recyclable) values ('2', 'N', 'Y')\n",
    "insert into Products (product_id, low_fats, recyclable) values ('3', 'Y', 'Y')\n",
    "insert into Products (product_id, low_fats, recyclable) values ('4', 'N', 'N')"
   ]
  },
  {
   "cell_type": "code",
   "execution_count": 11,
   "id": "7ab285cc",
   "metadata": {},
   "outputs": [],
   "source": [
    "schema = \"product_id int, low_fats ENUM('Y', 'N'), recyclable ENUM('Y', 'N')\"\n",
    "data = [(\"0\", \"Y\", \"N\"), (\"1\", \"Y\", \"Y\"), (\"2\", \"N\", \"Y\"), (\"3\", \"Y\", \"Y\"), (\"4\", \"N\", \"N\")]\n",
    "\n",
    "insert_data_to_table(\"q1757\", \"Products\", schema, data)\n"
   ]
  },
  {
   "cell_type": "code",
   "execution_count": 12,
   "id": "2af76409",
   "metadata": {},
   "outputs": [
    {
     "name": "stdout",
     "output_type": "stream",
     "text": [
      "  TABLE_NAME\n",
      "0   Products\n"
     ]
    }
   ],
   "source": [
    "# to get my tables' names in the datanase\n",
    "\n",
    "query = \"SELECT table_name FROM information_schema.tables WHERE table_schema='q1757';\"\n",
    "\n",
    "# Execute the query and store the results in a Pandas DataFrame\n",
    "tables = pd.read_sql_query(query, con)\n",
    "\n",
    "# Print the list of tables\n",
    "print(tables)\n"
   ]
  },
  {
   "cell_type": "code",
   "execution_count": 13,
   "id": "c9d925a7",
   "metadata": {},
   "outputs": [],
   "source": [
    "con = connector('q1757')"
   ]
  },
  {
   "cell_type": "code",
   "execution_count": 16,
   "id": "4c1ffec0",
   "metadata": {},
   "outputs": [
    {
     "data": {
      "text/html": [
       "<div>\n",
       "<style scoped>\n",
       "    .dataframe tbody tr th:only-of-type {\n",
       "        vertical-align: middle;\n",
       "    }\n",
       "\n",
       "    .dataframe tbody tr th {\n",
       "        vertical-align: top;\n",
       "    }\n",
       "\n",
       "    .dataframe thead th {\n",
       "        text-align: right;\n",
       "    }\n",
       "</style>\n",
       "<table border=\"1\" class=\"dataframe\">\n",
       "  <thead>\n",
       "    <tr style=\"text-align: right;\">\n",
       "      <th></th>\n",
       "      <th>product_id</th>\n",
       "      <th>low_fats</th>\n",
       "      <th>recyclable</th>\n",
       "    </tr>\n",
       "  </thead>\n",
       "  <tbody>\n",
       "    <tr>\n",
       "      <th>0</th>\n",
       "      <td>0</td>\n",
       "      <td>Y</td>\n",
       "      <td>N</td>\n",
       "    </tr>\n",
       "    <tr>\n",
       "      <th>1</th>\n",
       "      <td>1</td>\n",
       "      <td>Y</td>\n",
       "      <td>Y</td>\n",
       "    </tr>\n",
       "    <tr>\n",
       "      <th>2</th>\n",
       "      <td>2</td>\n",
       "      <td>N</td>\n",
       "      <td>Y</td>\n",
       "    </tr>\n",
       "    <tr>\n",
       "      <th>3</th>\n",
       "      <td>3</td>\n",
       "      <td>Y</td>\n",
       "      <td>Y</td>\n",
       "    </tr>\n",
       "    <tr>\n",
       "      <th>4</th>\n",
       "      <td>4</td>\n",
       "      <td>N</td>\n",
       "      <td>N</td>\n",
       "    </tr>\n",
       "  </tbody>\n",
       "</table>\n",
       "</div>"
      ],
      "text/plain": [
       "   product_id low_fats recyclable\n",
       "0           0        Y          N\n",
       "1           1        Y          Y\n",
       "2           2        N          Y\n",
       "3           3        Y          Y\n",
       "4           4        N          N"
      ]
     },
     "execution_count": 16,
     "metadata": {},
     "output_type": "execute_result"
    }
   ],
   "source": [
    "pd.read_sql(\"SELECT *\\\n",
    "            FROM Products p\", con)"
   ]
  },
  {
   "cell_type": "code",
   "execution_count": 14,
   "id": "fb80179d",
   "metadata": {},
   "outputs": [
    {
     "data": {
      "text/html": [
       "<div>\n",
       "<style scoped>\n",
       "    .dataframe tbody tr th:only-of-type {\n",
       "        vertical-align: middle;\n",
       "    }\n",
       "\n",
       "    .dataframe tbody tr th {\n",
       "        vertical-align: top;\n",
       "    }\n",
       "\n",
       "    .dataframe thead th {\n",
       "        text-align: right;\n",
       "    }\n",
       "</style>\n",
       "<table border=\"1\" class=\"dataframe\">\n",
       "  <thead>\n",
       "    <tr style=\"text-align: right;\">\n",
       "      <th></th>\n",
       "      <th>product_id</th>\n",
       "    </tr>\n",
       "  </thead>\n",
       "  <tbody>\n",
       "    <tr>\n",
       "      <th>0</th>\n",
       "      <td>1</td>\n",
       "    </tr>\n",
       "    <tr>\n",
       "      <th>1</th>\n",
       "      <td>3</td>\n",
       "    </tr>\n",
       "  </tbody>\n",
       "</table>\n",
       "</div>"
      ],
      "text/plain": [
       "   product_id\n",
       "0           1\n",
       "1           3"
      ]
     },
     "execution_count": 14,
     "metadata": {},
     "output_type": "execute_result"
    }
   ],
   "source": [
    "pd.read_sql(\"SELECT p.product_id\\\n",
    "            FROM Products p\\\n",
    "            WHERE low_fats = 'Y' AND recyclable = 'Y'\", con)"
   ]
  },
  {
   "cell_type": "code",
   "execution_count": null,
   "id": "36256e48",
   "metadata": {},
   "outputs": [],
   "source": []
  },
  {
   "cell_type": "code",
   "execution_count": null,
   "id": "c5f02ea0",
   "metadata": {},
   "outputs": [],
   "source": []
  }
 ],
 "metadata": {
  "kernelspec": {
   "display_name": "Python 3",
   "language": "python",
   "name": "python3"
  },
  "language_info": {
   "codemirror_mode": {
    "name": "ipython",
    "version": 3
   },
   "file_extension": ".py",
   "mimetype": "text/x-python",
   "name": "python",
   "nbconvert_exporter": "python",
   "pygments_lexer": "ipython3",
   "version": "3.6.8"
  }
 },
 "nbformat": 4,
 "nbformat_minor": 5
}
