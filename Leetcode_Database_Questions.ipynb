{
 "cells": [
  {
   "cell_type": "code",
   "execution_count": 1,
   "id": "ecf5401a",
   "metadata": {},
   "outputs": [],
   "source": [
    "import os\n",
    "import pymysql\n",
    "import pandas as pd\n",
    "password = os.environ.get('MYSQL_PASSWORD')"
   ]
  },
  {
   "cell_type": "code",
   "execution_count": 2,
   "id": "ced1a7a2",
   "metadata": {},
   "outputs": [
    {
     "name": "stdout",
     "output_type": "stream",
     "text": [
      "Connection to the database was successful!\n"
     ]
    }
   ],
   "source": [
    "try:\n",
    "    con = pymysql.connect(\n",
    "                            host='localhost',\n",
    "                            user='root',\n",
    "                            password=password,\n",
    "                            charset='utf8mb4'\n",
    "                            )\n",
    "    print(\"Connection to the database was successful!\")\n",
    "except pymysql.Error as e:\n",
    "    print(f\"An error occurred while connecting to the database: {e}\")\n"
   ]
  },
  {
   "cell_type": "code",
   "execution_count": 3,
   "id": "0f6c06aa",
   "metadata": {},
   "outputs": [],
   "source": [
    "# Some useful functions: \n",
    "\n",
    "\n",
    "# calling this function makes life easy and just need to pass the name of the database I want to make a query on\n",
    "# It serves like USE keyword in SQL\n",
    "\n",
    "def connector (database, password=password, host='localhost', \n",
    "               user='root', charset='utf8mb4',):\n",
    "    \n",
    "    conn = pymysql.connect(\n",
    "                        host=host,\n",
    "                        user=user,\n",
    "                        password=password,\n",
    "                        charset=charset, \n",
    "                        database=database)\n",
    "    \n",
    "    return conn\n",
    "\n",
    "# to get my tables' names in the datanase\n",
    "\n",
    "def table_names (database):\n",
    "    \n",
    "    con = connector(database)\n",
    "    \n",
    "    query = \"SELECT table_name FROM information_schema.tables WHERE table_schema='{}';\".format(database)\n",
    "\n",
    "    # Execute the query and store the results in a Pandas DataFrame\n",
    "    tables = pd.read_sql_query(query, con)\n",
    "\n",
    "    # Print the list of tables\n",
    "    return tables\n",
    "\n",
    "def delete_database(database):\n",
    "    conn = connector(database=None)\n",
    "    cursor = conn.cursor()\n",
    "\n",
    "    # Replace <database_name> with the name of the database you want to delete\n",
    "    database_name = database\n",
    "\n",
    "    # Execute the DROP DATABASE SQL command\n",
    "    cursor.execute(f\"DROP DATABASE {database_name}\")\n",
    "\n",
    "    # Commit the transaction\n",
    "    conn.commit()\n",
    "\n",
    "    # Close the connection\n",
    "    conn.close()\n",
    "\n",
    "def database_creator(database_name):\n",
    "    \n",
    "    conn = connector(database=None)\n",
    "    \n",
    "    # Create a cursor object\n",
    "    cursor = conn.cursor()\n",
    "\n",
    "    # Execute the CREATE DATABASE SQL command\n",
    "    cursor.execute(f\"CREATE DATABASE {database_name}\")\n",
    "\n",
    "    # Commit the transaction\n",
    "    conn.commit()\n",
    "\n",
    "    # Close the connection\n",
    "    conn.close()\n",
    "\n",
    "def insert_data_to_table(database_name, table_name, schema, data):\n",
    "    # Connect to the database\n",
    "    conn = connector(database_name)\n",
    "\n",
    "    # Create a cursor object\n",
    "    cursor = conn.cursor()\n",
    "\n",
    "    # Create the table with the given schema if it does not exist\n",
    "    cursor.execute(f\"CREATE TABLE IF NOT EXISTS {table_name} ({schema})\")\n",
    "\n",
    "    # Truncate the table to remove any existing data\n",
    "    cursor.execute(f\"TRUNCATE TABLE {table_name}\")\n",
    "\n",
    "    # Insert data into the table\n",
    "    for row in data:\n",
    "        placeholders = \",\".join([\"%s\" for _ in range(len(row))])\n",
    "        query = f\"INSERT INTO {table_name} VALUES ({placeholders})\"\n",
    "        cursor.execute(query, row)\n",
    "\n",
    "    # Commit the transaction to save the changes\n",
    "    conn.commit()\n",
    "\n",
    "    # Close the connection\n",
    "    conn.close()\n"
   ]
  },
  {
   "cell_type": "code",
   "execution_count": 71,
   "id": "60270049",
   "metadata": {},
   "outputs": [
    {
     "name": "stdout",
     "output_type": "stream",
     "text": [
      "Leetcode_Q_1378\n",
      "Leetcode_Q_1581\n",
      "Leetcode_Q_1587\n",
      "Leetcode_Q_1683\n",
      "Leetcode_Q_1693\n",
      "Leetcode_Q_1741\n",
      "Leetcode_Q_1757\n",
      "Leetcode_Q_1795\n",
      "Leetcode_Q_2356\n",
      "information_schema\n",
      "invoicing\n",
      "mysql\n",
      "performance_schema\n",
      "sql_hr\n",
      "sql_inventory\n",
      "sql_invoicing\n",
      "sql_store\n",
      "sys\n"
     ]
    }
   ],
   "source": [
    "# How to get the names of all the databases in my MySQL server \n",
    "\n",
    "# I can use the cursor object from my database connection to execute SQL commands and retrieve information \n",
    "# about my databases. Here's an example of how I can use the **SHOW DATABASES** SQL command to retrieve the \n",
    "# names of all databases in my MySQL server using my connector function:\n",
    "\n",
    "\n",
    "# Create a database connection\n",
    "conn = connector(database='sql_store')\n",
    "\n",
    "# Create a cursor object\n",
    "cursor = conn.cursor()\n",
    "\n",
    "# Execute the SHOW DATABASES command\n",
    "cursor.execute('SHOW DATABASES')\n",
    "\n",
    "# Fetch all the results as a list of tuples\n",
    "results = cursor.fetchall()\n",
    "\n",
    "# Print the names of all databases in the MySQL server\n",
    "for row in results:\n",
    "    print(row[0])\n",
    "\n",
    "# Close the cursor and connection\n",
    "cursor.close()\n",
    "conn.close()\n"
   ]
  },
  {
   "cell_type": "code",
   "execution_count": 5,
   "id": "1f406919",
   "metadata": {},
   "outputs": [],
   "source": [
    "delete_database('')"
   ]
  },
  {
   "cell_type": "markdown",
   "id": "adb00eb9",
   "metadata": {},
   "source": [
    "# Leetcode Question 1757: Recyclable and Low Fat Products"
   ]
  },
  {
   "cell_type": "code",
   "execution_count": 13,
   "id": "e8565bbe",
   "metadata": {},
   "outputs": [],
   "source": [
    "database_creator ('Leetcode_Q_1757')"
   ]
  },
  {
   "cell_type": "code",
   "execution_count": null,
   "id": "2c76844e",
   "metadata": {},
   "outputs": [],
   "source": [
    "# here is the SQL Schema for the question 1757 on Leetcode - database \n",
    "\n",
    "Create table If Not Exists Products (product_id int, low_fats ENUM('Y', 'N'), recyclable ENUM('Y','N'))\n",
    "Truncate table Products\n",
    "insert into Products (product_id, low_fats, recyclable) values ('0', 'Y', 'N')\n",
    "insert into Products (product_id, low_fats, recyclable) values ('1', 'Y', 'Y')\n",
    "insert into Products (product_id, low_fats, recyclable) values ('2', 'N', 'Y')\n",
    "insert into Products (product_id, low_fats, recyclable) values ('3', 'Y', 'Y')\n",
    "insert into Products (product_id, low_fats, recyclable) values ('4', 'N', 'N')"
   ]
  },
  {
   "cell_type": "code",
   "execution_count": 16,
   "id": "f5dccf4e",
   "metadata": {},
   "outputs": [],
   "source": [
    "schema = \"product_id int, low_fats ENUM('Y', 'N'), recyclable ENUM('Y', 'N')\"\n",
    "data = [(\"0\", \"Y\", \"N\"), (\"1\", \"Y\", \"Y\"), (\"2\", \"N\", \"Y\"), (\"3\", \"Y\", \"Y\"), (\"4\", \"N\", \"N\")]\n",
    "\n",
    "insert_data_to_table(\"Leetcode_Q_1757\", \"Products\", schema, data)\n"
   ]
  },
  {
   "cell_type": "code",
   "execution_count": 55,
   "id": "77a33b3a",
   "metadata": {},
   "outputs": [
    {
     "name": "stdout",
     "output_type": "stream",
     "text": [
      "  TABLE_NAME\n",
      "0   Products\n"
     ]
    }
   ],
   "source": [
    "print (table_names('Leetcode_Q_1757'))"
   ]
  },
  {
   "cell_type": "code",
   "execution_count": 19,
   "id": "1d818c01",
   "metadata": {},
   "outputs": [],
   "source": [
    "con = connector('Leetcode_Q_1757')"
   ]
  },
  {
   "cell_type": "code",
   "execution_count": 20,
   "id": "486da49c",
   "metadata": {},
   "outputs": [
    {
     "data": {
      "text/html": [
       "<div>\n",
       "<style scoped>\n",
       "    .dataframe tbody tr th:only-of-type {\n",
       "        vertical-align: middle;\n",
       "    }\n",
       "\n",
       "    .dataframe tbody tr th {\n",
       "        vertical-align: top;\n",
       "    }\n",
       "\n",
       "    .dataframe thead th {\n",
       "        text-align: right;\n",
       "    }\n",
       "</style>\n",
       "<table border=\"1\" class=\"dataframe\">\n",
       "  <thead>\n",
       "    <tr style=\"text-align: right;\">\n",
       "      <th></th>\n",
       "      <th>product_id</th>\n",
       "      <th>low_fats</th>\n",
       "      <th>recyclable</th>\n",
       "    </tr>\n",
       "  </thead>\n",
       "  <tbody>\n",
       "    <tr>\n",
       "      <th>0</th>\n",
       "      <td>0</td>\n",
       "      <td>Y</td>\n",
       "      <td>N</td>\n",
       "    </tr>\n",
       "    <tr>\n",
       "      <th>1</th>\n",
       "      <td>1</td>\n",
       "      <td>Y</td>\n",
       "      <td>Y</td>\n",
       "    </tr>\n",
       "    <tr>\n",
       "      <th>2</th>\n",
       "      <td>2</td>\n",
       "      <td>N</td>\n",
       "      <td>Y</td>\n",
       "    </tr>\n",
       "    <tr>\n",
       "      <th>3</th>\n",
       "      <td>3</td>\n",
       "      <td>Y</td>\n",
       "      <td>Y</td>\n",
       "    </tr>\n",
       "    <tr>\n",
       "      <th>4</th>\n",
       "      <td>4</td>\n",
       "      <td>N</td>\n",
       "      <td>N</td>\n",
       "    </tr>\n",
       "  </tbody>\n",
       "</table>\n",
       "</div>"
      ],
      "text/plain": [
       "   product_id low_fats recyclable\n",
       "0           0        Y          N\n",
       "1           1        Y          Y\n",
       "2           2        N          Y\n",
       "3           3        Y          Y\n",
       "4           4        N          N"
      ]
     },
     "execution_count": 20,
     "metadata": {},
     "output_type": "execute_result"
    }
   ],
   "source": [
    "pd.read_sql(\"SELECT *\\\n",
    "            FROM Products p\", con)"
   ]
  },
  {
   "cell_type": "code",
   "execution_count": 21,
   "id": "088b6d8d",
   "metadata": {},
   "outputs": [
    {
     "data": {
      "text/html": [
       "<div>\n",
       "<style scoped>\n",
       "    .dataframe tbody tr th:only-of-type {\n",
       "        vertical-align: middle;\n",
       "    }\n",
       "\n",
       "    .dataframe tbody tr th {\n",
       "        vertical-align: top;\n",
       "    }\n",
       "\n",
       "    .dataframe thead th {\n",
       "        text-align: right;\n",
       "    }\n",
       "</style>\n",
       "<table border=\"1\" class=\"dataframe\">\n",
       "  <thead>\n",
       "    <tr style=\"text-align: right;\">\n",
       "      <th></th>\n",
       "      <th>product_id</th>\n",
       "    </tr>\n",
       "  </thead>\n",
       "  <tbody>\n",
       "    <tr>\n",
       "      <th>0</th>\n",
       "      <td>1</td>\n",
       "    </tr>\n",
       "    <tr>\n",
       "      <th>1</th>\n",
       "      <td>3</td>\n",
       "    </tr>\n",
       "  </tbody>\n",
       "</table>\n",
       "</div>"
      ],
      "text/plain": [
       "   product_id\n",
       "0           1\n",
       "1           3"
      ]
     },
     "execution_count": 21,
     "metadata": {},
     "output_type": "execute_result"
    }
   ],
   "source": [
    "pd.read_sql(\"SELECT p.product_id\\\n",
    "            FROM Products p\\\n",
    "            WHERE low_fats = 'Y' AND recyclable = 'Y'\", con)"
   ]
  },
  {
   "cell_type": "markdown",
   "id": "950fa672",
   "metadata": {},
   "source": [
    "# Leetcode Question 1378: Replace Employee ID With The Unique Identifier "
   ]
  },
  {
   "cell_type": "code",
   "execution_count": null,
   "id": "0ec06c5b",
   "metadata": {},
   "outputs": [],
   "source": [
    "Create table If Not Exists Employees (id int, name varchar(20))\n",
    "Create table If Not Exists EmployeeUNI (id int, unique_id int)\n",
    "Truncate table Employees\n",
    "insert into Employees (id, name) values ('1', 'Alice')\n",
    "insert into Employees (id, name) values ('7', 'Bob')\n",
    "insert into Employees (id, name) values ('11', 'Meir')\n",
    "insert into Employees (id, name) values ('90', 'Winston')\n",
    "insert into Employees (id, name) values ('3', 'Jonathan')\n",
    "Truncate table EmployeeUNI\n",
    "insert into EmployeeUNI (id, unique_id) values ('3', '1')\n",
    "insert into EmployeeUNI (id, unique_id) values ('11', '2')\n",
    "insert into EmployeeUNI (id, unique_id) values ('90', '3')"
   ]
  },
  {
   "cell_type": "code",
   "execution_count": null,
   "id": "6eb63011",
   "metadata": {},
   "outputs": [],
   "source": [
    "database_creator('Leetcode_Q_1378')"
   ]
  },
  {
   "cell_type": "code",
   "execution_count": 34,
   "id": "1dc846af",
   "metadata": {},
   "outputs": [],
   "source": [
    "schema = \"id int, name varchar(20)\"\n",
    "data = [('1', 'Alice'), ('7', 'Bob'), ('11', 'Meir'), ('90', 'Winston'), ('3', 'Jonathan')]\n",
    "\n",
    "insert_data_to_table(\"Leetcode_Q_1378\", \"Employees\", schema, data)"
   ]
  },
  {
   "cell_type": "code",
   "execution_count": 35,
   "id": "7ed1e28d",
   "metadata": {},
   "outputs": [],
   "source": [
    "schema = \"id int, unique_id int\"\n",
    "data = [('3', '1'), ('11', '2'), ('90', '3')]\n",
    "\n",
    "insert_data_to_table(\"Leetcode_Q_1378\", \"EmployeeUNI\", schema, data)"
   ]
  },
  {
   "cell_type": "code",
   "execution_count": 56,
   "id": "4fca18e3",
   "metadata": {},
   "outputs": [
    {
     "name": "stdout",
     "output_type": "stream",
     "text": [
      "    TABLE_NAME\n",
      "0  EmployeeUNI\n",
      "1    Employees\n"
     ]
    }
   ],
   "source": [
    "print (table_names('Leetcode_Q_1378'))"
   ]
  },
  {
   "cell_type": "code",
   "execution_count": 38,
   "id": "83da5022",
   "metadata": {},
   "outputs": [
    {
     "data": {
      "text/html": [
       "<div>\n",
       "<style scoped>\n",
       "    .dataframe tbody tr th:only-of-type {\n",
       "        vertical-align: middle;\n",
       "    }\n",
       "\n",
       "    .dataframe tbody tr th {\n",
       "        vertical-align: top;\n",
       "    }\n",
       "\n",
       "    .dataframe thead th {\n",
       "        text-align: right;\n",
       "    }\n",
       "</style>\n",
       "<table border=\"1\" class=\"dataframe\">\n",
       "  <thead>\n",
       "    <tr style=\"text-align: right;\">\n",
       "      <th></th>\n",
       "      <th>id</th>\n",
       "      <th>name</th>\n",
       "    </tr>\n",
       "  </thead>\n",
       "  <tbody>\n",
       "    <tr>\n",
       "      <th>0</th>\n",
       "      <td>1</td>\n",
       "      <td>Alice</td>\n",
       "    </tr>\n",
       "    <tr>\n",
       "      <th>1</th>\n",
       "      <td>7</td>\n",
       "      <td>Bob</td>\n",
       "    </tr>\n",
       "    <tr>\n",
       "      <th>2</th>\n",
       "      <td>11</td>\n",
       "      <td>Meir</td>\n",
       "    </tr>\n",
       "    <tr>\n",
       "      <th>3</th>\n",
       "      <td>90</td>\n",
       "      <td>Winston</td>\n",
       "    </tr>\n",
       "    <tr>\n",
       "      <th>4</th>\n",
       "      <td>3</td>\n",
       "      <td>Jonathan</td>\n",
       "    </tr>\n",
       "  </tbody>\n",
       "</table>\n",
       "</div>"
      ],
      "text/plain": [
       "   id      name\n",
       "0   1     Alice\n",
       "1   7       Bob\n",
       "2  11      Meir\n",
       "3  90   Winston\n",
       "4   3  Jonathan"
      ]
     },
     "execution_count": 38,
     "metadata": {},
     "output_type": "execute_result"
    }
   ],
   "source": [
    "con = connector('Leetcode_Q_1378')\n",
    "pd.read_sql(\"SELECT *\\\n",
    "            FROM Employees\", con)"
   ]
  },
  {
   "cell_type": "code",
   "execution_count": 39,
   "id": "fc6b3303",
   "metadata": {},
   "outputs": [
    {
     "data": {
      "text/html": [
       "<div>\n",
       "<style scoped>\n",
       "    .dataframe tbody tr th:only-of-type {\n",
       "        vertical-align: middle;\n",
       "    }\n",
       "\n",
       "    .dataframe tbody tr th {\n",
       "        vertical-align: top;\n",
       "    }\n",
       "\n",
       "    .dataframe thead th {\n",
       "        text-align: right;\n",
       "    }\n",
       "</style>\n",
       "<table border=\"1\" class=\"dataframe\">\n",
       "  <thead>\n",
       "    <tr style=\"text-align: right;\">\n",
       "      <th></th>\n",
       "      <th>id</th>\n",
       "      <th>unique_id</th>\n",
       "    </tr>\n",
       "  </thead>\n",
       "  <tbody>\n",
       "    <tr>\n",
       "      <th>0</th>\n",
       "      <td>3</td>\n",
       "      <td>1</td>\n",
       "    </tr>\n",
       "    <tr>\n",
       "      <th>1</th>\n",
       "      <td>11</td>\n",
       "      <td>2</td>\n",
       "    </tr>\n",
       "    <tr>\n",
       "      <th>2</th>\n",
       "      <td>90</td>\n",
       "      <td>3</td>\n",
       "    </tr>\n",
       "  </tbody>\n",
       "</table>\n",
       "</div>"
      ],
      "text/plain": [
       "   id  unique_id\n",
       "0   3          1\n",
       "1  11          2\n",
       "2  90          3"
      ]
     },
     "execution_count": 39,
     "metadata": {},
     "output_type": "execute_result"
    }
   ],
   "source": [
    "pd.read_sql(\"SELECT *\\\n",
    "            FROM EmployeeUNI\", con)"
   ]
  },
  {
   "cell_type": "code",
   "execution_count": 49,
   "id": "5ca46bf2",
   "metadata": {},
   "outputs": [
    {
     "data": {
      "text/html": [
       "<div>\n",
       "<style scoped>\n",
       "    .dataframe tbody tr th:only-of-type {\n",
       "        vertical-align: middle;\n",
       "    }\n",
       "\n",
       "    .dataframe tbody tr th {\n",
       "        vertical-align: top;\n",
       "    }\n",
       "\n",
       "    .dataframe thead th {\n",
       "        text-align: right;\n",
       "    }\n",
       "</style>\n",
       "<table border=\"1\" class=\"dataframe\">\n",
       "  <thead>\n",
       "    <tr style=\"text-align: right;\">\n",
       "      <th></th>\n",
       "      <th>unique_id</th>\n",
       "      <th>name</th>\n",
       "    </tr>\n",
       "  </thead>\n",
       "  <tbody>\n",
       "    <tr>\n",
       "      <th>0</th>\n",
       "      <td>NaN</td>\n",
       "      <td>Alice</td>\n",
       "    </tr>\n",
       "    <tr>\n",
       "      <th>1</th>\n",
       "      <td>NaN</td>\n",
       "      <td>Bob</td>\n",
       "    </tr>\n",
       "    <tr>\n",
       "      <th>2</th>\n",
       "      <td>2.0</td>\n",
       "      <td>Meir</td>\n",
       "    </tr>\n",
       "    <tr>\n",
       "      <th>3</th>\n",
       "      <td>3.0</td>\n",
       "      <td>Winston</td>\n",
       "    </tr>\n",
       "    <tr>\n",
       "      <th>4</th>\n",
       "      <td>1.0</td>\n",
       "      <td>Jonathan</td>\n",
       "    </tr>\n",
       "  </tbody>\n",
       "</table>\n",
       "</div>"
      ],
      "text/plain": [
       "   unique_id      name\n",
       "0        NaN     Alice\n",
       "1        NaN       Bob\n",
       "2        2.0      Meir\n",
       "3        3.0   Winston\n",
       "4        1.0  Jonathan"
      ]
     },
     "execution_count": 49,
     "metadata": {},
     "output_type": "execute_result"
    }
   ],
   "source": [
    "pd.read_sql(\"\"\"\n",
    "SELECT \n",
    "    euni.unique_id, \n",
    "    e.name\n",
    "FROM Employees e\n",
    "LEFT JOIN EmployeeUNI euni\n",
    "    USING (id)\n",
    "\"\"\", con)"
   ]
  },
  {
   "cell_type": "markdown",
   "id": "66981e35",
   "metadata": {},
   "source": [
    "# Leetcode Question 1683: Invalid Tweets"
   ]
  },
  {
   "cell_type": "code",
   "execution_count": null,
   "id": "805e29e3",
   "metadata": {},
   "outputs": [],
   "source": [
    "Create table If Not Exists Tweets(tweet_id int, content varchar(50))\n",
    "Truncate table Tweets\n",
    "insert into Tweets (tweet_id, content) values ('1', 'Vote for Biden')\n",
    "insert into Tweets (tweet_id, content) values ('2', 'Let us make America great again!')"
   ]
  },
  {
   "cell_type": "code",
   "execution_count": 6,
   "id": "1c84b908",
   "metadata": {},
   "outputs": [],
   "source": [
    "database_creator('Leetcode_Q_1683')"
   ]
  },
  {
   "cell_type": "code",
   "execution_count": 7,
   "id": "8cced810",
   "metadata": {},
   "outputs": [],
   "source": [
    "schema = \"tweet_id int, content varchar(50)\"\n",
    "data = [('1', \"Vote for Biden\"), ('2', \"Let us make America great again!\")]\n",
    "\n",
    "insert_data_to_table(\"Leetcode_Q_1683\", \"Tweets\", schema, data)"
   ]
  },
  {
   "cell_type": "code",
   "execution_count": 8,
   "id": "27487296",
   "metadata": {},
   "outputs": [
    {
     "name": "stdout",
     "output_type": "stream",
     "text": [
      "  TABLE_NAME\n",
      "0     Tweets\n"
     ]
    }
   ],
   "source": [
    "print(table_names('Leetcode_Q_1683'))"
   ]
  },
  {
   "cell_type": "code",
   "execution_count": 9,
   "id": "73c48985",
   "metadata": {},
   "outputs": [],
   "source": [
    "con = connector('Leetcode_Q_1683')"
   ]
  },
  {
   "cell_type": "code",
   "execution_count": 10,
   "id": "49dcf3c8",
   "metadata": {},
   "outputs": [
    {
     "data": {
      "text/html": [
       "<div>\n",
       "<style scoped>\n",
       "    .dataframe tbody tr th:only-of-type {\n",
       "        vertical-align: middle;\n",
       "    }\n",
       "\n",
       "    .dataframe tbody tr th {\n",
       "        vertical-align: top;\n",
       "    }\n",
       "\n",
       "    .dataframe thead th {\n",
       "        text-align: right;\n",
       "    }\n",
       "</style>\n",
       "<table border=\"1\" class=\"dataframe\">\n",
       "  <thead>\n",
       "    <tr style=\"text-align: right;\">\n",
       "      <th></th>\n",
       "      <th>tweet_id</th>\n",
       "      <th>content</th>\n",
       "    </tr>\n",
       "  </thead>\n",
       "  <tbody>\n",
       "    <tr>\n",
       "      <th>0</th>\n",
       "      <td>1</td>\n",
       "      <td>Vote for Biden</td>\n",
       "    </tr>\n",
       "    <tr>\n",
       "      <th>1</th>\n",
       "      <td>2</td>\n",
       "      <td>Let us make America great again!</td>\n",
       "    </tr>\n",
       "  </tbody>\n",
       "</table>\n",
       "</div>"
      ],
      "text/plain": [
       "   tweet_id                           content\n",
       "0         1                    Vote for Biden\n",
       "1         2  Let us make America great again!"
      ]
     },
     "execution_count": 10,
     "metadata": {},
     "output_type": "execute_result"
    }
   ],
   "source": [
    "pd.read_sql(\"\"\"\n",
    "SELECT *\n",
    "FROM Tweets\n",
    "\"\"\", con)"
   ]
  },
  {
   "cell_type": "code",
   "execution_count": 15,
   "id": "0511dc25",
   "metadata": {},
   "outputs": [
    {
     "data": {
      "text/html": [
       "<div>\n",
       "<style scoped>\n",
       "    .dataframe tbody tr th:only-of-type {\n",
       "        vertical-align: middle;\n",
       "    }\n",
       "\n",
       "    .dataframe tbody tr th {\n",
       "        vertical-align: top;\n",
       "    }\n",
       "\n",
       "    .dataframe thead th {\n",
       "        text-align: right;\n",
       "    }\n",
       "</style>\n",
       "<table border=\"1\" class=\"dataframe\">\n",
       "  <thead>\n",
       "    <tr style=\"text-align: right;\">\n",
       "      <th></th>\n",
       "      <th>tweet_id</th>\n",
       "    </tr>\n",
       "  </thead>\n",
       "  <tbody>\n",
       "    <tr>\n",
       "      <th>0</th>\n",
       "      <td>2</td>\n",
       "    </tr>\n",
       "  </tbody>\n",
       "</table>\n",
       "</div>"
      ],
      "text/plain": [
       "   tweet_id\n",
       "0         2"
      ]
     },
     "execution_count": 15,
     "metadata": {},
     "output_type": "execute_result"
    }
   ],
   "source": [
    "pd.read_sql(\"\"\"\n",
    "SELECT tweet_id\n",
    "FROM Tweets\n",
    "WHERE LENGTH(content) > 15\n",
    "\"\"\", con)"
   ]
  },
  {
   "cell_type": "markdown",
   "id": "aa5e18ba",
   "metadata": {},
   "source": [
    "# Leetcode Question 1741: Find Total Time Spent by Each Employee"
   ]
  },
  {
   "cell_type": "code",
   "execution_count": null,
   "id": "5dc0d40c",
   "metadata": {},
   "outputs": [],
   "source": [
    "Create table If Not Exists Employees(emp_id int, event_day date, in_time int, out_time int)\n",
    "Truncate table Employees\n",
    "insert into Employees (emp_id, event_day, in_time, out_time) values ('1', '2020-11-28', '4', '32')\n",
    "insert into Employees (emp_id, event_day, in_time, out_time) values ('1', '2020-11-28', '55', '200')\n",
    "insert into Employees (emp_id, event_day, in_time, out_time) values ('1', '2020-12-3', '1', '42')\n",
    "insert into Employees (emp_id, event_day, in_time, out_time) values ('2', '2020-11-28', '3', '33')\n",
    "insert into Employees (emp_id, event_day, in_time, out_time) values ('2', '2020-12-9', '47', '74')"
   ]
  },
  {
   "cell_type": "code",
   "execution_count": 17,
   "id": "476df030",
   "metadata": {},
   "outputs": [],
   "source": [
    "database_creator('Leetcode_Q_1741')"
   ]
  },
  {
   "cell_type": "code",
   "execution_count": 18,
   "id": "df9e7a31",
   "metadata": {},
   "outputs": [],
   "source": [
    "schema = \"emp_id int, event_day date, in_time int, out_time int\"\n",
    "data = [('1', '2020-11-28', '4', '32'), ('1', '2020-11-28', '55', '200'), ('1', '2020-12-3', '1', '42'),\n",
    "       ('2', '2020-11-28', '3', '33'), ('2', '2020-12-9', '47', '74')]\n",
    "\n",
    "insert_data_to_table(\"Leetcode_Q_1741\", \"Employees\", schema, data)"
   ]
  },
  {
   "cell_type": "code",
   "execution_count": 19,
   "id": "28f65fd1",
   "metadata": {},
   "outputs": [
    {
     "name": "stdout",
     "output_type": "stream",
     "text": [
      "  TABLE_NAME\n",
      "0  Employees\n"
     ]
    }
   ],
   "source": [
    "print(table_names('Leetcode_Q_1741'))"
   ]
  },
  {
   "cell_type": "code",
   "execution_count": 20,
   "id": "5b4bbfd9",
   "metadata": {},
   "outputs": [],
   "source": [
    "con = connector('Leetcode_Q_1741')"
   ]
  },
  {
   "cell_type": "code",
   "execution_count": 21,
   "id": "7cb0e88f",
   "metadata": {},
   "outputs": [
    {
     "data": {
      "text/html": [
       "<div>\n",
       "<style scoped>\n",
       "    .dataframe tbody tr th:only-of-type {\n",
       "        vertical-align: middle;\n",
       "    }\n",
       "\n",
       "    .dataframe tbody tr th {\n",
       "        vertical-align: top;\n",
       "    }\n",
       "\n",
       "    .dataframe thead th {\n",
       "        text-align: right;\n",
       "    }\n",
       "</style>\n",
       "<table border=\"1\" class=\"dataframe\">\n",
       "  <thead>\n",
       "    <tr style=\"text-align: right;\">\n",
       "      <th></th>\n",
       "      <th>emp_id</th>\n",
       "      <th>event_day</th>\n",
       "      <th>in_time</th>\n",
       "      <th>out_time</th>\n",
       "    </tr>\n",
       "  </thead>\n",
       "  <tbody>\n",
       "    <tr>\n",
       "      <th>0</th>\n",
       "      <td>1</td>\n",
       "      <td>2020-11-28</td>\n",
       "      <td>4</td>\n",
       "      <td>32</td>\n",
       "    </tr>\n",
       "    <tr>\n",
       "      <th>1</th>\n",
       "      <td>1</td>\n",
       "      <td>2020-11-28</td>\n",
       "      <td>55</td>\n",
       "      <td>200</td>\n",
       "    </tr>\n",
       "    <tr>\n",
       "      <th>2</th>\n",
       "      <td>1</td>\n",
       "      <td>2020-12-03</td>\n",
       "      <td>1</td>\n",
       "      <td>42</td>\n",
       "    </tr>\n",
       "    <tr>\n",
       "      <th>3</th>\n",
       "      <td>2</td>\n",
       "      <td>2020-11-28</td>\n",
       "      <td>3</td>\n",
       "      <td>33</td>\n",
       "    </tr>\n",
       "    <tr>\n",
       "      <th>4</th>\n",
       "      <td>2</td>\n",
       "      <td>2020-12-09</td>\n",
       "      <td>47</td>\n",
       "      <td>74</td>\n",
       "    </tr>\n",
       "  </tbody>\n",
       "</table>\n",
       "</div>"
      ],
      "text/plain": [
       "   emp_id   event_day  in_time  out_time\n",
       "0       1  2020-11-28        4        32\n",
       "1       1  2020-11-28       55       200\n",
       "2       1  2020-12-03        1        42\n",
       "3       2  2020-11-28        3        33\n",
       "4       2  2020-12-09       47        74"
      ]
     },
     "execution_count": 21,
     "metadata": {},
     "output_type": "execute_result"
    }
   ],
   "source": [
    "pd.read_sql(\"\"\"\n",
    "SELECT *\n",
    "FROM Employees\n",
    "\"\"\", con)"
   ]
  },
  {
   "cell_type": "code",
   "execution_count": 30,
   "id": "441b9096",
   "metadata": {},
   "outputs": [
    {
     "data": {
      "text/html": [
       "<div>\n",
       "<style scoped>\n",
       "    .dataframe tbody tr th:only-of-type {\n",
       "        vertical-align: middle;\n",
       "    }\n",
       "\n",
       "    .dataframe tbody tr th {\n",
       "        vertical-align: top;\n",
       "    }\n",
       "\n",
       "    .dataframe thead th {\n",
       "        text-align: right;\n",
       "    }\n",
       "</style>\n",
       "<table border=\"1\" class=\"dataframe\">\n",
       "  <thead>\n",
       "    <tr style=\"text-align: right;\">\n",
       "      <th></th>\n",
       "      <th>day</th>\n",
       "      <th>emp_id</th>\n",
       "      <th>total_time</th>\n",
       "    </tr>\n",
       "  </thead>\n",
       "  <tbody>\n",
       "    <tr>\n",
       "      <th>0</th>\n",
       "      <td>2020-11-28</td>\n",
       "      <td>1</td>\n",
       "      <td>173.0</td>\n",
       "    </tr>\n",
       "    <tr>\n",
       "      <th>1</th>\n",
       "      <td>2020-11-28</td>\n",
       "      <td>2</td>\n",
       "      <td>30.0</td>\n",
       "    </tr>\n",
       "    <tr>\n",
       "      <th>2</th>\n",
       "      <td>2020-12-03</td>\n",
       "      <td>1</td>\n",
       "      <td>41.0</td>\n",
       "    </tr>\n",
       "    <tr>\n",
       "      <th>3</th>\n",
       "      <td>2020-12-09</td>\n",
       "      <td>2</td>\n",
       "      <td>27.0</td>\n",
       "    </tr>\n",
       "  </tbody>\n",
       "</table>\n",
       "</div>"
      ],
      "text/plain": [
       "          day  emp_id  total_time\n",
       "0  2020-11-28       1       173.0\n",
       "1  2020-11-28       2        30.0\n",
       "2  2020-12-03       1        41.0\n",
       "3  2020-12-09       2        27.0"
      ]
     },
     "execution_count": 30,
     "metadata": {},
     "output_type": "execute_result"
    }
   ],
   "source": [
    "pd.read_sql(\"\"\"\n",
    "SELECT \n",
    "    event_day AS day,\n",
    "    emp_id, \n",
    "    SUM(out_time - in_time) AS total_time\n",
    "FROM Employees\n",
    "GROUP BY event_day, emp_id\n",
    "ORDER BY event_day\n",
    "\"\"\", con)"
   ]
  },
  {
   "cell_type": "markdown",
   "id": "27db63aa",
   "metadata": {},
   "source": [
    "# Leetcode Question 2356: Number of Unique Subjects Taught by Each Teacher"
   ]
  },
  {
   "cell_type": "code",
   "execution_count": null,
   "id": "b6484035",
   "metadata": {},
   "outputs": [],
   "source": [
    "Create table If Not Exists Teacher (teacher_id int, subject_id int, dept_id int)\n",
    "Truncate table Teacher\n",
    "insert into Teacher (teacher_id, subject_id, dept_id) values ('1', '2', '3')\n",
    "insert into Teacher (teacher_id, subject_id, dept_id) values ('1', '2', '4')\n",
    "insert into Teacher (teacher_id, subject_id, dept_id) values ('1', '3', '3')\n",
    "insert into Teacher (teacher_id, subject_id, dept_id) values ('2', '1', '1')\n",
    "insert into Teacher (teacher_id, subject_id, dept_id) values ('2', '2', '1')\n",
    "insert into Teacher (teacher_id, subject_id, dept_id) values ('2', '3', '1')\n",
    "insert into Teacher (teacher_id, subject_id, dept_id) values ('2', '4', '1')"
   ]
  },
  {
   "cell_type": "code",
   "execution_count": 31,
   "id": "604046c3",
   "metadata": {},
   "outputs": [],
   "source": [
    "database_creator('Leetcode_Q_2356')"
   ]
  },
  {
   "cell_type": "code",
   "execution_count": 32,
   "id": "918f5f68",
   "metadata": {},
   "outputs": [],
   "source": [
    "schema = \"teacher_id int, subject_id int, dept_id int\"\n",
    "data = [('1', '2', '3'),\n",
    "       ('1', '2', '4'),\n",
    "       ('1', '3', '3'),\n",
    "       ('2', '1', '1'),\n",
    "       ('2', '2', '1'),\n",
    "       ('2', '3', '1'),\n",
    "       ('2', '4', '1')]\n",
    "\n",
    "insert_data_to_table(\"Leetcode_Q_2356\", \"Teacher\", schema, data)"
   ]
  },
  {
   "cell_type": "code",
   "execution_count": 33,
   "id": "28c0d6dc",
   "metadata": {},
   "outputs": [],
   "source": [
    "con = connector('Leetcode_Q_2356')"
   ]
  },
  {
   "cell_type": "code",
   "execution_count": 34,
   "id": "a8fbd365",
   "metadata": {},
   "outputs": [
    {
     "data": {
      "text/html": [
       "<div>\n",
       "<style scoped>\n",
       "    .dataframe tbody tr th:only-of-type {\n",
       "        vertical-align: middle;\n",
       "    }\n",
       "\n",
       "    .dataframe tbody tr th {\n",
       "        vertical-align: top;\n",
       "    }\n",
       "\n",
       "    .dataframe thead th {\n",
       "        text-align: right;\n",
       "    }\n",
       "</style>\n",
       "<table border=\"1\" class=\"dataframe\">\n",
       "  <thead>\n",
       "    <tr style=\"text-align: right;\">\n",
       "      <th></th>\n",
       "      <th>teacher_id</th>\n",
       "      <th>subject_id</th>\n",
       "      <th>dept_id</th>\n",
       "    </tr>\n",
       "  </thead>\n",
       "  <tbody>\n",
       "    <tr>\n",
       "      <th>0</th>\n",
       "      <td>1</td>\n",
       "      <td>2</td>\n",
       "      <td>3</td>\n",
       "    </tr>\n",
       "    <tr>\n",
       "      <th>1</th>\n",
       "      <td>1</td>\n",
       "      <td>2</td>\n",
       "      <td>4</td>\n",
       "    </tr>\n",
       "    <tr>\n",
       "      <th>2</th>\n",
       "      <td>1</td>\n",
       "      <td>3</td>\n",
       "      <td>3</td>\n",
       "    </tr>\n",
       "    <tr>\n",
       "      <th>3</th>\n",
       "      <td>2</td>\n",
       "      <td>1</td>\n",
       "      <td>1</td>\n",
       "    </tr>\n",
       "    <tr>\n",
       "      <th>4</th>\n",
       "      <td>2</td>\n",
       "      <td>2</td>\n",
       "      <td>1</td>\n",
       "    </tr>\n",
       "    <tr>\n",
       "      <th>5</th>\n",
       "      <td>2</td>\n",
       "      <td>3</td>\n",
       "      <td>1</td>\n",
       "    </tr>\n",
       "    <tr>\n",
       "      <th>6</th>\n",
       "      <td>2</td>\n",
       "      <td>4</td>\n",
       "      <td>1</td>\n",
       "    </tr>\n",
       "  </tbody>\n",
       "</table>\n",
       "</div>"
      ],
      "text/plain": [
       "   teacher_id  subject_id  dept_id\n",
       "0           1           2        3\n",
       "1           1           2        4\n",
       "2           1           3        3\n",
       "3           2           1        1\n",
       "4           2           2        1\n",
       "5           2           3        1\n",
       "6           2           4        1"
      ]
     },
     "execution_count": 34,
     "metadata": {},
     "output_type": "execute_result"
    }
   ],
   "source": [
    "pd.read_sql(\"\"\"\n",
    "SELECT *\n",
    "FROM Teacher\n",
    "\"\"\", con)"
   ]
  },
  {
   "cell_type": "code",
   "execution_count": 57,
   "id": "656184fd",
   "metadata": {},
   "outputs": [
    {
     "data": {
      "text/html": [
       "<div>\n",
       "<style scoped>\n",
       "    .dataframe tbody tr th:only-of-type {\n",
       "        vertical-align: middle;\n",
       "    }\n",
       "\n",
       "    .dataframe tbody tr th {\n",
       "        vertical-align: top;\n",
       "    }\n",
       "\n",
       "    .dataframe thead th {\n",
       "        text-align: right;\n",
       "    }\n",
       "</style>\n",
       "<table border=\"1\" class=\"dataframe\">\n",
       "  <thead>\n",
       "    <tr style=\"text-align: right;\">\n",
       "      <th></th>\n",
       "      <th>teacher_id</th>\n",
       "      <th>cnt</th>\n",
       "    </tr>\n",
       "  </thead>\n",
       "  <tbody>\n",
       "    <tr>\n",
       "      <th>0</th>\n",
       "      <td>1</td>\n",
       "      <td>2</td>\n",
       "    </tr>\n",
       "    <tr>\n",
       "      <th>1</th>\n",
       "      <td>2</td>\n",
       "      <td>4</td>\n",
       "    </tr>\n",
       "  </tbody>\n",
       "</table>\n",
       "</div>"
      ],
      "text/plain": [
       "   teacher_id  cnt\n",
       "0           1    2\n",
       "1           2    4"
      ]
     },
     "execution_count": 57,
     "metadata": {},
     "output_type": "execute_result"
    }
   ],
   "source": [
    "pd.read_sql(\"\"\"\n",
    "SELECT \n",
    "    teacher_id,\n",
    "    COUNT(DISTINCT subject_id) AS cnt\n",
    "FROM Teacher\n",
    "GROUP BY teacher_id\n",
    "\"\"\", con)"
   ]
  },
  {
   "cell_type": "markdown",
   "id": "c7ee4441",
   "metadata": {},
   "source": [
    "# Leetcode Question 1693: Daily Leads and Partners"
   ]
  },
  {
   "cell_type": "code",
   "execution_count": null,
   "id": "a72eacd5",
   "metadata": {},
   "outputs": [],
   "source": [
    "Create table If Not Exists DailySales(date_id date, make_name varchar(20), lead_id int, partner_id int)\n",
    "Truncate table DailySales\n",
    "insert into DailySales (date_id, make_name, lead_id, partner_id) values ('2020-12-8', 'toyota', '0', '1')\n",
    "insert into DailySales (date_id, make_name, lead_id, partner_id) values ('2020-12-8', 'toyota', '1', '0')\n",
    "insert into DailySales (date_id, make_name, lead_id, partner_id) values ('2020-12-8', 'toyota', '1', '2')\n",
    "insert into DailySales (date_id, make_name, lead_id, partner_id) values ('2020-12-7', 'toyota', '0', '2')\n",
    "insert into DailySales (date_id, make_name, lead_id, partner_id) values ('2020-12-7', 'toyota', '0', '1')\n",
    "insert into DailySales (date_id, make_name, lead_id, partner_id) values ('2020-12-8', 'honda', '1', '2')\n",
    "insert into DailySales (date_id, make_name, lead_id, partner_id) values ('2020-12-8', 'honda', '2', '1')\n",
    "insert into DailySales (date_id, make_name, lead_id, partner_id) values ('2020-12-7', 'honda', '0', '1')\n",
    "insert into DailySales (date_id, make_name, lead_id, partner_id) values ('2020-12-7', 'honda', '1', '2')\n",
    "insert into DailySales (date_id, make_name, lead_id, partner_id) values ('2020-12-7', 'honda', '2', '1')"
   ]
  },
  {
   "cell_type": "code",
   "execution_count": 59,
   "id": "134a5eb7",
   "metadata": {},
   "outputs": [],
   "source": [
    "database_creator('Leetcode_Q_1693')"
   ]
  },
  {
   "cell_type": "code",
   "execution_count": 60,
   "id": "aa62faab",
   "metadata": {},
   "outputs": [],
   "source": [
    "schema = \"date_id date, make_name varchar(20), lead_id int, partner_id int\"\n",
    "data = [ ('2020-12-8', 'toyota', '0', '1'),\n",
    "         ('2020-12-8', 'toyota', '1', '0'), \n",
    "         ('2020-12-8', 'toyota', '1', '2'), \n",
    "         ('2020-12-7', 'toyota', '0', '2'),\n",
    "         ('2020-12-7', 'toyota', '0', '1'),\n",
    "         ('2020-12-8', 'honda', '1', '2'),\n",
    "         ('2020-12-8', 'honda', '2', '1'),\n",
    "         ('2020-12-7', 'honda', '0', '1'),\n",
    "         ('2020-12-7', 'honda', '1', '2'),\n",
    "         ('2020-12-7', 'honda', '2', '1')]\n",
    "\n",
    "insert_data_to_table(\"Leetcode_Q_1693\", \"DailySales\", schema, data)"
   ]
  },
  {
   "cell_type": "code",
   "execution_count": 61,
   "id": "29127402",
   "metadata": {},
   "outputs": [],
   "source": [
    "con = connector('Leetcode_Q_1693')"
   ]
  },
  {
   "cell_type": "code",
   "execution_count": 62,
   "id": "b738db5d",
   "metadata": {},
   "outputs": [
    {
     "data": {
      "text/html": [
       "<div>\n",
       "<style scoped>\n",
       "    .dataframe tbody tr th:only-of-type {\n",
       "        vertical-align: middle;\n",
       "    }\n",
       "\n",
       "    .dataframe tbody tr th {\n",
       "        vertical-align: top;\n",
       "    }\n",
       "\n",
       "    .dataframe thead th {\n",
       "        text-align: right;\n",
       "    }\n",
       "</style>\n",
       "<table border=\"1\" class=\"dataframe\">\n",
       "  <thead>\n",
       "    <tr style=\"text-align: right;\">\n",
       "      <th></th>\n",
       "      <th>date_id</th>\n",
       "      <th>make_name</th>\n",
       "      <th>lead_id</th>\n",
       "      <th>partner_id</th>\n",
       "    </tr>\n",
       "  </thead>\n",
       "  <tbody>\n",
       "    <tr>\n",
       "      <th>0</th>\n",
       "      <td>2020-12-08</td>\n",
       "      <td>toyota</td>\n",
       "      <td>0</td>\n",
       "      <td>1</td>\n",
       "    </tr>\n",
       "    <tr>\n",
       "      <th>1</th>\n",
       "      <td>2020-12-08</td>\n",
       "      <td>toyota</td>\n",
       "      <td>1</td>\n",
       "      <td>0</td>\n",
       "    </tr>\n",
       "    <tr>\n",
       "      <th>2</th>\n",
       "      <td>2020-12-08</td>\n",
       "      <td>toyota</td>\n",
       "      <td>1</td>\n",
       "      <td>2</td>\n",
       "    </tr>\n",
       "    <tr>\n",
       "      <th>3</th>\n",
       "      <td>2020-12-07</td>\n",
       "      <td>toyota</td>\n",
       "      <td>0</td>\n",
       "      <td>2</td>\n",
       "    </tr>\n",
       "    <tr>\n",
       "      <th>4</th>\n",
       "      <td>2020-12-07</td>\n",
       "      <td>toyota</td>\n",
       "      <td>0</td>\n",
       "      <td>1</td>\n",
       "    </tr>\n",
       "    <tr>\n",
       "      <th>5</th>\n",
       "      <td>2020-12-08</td>\n",
       "      <td>honda</td>\n",
       "      <td>1</td>\n",
       "      <td>2</td>\n",
       "    </tr>\n",
       "    <tr>\n",
       "      <th>6</th>\n",
       "      <td>2020-12-08</td>\n",
       "      <td>honda</td>\n",
       "      <td>2</td>\n",
       "      <td>1</td>\n",
       "    </tr>\n",
       "    <tr>\n",
       "      <th>7</th>\n",
       "      <td>2020-12-07</td>\n",
       "      <td>honda</td>\n",
       "      <td>0</td>\n",
       "      <td>1</td>\n",
       "    </tr>\n",
       "    <tr>\n",
       "      <th>8</th>\n",
       "      <td>2020-12-07</td>\n",
       "      <td>honda</td>\n",
       "      <td>1</td>\n",
       "      <td>2</td>\n",
       "    </tr>\n",
       "    <tr>\n",
       "      <th>9</th>\n",
       "      <td>2020-12-07</td>\n",
       "      <td>honda</td>\n",
       "      <td>2</td>\n",
       "      <td>1</td>\n",
       "    </tr>\n",
       "  </tbody>\n",
       "</table>\n",
       "</div>"
      ],
      "text/plain": [
       "      date_id make_name  lead_id  partner_id\n",
       "0  2020-12-08    toyota        0           1\n",
       "1  2020-12-08    toyota        1           0\n",
       "2  2020-12-08    toyota        1           2\n",
       "3  2020-12-07    toyota        0           2\n",
       "4  2020-12-07    toyota        0           1\n",
       "5  2020-12-08     honda        1           2\n",
       "6  2020-12-08     honda        2           1\n",
       "7  2020-12-07     honda        0           1\n",
       "8  2020-12-07     honda        1           2\n",
       "9  2020-12-07     honda        2           1"
      ]
     },
     "execution_count": 62,
     "metadata": {},
     "output_type": "execute_result"
    }
   ],
   "source": [
    "pd.read_sql(\"\"\"\n",
    "SELECT *\n",
    "FROM DailySales\n",
    "\"\"\", con)"
   ]
  },
  {
   "cell_type": "code",
   "execution_count": 87,
   "id": "2958e410",
   "metadata": {},
   "outputs": [
    {
     "data": {
      "text/html": [
       "<div>\n",
       "<style scoped>\n",
       "    .dataframe tbody tr th:only-of-type {\n",
       "        vertical-align: middle;\n",
       "    }\n",
       "\n",
       "    .dataframe tbody tr th {\n",
       "        vertical-align: top;\n",
       "    }\n",
       "\n",
       "    .dataframe thead th {\n",
       "        text-align: right;\n",
       "    }\n",
       "</style>\n",
       "<table border=\"1\" class=\"dataframe\">\n",
       "  <thead>\n",
       "    <tr style=\"text-align: right;\">\n",
       "      <th></th>\n",
       "      <th>date_id</th>\n",
       "      <th>make_name</th>\n",
       "      <th>unique_leads</th>\n",
       "      <th>unique_partners</th>\n",
       "    </tr>\n",
       "  </thead>\n",
       "  <tbody>\n",
       "    <tr>\n",
       "      <th>0</th>\n",
       "      <td>2020-12-08</td>\n",
       "      <td>toyota</td>\n",
       "      <td>2</td>\n",
       "      <td>3</td>\n",
       "    </tr>\n",
       "    <tr>\n",
       "      <th>1</th>\n",
       "      <td>2020-12-07</td>\n",
       "      <td>toyota</td>\n",
       "      <td>1</td>\n",
       "      <td>2</td>\n",
       "    </tr>\n",
       "    <tr>\n",
       "      <th>2</th>\n",
       "      <td>2020-12-08</td>\n",
       "      <td>honda</td>\n",
       "      <td>2</td>\n",
       "      <td>2</td>\n",
       "    </tr>\n",
       "    <tr>\n",
       "      <th>3</th>\n",
       "      <td>2020-12-07</td>\n",
       "      <td>honda</td>\n",
       "      <td>3</td>\n",
       "      <td>2</td>\n",
       "    </tr>\n",
       "  </tbody>\n",
       "</table>\n",
       "</div>"
      ],
      "text/plain": [
       "      date_id make_name  unique_leads  unique_partners\n",
       "0  2020-12-08    toyota             2                3\n",
       "1  2020-12-07    toyota             1                2\n",
       "2  2020-12-08     honda             2                2\n",
       "3  2020-12-07     honda             3                2"
      ]
     },
     "execution_count": 87,
     "metadata": {},
     "output_type": "execute_result"
    }
   ],
   "source": [
    "pd.read_sql(\"\"\"\n",
    "SELECT \n",
    "    date_id,\n",
    "    make_name,\n",
    "    COUNT(DISTINCT lead_id) AS unique_leads,\n",
    "    COUNT(DISTINCT partner_id) AS unique_partners\n",
    "FROM DailySales\n",
    "GROUP BY date_id, make_name\n",
    "ORDER BY make_name DESC, date_id DESC\n",
    "\"\"\", con)"
   ]
  },
  {
   "cell_type": "markdown",
   "id": "3ea13aea",
   "metadata": {},
   "source": [
    "# Leetcode Question 1795: Rearrange Products Table"
   ]
  },
  {
   "cell_type": "code",
   "execution_count": null,
   "id": "2eb53f1e",
   "metadata": {},
   "outputs": [],
   "source": [
    "Create table If Not Exists Products (product_id int, store1 int, store2 int, store3 int)\n",
    "Truncate table Products\n",
    "insert into Products (product_id, store1, store2, store3) values ('0', '95', '100', '105')\n",
    "insert into Products (product_id, store1, store2, store3) values ('1', '70', 'None', '80')"
   ]
  },
  {
   "cell_type": "code",
   "execution_count": 7,
   "id": "a3f660df",
   "metadata": {},
   "outputs": [],
   "source": [
    "database_creator('Leetcode_Q_1795')"
   ]
  },
  {
   "cell_type": "code",
   "execution_count": 8,
   "id": "4b910ecd",
   "metadata": {},
   "outputs": [],
   "source": [
    "schema = \"product_id int, store1 int, store2 int, store3 int\"\n",
    "data = [ ('0', '95', '100', '105'),\n",
    "       ('1', '70', None, '80')]\n",
    "\n",
    "insert_data_to_table(\"Leetcode_Q_1795\", \"Products\", schema, data)"
   ]
  },
  {
   "cell_type": "code",
   "execution_count": 9,
   "id": "d0bbdb58",
   "metadata": {},
   "outputs": [],
   "source": [
    "con = connector('Leetcode_Q_1795')"
   ]
  },
  {
   "cell_type": "code",
   "execution_count": 10,
   "id": "cf792388",
   "metadata": {},
   "outputs": [
    {
     "data": {
      "text/html": [
       "<div>\n",
       "<style scoped>\n",
       "    .dataframe tbody tr th:only-of-type {\n",
       "        vertical-align: middle;\n",
       "    }\n",
       "\n",
       "    .dataframe tbody tr th {\n",
       "        vertical-align: top;\n",
       "    }\n",
       "\n",
       "    .dataframe thead th {\n",
       "        text-align: right;\n",
       "    }\n",
       "</style>\n",
       "<table border=\"1\" class=\"dataframe\">\n",
       "  <thead>\n",
       "    <tr style=\"text-align: right;\">\n",
       "      <th></th>\n",
       "      <th>product_id</th>\n",
       "      <th>store1</th>\n",
       "      <th>store2</th>\n",
       "      <th>store3</th>\n",
       "    </tr>\n",
       "  </thead>\n",
       "  <tbody>\n",
       "    <tr>\n",
       "      <th>0</th>\n",
       "      <td>0</td>\n",
       "      <td>95</td>\n",
       "      <td>100.0</td>\n",
       "      <td>105</td>\n",
       "    </tr>\n",
       "    <tr>\n",
       "      <th>1</th>\n",
       "      <td>1</td>\n",
       "      <td>70</td>\n",
       "      <td>NaN</td>\n",
       "      <td>80</td>\n",
       "    </tr>\n",
       "  </tbody>\n",
       "</table>\n",
       "</div>"
      ],
      "text/plain": [
       "   product_id  store1  store2  store3\n",
       "0           0      95   100.0     105\n",
       "1           1      70     NaN      80"
      ]
     },
     "execution_count": 10,
     "metadata": {},
     "output_type": "execute_result"
    }
   ],
   "source": [
    "pd.read_sql(\"\"\"\n",
    "SELECT *\n",
    "FROM Products\n",
    "\"\"\", con)"
   ]
  },
  {
   "cell_type": "code",
   "execution_count": 12,
   "id": "ce487a07",
   "metadata": {},
   "outputs": [],
   "source": [
    "# HERE\n"
   ]
  },
  {
   "cell_type": "markdown",
   "id": "c88b7bc8",
   "metadata": {},
   "source": [
    "# Leetcode Question 1587: Bank Account Summary II"
   ]
  },
  {
   "cell_type": "code",
   "execution_count": null,
   "id": "c5f46224",
   "metadata": {},
   "outputs": [],
   "source": [
    "Create table If Not Exists Users (account int, name varchar(20))\n",
    "Create table If Not Exists Transactions (trans_id int, account int, amount int, transacted_on date)\n",
    "Truncate table Users\n",
    "insert into Users (account, name) values ('900001', 'Alice')\n",
    "insert into Users (account, name) values ('900002', 'Bob')\n",
    "insert into Users (account, name) values ('900003', 'Charlie')\n",
    "Truncate table Transactions\n",
    "insert into Transactions (trans_id, account, amount, transacted_on) values ('1', '900001', '7000', '2020-08-01')\n",
    "insert into Transactions (trans_id, account, amount, transacted_on) values ('2', '900001', '7000', '2020-09-01')\n",
    "insert into Transactions (trans_id, account, amount, transacted_on) values ('3', '900001', '-3000', '2020-09-02')\n",
    "insert into Transactions (trans_id, account, amount, transacted_on) values ('4', '900002', '1000', '2020-09-12')\n",
    "insert into Transactions (trans_id, account, amount, transacted_on) values ('5', '900003', '6000', '2020-08-07')\n",
    "insert into Transactions (trans_id, account, amount, transacted_on) values ('6', '900003', '6000', '2020-09-07')\n",
    "insert into Transactions (trans_id, account, amount, transacted_on) values ('7', '900003', '-4000', '2020-09-11')"
   ]
  },
  {
   "cell_type": "code",
   "execution_count": 5,
   "id": "fe989467",
   "metadata": {},
   "outputs": [],
   "source": [
    "database_creator('Leetcode_Q_1587')"
   ]
  },
  {
   "cell_type": "code",
   "execution_count": 6,
   "id": "33b94da2",
   "metadata": {},
   "outputs": [],
   "source": [
    "schema = \"account int, name varchar(20)\"\n",
    "data = [ ('900001', 'Alice'),\n",
    "       ('900002', 'Bob'),\n",
    "       ('900003', 'Charlie')]\n",
    "\n",
    "insert_data_to_table(\"Leetcode_Q_1587\", \"Users\", schema, data)"
   ]
  },
  {
   "cell_type": "code",
   "execution_count": 7,
   "id": "5738d3cf",
   "metadata": {},
   "outputs": [],
   "source": [
    "schema = \"trans_id int, account int, amount int, transacted_on date\"\n",
    "data = [ ('1', '900001', '7000', '2020-08-01'),\n",
    "       ('2', '900001', '7000', '2020-09-01'),\n",
    "       ('3', '900001', '-3000', '2020-09-02'),\n",
    "       ('4', '900002', '1000', '2020-09-12'),\n",
    "       ('5', '900003', '6000', '2020-08-07'),\n",
    "       ('6', '900003', '6000', '2020-09-07'),\n",
    "       ('7', '900003', '-4000', '2020-09-11')]\n",
    "\n",
    "insert_data_to_table(\"Leetcode_Q_1587\", \"Transactions\", schema, data)"
   ]
  },
  {
   "cell_type": "code",
   "execution_count": 8,
   "id": "d1a93f5d",
   "metadata": {},
   "outputs": [],
   "source": [
    "con = connector('Leetcode_Q_1587')"
   ]
  },
  {
   "cell_type": "code",
   "execution_count": 9,
   "id": "b30112cc",
   "metadata": {},
   "outputs": [
    {
     "data": {
      "text/html": [
       "<div>\n",
       "<style scoped>\n",
       "    .dataframe tbody tr th:only-of-type {\n",
       "        vertical-align: middle;\n",
       "    }\n",
       "\n",
       "    .dataframe tbody tr th {\n",
       "        vertical-align: top;\n",
       "    }\n",
       "\n",
       "    .dataframe thead th {\n",
       "        text-align: right;\n",
       "    }\n",
       "</style>\n",
       "<table border=\"1\" class=\"dataframe\">\n",
       "  <thead>\n",
       "    <tr style=\"text-align: right;\">\n",
       "      <th></th>\n",
       "      <th>TABLE_NAME</th>\n",
       "    </tr>\n",
       "  </thead>\n",
       "  <tbody>\n",
       "    <tr>\n",
       "      <th>0</th>\n",
       "      <td>Transactions</td>\n",
       "    </tr>\n",
       "    <tr>\n",
       "      <th>1</th>\n",
       "      <td>Users</td>\n",
       "    </tr>\n",
       "  </tbody>\n",
       "</table>\n",
       "</div>"
      ],
      "text/plain": [
       "     TABLE_NAME\n",
       "0  Transactions\n",
       "1         Users"
      ]
     },
     "execution_count": 9,
     "metadata": {},
     "output_type": "execute_result"
    }
   ],
   "source": [
    "table_names('Leetcode_Q_1587')"
   ]
  },
  {
   "cell_type": "code",
   "execution_count": 10,
   "id": "2ff93b40",
   "metadata": {},
   "outputs": [
    {
     "data": {
      "text/html": [
       "<div>\n",
       "<style scoped>\n",
       "    .dataframe tbody tr th:only-of-type {\n",
       "        vertical-align: middle;\n",
       "    }\n",
       "\n",
       "    .dataframe tbody tr th {\n",
       "        vertical-align: top;\n",
       "    }\n",
       "\n",
       "    .dataframe thead th {\n",
       "        text-align: right;\n",
       "    }\n",
       "</style>\n",
       "<table border=\"1\" class=\"dataframe\">\n",
       "  <thead>\n",
       "    <tr style=\"text-align: right;\">\n",
       "      <th></th>\n",
       "      <th>account</th>\n",
       "      <th>name</th>\n",
       "    </tr>\n",
       "  </thead>\n",
       "  <tbody>\n",
       "    <tr>\n",
       "      <th>0</th>\n",
       "      <td>900001</td>\n",
       "      <td>Alice</td>\n",
       "    </tr>\n",
       "    <tr>\n",
       "      <th>1</th>\n",
       "      <td>900002</td>\n",
       "      <td>Bob</td>\n",
       "    </tr>\n",
       "    <tr>\n",
       "      <th>2</th>\n",
       "      <td>900003</td>\n",
       "      <td>Charlie</td>\n",
       "    </tr>\n",
       "  </tbody>\n",
       "</table>\n",
       "</div>"
      ],
      "text/plain": [
       "   account     name\n",
       "0   900001    Alice\n",
       "1   900002      Bob\n",
       "2   900003  Charlie"
      ]
     },
     "execution_count": 10,
     "metadata": {},
     "output_type": "execute_result"
    }
   ],
   "source": [
    "pd.read_sql(\"\"\"\n",
    "SELECT *\n",
    "FROM Users\n",
    "\"\"\", con)"
   ]
  },
  {
   "cell_type": "code",
   "execution_count": 11,
   "id": "d7f2b44f",
   "metadata": {},
   "outputs": [
    {
     "data": {
      "text/html": [
       "<div>\n",
       "<style scoped>\n",
       "    .dataframe tbody tr th:only-of-type {\n",
       "        vertical-align: middle;\n",
       "    }\n",
       "\n",
       "    .dataframe tbody tr th {\n",
       "        vertical-align: top;\n",
       "    }\n",
       "\n",
       "    .dataframe thead th {\n",
       "        text-align: right;\n",
       "    }\n",
       "</style>\n",
       "<table border=\"1\" class=\"dataframe\">\n",
       "  <thead>\n",
       "    <tr style=\"text-align: right;\">\n",
       "      <th></th>\n",
       "      <th>trans_id</th>\n",
       "      <th>account</th>\n",
       "      <th>amount</th>\n",
       "      <th>transacted_on</th>\n",
       "    </tr>\n",
       "  </thead>\n",
       "  <tbody>\n",
       "    <tr>\n",
       "      <th>0</th>\n",
       "      <td>1</td>\n",
       "      <td>900001</td>\n",
       "      <td>7000</td>\n",
       "      <td>2020-08-01</td>\n",
       "    </tr>\n",
       "    <tr>\n",
       "      <th>1</th>\n",
       "      <td>2</td>\n",
       "      <td>900001</td>\n",
       "      <td>7000</td>\n",
       "      <td>2020-09-01</td>\n",
       "    </tr>\n",
       "    <tr>\n",
       "      <th>2</th>\n",
       "      <td>3</td>\n",
       "      <td>900001</td>\n",
       "      <td>-3000</td>\n",
       "      <td>2020-09-02</td>\n",
       "    </tr>\n",
       "    <tr>\n",
       "      <th>3</th>\n",
       "      <td>4</td>\n",
       "      <td>900002</td>\n",
       "      <td>1000</td>\n",
       "      <td>2020-09-12</td>\n",
       "    </tr>\n",
       "    <tr>\n",
       "      <th>4</th>\n",
       "      <td>5</td>\n",
       "      <td>900003</td>\n",
       "      <td>6000</td>\n",
       "      <td>2020-08-07</td>\n",
       "    </tr>\n",
       "    <tr>\n",
       "      <th>5</th>\n",
       "      <td>6</td>\n",
       "      <td>900003</td>\n",
       "      <td>6000</td>\n",
       "      <td>2020-09-07</td>\n",
       "    </tr>\n",
       "    <tr>\n",
       "      <th>6</th>\n",
       "      <td>7</td>\n",
       "      <td>900003</td>\n",
       "      <td>-4000</td>\n",
       "      <td>2020-09-11</td>\n",
       "    </tr>\n",
       "  </tbody>\n",
       "</table>\n",
       "</div>"
      ],
      "text/plain": [
       "   trans_id  account  amount transacted_on\n",
       "0         1   900001    7000    2020-08-01\n",
       "1         2   900001    7000    2020-09-01\n",
       "2         3   900001   -3000    2020-09-02\n",
       "3         4   900002    1000    2020-09-12\n",
       "4         5   900003    6000    2020-08-07\n",
       "5         6   900003    6000    2020-09-07\n",
       "6         7   900003   -4000    2020-09-11"
      ]
     },
     "execution_count": 11,
     "metadata": {},
     "output_type": "execute_result"
    }
   ],
   "source": [
    "pd.read_sql(\"\"\"\n",
    "SELECT *\n",
    "FROM Transactions\n",
    "\"\"\", con)"
   ]
  },
  {
   "cell_type": "code",
   "execution_count": 16,
   "id": "e3a530b9",
   "metadata": {},
   "outputs": [
    {
     "data": {
      "text/html": [
       "<div>\n",
       "<style scoped>\n",
       "    .dataframe tbody tr th:only-of-type {\n",
       "        vertical-align: middle;\n",
       "    }\n",
       "\n",
       "    .dataframe tbody tr th {\n",
       "        vertical-align: top;\n",
       "    }\n",
       "\n",
       "    .dataframe thead th {\n",
       "        text-align: right;\n",
       "    }\n",
       "</style>\n",
       "<table border=\"1\" class=\"dataframe\">\n",
       "  <thead>\n",
       "    <tr style=\"text-align: right;\">\n",
       "      <th></th>\n",
       "      <th>name</th>\n",
       "      <th>balance</th>\n",
       "    </tr>\n",
       "  </thead>\n",
       "  <tbody>\n",
       "    <tr>\n",
       "      <th>0</th>\n",
       "      <td>Alice</td>\n",
       "      <td>11000.0</td>\n",
       "    </tr>\n",
       "  </tbody>\n",
       "</table>\n",
       "</div>"
      ],
      "text/plain": [
       "    name  balance\n",
       "0  Alice  11000.0"
      ]
     },
     "execution_count": 16,
     "metadata": {},
     "output_type": "execute_result"
    }
   ],
   "source": [
    "pd.read_sql(\"\"\"\n",
    "SELECT \n",
    "    name,\n",
    "    SUM(amount) AS balance\n",
    "\n",
    "FROM Users\n",
    "JOIN Transactions USING (account)\n",
    "GROUP BY name\n",
    "HAVING balance > 10000\n",
    "\"\"\", con)"
   ]
  },
  {
   "cell_type": "markdown",
   "id": "890e1a59",
   "metadata": {},
   "source": [
    "# Leetcode Question 1581: Customer Who Visited but Did Not Make Any Transactions"
   ]
  },
  {
   "cell_type": "code",
   "execution_count": null,
   "id": "2bea4076",
   "metadata": {},
   "outputs": [],
   "source": [
    "Create table If Not Exists Visits(visit_id int, customer_id int)\n",
    "Create table If Not Exists Transactions(transaction_id int, visit_id int, amount int)\n",
    "Truncate table Visits\n",
    "insert into Visits (visit_id, customer_id) values ('1', '23')\n",
    "insert into Visits (visit_id, customer_id) values ('2', '9')\n",
    "insert into Visits (visit_id, customer_id) values ('4', '30')\n",
    "insert into Visits (visit_id, customer_id) values ('5', '54')\n",
    "insert into Visits (visit_id, customer_id) values ('6', '96')\n",
    "insert into Visits (visit_id, customer_id) values ('7', '54')\n",
    "insert into Visits (visit_id, customer_id) values ('8', '54')\n",
    "Truncate table Transactions\n",
    "insert into Transactions (transaction_id, visit_id, amount) values ('2', '5', '310')\n",
    "insert into Transactions (transaction_id, visit_id, amount) values ('3', '5', '300')\n",
    "insert into Transactions (transaction_id, visit_id, amount) values ('9', '5', '200')\n",
    "insert into Transactions (transaction_id, visit_id, amount) values ('12', '1', '910')\n",
    "insert into Transactions (transaction_id, visit_id, amount) values ('13', '2', '970')"
   ]
  },
  {
   "cell_type": "code",
   "execution_count": 18,
   "id": "9fc7cc10",
   "metadata": {},
   "outputs": [],
   "source": [
    "database_creator('Leetcode_Q_1581')"
   ]
  },
  {
   "cell_type": "code",
   "execution_count": 19,
   "id": "9f82f97a",
   "metadata": {},
   "outputs": [],
   "source": [
    "schema = \"visit_id int, customer_id int\"\n",
    "data = [ ('1', '23'),\n",
    "       ('2', '9'),\n",
    "       ('4', '30'),\n",
    "       ('5', '54'),\n",
    "       ('6', '96'),\n",
    "       ('7', '54'),\n",
    "       ('8', '54')]\n",
    "\n",
    "insert_data_to_table(\"Leetcode_Q_1581\", \"Visits\", schema, data)"
   ]
  },
  {
   "cell_type": "code",
   "execution_count": 20,
   "id": "fd178989",
   "metadata": {},
   "outputs": [],
   "source": [
    "schema = \"transaction_id int, visit_id int, amount int\"\n",
    "data = [ ('2', '5', '310'),\n",
    "       ('3', '5', '300'),\n",
    "       ('9', '5', '200'),\n",
    "       ('12', '1', '910'),\n",
    "       ('13', '2', '970')]\n",
    "\n",
    "insert_data_to_table(\"Leetcode_Q_1581\", \"Transactions\", schema, data)"
   ]
  },
  {
   "cell_type": "code",
   "execution_count": 28,
   "id": "ae1c4f84",
   "metadata": {},
   "outputs": [
    {
     "data": {
      "text/html": [
       "<div>\n",
       "<style scoped>\n",
       "    .dataframe tbody tr th:only-of-type {\n",
       "        vertical-align: middle;\n",
       "    }\n",
       "\n",
       "    .dataframe tbody tr th {\n",
       "        vertical-align: top;\n",
       "    }\n",
       "\n",
       "    .dataframe thead th {\n",
       "        text-align: right;\n",
       "    }\n",
       "</style>\n",
       "<table border=\"1\" class=\"dataframe\">\n",
       "  <thead>\n",
       "    <tr style=\"text-align: right;\">\n",
       "      <th></th>\n",
       "      <th>TABLE_NAME</th>\n",
       "    </tr>\n",
       "  </thead>\n",
       "  <tbody>\n",
       "    <tr>\n",
       "      <th>0</th>\n",
       "      <td>Transactions</td>\n",
       "    </tr>\n",
       "    <tr>\n",
       "      <th>1</th>\n",
       "      <td>Visits</td>\n",
       "    </tr>\n",
       "  </tbody>\n",
       "</table>\n",
       "</div>"
      ],
      "text/plain": [
       "     TABLE_NAME\n",
       "0  Transactions\n",
       "1        Visits"
      ]
     },
     "execution_count": 28,
     "metadata": {},
     "output_type": "execute_result"
    }
   ],
   "source": [
    "table_names('Leetcode_Q_1581')"
   ]
  },
  {
   "cell_type": "code",
   "execution_count": 31,
   "id": "68a80af0",
   "metadata": {},
   "outputs": [],
   "source": [
    "con = connector('Leetcode_Q_1581')"
   ]
  },
  {
   "cell_type": "code",
   "execution_count": 33,
   "id": "8b6b412d",
   "metadata": {},
   "outputs": [
    {
     "data": {
      "text/html": [
       "<div>\n",
       "<style scoped>\n",
       "    .dataframe tbody tr th:only-of-type {\n",
       "        vertical-align: middle;\n",
       "    }\n",
       "\n",
       "    .dataframe tbody tr th {\n",
       "        vertical-align: top;\n",
       "    }\n",
       "\n",
       "    .dataframe thead th {\n",
       "        text-align: right;\n",
       "    }\n",
       "</style>\n",
       "<table border=\"1\" class=\"dataframe\">\n",
       "  <thead>\n",
       "    <tr style=\"text-align: right;\">\n",
       "      <th></th>\n",
       "      <th>transaction_id</th>\n",
       "      <th>visit_id</th>\n",
       "      <th>amount</th>\n",
       "    </tr>\n",
       "  </thead>\n",
       "  <tbody>\n",
       "    <tr>\n",
       "      <th>0</th>\n",
       "      <td>2</td>\n",
       "      <td>5</td>\n",
       "      <td>310</td>\n",
       "    </tr>\n",
       "    <tr>\n",
       "      <th>1</th>\n",
       "      <td>3</td>\n",
       "      <td>5</td>\n",
       "      <td>300</td>\n",
       "    </tr>\n",
       "    <tr>\n",
       "      <th>2</th>\n",
       "      <td>9</td>\n",
       "      <td>5</td>\n",
       "      <td>200</td>\n",
       "    </tr>\n",
       "    <tr>\n",
       "      <th>3</th>\n",
       "      <td>12</td>\n",
       "      <td>1</td>\n",
       "      <td>910</td>\n",
       "    </tr>\n",
       "    <tr>\n",
       "      <th>4</th>\n",
       "      <td>13</td>\n",
       "      <td>2</td>\n",
       "      <td>970</td>\n",
       "    </tr>\n",
       "  </tbody>\n",
       "</table>\n",
       "</div>"
      ],
      "text/plain": [
       "   transaction_id  visit_id  amount\n",
       "0               2         5     310\n",
       "1               3         5     300\n",
       "2               9         5     200\n",
       "3              12         1     910\n",
       "4              13         2     970"
      ]
     },
     "execution_count": 33,
     "metadata": {},
     "output_type": "execute_result"
    }
   ],
   "source": [
    "pd.read_sql(\"\"\"\n",
    "SELECT *\n",
    "FROM Transactions\"\"\", con)"
   ]
  },
  {
   "cell_type": "code",
   "execution_count": 34,
   "id": "97c7821a",
   "metadata": {},
   "outputs": [
    {
     "data": {
      "text/html": [
       "<div>\n",
       "<style scoped>\n",
       "    .dataframe tbody tr th:only-of-type {\n",
       "        vertical-align: middle;\n",
       "    }\n",
       "\n",
       "    .dataframe tbody tr th {\n",
       "        vertical-align: top;\n",
       "    }\n",
       "\n",
       "    .dataframe thead th {\n",
       "        text-align: right;\n",
       "    }\n",
       "</style>\n",
       "<table border=\"1\" class=\"dataframe\">\n",
       "  <thead>\n",
       "    <tr style=\"text-align: right;\">\n",
       "      <th></th>\n",
       "      <th>visit_id</th>\n",
       "      <th>customer_id</th>\n",
       "    </tr>\n",
       "  </thead>\n",
       "  <tbody>\n",
       "    <tr>\n",
       "      <th>0</th>\n",
       "      <td>1</td>\n",
       "      <td>23</td>\n",
       "    </tr>\n",
       "    <tr>\n",
       "      <th>1</th>\n",
       "      <td>2</td>\n",
       "      <td>9</td>\n",
       "    </tr>\n",
       "    <tr>\n",
       "      <th>2</th>\n",
       "      <td>4</td>\n",
       "      <td>30</td>\n",
       "    </tr>\n",
       "    <tr>\n",
       "      <th>3</th>\n",
       "      <td>5</td>\n",
       "      <td>54</td>\n",
       "    </tr>\n",
       "    <tr>\n",
       "      <th>4</th>\n",
       "      <td>6</td>\n",
       "      <td>96</td>\n",
       "    </tr>\n",
       "    <tr>\n",
       "      <th>5</th>\n",
       "      <td>7</td>\n",
       "      <td>54</td>\n",
       "    </tr>\n",
       "    <tr>\n",
       "      <th>6</th>\n",
       "      <td>8</td>\n",
       "      <td>54</td>\n",
       "    </tr>\n",
       "  </tbody>\n",
       "</table>\n",
       "</div>"
      ],
      "text/plain": [
       "   visit_id  customer_id\n",
       "0         1           23\n",
       "1         2            9\n",
       "2         4           30\n",
       "3         5           54\n",
       "4         6           96\n",
       "5         7           54\n",
       "6         8           54"
      ]
     },
     "execution_count": 34,
     "metadata": {},
     "output_type": "execute_result"
    }
   ],
   "source": [
    "pd.read_sql(\"\"\"\n",
    "SELECT *\n",
    "FROM Visits\"\"\", con)"
   ]
  },
  {
   "cell_type": "code",
   "execution_count": 70,
   "id": "739c12a2",
   "metadata": {},
   "outputs": [
    {
     "data": {
      "text/html": [
       "<div>\n",
       "<style scoped>\n",
       "    .dataframe tbody tr th:only-of-type {\n",
       "        vertical-align: middle;\n",
       "    }\n",
       "\n",
       "    .dataframe tbody tr th {\n",
       "        vertical-align: top;\n",
       "    }\n",
       "\n",
       "    .dataframe thead th {\n",
       "        text-align: right;\n",
       "    }\n",
       "</style>\n",
       "<table border=\"1\" class=\"dataframe\">\n",
       "  <thead>\n",
       "    <tr style=\"text-align: right;\">\n",
       "      <th></th>\n",
       "      <th>customer_id</th>\n",
       "      <th>count_no_trans</th>\n",
       "    </tr>\n",
       "  </thead>\n",
       "  <tbody>\n",
       "    <tr>\n",
       "      <th>0</th>\n",
       "      <td>54</td>\n",
       "      <td>2</td>\n",
       "    </tr>\n",
       "    <tr>\n",
       "      <th>1</th>\n",
       "      <td>30</td>\n",
       "      <td>1</td>\n",
       "    </tr>\n",
       "    <tr>\n",
       "      <th>2</th>\n",
       "      <td>96</td>\n",
       "      <td>1</td>\n",
       "    </tr>\n",
       "  </tbody>\n",
       "</table>\n",
       "</div>"
      ],
      "text/plain": [
       "   customer_id  count_no_trans\n",
       "0           54               2\n",
       "1           30               1\n",
       "2           96               1"
      ]
     },
     "execution_count": 70,
     "metadata": {},
     "output_type": "execute_result"
    }
   ],
   "source": [
    "pd.read_sql(\"\"\"\n",
    "SELECT \n",
    "    customer_id,\n",
    "    COUNT(*) AS count_no_trans\n",
    "FROM Visits \n",
    "LEFT JOIN Transactions USING (visit_id)\n",
    "WHERE transaction_id IS NULL\n",
    "GROUP BY customer_id  \n",
    "ORDER BY COUNT(*) DESC\n",
    "\"\"\", con)"
   ]
  }
 ],
 "metadata": {
  "kernelspec": {
   "display_name": "Python 3",
   "language": "python",
   "name": "python3"
  },
  "language_info": {
   "codemirror_mode": {
    "name": "ipython",
    "version": 3
   },
   "file_extension": ".py",
   "mimetype": "text/x-python",
   "name": "python",
   "nbconvert_exporter": "python",
   "pygments_lexer": "ipython3",
   "version": "3.6.8"
  }
 },
 "nbformat": 4,
 "nbformat_minor": 5
}
